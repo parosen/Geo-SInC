{
 "cells": [
  {
   "cell_type": "markdown",
   "metadata": {},
   "source": [
    "<!--NOTEBOOK_HEADER-->\n",
    "*This notebook contains course material from [CBE30338](https://jckantor.github.io/CBE30338)\n",
    "by Jeffrey Kantor (jeff at nd.edu); the content is available [on Github](https://github.com/jckantor/CBE30338.git).\n",
    "The text is released under the [CC-BY-NC-ND-4.0 license](https://creativecommons.org/licenses/by-nc-nd/4.0/legalcode),\n",
    "and code is released under the [MIT license](https://opensource.org/licenses/MIT).*"
   ]
  },
  {
   "cell_type": "markdown",
   "metadata": {},
   "source": [
    "# Python Conditionals and Libraries"
   ]
  },
  {
   "cell_type": "markdown",
   "metadata": {},
   "source": [
    "## A Tutorial by Jacob Gerace"
   ]
  },
  {
   "cell_type": "markdown",
   "metadata": {},
   "source": [
    "## Conditionals in Python"
   ]
  },
  {
   "cell_type": "code",
   "execution_count": null,
   "metadata": {
    "scrolled": true
   },
   "outputs": [],
   "source": [
    "#Sometimes you want to execute code only in certain circumstances. \n",
    "\n",
    "#Change answer and see what code is executed:\n",
    "answer = 42\n",
    "\n",
    "if answer == 42:\n",
    "    print('This is the answer to the ultimate question')\n",
    "elif answer < 42:\n",
    "    print('This is less than the answer to the ultimate question')\n",
    "else:\n",
    "    print('This is more than the answer to the ultimate question')\n",
    "print('This print statement is run no matter what because it is not indented!')\n",
    "\n",
    "#An if statement is an example of a structure that creates a new block. The block includes all of the code that is \n",
    "#indented. The indentation (tab character) is imperative. Don't forget it!\n",
    "\n",
    "#This is normally just good coding style in other languages, but in python it isn't optional\n",
    "\n",
    "#We can check multiple things at once using boolean operations\n",
    "snowy = True\n",
    "day = \"Monday\"\n",
    "\n",
    "#How long does it take me to get to class in the morning?\n",
    "\n",
    "if (snowy == False) and (day != \"Monday\"):\n",
    "    #and is boolean and. True only if both are true. False otherwise\n",
    "    time = 7\n",
    "elif (snowy == True) and (day == \"Monday\"):\n",
    "    time = 11\n",
    "elif (rainy == True) or (day == \"Monday\"):\n",
    "    time = 9\n",
    "    \n",
    "print(\"It takes me %d minutes\" %(time))\n",
    "    \n",
    "#You can structure these statements more neatly if you \"nest\" if statements (put an if statement inside an if statement)\n",
    "#But this is just for edification."
   ]
  },
  {
   "cell_type": "markdown",
   "metadata": {},
   "source": [
    "## Functions in Python"
   ]
  },
  {
   "cell_type": "code",
   "execution_count": null,
   "metadata": {},
   "outputs": [],
   "source": [
    "#We can separate off code into functions, that can take input and can give output. They serve as black boxes from the \n",
    "#perspective of the rest of our code\n",
    "\n",
    "#use the def keyword, and indent because this creates a new block\n",
    "def print_me( string ):\n",
    "    print(string)\n",
    "   \n",
    "   #End with the \"return\" keyword\n",
    "    return\n",
    "\n",
    "#Your functions can return data if you so choose\n",
    "def step(x):\n",
    "    if (x < 0):\n",
    "        return -1\n",
    "    elif (x > 0):\n",
    "        return 1\n",
    "\n",
    "#call functions by repeating their name, and putting your variable in the parenthesis. \n",
    "#Your variable need not be named the same thing, but it should be the right type!\n",
    "\n",
    "print(step(-1))\n",
    "print(step(1))\n",
    "\n",
    "#what happens for x = 0?\n",
    "print(step(0))\n",
    "\n",
    "#Python automatically adds in a \"return none\" statement if you are missing one. \n",
    "#If you see \"none\" make sure your program can work with that!\n",
    "\n",
    "\n",
    "#Fix the return none issue\n",
    "def step_v2(x):\n",
    "    if (x < 0):\n",
    "        return -1\n",
    "    elif (x >= 0):\n",
    "        return 1\n",
    "    \n",
    "print(step_v2(0))"
   ]
  },
  {
   "cell_type": "markdown",
   "metadata": {},
   "source": [
    "## Numpy - \"The Fundamental Package for Scientific Computing with Python\""
   ]
  },
  {
   "cell_type": "code",
   "execution_count": null,
   "metadata": {},
   "outputs": [],
   "source": [
    "import numpy as np\n",
    "#Here, we grab all of the functions and tools from the numpy package and store them in a local variable called np.\n",
    "#You can call that variable whatever you like, but 'np' is standard.\n",
    "\n",
    "#numpy has arrays, which function similarly to python lists. \n",
    "a = np.array([1,2,3])\n",
    "b = np.array([9,8,7])\n",
    "#Be careful with syntax. The parentheses and brackets are both required!\n",
    "print(a)\n",
    "\n",
    "#Access elements from them just like you would a regular list\n",
    "print(a[0])\n",
    "\n",
    "#Element-wise operations are a breeze!\n",
    "c = a + b\n",
    "d = a - b\n",
    "e = a * b\n",
    "f = a / b\n",
    "\n",
    "print(c)\n",
    "print(d)\n",
    "print(e)\n",
    "print(f)\n",
    "#This is different from MATLAB where you add a dot to get element wise operators.\n",
    "\n",
    "#What about multi-dimensional arrays? Matrices!\n",
    "\n",
    "#You just nest lists within lists! \n",
    "A = np.array( [[1,2,3], [4,5,6], [7,8,9]] )\n",
    "B = np.array( [[1,1,1], [2,2,2], [3,3,3]] )\n",
    "\n",
    "#Then matrix multlication\n",
    "C = np.matmul(A,B)\n",
    " \n",
    "print(C)\n",
    "\n",
    "#Or determinants:\n",
    "print(np.linalg.det(A))\n",
    "\n",
    "\n",
    "#Now, let's use numpy for something essential for you: Numeric Integration\n",
    "\n",
    "#Define the function you want to integrate....\n",
    "#dy/dt = t:\n",
    "def deriv(y,t):\n",
    "    return t\n",
    "#Note this doesn't use y in the return. That is okay, but we need to include it just to satisfy the function we will use.\n",
    "\n",
    "#Set your initial or boundary condition\n",
    "IC = 0\n",
    "\n",
    "#Give the number of points to evaluate the integration\n",
    "start_time = 0\n",
    "end_time = 10\n",
    "num_times = 101\n",
    "times = np.linspace(start_time, end_time, num_times)\n",
    "\n",
    "from scipy.integrate import odeint\n",
    "integrated_func = odeint(deriv,IC,times)\n",
    "\n",
    "#Can we plot the result? You betcha. Just import a new package\n",
    "%matplotlib inline\n",
    "import matplotlib.pyplot as plt\n",
    "from ipywidgets import interact\n",
    "\n",
    "plt.plot(times, integrated_func)\n",
    "plt.title(\"y = (1/2)t^2\")\n",
    "#Very similar to MATLAB!"
   ]
  },
  {
   "cell_type": "markdown",
   "metadata": {},
   "source": [
    "## Additional Resources\n",
    "* If you still feel VERY lost: [Code Academy](https://www.codecademy.com/learn/learn-python)\n",
    "\n",
    "* If you want a good reference site: [Official Python Reference](https://docs.python.org/3/reference/)\n",
    "\n",
    "* If you want to learn python robustly: [Learn Python the Hard Way](https://learnpythonthehardway.org/book/)\n"
   ]
  },
  {
   "cell_type": "code",
   "execution_count": null,
   "metadata": {},
   "outputs": [],
   "source": []
  }
 ],
 "metadata": {
  "anaconda-cloud": {},
  "kernelspec": {
   "display_name": "Python 3 (ipykernel)",
   "language": "python",
   "name": "python3"
  },
  "language_info": {
   "codemirror_mode": {
    "name": "ipython",
    "version": 3
   },
   "file_extension": ".py",
   "mimetype": "text/x-python",
   "name": "python",
   "nbconvert_exporter": "python",
   "pygments_lexer": "ipython3",
   "version": "3.9.7"
  }
 },
 "nbformat": 4,
 "nbformat_minor": 2
}
