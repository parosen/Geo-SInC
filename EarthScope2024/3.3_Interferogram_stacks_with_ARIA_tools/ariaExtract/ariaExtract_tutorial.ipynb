{
 "cells": [
  {
   "cell_type": "markdown",
   "metadata": {},
   "source": [
    "# Manipulating Layers of ARIA standard GUNW products\n",
    "\n",
    "**Author**: Brett A. Buzzanga, David Bekaert - Jet Propulsion Laboratory\n",
    "\n",
    "This notebook provides an overview of the functionality included in the **ariaExtract.py** program. Specifically, we give examples on how to extract data and meta-data layers from ARIA Geocoded UNWrapped interferogram (GUNW) products over a user defined area of interest. In addition, we provide an overview of the methodology applied to manipulate specific data and meta-data layers. In this notebook, we use GUNW products spanning the start of the 2018 Hawaii rifting event. \n",
    "\n",
    "In this notebook, we will demonstrate how to extract:\n",
    "- Product bounding boxes\n",
    "- Imaging geometry layers (i.e., azimuth angle, incidence angle, look angle, perpendicular baseline)\n",
    "- Data layers (i.e., amplitude, coherence, unwrapped phase, and connected components)\n",
    "\n",
    "We also provide examples on the various methods of defining a spatial area of interest:\n",
    "- Union (in space and time) of all products \n",
    "- A bounding box defined as South North West East coordinates\n",
    "- A bounding box in the form of a vector shapefile.\n",
    "\n",
    "    \n",
    "<div class=\"alert alert-warning\">\n",
    "Both the initial setup (<b>Prep A</b> section) and download of the data (<b>Prep B</b> section) should be run at the start of the notebook. All other sections (examples and applications) do not need to be run in order.\n",
    "</div>\n",
    "\n",
    "<div class=\"alert alert-danger\">\n",
    "<b>Potential Errors:</b> \n",
    "    \n",
    "- GDAL uses \"HDF5\" driver instead of \"netCDF/Network Common Data Format\" on GUNW products. Verify GDAL version >= 3.\n",
    "- ARIA-tools needs to be installed to run this notebook\n",
    "</div>\n",
    "\n",
    "\n",
    "<div class=\"alert alert-info\">\n",
    "    <b>Terminology:</b>\n",
    "    \n",
    "- *Acquisition*: An image acquired by the satellite for a given date and time.\n",
    "- *Interferogram*: An unwrapped image containing the surface displacement accumulated between two acquisitions.\n",
    "- *Frame*: Outline of a product ground footprint.\n",
    "- *Along-track*: The direction along satellite flight path. \n",
    "    </div>\n",
    "    "
   ]
  },
  {
   "cell_type": "markdown",
   "metadata": {},
   "source": [
    "## Table of Contents:\n",
    "<a id='example_TOC'></a>"
   ]
  },
  {
   "cell_type": "markdown",
   "metadata": {},
   "source": [
    "[**Overview of the ariaExtract.py program**](#overview)\n",
    "\n",
    "[**Methods used in the ariaExtract.py program**](#methods)\n",
    "- [Extraction of layers without need for manipulation](#method_1)\n",
    "- [Extraction of full resolution meta-data layers](#method_2)\n",
    "- [Extraction of unwrapped phase (and connected components) layer](#method_3)\n",
    "\n",
    "[**Examples of the ariaExtract.py program**](#examples)\n",
    "- [Example 1. Extracting and viewing of the interferogram outline](#example_1)\n",
    "- [Example 2. Extracting a layer by spatial subsetting](#example_2)\n",
    "    - [Extract amplitude with default parameters (intersection)](#example_2_1)\n",
    "    - [Extract coherence with Bounding Box (SNWE)](#example_2_2)\n",
    "    - [Extract incidence angle with shape file](#example_2_3)\n",
    "- [Example 3. Downloading a mask](#example_3)\n",
    "- [Example 4. Downloading a DEM](#example_4)\n",
    "\n",
    "\n",
    "[**Applications**](#applications)\n",
    "- [Application 1. ENU conversion factors](#application_1)\n",
    "- [Application 2. Computing displacement map](#application_2)"
   ]
  },
  {
   "cell_type": "markdown",
   "metadata": {},
   "source": [
    "## Prep A. Initial setup of the notebook"
   ]
  },
  {
   "cell_type": "markdown",
   "metadata": {},
   "source": [
    "Below we set-up the directory structure for this notebook exercise. In addition, we load the required modules into our python environment using the **`import`** command. We also explicitly enable exceptions for GDAL as this allows us to capture GDAL errors."
   ]
  },
  {
   "cell_type": "code",
   "execution_count": null,
   "metadata": {},
   "outputs": [],
   "source": [
    "# option to control the use of pre-staged data; [False/True]\n",
    "Use_Staged_Data = True\n",
    "\n",
    "# ------------------------------------------------------------------------------------------- #\n",
    "# no changed below needed:\n",
    "import os, copy\n",
    "import shutil\n",
    "import subprocess\n",
    "from osgeo import gdal, ogr\n",
    "import numpy as np\n",
    "import matplotlib.pyplot as plt\n",
    "from matplotlib.ticker import FuncFormatter, FormatStrFormatter, StrMethodFormatter\n",
    "from mpl_toolkits.axes_grid1 import make_axes_locatable\n",
    "%matplotlib inline\n",
    "\n",
    "## Defining the home and data directories at the processing location\n",
    "work_dir = os.path.abspath(os.getcwd())\n",
    "tutorial_home_dir = os.path.abspath(os.getcwd())\n",
    "print(\"Work directory: \", work_dir)\n",
    "print(\"Tutorial directory: \", tutorial_home_dir)\n",
    "    \n",
    "# Enable GDAL/OGR exceptions\n",
    "gdal.UseExceptions()\n",
    "\n",
    "# Verifying if ARIA-tools is installed correctly\n",
    "try:\n",
    "    import ARIAtools.util.shp as shputil\n",
    "except:\n",
    "#     raise Exception('ARIA-tools is missing from your PYTHONPATH')\n",
    "    pass\n",
    "        \n",
    "os.chdir(work_dir)\n",
    "\n",
    "if Use_Staged_Data:\n",
    "    # # Check if a stage file from S3 already exist, if not try and download it\n",
    "    f = 'ariaExtract.zip'\n",
    "    if not os.path.isfile(f):\n",
    "        print('\\nAttempting to download staged data ... ')\n",
    "        try:\n",
    "            cmd = 'aws s3 cp --region us-east-1 --no-sign-request ' + \\\n",
    "                  f's3://asf-jupyter-data-west/aria-data/{f} {f}'\n",
    "            subprocess.run(cmd, shell=True, check=True)\n",
    "                \n",
    "        except:\n",
    "            cmd = 'wget --no-check-certificate --no-proxy ' + \\\n",
    "                  'http://asf-jupyter-data-west.s3.amazonaws.com/' + \\\n",
    "                  f'aria-data/{f} {f} -q --show-progress'\n",
    "            subprocess.run(cmd, stdout=None, stderr=subprocess.PIPE, shell=True)\n",
    "\n",
    "    # verify if download was successful\n",
    "    if os.path.isfile(f):\n",
    "        if os.path.exists('products'):\n",
    "            shutil.rmtree('products')\n",
    "        !unzip {f}\n",
    "        print('S3 pre-staged data retrieval was successful')\n",
    "    else:\n",
    "        print('Download outside openSarLabs is not supported.\\n '\n",
    "              'As alternative please start from ARIA-tools with the '\n",
    "              'commandline calls provided at the top of this notebook')\n",
    "else:\n",
    "    print(\"Will not be using S3 pre-staged data\")\n"
   ]
  },
  {
   "cell_type": "markdown",
   "metadata": {},
   "source": [
    "GUNW products are hosted at the NASA ASF DAAC. Downloading them requires a NASA Earthdata URS user login and requires users to add “ARIA Product Search” to their URS approved applications.\n",
    "\n",
    "These earthdata credentials are to be populated in your local **`.netrc`**, which may be generated by executing the next cell"
   ]
  },
  {
   "cell_type": "code",
   "execution_count": null,
   "metadata": {},
   "outputs": [],
   "source": [
    "# create .netrc if it does not exist    \n",
    "if not os.path.exists(os.path.expanduser('~/.netrc')):\n",
    "    print('NEEDED To Download ARIA GUNWs: \\n '\n",
    "          'Link to create account : https://urs.earthdata.nasa.gov/')\n",
    "    earthdata_user = input('Please type your Earthdata username:')\n",
    "    earthdata_user = str(earthdata_user)\n",
    "    earthdata_password = input('Please type your Earthdata password:')\n",
    "    earthdata_password = str(earthdata_password)\n",
    "    os.system('echo machine urs.earthdata.nasa.gov login \"{usern}\" '\n",
    "              'password \"{passwd}\" > ~/.netrc; chmod 600 ~/.netrc'.format(\n",
    "              usern = earthdata_user, passwd = earthdata_password))"
   ]
  },
  {
   "cell_type": "markdown",
   "metadata": {},
   "source": [
    "DEMs are accessed/downloaded through OpenTopography. Downloading them requires an OpenTopography api key.\n",
    "\n",
    "Follow instructions listed here to generate and access API key through OpenTopography:\n",
    "https://opentopography.org/blog/introducing-api-keys-access-opentopography-global-datasets\n",
    "\n",
    "Once the api key is acquired, your local **`.topoapi`** may be populated by executing the next cell"
   ]
  },
  {
   "cell_type": "code",
   "execution_count": null,
   "metadata": {},
   "outputs": [],
   "source": [
    "# create .topoapi if it does not exist    \n",
    "if not os.path.exists(os.path.expanduser('~/.topoapi')):\n",
    "    print('API key location: My Account > myOpenTopo Authorizations ' + \\\n",
    "          'and API Key > Request API key')\n",
    "    opentopography_api_key = input('Please type your OpenTopo API key:')\n",
    "    opentopography_api_key = str(opentopography_api_key)\n",
    "    os.system('echo \"{api_key}\" > ~/.topoapi; chmod 600 ~/.topoapi'.format(\n",
    "        api_key = str(opentopography_api_key)))"
   ]
  },
  {
   "cell_type": "markdown",
   "metadata": {},
   "source": [
    "Below we define a plotting function that will be used throughout the notebook for plotting GDAL compatible datasets on a map."
   ]
  },
  {
   "cell_type": "code",
   "execution_count": null,
   "metadata": {
    "code_folding": []
   },
   "outputs": [],
   "source": [
    "def plot_layer(path_layer, lay_type=None, cmap=None, **kwargs):\n",
    "    \"\"\" \n",
    "        path_layer is a string to the GDAL compatible dataset to be plotted\n",
    "    \"\"\"\n",
    "    \n",
    "    if not lay_type: \n",
    "        lay_type = os.path.dirname(path_layer)\n",
    "    title = [os.path.basename(lay_type)]\n",
    "    \n",
    "    ## get the lon lat bounds\n",
    "    ds       = gdal.Open(path_layer, gdal.GA_ReadOnly)\n",
    "    trans    = ds.GetGeoTransform()\n",
    "    extent   = [trans[0], trans[0] + ds.RasterXSize * trans[1],\n",
    "                trans[3] + ds.RasterYSize*trans[5], trans[3]]\n",
    "    \n",
    "    ## loading the data\n",
    "    n_bands  = ds.RasterCount\n",
    "    lst_arrs = []\n",
    "    \n",
    "    for band in range(n_bands):\n",
    "        raster = ds.GetRasterBand(band+1)\n",
    "        arr    = raster.ReadAsArray()\n",
    "        try:\n",
    "            NoData = raster.GetNoDataValue()\n",
    "            arr = np.ma.masked_where((arr>1e20) |(arr==NoData),arr )\n",
    "        except:\n",
    "            print('Could not find a no-data value...')\n",
    "            arr = np.ma.masked_where(arr>1e20,arr)\n",
    "        \n",
    "        lst_arrs.append(arr)\n",
    "\n",
    "    ds = None\n",
    "    if n_bands <= 4:\n",
    "        nrows = 1; ncols = n_bands\n",
    "    elif n_bands == 20:\n",
    "        # troposphere\n",
    "        nrows = 4; ncols = 5\n",
    "    else:\n",
    "        raise Exception('Number of bands currently unsupported')\n",
    "        \n",
    "    \n",
    "    ## initializing a figure\n",
    "    fig, axes = plt.subplots(figsize=(12,9), ncols=ncols, nrows=nrows, sharex='col', sharey='row')\n",
    "    axes = axes if isinstance(axes, np.ndarray) else np.array(axes)\n",
    "    axe  = axes.ravel() \n",
    "    cmap = copy.copy(plt.cm.Greys_r)\n",
    "    cmap.set_under('black')\n",
    "    \n",
    "    ## defining the plotting options for different layer types\n",
    "    # Amplitude:\n",
    "    if lay_type.endswith('amplitude'): \n",
    "        # will fix the maximum amplitude bound\n",
    "        vmin=None\n",
    "        vmax = 2000 \n",
    "    # Coherence:\n",
    "    elif lay_type.endswith('coherence'): \n",
    "        # has fixed range between 0-1\n",
    "        vmin=0\n",
    "        vmax = 1\n",
    "    # Incidence angle:\n",
    "    elif lay_type.endswith('incidenceAngle'): \n",
    "        vmin=None\n",
    "        vmax=None\n",
    "    # water\n",
    "    elif lay_type.startswith('water'):\n",
    "        # no bounds needed will be a 0/1 mask; match mintpy\n",
    "        arr = np.ma.getdata(lst_arrs[0])\n",
    "        lst_arrs[0] = arr\n",
    "        vmin=0\n",
    "        vmax=1\n",
    "        cmap='binary_r'\n",
    "    # deformation or unwrapped phase\n",
    "    elif lay_type.startswith('defo'): \n",
    "        # let the data drive the bounds\n",
    "        vmin=None\n",
    "        vmax=None\n",
    "        # change colormap to a warm type\n",
    "        cmap=plt.cm.coolwarm\n",
    "    elif lay_type.startswith('terr') or lay_type.startswith('topo'): \n",
    "        # let the data drive the bounds\n",
    "        vmin=None\n",
    "        vmax=None\n",
    "        # change colormap to a warm type\n",
    "        cmap=plt.cm.terrain\n",
    "    elif lay_type == 'ENU':\n",
    "        vmin=None\n",
    "        vmax=None\n",
    "        title = ['East', 'North', 'Up']\n",
    "        fig.subplots_adjust(wspace=0.5)\n",
    "\n",
    "\n",
    "    else:\n",
    "        # let the data drive the bounds\n",
    "        vmin=None\n",
    "        vmax=None\n",
    "        # change colormap to a warm type\n",
    "        cmap=plt.cm.coolwarm\n",
    "        \n",
    "    # plotting the data    \n",
    "    for i, ax in enumerate(axe):\n",
    "        im   = ax.imshow(lst_arrs[i], cmap=cmap, vmin=vmin, vmax=vmax, extent=extent,interpolation='nearest')\n",
    "        divider = make_axes_locatable(ax)\n",
    "        cax     = divider.append_axes('right', size='5%', pad=0.25)\n",
    "        if lay_type == 'ENU':\n",
    "            fig.colorbar(im, cax=cax, format=FuncFormatter(lambda x, y: '{:.3f}'.format(x)))\n",
    "        elif lay_type.startswith('water'):\n",
    "            fig.colorbar(im, cax=cax, ticks=[vmin, vmax])\n",
    "        else:\n",
    "            fig.colorbar(im, cax=cax)\n",
    "\n",
    "        ax.set_title(title[i], fontsize=15)\n",
    "        ax.grid(False)\n",
    "\n",
    "    axe[0].set_ylabel('latitude', labelpad=15, fontsize=15)\n",
    "    axe[int(np.floor(n_bands/2))].set_xlabel('longitude', labelpad=15, fontsize=15)"
   ]
  },
  {
   "cell_type": "markdown",
   "metadata": {},
   "source": [
    "## Prep B: Download the data"
   ]
  },
  {
   "cell_type": "markdown",
   "metadata": {},
   "source": [
    "We will use the Big Island of Hawaii as the study area for this tutorial. Specifically, we will look at an interferogram (spanning from 20180408 through 20180502) which encompasses the start of the 2018 rifting event. \n",
    "\n",
    "ARIA provides unwrapped interferograms as GUNW products. As the spatial extent of a product is roughly the size of a Sentinel-1 SLC frame (250km x 250km), it is likely that an interferogram over a given study area is composed of multiple adjacent GUNW frames or products. For example, for our study area we will use a Sentinel-1 interferogram generated on track 124, spanning from 20180408 through 20180502, which consists out of two GUNW products or frames.\n",
    "\n",
    "<img src=\"support_docs/Hawaii_Shakemap.png\" alt=\"region\" width=\"500\">\n",
    "<blockquote><b>Fig. 1</b> Shakemap of earthquake that occurred on May 4, 2018 in the southeastern corner of the Hawaiian Big Island. </blockquote>"
   ]
  },
  {
   "cell_type": "markdown",
   "metadata": {},
   "source": [
    "### ARIA GUNW products"
   ]
  },
  {
   "cell_type": "markdown",
   "metadata": {},
   "source": [
    "The GUNW product is an InSAR surface displacement product derived from Sentinel-1 SAR data and packaged as netCDF4 files. GUNW products contain both data and meta-data layers such as the interferometric amplitude, filtered unwrapped phase, filtered coherence, connected components, perpendicular and parallel baselines, incidence, azimuth and look angles. A detailed overview of the ARIA GUNW product with respect to processing, formatting, sampling, and data layers can be found on the [ARIA website](https://aria.jpl.nasa.gov/products/standard-displacement-products.html)."
   ]
  },
  {
   "cell_type": "markdown",
   "metadata": {},
   "source": [
    "### Download options"
   ]
  },
  {
   "cell_type": "markdown",
   "metadata": {},
   "source": [
    "GUNW products are hosted at the ASF DAAC and can be downloaded from the [ARIA-products page](https://aria-products.jpl.nasa.gov) and as beta products from the [ASF DAAC data search page](https://search.asf.alaska.edu/#/). If you know the GUNW filename of the product, you can also build a download link by appending the GUNW filename to **https://<i></i>grfn.asf.alaska.edu<i></i>/door/download/** . \n",
    "\n",
    "Alternatively, you can use the **`ariaDownload.py`** program provided within the ARIA-tools package to download data using a command-line interface. This program wraps around the ASF DAAC API and allows for search sub-setting of GUNW products based on track number, geometry (ascending or descending), as well as spatial and temporal bounding boxes criteria. For a full description of the **`ariaDownload.py`** program, see the [ariaDownload Tutorial](https://github.com/aria-tools/ARIA-tools-docs/blob/master/JupyterDocs/ariaDownload/ariaDownload_tutorial.ipynb).\n",
    "\n",
    "<div class=\"alert alert-warning\">\n",
    "<b>Potential download failure:</b> \n",
    "GUNW products are hosted at the NASA ASF DAAC. Downloading them requires a NASA Earthdata URS user login and requires users to add “ARIA Product Search” to their URS approved applications\n",
    "\n",
    "<b>Login Credentials:</b>\n",
    "Save your user-name and password to a `.netrc` file in your `$HOME` directory, or pass the combination explicitly using `ariaDownload.py --user <user> --pass <pass>`.\n",
    "\n",
    "\n",
    "To create a .netrc file, pass your earthdata credentials by running through (<b>Prep A</b> section) above.\n",
    "\n",
    "Below we will use the **`ariaDownload.py`** to download the all the GUNW products on track 124 (**`-t`** option) for the interferogram pair *20180408_20180502* (**`--ifg`** option) into a *products* folder (**`-w`** option)."
   ]
  },
  {
   "cell_type": "code",
   "execution_count": null,
   "metadata": {},
   "outputs": [],
   "source": [
    "if not Use_Staged_Data:\n",
    "    !ariaDownload.py -t 124 -w products --ifg 20180408_20180502 \\\n",
    "                     --version '3_0_1' -v "
   ]
  },
  {
   "cell_type": "markdown",
   "metadata": {},
   "source": [
    "We can now have a look at the downloaded products:"
   ]
  },
  {
   "cell_type": "code",
   "execution_count": null,
   "metadata": {},
   "outputs": [],
   "source": [
    "!ls products"
   ]
  },
  {
   "cell_type": "markdown",
   "metadata": {},
   "source": [
    "The product filename has two fields, **XXYYYN/S-XXYYYN/S**, that are respectively associated with the western edge of south and north most corner of the geocoded interferogram (see [aria-website](https://aria.jpl.nasa.gov/products/standard-displacement-products.html) for a complete overview of the filename convention). The latitude bounds are specified as 5-digit number with 3 significant digits. The `duplicated_products` directory contains products that are the same except for the version. The default is to keep the newest versions and store any others in `duplicated_products`. \n",
    "\n",
    "Based on the filename of the two products, can you confirm the products are overlapping?"
   ]
  },
  {
   "cell_type": "markdown",
   "metadata": {},
   "source": [
    "## Overview of the ariaExtract.py program\n",
    "<a id='overview'></a>"
   ]
  },
  {
   "cell_type": "markdown",
   "metadata": {},
   "source": [
    "The **`ariaExtract.py`** program allows for easy extraction of data and meta-data layers from ARIA standard GUNW products. The program will automatically determine which GUNW products need to be stitched or cropped in order to generate a seamless interferogram. By default, interferograms will be cropped to bounds determined by the common intersection and bounding box (if specified). Running **`ariaExtract.py`** with the **`-h`** option will show the parameter options. \n",
    "\n",
    "Let us explore these options:"
   ]
  },
  {
   "cell_type": "code",
   "execution_count": null,
   "metadata": {},
   "outputs": [],
   "source": [
    "!ariaExtract.py -h"
   ]
  },
  {
   "cell_type": "markdown",
   "metadata": {},
   "source": [
    "### 1. Product files to be used (-f option)"
   ]
  },
  {
   "cell_type": "markdown",
   "metadata": {},
   "source": [
    "At minimum, users need to specify the GUNW files they want to extract information from. This is controlled using the **`-f`** option. Multiple products can be specified by providing them as a comma separated string (e.g., **`-f`**` 'products/S1-GUNW-A-R-124-tops-20180502_20180408-043106-21658N_19755N-PP-0dd0-v2_0_1.nc,products/S1-GUNW-A-R-124-tops-20180502_20180408-043040-20161N_18088N-PP-6704-v2_0_1.nc'`), or using a wildcard (e.g., **`-f`**` 'products/S1*.nc'`)."
   ]
  },
  {
   "cell_type": "markdown",
   "metadata": {},
   "source": [
    "### 2. Layers to be extracted (-l option)"
   ]
  },
  {
   "cell_type": "markdown",
   "metadata": {},
   "source": [
    "By default, no layers are extracted aside from the bounding boxes of the products. Layer extraction is controlled using the **`-l`** option. Valid options are \"unwrappedPhase\", \"coherence\", \"amplitude\", \"bPerpendicular\", \"bParallel\", \"incidenceAngle\", \"lookAngle\", and \"azimuthAngle\". Multiple layers can be extracted at once by specifying them as a comma separated string (e.g., **`-l`**` 'azimuth,coherence'`). You can use the `'all'` keyword to extract all possible layers at once (e.g., **`-l`**` all`)."
   ]
  },
  {
   "cell_type": "markdown",
   "metadata": {},
   "source": [
    "### 3. DEM (-d and -p options)"
   ]
  },
  {
   "cell_type": "markdown",
   "metadata": {},
   "source": [
    "By specifying the **`-d`**` Download` option, users can download the Copernicus GLO-90 DEM on the fly. The DEM will be cropped over the interferogram extent (ground swath). A DEM is required for extracting the meta-data layer fields (e.g., \"bPerpendicular\", \"bParallel\", \"incidenceAngle\",\"lookAngle\", and \"azimuthAngle\"). Alternatively, users can also specify the location to a custom GDAL-compatible DEM and control its projection by specifying it with the **`-p`** option. All the meta-data layers are stored within the GUNW product as 3D data cubes (longitude, latitude, height). The full-resolution meta-data layers are generated by intersecting these 3D data-cube with the DEM."
   ]
  },
  {
   "cell_type": "markdown",
   "metadata": {},
   "source": [
    "### 4. Mask (-m option)"
   ]
  },
  {
   "cell_type": "markdown",
   "metadata": {},
   "source": [
    "By specifying the **`-m`**` Download` option, users can download a waterbody mask compiled from the Global Self-consistent, Hierarchical, High-resolution Geography Database (GSHHG) on the fly. The mask will be cropped over the interferogram extent (ground swath). A mask is useful for masking out broader waterbodies (e.g. oceans and major lakes) from your output layers. Alternatively, users can also specify the location to a custom GDAL-compatible mask and control its projection by specifying it with the **`-p`** option."
   ]
  },
  {
   "cell_type": "markdown",
   "metadata": {},
   "source": [
    "### 5. Cropping and spatial sub setting (-b and -croptounion options)"
   ]
  },
  {
   "cell_type": "markdown",
   "metadata": {},
   "source": [
    "The **`ariaExtract.py`** program will automatically handle cropping and stitching of GUNW products when needed. By default, the program will crop all interferograms to bounds determined by the common intersection (of all interferograms) and the user-defined bounding box option. All layers are cropped and/or stitched using GDAL (see the [methods](#methods) section for details on the implemented approach for each layer). Below we discuss which options are available for specifying an area-of-interest."
   ]
  },
  {
   "cell_type": "markdown",
   "metadata": {},
   "source": [
    "#### Interferogram intersection versus union (-croptounion option)"
   ]
  },
  {
   "cell_type": "markdown",
   "metadata": {},
   "source": [
    "GUNW products are grouped in clusters that belong to the same interferometric pair. By default, the spatial **intersection** of the interferometic pairs is used to define the region of interest. This can be overriden to be the union of all interferograms (regardless of alignment) by passing the **`--croptounion`** argument. A schematic example is shown in **Fig 2** for both scenarios.\n",
    "\n",
    "<div class=\"alert alert-warning\">\n",
    "<b>Warning:</b> Users in general should avoid mixing products of adjacent satellite tracks (i.e., products made on the same contiguous pass are ok). Note that along the equator, the track number (ascending data on the ascending note) gets incremented while the data itself is still continuous.\n",
    "</div>\n",
    "\n",
    "<img src=\"support_docs/spatial_config_new.png\" alt=\"spatial_configuration\" width=\"700\">\n",
    "<blockquote> <center><b> Fig. 2 </b> Schematic of the spatiotemporal configuration for three interferograms. The left panel shows the intersection of the interferograms, which is the default behavior. The right panel shows the union of the interferograms, achieved by passing <b><code>--croptounion</code></b> . The blue dashed line demonstrates the behavior if the user had specified a bounding box (<b><code>-b</code></b>). Note that interferograms which do not cover the bounding box completely with the <b><code>--croptounion</code></b> or the <b><code>-b</code></b> option, will be padded with no-data values.</center></blockquote>"
   ]
  },
  {
   "cell_type": "markdown",
   "metadata": {},
   "source": [
    "#### Bounding Box (-b option)"
   ]
  },
  {
   "cell_type": "markdown",
   "metadata": {},
   "source": [
    "The user can specify a rectangular bounding box (South-North-West-East coordinates) as **`-b`**` 'S N W E'` or can provide a more complex area of interest using a shapefile or geoJSON as **`-b`**` path_to_file.shp`. A schematic example is shown in **Fig 3** for both scenarios.\n",
    "\n",
    "<img src=\"./support_docs/crop.png\" alt=\"cropping\" width=\"700\">\n",
    "<blockquote><center><b> Fig. 3 </b> Schematic examples of the <b><code>-b</code></b> option available for cropping. The blue dashed line shows the user-specified area of interest. The left panel demonstrates the result when specifying SNWE coordinates, while the right panel shows the result when specifying a more complex polygon for the area of interest using a shapefile. </center></blockquote>"
   ]
  },
  {
   "cell_type": "markdown",
   "metadata": {},
   "source": [
    "#### Minimum overlap option (-mo option)"
   ]
  },
  {
   "cell_type": "markdown",
   "metadata": {},
   "source": [
    "For some cases (especially larger-scale studies spanning multiple frames), the region of interest defined by the common intersection of interferograms may lead to unanticipated results as relatively short interferograms (e.g. 1 frame long) may bias this reference region of interest such that most of the span of relatively longer interferograms (e.g. 3 frames) are masked out in the extracted layers.\n",
    "\n",
    "Thus, we recommend leveraging the minimum overlap option (```-mo```) in order to control this behavior. The ```-mo``` option specifically can be used to reject those interferograms for which the intersection with the reference cutline does not meet a minimum area overlap (in $\\mathrm{km^{2}}$) as set by the user. By default ```-mo``` = 0.0081 = 0.0081 $\\mathrm{km^{2}}$, which represents the area of single pixel at standard 90m resolution. While trial-and-error may be involved, generally an easy way to reject shorter interograms would be to pass the area of a predefined user-bounding box as an argument.\n",
    "\n",
    "For example, let’s suppose the area of the bounding box presented here is 1000 $\\mathrm{km^{2}}$. The 2nd interferogram would be kicked out if ```-mo 1000``` were specified as it would fail to overlap completely with the bounding box:\n",
    "\n",
    "<img src=\"./support_docs/minimumoverlap_example.png\" alt=\"cropping\" width=\"700\">\n",
    "<blockquote><center><b> Fig. 4 </b> Schematic examples of the <b><code>-mo</code></b> option available for enforcing minimum spatial overlap with respect to an area of interest. The blue dashed line shows the user-specified area of interest. The left panel demonstrates the default result where all interferograms with a minimum overlap with the area of interest of 0.0081 $\\mathrm{km^{2}}$ (or one pixel) are passed, while the right panel shows the result when specifying a more conservative minimum overlap area. </center></blockquote>"
   ]
  },
  {
   "cell_type": "markdown",
   "metadata": {},
   "source": [
    "### 6. Workdirectory (-w option)"
   ]
  },
  {
   "cell_type": "markdown",
   "metadata": {},
   "source": [
    "The output of the **`ariaExtract.py`** program is saved within the working directory (**`-w`**), which by default is the current directory. Within the work directory the outputs are organized in separate subdirectories, where the sub-directory name corresponds to the layer being extracted. Within each subdirectory, the data and meta-data are saved with the interferogram pair dates \"date1_date2\" serving as the basename."
   ]
  },
  {
   "cell_type": "markdown",
   "metadata": {},
   "source": [
    "### 7.  Output format (-o option)"
   ]
  },
  {
   "cell_type": "markdown",
   "metadata": {},
   "source": [
    "The **`ariaExtract.py`** program leverages GDAL for file reading and writing of outputs. The user can therefore specify any GDAL compatible format (e.g., ENVI, ISCE, GTiff; see GDAL for more information on [supported formats](https://gdal.org/drivers/raster/index.html)) for saving the outputs from **`ariaExtract.py`**.  By default, \"unwrappedPhase\", \"bPerpendicular\", \"bParallel\", \"incidenceAngle\", \"lookAngle\", and \"azimuthAngle\" are stored as ENVI files, as these layers required  mathematical manipulation. Other layers including \"coherence\" and \"amplitude\" do not require this, and by default are stored as virtual files (.vrt) to conserve disk space."
   ]
  },
  {
   "cell_type": "markdown",
   "metadata": {},
   "source": [
    "## Methods used in the ariaExtract.py program\n",
    "<a id='methods'></a>"
   ]
  },
  {
   "cell_type": "markdown",
   "metadata": {},
   "source": [
    "The **`ariaExtract.py`** program will automatically handle the stitching and cropping of layers based on a user area of interest, and the union or intersection of all interferograms. The start and stop product sensing times contained within each GUNW product is used to figure out which GUNW products form a single, contiguous interferogram. As all GUNW products are provided on an uniform grid (in sampling and origin), there is no need for resampling. \n",
    "\n",
    "The method used for stitching the data and meta-data layers for a given interferogram varies depending on the layer. Three main variants exist:\n",
    "1. Extraction of layers without need for manipulation (amplitude and coherence).\n",
    "2. Extraction of full resolution meta-data layers (bPerpendicular, bParallel, incidenceAngle, lookAngle, and azimuthAngle).\n",
    "3. Extraction of unwrapped phase (and connected component) layer.\n",
    "\n",
    "Below we elaborate on each of these variants."
   ]
  },
  {
   "cell_type": "markdown",
   "metadata": {},
   "source": [
    "### 1.  Extraction of layers without need for manipulation\n",
    "<a id='method_1'></a>"
   ]
  },
  {
   "cell_type": "markdown",
   "metadata": {},
   "source": [
    "The *amplitude* and *coherence* layers are stitched together using a mosaicking approach leveraging GDAL **`gdalwarp`** functionality. The stitched layer data in the product overlap region is constrained by one of the two overlapping products without loss of information."
   ]
  },
  {
   "cell_type": "markdown",
   "metadata": {},
   "source": [
    "### 2. Extraction of full resolution meta-data layers\n",
    "<a id='method_2'></a>"
   ]
  },
  {
   "cell_type": "markdown",
   "metadata": {},
   "source": [
    "The imaging geometry meta-data layers such as *bPerpendicular, bParallel, incidenceAngle, lookAngle,* and *azimuthAngle* are provided within each GUNW product as 3D-data cubes. Since the imaging geometry meta-data layers vary smoothly in space, they are specified with sparse lateral (0.1 arcsec) sampling on fixed height levels (-1.5, 0, 3 and 9 km) for data reduction purposes. \n",
    "\n",
    "The full resolution meta-data layer is retrieved by intersecting the 3D data-cube with a DEM (see **Fig. 4**). Users can either provide a custom DEM or specify the DEM download option to retrieve and use the Copernicus GLO-90 DEM. The DEM is interpolated (nearest neighbor) to the native grid of the interferogram. Prior to the intersection of the DEM with the 3D dataset, we mosaic the 3D-data cubes of the different GUNW products together for each interferogram. The intersection itself is done by performing a bivariate spline interpolation laterally and a cubic interpolation vertically to calculate the values at the DEM grid nodes.\n",
    "\n",
    "<img src=\"support_docs/interp_2d.png\" alt=\"interp_sketch\" width=\"600\" >\n",
    "    <blockquote> <b>Fig. 4</b> Schematic example of the 3D meta-data cube and intersection routine with a DEM to retrieve the full resolution meta-data layer. Not drawn to scale.</blockquote>"
   ]
  },
  {
   "cell_type": "markdown",
   "metadata": {},
   "source": [
    "#### Correction layers:\n",
    "There are three optional layers intended to mitigate unwanted phase delays. These correction layers rely on additional algorithms, and the layers themselves are encoded as 3D data cubes similar to the geometry meta-data layers.\n",
    "\n",
    "The correction layers are:\n",
    "* **Troposphere correction** &ndash; Tropospheric propagation delays are one of the largest bottlenecks that limit the retrieval accuracy of ground displacement using InSAR. For example, surface displacements of small magnitude (e.g. interseismic deformation, transients) or those that are correlated with topography (e.g. volcano deformation) are often masked by the tropospheric noise (e.g., [Hooper et al., 2012](https://www.sciencedirect.com/science/article/pii/S0040195111004343); [Bekaert et al, (2015)](https://www.sciencedirect.com/science/article/pii/S0034425715301231)). For ARIA products, optional tropospheric corrections are estimated from weather model outputs such as [ECMWF](https://www.ecmwf.int/), NASA [GMAO](https://gmao.gsfc.nasa.gov/), NOAA [HRRR](https://rapidrefresh.noaa.gov/hrrr/), etc. The troposphere corrections are implemented through the [RAiDER](https://github.com/dbekaert/RAiDER) open-source software, which uses a ray-tracing approach to directly obtain slant-delay.\n",
    "* **Solid Earth tide correction** &ndash; The solid Earth flexes in response to the lunar and solar gravitational forces that drive ocean tides. This flexure can reach 20&ndash;30 cm in amplitude (e.g., [Milbert, 2018](https://geodesyworld.github.io/SOFTS/solid.htm)). The solid Earth tide (SET) can be estimated to an accuracy within 1 mm based on spherical harmonics ([IERS Conventions, 2003, Section 7.1.2](https://www.iers.org/IERS/EN/Publications/TechnicalNotes/tn32.html)). These calculations are implemented using [PySolid](https://github.com/insarlab/PySolid) ([Yunjun et al., 2022](https://ieeexplore.ieee.org/document/9759304)), a Python wrapper for the *[solid](https://geodesyworld.github.io/SOFTS/solid.htm#link3)* program (Milbert, 2018). ARIA products optionally provide layers to correct for these effects.\n",
    "* **Ionosphere correction** &ndash; The ionosphere layers mitigate phase delays induced by the ionosphere ([Fattahi et al., 2017](https://ieeexplore.ieee.org/abstract/document/7987747)). The ionospheric phase screen is computed using the \"split range-spectrum\" approach of *Fattahi et al. (2017)*, whereby the spectrum of the radar signal in range is divided into two sub-bands with different center frequencies. Two sub-band interferograms are computed from the sub-band images of different acquisitions, representing the dispersive and non-dispersive components of the interferometric phase. The ionospheric phase delay is represented by the dispersive component, and can be removed from the signal. ***Please note:*** The ionospheric delay is difficult to estimate for C-band radar systems such as Sentinel-1, and is showcased here as an example for users to get accustomed to what will be included in the upcoming NISAR (L-band) data."
   ]
  },
  {
   "cell_type": "markdown",
   "metadata": {},
   "source": [
    "### 3. Extraction of unwrapped phase (and connected components) layer\n",
    "<a id='method_3'></a>"
   ]
  },
  {
   "cell_type": "markdown",
   "metadata": {},
   "source": [
    "An interferogram is  generated through the complex multiplication of the reference SLC with the complex conjugate of the secondary SLC, and thus is a wrapped image between $-\\pi$ and $\\pi$. As part of the unwrapping procedure, a continuous surface is created from the wrapped data by adding integer multiples of 2$\\pi$ to its pixels. Unwrapping is not a trivial process, and is complicated by (decorrelation) noise in data. As part of the processing routine, a slant range pixel offset correction is estimated from the data, leading to a planar phase correction of small slope in the range direction (perpendicular to the satellite flight direction).\n",
    "\n",
    "Since each GUNW product is processed and unwrapped separately, we need to account for an integer multiple of 2$\\pi$ between GUNW products, and also correct for an additional bias introduced by range offset differences applied to each GUNW product. Both corrections are estimated from product overlap regions, after which we stitch products leveraging GDAL. We maintain the qualitative function of the connected component layer by adjusting each GUNW product connected component layer, while merging all the connected component 0s together.\n",
    "\n",
    "<img src=\"support_docs/2frame_overlap.png\" alt=\"overlap\" width=\"30%\" >\n",
    "   <center> <b>Fig. 5</b> Schematic showing overlap region (shaded in red) used to estimate both a phase bias and integer multiple of 2$\\pi$ correction between two GUNW products forming a single interferogram (blue and green outline, respectively). </center>"
   ]
  },
  {
   "cell_type": "markdown",
   "metadata": {},
   "source": [
    "## Examples of the ariaExtract.py program<a id='examples'></a>"
   ]
  },
  {
   "cell_type": "markdown",
   "metadata": {},
   "source": [
    "### Example 1. Extracting and viewing of the interferogram outline <a id='example_1'></a>"
   ]
  },
  {
   "cell_type": "markdown",
   "metadata": {},
   "source": [
    "[Back to Example Table of Contents](#example_TOC)\n",
    "\n",
    "The **`ariaExtract.py`** program groups GUNW products into spatially-temporally continuous interferograms. Even without extracting any layers, **`ariaExtract.py`** will create geoJSON files outlining the spatial extent for each interferogram. Below we demonstrate this on the two coseismic GUNW products using default parameters for the spatial sub-setting. "
   ]
  },
  {
   "cell_type": "code",
   "execution_count": null,
   "metadata": {},
   "outputs": [],
   "source": [
    "!ariaExtract.py -f \"products/*.nc\""
   ]
  },
  {
   "cell_type": "markdown",
   "metadata": {},
   "source": [
    "Within the *productBoundingBox* subdirectory, the outline for each stitched interferogram is saved as a geoJSON file using the acquisition dates to form the filename (e.g. '20180502_20180408.json'). \n",
    "\n",
    "In addition, a final bounding box 'productBoundingBox.json' is stored which details the spatial extent to which all interferograms will be cropped. By default, the *intersection* of the interferograms is used to determine the spatial extent. In our example, only one interferogram is considered without specifying additional options to subset in space (such as the **`--bbox`** option) so both files are identical."
   ]
  },
  {
   "cell_type": "code",
   "execution_count": null,
   "metadata": {},
   "outputs": [],
   "source": [
    "!ls productBoundingBox"
   ]
  },
  {
   "cell_type": "markdown",
   "metadata": {},
   "source": [
    "We will view the outline saved in the geoJSON file, with the **`plot_shapefile`** function within **`shapefile_utils.py`** distributed with the ARIA-tools package. Note this is not a true ESRI shapefile, but can easily be converted to one using the `ogr2ogr` program (see [Application 3](#application3))."
   ]
  },
  {
   "cell_type": "code",
   "execution_count": null,
   "metadata": {},
   "outputs": [],
   "source": [
    "shputil.plot_shp(os.path.join('productBoundingBox', 'productBoundingBox.json'))"
   ]
  },
  {
   "cell_type": "markdown",
   "metadata": {},
   "source": [
    "### Example 2. Extracting a layer by spatial subsetting\n",
    "<a id='example_2'></a>"
   ]
  },
  {
   "cell_type": "markdown",
   "metadata": {},
   "source": [
    "[Back to Example Table of Contents](#example_TOC)\n",
    "\n",
    "Layers are extracted to separate subdirectories named after the 'layer name' under the specified working directory (`-w`), e.g. 'amplitude'. Within the layer subdirectories, the data and meta-data are saved with a given interferometric date combination serving as the filename, e.g. 'amplitude/20180502_20180408'. Any existing layers will be overwritten. Below, examples are provided by spatial subsetting using default parameters (intersection), bounding box, and shapefile."
   ]
  },
  {
   "cell_type": "markdown",
   "metadata": {},
   "source": [
    "#### 1. Extract amplitude with default parameters (intersection)\n",
    "<a id='example_2_1'></a>"
   ]
  },
  {
   "cell_type": "markdown",
   "metadata": {},
   "source": [
    "Below we will extract the *amplitude* layer using default parameters (intersection of common area to all interferograms)."
   ]
  },
  {
   "cell_type": "code",
   "execution_count": null,
   "metadata": {},
   "outputs": [],
   "source": [
    "!ariaExtract.py -f \"products/*.nc\" -l amplitude "
   ]
  },
  {
   "cell_type": "markdown",
   "metadata": {},
   "source": [
    "The extracted amplitude layer is stored within the *amplitude* folder and with the interferometric date combination as its filename. Note that amplitude is one of the layers which is stitched *virtually* by default. The *20180502_20180408_uncropped.vrt* is the complete stitched variant, while the other *20180502_20180408.vrt* file contains the amplitude layer as cropped over the `productBoundingBox.json` (see [example 1](#example_1) for details)."
   ]
  },
  {
   "cell_type": "code",
   "execution_count": null,
   "metadata": {},
   "outputs": [],
   "source": [
    "shputil.plot_shp(os.path.join('productBoundingBox', 'productBoundingBox.json'))"
   ]
  },
  {
   "cell_type": "code",
   "execution_count": null,
   "metadata": {},
   "outputs": [],
   "source": [
    "!ls amplitude"
   ]
  },
  {
   "cell_type": "markdown",
   "metadata": {},
   "source": [
    "We can now use our earlier defined plotting function to visualize the amplitude of the stitched interferogram."
   ]
  },
  {
   "cell_type": "code",
   "execution_count": null,
   "metadata": {},
   "outputs": [],
   "source": [
    "plot_layer(os.path.join('amplitude', '20180502_20180408.vrt'))"
   ]
  },
  {
   "cell_type": "markdown",
   "metadata": {},
   "source": [
    "The amplitude corresponds to the complex magnitude of the interferogram. Darker colors indicate weaker backscatter of the radar signal, which depend on the characteristics of the surface. In rough water the amplitude will be brighter than in calm sea, as waves will be scattering part of the energy back. Over land, vegetated areas will appear darker compared to urban and mountain outcrops."
   ]
  },
  {
   "cell_type": "markdown",
   "metadata": {},
   "source": [
    "#### 2. Extract coherence with Bounding Box (SNWE)\n",
    "<a id='example_2_2'></a>"
   ]
  },
  {
   "cell_type": "markdown",
   "metadata": {},
   "source": [
    "Users can specify an area of interest as `SNWE` coordinates using the **`--bbox`** option. Coordinates should be specified as a space delimited string surround by quotes. The example below extracts the coherence over the main island of Hawaii."
   ]
  },
  {
   "cell_type": "code",
   "execution_count": null,
   "metadata": {},
   "outputs": [],
   "source": [
    "!ariaExtract.py -f \"products/*.nc\" -l coherence --bbox \"18.8 20.3 -156.1 -154.8\""
   ]
  },
  {
   "cell_type": "markdown",
   "metadata": {},
   "source": [
    "The extracted coherence layer is stored within the *coherence* folder and with the interferometric date combination as its filename. As with the amplitude layer, coherence is one of the layers which is stitched *virtually* by default. The *20180502_20180408_uncropped.vrt* is the complete stitched variant, while the other *20180502_20180408.vrt* file contains the coherence layer as cropped over the *productBoundingBox.json*, which is now cropped to the specified SNWE coordinates (see [example 1](#example_1) for details on the *productBoundingBox*)."
   ]
  },
  {
   "cell_type": "code",
   "execution_count": null,
   "metadata": {},
   "outputs": [],
   "source": [
    "shputil.plot_shp(os.path.join('productBoundingBox', 'productBoundingBox.json'))"
   ]
  },
  {
   "cell_type": "code",
   "execution_count": null,
   "metadata": {},
   "outputs": [],
   "source": [
    "!ls coherence"
   ]
  },
  {
   "cell_type": "markdown",
   "metadata": {},
   "source": [
    "The spatial extent of the coherence file can be confirmed by running **`gdalinfo`** on the vrt of the coherence layer."
   ]
  },
  {
   "cell_type": "code",
   "execution_count": null,
   "metadata": {},
   "outputs": [],
   "source": [
    "!gdalinfo coherence/20180502_20180408.vrt -stats"
   ]
  },
  {
   "cell_type": "markdown",
   "metadata": {},
   "source": [
    "Alternatively, the coherence layer can be visualized to show the spatial extent as well."
   ]
  },
  {
   "cell_type": "code",
   "execution_count": null,
   "metadata": {},
   "outputs": [],
   "source": [
    "plot_layer(os.path.join('coherence', '20180502_20180408.vrt'))"
   ]
  },
  {
   "cell_type": "markdown",
   "metadata": {},
   "source": [
    "The coherence is a qualitative marker for the interferogram, ranging between 0 and 1. \n",
    "Changes in the acquisition geometry and scattering (e.g. vegetation) lead to decorrelation. The higher the decorrelation, the lower the coherence, as can be observed over the vegetated regions of Hawaii. Coherence is computed using a 5 x 5 window on multi-looked data (~90 m resolution), and therefore its spatial resolution is rather on the order of 450 m. The coarseness of the estimation window can clearly be observed along the water-land boundary.  "
   ]
  },
  {
   "cell_type": "markdown",
   "metadata": {},
   "source": [
    "#### 3. Extract incidenceAngle with shapefile\n",
    "<a id='example_2_3'></a>"
   ]
  },
  {
   "cell_type": "markdown",
   "metadata": {},
   "source": [
    "[Back to Example Table of Contents](#example_TOC)\n",
    "\n",
    "Users can specify an area of interest using a shapefile through the **`--bbox`** option. The shapefile should be saved as a polygon geometry, compatible with GDAL, and with **WGS84** as reference. Here, we use a shapefile containing the Big Island of Hawaii, created from the [OpenStreetMap dataset](https://www.openstreetmap.org/) using the [OSMnx](https://geoffboeing.com/publications/osmnx-complex-street-networks/) python library. We will use GDAL's **`orginfo `** to verify its contents:"
   ]
  },
  {
   "cell_type": "code",
   "execution_count": null,
   "metadata": {
    "scrolled": true
   },
   "outputs": [],
   "source": [
    "shp = os.path.join(tutorial_home_dir, 'support_docs', 'Big_Island', 'Big_Island.shp')\n",
    "!ogrinfo -so {shp} Big_Island"
   ]
  },
  {
   "cell_type": "markdown",
   "metadata": {},
   "source": [
    "Below we extract the *incidenceAngle* layer using this shapefile, which outlines the entire island. Since this is a geometry meta-data layer, a DEM needs to be provided using the **`-d `** option. Note, in case you already have downloaded a DEM, you could now update and specify the path to the DEM file directly, e.g., **`-d `**`DEM/glo_90.dem`."
   ]
  },
  {
   "cell_type": "code",
   "execution_count": null,
   "metadata": {},
   "outputs": [],
   "source": [
    "print('ariaExtract.py -f \"products/*.nc\" -l incidenceAngle -d Download -b {}'.format(shp))\n",
    "!ariaExtract.py -f \"products/*.nc\" -l incidenceAngle -d Download -b {shp} "
   ]
  },
  {
   "cell_type": "markdown",
   "metadata": {},
   "source": [
    "The extracted incidence angle is stored within the *incidenceAngle* folder and with the interferometric date combination as its filename. Unlike coherence and amplitude, the meta-data layers are physically written out as *ENVI* files, and cropped to the *productBoundingBox.json*, which is now cropped to the specified shapefile (see [example 1](#example_1) for details on the *productBoundingBox*). The output format can be controlled using the **`-of`** option."
   ]
  },
  {
   "cell_type": "code",
   "execution_count": null,
   "metadata": {},
   "outputs": [],
   "source": [
    "shputil.plot_shp(os.path.join('productBoundingBox', 'productBoundingBox.json'))"
   ]
  },
  {
   "cell_type": "code",
   "execution_count": null,
   "metadata": {},
   "outputs": [],
   "source": [
    "!ls incidenceAngle/*"
   ]
  },
  {
   "cell_type": "markdown",
   "metadata": {},
   "source": [
    "The spatial extent of the incidence angle file, as well as the no-data value, can be retrieved using **`gdalinfo`** on the vrt of the incidence angle file."
   ]
  },
  {
   "cell_type": "code",
   "execution_count": null,
   "metadata": {},
   "outputs": [],
   "source": [
    "!gdalinfo incidenceAngle/20180502_20180408.vrt -stats"
   ]
  },
  {
   "cell_type": "markdown",
   "metadata": {},
   "source": [
    "Below we will visualize the incidence angle as extracted over the main island."
   ]
  },
  {
   "cell_type": "code",
   "execution_count": null,
   "metadata": {
    "scrolled": true
   },
   "outputs": [],
   "source": [
    "plot_layer(os.path.join('incidenceAngle', '20180502_20180408.vrt'))"
   ]
  },
  {
   "cell_type": "markdown",
   "metadata": {},
   "source": [
    "The incidence angle is reported in degrees and corresponds to the angle between the vertical from the ground and the incomming radar raypath. As can be observed from the figure, anything outside the outline of the island (as delineated by the input shapefile 'data/Big_Island/Big_Island.shp') has been cropped out."
   ]
  },
  {
   "cell_type": "markdown",
   "metadata": {},
   "source": [
    "### Example 3. Downloading a mask\n",
    "<a id='example_3'></a>"
   ]
  },
  {
   "cell_type": "markdown",
   "metadata": {},
   "source": [
    "[Back to Example Table of Contents](#example_TOC)\n",
    "\n",
    "To download a waterbody mask compiled from GSHHG, specify the **`-m Download`** option. By default, outputs are written to the local directory, which can be changed to another location by specifying the path with the **`-w`** option. The mask will be used to mask all extracted layers. Running the following command to completion will take ~3 mins, so it will be a great time to take a coffee/twitter break:"
   ]
  },
  {
   "cell_type": "code",
   "execution_count": null,
   "metadata": {
    "scrolled": true
   },
   "outputs": [],
   "source": [
    "!ariaExtract.py -f \"products/*.nc\" -m download -b {shp}"
   ]
  },
  {
   "cell_type": "markdown",
   "metadata": {},
   "source": [
    "The mask is cropped to the common interferometric grid, stored under local subdirectory *mask*, and given the filename *watermask.msk* (i.e. nested as *mask/watermask.msk*). Note that for consistency, if a user specifies a path to a custom mask, the cropped version is still stored under the local subdirectory *mask* and shares the same filename as the input."
   ]
  },
  {
   "cell_type": "markdown",
   "metadata": {},
   "source": [
    "Execute the next cell to visualize the mask. Broader waterbodies (e.g. oceans and major lakes) are delineated in the mask."
   ]
  },
  {
   "cell_type": "code",
   "execution_count": null,
   "metadata": {
    "scrolled": true
   },
   "outputs": [],
   "source": [
    "plot_layer('mask/esa_world_cover_2021.msk',lay_type='water')"
   ]
  },
  {
   "cell_type": "markdown",
   "metadata": {},
   "source": [
    "Below we will apply this mask to the unwrapped phase layer."
   ]
  },
  {
   "cell_type": "code",
   "execution_count": null,
   "metadata": {
    "scrolled": true
   },
   "outputs": [],
   "source": [
    "# extract masked unwrapped phase layer\n",
    "!ariaExtract.py -f \"products/*.nc\" -l unwrappedPhase \\\n",
    "                -m mask/esa_world_cover_2021.msk -b {shp}\n",
    "\n",
    "## view the plot\n",
    "plot_layer('unwrappedPhase/20180502_20180408', 'deformation')"
   ]
  },
  {
   "cell_type": "markdown",
   "metadata": {},
   "source": [
    "### Example 4. Downloading a DEM\n",
    "<a id='example_4'></a>"
   ]
  },
  {
   "cell_type": "markdown",
   "metadata": {},
   "source": [
    "[Back to Example Table of Contents](#example_TOC)\n",
    "\n",
    "To download a Copernicus GLO-90 DEM specify the **`-d Download`** option. By default outputs are written to the local directory, which can be changed to another location by specifying the path with the **`-w`** option. The DEM will be needed for the extraction of the full resolution meta-data layers.\n",
    "\n",
    "Users can specify an area of interest using a shapefile through the **`--bbox`** option. The shapefile should be saved as a polygon geometry, compatible with GDAL, and with **WGS84** as reference. Here, we use a shapefile containing the Big Island of Hawaii, created from the [OpenStreetMap dataset](https://www.openstreetmap.org/) using the [OSMnx](https://geoffboeing.com/publications/osmnx-complex-street-networks/) python library. This shapefile will clip out the sea surrounding the island."
   ]
  },
  {
   "cell_type": "code",
   "execution_count": null,
   "metadata": {
    "scrolled": true
   },
   "outputs": [],
   "source": [
    "!ariaExtract.py -f \"products/*.nc\" -d download -b {shp}"
   ]
  },
  {
   "cell_type": "markdown",
   "metadata": {},
   "source": [
    "The DEM is cropped to the common interferometric grid, stored under local subdirectory *DEM*, and given the filename *glo_90.dem* (i.e. nested as *DEM/glo_90.dem*). Note that for consistency, if a user specifies a path to a custom DEM, the cropped version is still stored under the local subdirectory *DEM* and shares the same filename as the input. You can use gdalinfo to retrieve information on the geospatial extent of the DEM."
   ]
  },
  {
   "cell_type": "code",
   "execution_count": null,
   "metadata": {},
   "outputs": [],
   "source": [
    "!ls DEM/glo_90*\n",
    "!gdalinfo DEM/glo_90.dem.vrt"
   ]
  },
  {
   "cell_type": "markdown",
   "metadata": {},
   "source": [
    "Execute the next cell to visualize the DEM."
   ]
  },
  {
   "cell_type": "code",
   "execution_count": null,
   "metadata": {
    "scrolled": true
   },
   "outputs": [],
   "source": [
    "plot_layer('DEM/glo_90.dem',lay_type='topo')"
   ]
  },
  {
   "cell_type": "markdown",
   "metadata": {},
   "source": [
    "### Example 5. Correction layers\n",
    "<a id='example_5'></a>"
   ]
  },
  {
   "cell_type": "markdown",
   "metadata": {},
   "source": [
    "[Back to Example Table of Contents](#example_TOC)\n",
    "\n",
    "As explained above, ARIA products can come with a optional layers to correct for tropospheric, ionospheric, and solid Earth tidal effects. Here, we demonstrate these corrections and show the effects on an interferogram. Recall that the troposphere and SET layers are provided with sparse lateral sample spacing on fixed height levels to conserve file size.\n",
    "\n",
    "Each of these correction layers can be extracted using **`ariaExtract.py`**, and plot them. We show the fixed height layers for troposphere and SET phase delays, and the full-resolution ionosphere correction layer."
   ]
  },
  {
   "cell_type": "markdown",
   "metadata": {},
   "source": [
    "#### Troposphere correction"
   ]
  },
  {
   "cell_type": "code",
   "execution_count": null,
   "metadata": {},
   "outputs": [],
   "source": [
    "!ariaExtract.py -f \"products/*.nc\" -l troposphereTotal -tm ERA5 \\\n",
    "                -d DEM/glo_90.dem -m mask/esa_world_cover_2021.msk \\\n",
    "                -b {shp} "
   ]
  },
  {
   "cell_type": "code",
   "execution_count": null,
   "metadata": {},
   "outputs": [],
   "source": [
    "plot_layer('troposphereTotal/ERA5/20180502_20180408.vrt')"
   ]
  },
  {
   "cell_type": "markdown",
   "metadata": {},
   "source": [
    "#### Solid Earth tide correction"
   ]
  },
  {
   "cell_type": "code",
   "execution_count": null,
   "metadata": {},
   "outputs": [],
   "source": [
    "!ariaExtract.py -f \"products/*.nc\" -l solidEarthTide \\\n",
    "                -d DEM/glo_90.dem -m mask/esa_world_cover_2021.msk \\\n",
    "                -b {shp} "
   ]
  },
  {
   "cell_type": "code",
   "execution_count": null,
   "metadata": {},
   "outputs": [],
   "source": [
    "plot_layer('solidEarthTide/20180502_20180408.vrt')"
   ]
  },
  {
   "cell_type": "markdown",
   "metadata": {},
   "source": [
    "#### Ionosphere correction"
   ]
  },
  {
   "cell_type": "code",
   "execution_count": null,
   "metadata": {},
   "outputs": [],
   "source": [
    "!ariaExtract.py -f \"products/*.nc\" -l ionosphere \\\n",
    "                -m mask/esa_world_cover_2021.msk \\\n",
    "                -b {shp} "
   ]
  },
  {
   "cell_type": "code",
   "execution_count": null,
   "metadata": {},
   "outputs": [],
   "source": [
    "plot_layer('ionosphere/20180502_20180408.vrt')"
   ]
  },
  {
   "cell_type": "markdown",
   "metadata": {},
   "source": [
    "The correction layers can then be removed from the unwrapped phase."
   ]
  },
  {
   "cell_type": "code",
   "execution_count": null,
   "metadata": {},
   "outputs": [],
   "source": [
    "# first initiate function to access value at specified reference point\n",
    "import rasterio\n",
    "from rasterio.warp import transform\n",
    "\n",
    "def get_ref_value(fname, lon, lat):\n",
    "    # Open the raster file\n",
    "    with rasterio.open(fname) as src:\n",
    "        # Transform WGS84 coordinates to the raster's coordinate reference system (CRS)\n",
    "        src_crs = src.crs\n",
    "        wgs84_crs = 'EPSG:4326'\n",
    "        x, y = transform(wgs84_crs, src_crs, [lon], [lat])\n",
    "\n",
    "        # Get the pixel values at the transformed coordinates\n",
    "        row, col = src.index(x[0], y[0])\n",
    "        value = src.read(1)[row, col]\n",
    "\n",
    "        return float(value)"
   ]
  },
  {
   "cell_type": "code",
   "execution_count": null,
   "metadata": {},
   "outputs": [],
   "source": [
    "!mkdir correctedIFG\n",
    "\n",
    "# get value at specified coordinates to re-reference all rasters to the same point\n",
    "unw_val = get_ref_value('unwrappedPhase/20180502_20180408.vrt', -155.34780, 19.28224)\n",
    "tropo_val = get_ref_value('troposphereTotal/ERA5/20180502_20180408.vrt', -155.34780, 19.28224)\n",
    "set_val = get_ref_value('solidEarthTide/20180502_20180408.vrt', -155.34780, 19.28224)\n",
    "iono_val = get_ref_value('ionosphere/20180502_20180408.vrt', -155.34780, 19.28224)\n",
    "\n",
    "# remove troposphere\n",
    "!gdal_calc -A unwrappedPhase/20180502_20180408.vrt \\\n",
    "    -B troposphereTotal/ERA5/20180502_20180408.vrt \\\n",
    "    --outfile correctedIFG/unw-tropo \\\n",
    "    --calc='(A-{unw_val}) - (B-{tropo_val})'\n",
    "\n",
    "# remove solid Earth tide\n",
    "!gdal_calc -A unwrappedPhase/20180502_20180408.vrt \\\n",
    "    -B troposphereTotal/ERA5/20180502_20180408.vrt \\\n",
    "    -C solidEarthTide/20180502_20180408.vrt \\\n",
    "    --outfile correctedIFG/unw-tropo-SET \\\n",
    "    --calc='(A-{unw_val}) - (B-{tropo_val}) - (C-{set_val})'\n",
    "\n",
    "# remove ionosphere\n",
    "!gdal_calc -A unwrappedPhase/20180502_20180408.vrt \\\n",
    "    -B troposphereTotal/ERA5/20180502_20180408.vrt \\\n",
    "    -C solidEarthTide/20180502_20180408.vrt \\\n",
    "    -D ionosphere/20180502_20180408.vrt \\\n",
    "    --outfile correctedIFG/unw-tropo-SET-iono \\\n",
    "    --calc='(A-{unw_val}) - (B-{tropo_val}) - (C-{set_val}) - (D-{iono_val})'"
   ]
  },
  {
   "cell_type": "code",
   "execution_count": null,
   "metadata": {},
   "outputs": [],
   "source": [
    "def plot_corrected_unw(path_layer, fig, ax, title):\n",
    "    \"\"\"Plot the unwrapped phase with various correction layers subtracted.\n",
    "    \n",
    "    Arguments:\n",
    "        path_layer is a string to the GDAL-compatible dataset to be plotted\n",
    "        fig, ax are the figure and axis on which to plot the data\n",
    "    \"\"\"\n",
    "    # get the lon lat bounds\n",
    "    ds       = gdal.Open(path_layer, gdal.GA_ReadOnly)\n",
    "    trans    = ds.GetGeoTransform()\n",
    "    extent   = [trans[0], trans[0] + ds.RasterXSize * trans[1], trans[3] + ds.RasterYSize*trans[5], trans[3]]\n",
    "\n",
    "    # get the data\n",
    "    raster = ds.GetRasterBand(1)\n",
    "    NoData = raster.GetNoDataValue()\n",
    "    arr = raster.ReadAsArray()\n",
    "    arr = np.ma.masked_where(arr==NoData, arr)\n",
    "    ds = None\n",
    "    \n",
    "    # plot the data\n",
    "    im = ax.imshow(arr, cmap=plt.cm.coolwarm, extent=extent, interpolation='nearest')\n",
    "\n",
    "    # format plot\n",
    "    ax.set_title(title)\n",
    "\n",
    "\n",
    "fig, axes = plt.subplots(figsize=(12,9), ncols=4)\n",
    "\n",
    "plot_corrected_unw('unwrappedPhase/20180502_20180408.vrt', fig, axes[0], 'uncorrected')\n",
    "plot_corrected_unw('correctedIFG/unw-tropo', fig, axes[1], 'tropo-removed')\n",
    "plot_corrected_unw('correctedIFG/unw-tropo-SET', fig, axes[2], '(tropo+SET)-removed')\n",
    "plot_corrected_unw('correctedIFG/unw-tropo-SET-iono', fig, axes[3], '(tropo+SET+iono)-removed')\n",
    "\n",
    "fig.tight_layout()\n"
   ]
  },
  {
   "cell_type": "markdown",
   "metadata": {},
   "source": [
    "***Reminder:*** The ionospheric correction is especially difficult to estimate for C-band interferograms, and should be used with caution or excluded from time-series processing."
   ]
  },
  {
   "cell_type": "markdown",
   "metadata": {},
   "source": [
    "## Applications <a id='applications'></a>"
   ]
  },
  {
   "cell_type": "markdown",
   "metadata": {},
   "source": [
    "### Application 1.  ENU conversion factors <a id='application_1'></a>"
   ]
  },
  {
   "cell_type": "markdown",
   "metadata": {},
   "source": [
    "For geophysical modeling and analysis, it is often useful to know how much displacements in the east, north and up directions contribute to the radar line-of-sight (LOS) displacement. The mathematical equations to convert ARIA GUNW product to ENU are as follows:\n",
    "\n",
    "\\begin{equation}\n",
    "E = \\sin(\\theta)\\cos(\\alpha), \\quad N = \\sin(\\theta)\\sin(\\alpha), \\quad U = \\cos(\\theta)\n",
    "\\end{equation}\n",
    "\n",
    "where $\\theta$ is the *incidence angle* (wrt vertical) and $\\alpha$ is the *azimuth angle* (counterclockwise angle between the East and the look direction from the ground target to the sensor). We will extract these meta-data layers over the main island using a shapefile of the island as the bounding box and provide the instruction for downloading a DEM."
   ]
  },
  {
   "cell_type": "code",
   "execution_count": null,
   "metadata": {},
   "outputs": [],
   "source": [
    "# Remove temp geometry files from previous runs (if they exist)\n",
    "if os.path.exists('metadatalyr_plots'):\n",
    "    shutil.rmtree('metadatalyr_plots')\n",
    "if os.path.exists('incidenceAngle'):\n",
    "    shutil.rmtree('incidenceAngle')\n",
    "if os.path.exists('azimuthAngle'):\n",
    "    shutil.rmtree('azimuthAngle')"
   ]
  },
  {
   "cell_type": "code",
   "execution_count": null,
   "metadata": {},
   "outputs": [],
   "source": [
    "!ariaExtract.py -f \"products/*.nc\" -l \"incidenceAngle,azimuthAngle\" -d DEM/glo_90.dem -b {shp}"
   ]
  },
  {
   "cell_type": "markdown",
   "metadata": {},
   "source": [
    "Next, we will use GDAL to load both the *incidence* and *azimuth angles* into python, use **`numpy`** functionality to calculate the east, north and up conversions factors using the equations provided above, and lastly leverage GDAL for writing out the 3-band *enu* file to the *results* folder."
   ]
  },
  {
   "cell_type": "code",
   "execution_count": null,
   "metadata": {},
   "outputs": [],
   "source": [
    "import glob\n",
    "\n",
    "## setup the paths for the calculation\n",
    "if not os.path.exists('results'):\n",
    "    os.mkdir('results')\n",
    "ifg      = '20180502_20180408'\n",
    "path_src = [os.path.join(layer, ifg) for layer in ['incidenceAngle', 'azimuthAngle']]\n",
    "path_dst = os.path.join('results', '{}_enu'.format(ifg))\n",
    "    \n",
    "# removing files\n",
    "for file in glob.glob(path_dst + '*'):\n",
    "    os.remove(file)\n",
    "\n",
    "## loading the data\n",
    "ds       = gdal.Open(path_src[0], gdal.GA_ReadOnly)\n",
    "raster = ds.GetRasterBand(1)\n",
    "try:\n",
    "    NoData = raster.GetNoDataValue()\n",
    "except:\n",
    "    NoData = None\n",
    "arr_inc  = raster.ReadAsArray()\n",
    "arr_azi  = gdal.Open(path_src[1], gdal.GA_ReadOnly).ReadAsArray()\n",
    "NoData_mask = (arr_inc==NoData)\n",
    "NoData_out = 0\n",
    "\n",
    "\n",
    "## convert to radians and calculate\n",
    "arr_incd = np.deg2rad(arr_inc)\n",
    "arr_azid = np.deg2rad(arr_azi)\n",
    "#E = np.sin(arr_incd) * np.cos(arr_azid + np.pi/2)\n",
    "#N = np.sin(arr_incd) * np.sin(arr_azid + np.pi/2)\n",
    "E = np.sin(arr_incd) * np.cos(arr_azid)\n",
    "N = np.sin(arr_incd) * np.sin(arr_azid )\n",
    "U = np.cos(arr_incd)\n",
    "E[NoData_mask]=NoData_out\n",
    "N[NoData_mask]=NoData_out\n",
    "U[NoData_mask]=NoData_out\n",
    "\n",
    "\n",
    "## copy the projection information into a memory; most formats dont support adding bands\n",
    "ds_out = gdal.GetDriverByName('MEM').CreateCopy('', ds)\n",
    "\n",
    "## write ENU to separate bands\n",
    "description = ['East to LOS','North to LOS','Up to LOS']\n",
    "for i, j in enumerate([E, N, U]):\n",
    "    try:\n",
    "        band = ds_out.GetRasterBand(i+1)\n",
    "    except:\n",
    "        # add a float 32 band when it doesn't exist\n",
    "        ds_out.AddBand(gdal.GDT_Float32)\n",
    "        band = ds_out.GetRasterBand(i+1)\n",
    "\n",
    "    j = np.where(np.isnan(j), NoData_out, j)\n",
    "    band.SetNoDataValue(NoData_out)\n",
    "    band.WriteArray(j)\n",
    "    band.SetDescription(description[i])\n",
    "\n",
    "\n",
    "## write dataset to disk and build a VRT for it\n",
    "ds = gdal.Translate(path_dst, ds_out, noData=NoData_out, format='ENVI')\n",
    "gdal.BuildVRT('{}.vrt'.format(path_dst), ds)\n",
    "del ds, ds_out"
   ]
  },
  {
   "cell_type": "code",
   "execution_count": null,
   "metadata": {},
   "outputs": [],
   "source": [
    "ls results/20180502_20180408_enu*"
   ]
  },
  {
   "cell_type": "markdown",
   "metadata": {},
   "source": [
    "Can you rank the *ENU* conversion magnitude to the Line-of-Sight from large to small?\n",
    "We will use **`gdalinfo`**` -stats` to verify the mean conversion factors."
   ]
  },
  {
   "cell_type": "code",
   "execution_count": null,
   "metadata": {},
   "outputs": [],
   "source": [
    "!gdalinfo results/20180502_20180408_enu.vrt -stats"
   ]
  },
  {
   "cell_type": "markdown",
   "metadata": {},
   "source": [
    "Let's now take a look at the resulting E, N, U rasters"
   ]
  },
  {
   "cell_type": "code",
   "execution_count": null,
   "metadata": {},
   "outputs": [],
   "source": [
    "## setup the paths for the calculation\n",
    "ifg      = '20180502_20180408'\n",
    "path_src = os.path.join('results', '{}_enu'.format(ifg))\n",
    "plot_layer(path_src, 'ENU')"
   ]
  },
  {
   "cell_type": "markdown",
   "metadata": {},
   "source": [
    "### Application 2. Computing displacement map <a id='application_2'></a>"
   ]
  },
  {
   "cell_type": "markdown",
   "metadata": {},
   "source": [
    "The unwrapped interferogram is provided in radian units, with positive radians corresponding to uplift. The conversion from interferometric phase, $\\varphi$, to line‐of‐sight displacement, $d$, with uplift being positive is controlled by $\\lambda/4\\pi$  conversion factor as:\n",
    "\n",
    "$$ d = \\frac{\\lambda}{4\\pi}   \\varphi, $$\n",
    "   \n",
    "with $\\lambda$ the radar wavelength. Note that no minus sign is included to do the phase sign convention of the GUNW product being positive for uplift. The wavelength is stored within each GUNW product and can be retrieved using the netcdf reader (see  code snippet below for an example), however for simplicity we directly fix it to 5.54 cm.\n",
    "\n",
    "```\n",
    "fname='products/S1-GUNW-A-R-124-tops-20180502_20180408-043040-20161N_18088N-PP-6704-v2_0_1.nc'\n",
    "rdrmetadata = netCDF4.Dataset(fname, keepweakref=True, diskless=True).groups['science'].groups['radarMetaData']\n",
    "rdrmetadata['wavelength'].getValue()\n",
    "```\n",
    "\n",
    "We extract the unwrapped phase using a shapefile over the main island of Hawaii."
   ]
  },
  {
   "cell_type": "code",
   "execution_count": null,
   "metadata": {},
   "outputs": [],
   "source": [
    "if not os.path.exists('results'):\n",
    "    os.mkdir('results')\n",
    "!ariaExtract.py -f \"products/*.nc\" -l unwrappedPhase --bbox {shp}"
   ]
  },
  {
   "cell_type": "markdown",
   "metadata": {},
   "source": [
    "Next, we leverage the command line **`gdal_calc.py`** program to calculate the corresponding displacement map in cm by scaling the unwrapped interferogram. The connected component 0s are utilized as a mask. Outputs are written to the *results* folder with *defo* filenames, and visualized with our plotting function."
   ]
  },
  {
   "cell_type": "code",
   "execution_count": null,
   "metadata": {
    "scrolled": true
   },
   "outputs": [],
   "source": [
    "## use gdal_calc.py to perform the calculation\n",
    "!gdal_calc.py -A unwrappedPhase/20180502_20180408.vrt -B connectedComponents/20180502_20180408.vrt --outfile results/20180502_20180408_defo --calc='((A*(B>0))/(4*pi)*5.546576)' --format=ENVI --NoDataValue=0 --overwrite\n",
    "\n",
    "## view the plot\n",
    "plot_layer('results/20180502_20180408_defo', 'deformation')"
   ]
  },
  {
   "cell_type": "markdown",
   "metadata": {},
   "source": [
    "The blue area represents ground subsidence due to magma withdrawal from Kilauea’s Middle East Rift Zone due to magma moving to the east (down-rift). The actual dike signature would be partially visible if the image were shown as wrapped phase."
   ]
  },
  {
   "cell_type": "markdown",
   "metadata": {},
   "source": [
    "<a id='application3'></a>"
   ]
  },
  {
   "cell_type": "markdown",
   "metadata": {},
   "source": [
    "### Application 3. Converting geoJSON to ESRI shapefile \n"
   ]
  },
  {
   "cell_type": "markdown",
   "metadata": {},
   "source": [
    "You can easily convert geospatial files produced by ariaTools to other formats using the [ogr2ogr program](https://gdal.org/programs/ogr2ogr.html) (part of the GDAL source tree). For example, to convert the `productBoundingBox.json` to an ESRI shapefile:"
   ]
  },
  {
   "cell_type": "code",
   "execution_count": null,
   "metadata": {},
   "outputs": [],
   "source": [
    "!ogr2ogr -f \"ESRI Shapefile\" ./productBoundingBox/productBoundingBox.shp ./productBoundingBox/productBoundingBox.json"
   ]
  },
  {
   "cell_type": "code",
   "execution_count": null,
   "metadata": {},
   "outputs": [],
   "source": [
    "!ls ./productBoundingBox"
   ]
  }
 ],
 "metadata": {
  "kernelspec": {
   "display_name": "Python 3 (ipykernel)",
   "language": "python",
   "name": "python3"
  },
  "language_info": {
   "codemirror_mode": {
    "name": "ipython",
    "version": 3
   },
   "file_extension": ".py",
   "mimetype": "text/x-python",
   "name": "python",
   "nbconvert_exporter": "python",
   "pygments_lexer": "ipython3",
   "version": "3.12.4"
  },
  "latex_envs": {
   "LaTeX_envs_menu_present": true,
   "autoclose": false,
   "autocomplete": false,
   "bibliofile": "biblio.bib",
   "cite_by": "apalike",
   "current_citInitial": 1,
   "eqLabelWithNumbers": true,
   "eqNumInitial": 1,
   "hotkeys": {
    "equation": "Ctrl-E",
    "itemize": "Ctrl-I"
   },
   "labels_anchors": false,
   "latex_user_defs": false,
   "report_style_numbering": false,
   "user_envs_cfg": false
  }
 },
 "nbformat": 4,
 "nbformat_minor": 4
}
