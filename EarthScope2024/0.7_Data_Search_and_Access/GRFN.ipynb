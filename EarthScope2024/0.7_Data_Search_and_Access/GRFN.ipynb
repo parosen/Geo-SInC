{
 "cells": [
  {
   "cell_type": "markdown",
   "metadata": {
    "slideshow": {
     "slide_type": "slide"
    }
   },
   "source": [
    "<center><h1>Getting Ready for NISAR</h1></center>\n",
    "\n",
    "<center>https://earthdata.nasa.gov/getting-ready-for-nisar</center>"
   ]
  },
  {
   "cell_type": "markdown",
   "metadata": {
    "slideshow": {
     "slide_type": "slide"
    }
   },
   "source": [
    "<center><h3><u>Primary goals</u></h3></center>\n",
    "\n",
    "1. Obtain a better understanding of the costs and technical challenges associated with cloud-based and hybrid architectures for processing and storing NISAR data, and\n",
    "\n",
    "2. Provide the opportunity for the science community to become comfortable interacting with and working with large SAR datasets in the cloud."
   ]
  },
  {
   "cell_type": "markdown",
   "metadata": {
    "slideshow": {
     "slide_type": "slide"
    }
   },
   "source": [
    "<center><h3><u>Background</u></h3></center>\n",
    "\n",
    "1. Joint project between ASF and JPL/ARIA to prepare for NISAR\n",
    "\n",
    "2. Use Sentinel-1 data to automatically generate interferograms for select areas\n",
    "\n",
    "3. Uses ISCE for processing"
   ]
  },
  {
   "cell_type": "markdown",
   "metadata": {
    "slideshow": {
     "slide_type": "slide"
    }
   },
   "source": [
    "<center><h3><u>What data is available? </u></h3></center>\n",
    "\n",
    "You can look at the entire collection here:\n",
    "\n",
    "<center>https://search.earthdata.nasa.gov/search?q=GRFN&ok=GRFN</center>"
   ]
  },
  {
   "cell_type": "markdown",
   "metadata": {
    "slideshow": {
     "slide_type": "slide"
    }
   },
   "source": [
    "<center><h3><u>How were the interferograms generated? </u></h3></center>\n",
    "\n",
    "1. Individual sub-swaths\n",
    "2. Multilooked to 150m \n",
    "3. Geocoded at 90m resolution (updates in progress)\n",
    "4. ESD used by default\n",
    "5. Unwrapped with Snaphu MCF"
   ]
  },
  {
   "cell_type": "markdown",
   "metadata": {
    "slideshow": {
     "slide_type": "slide"
    }
   },
   "source": [
    "<center><h3><u>Where can I download the data from?</u></h3></center>\n",
    "\n",
    "Let's walk through a search exercise on the ASF vertex website...\n",
    "\n",
    "<center>https://vertex.daac.asf.alaska.edu/</center>"
   ]
  },
  {
   "cell_type": "markdown",
   "metadata": {
    "slideshow": {
     "slide_type": "slide"
    }
   },
   "source": [
    "<center><h3><u>What format is the data in? </u></h3></center>\n",
    "\n",
    "Three types of products provided:\n",
    "1. All ISCE products (0.5 GB)\n",
    "2. Geocoded Unwrapped interferogram + coherence (40 MB)\n",
    "3. Geocoded Wrapped interferogram + DEM (40 MB)\n",
    "\n",
    "\n",
    "<center>Products are zip files containing ISCE products</center>"
   ]
  },
  {
   "cell_type": "markdown",
   "metadata": {
    "slideshow": {
     "slide_type": "slide"
    }
   },
   "source": [
    "<center><h2>We will be using GRFN products for the time-series exercise today</h2></center>"
   ]
  }
 ],
 "metadata": {
  "celltoolbar": "Slideshow",
  "kernelspec": {
   "display_name": "unavco [conda env:unavco]",
   "language": "python",
   "name": "conda-env-unavco-py"
  },
  "language_info": {
   "codemirror_mode": {
    "name": "ipython",
    "version": 3
   },
   "file_extension": ".py",
   "mimetype": "text/x-python",
   "name": "python",
   "nbconvert_exporter": "python",
   "pygments_lexer": "ipython3",
   "version": "3.8.13"
  }
 },
 "nbformat": 4,
 "nbformat_minor": 4
}
