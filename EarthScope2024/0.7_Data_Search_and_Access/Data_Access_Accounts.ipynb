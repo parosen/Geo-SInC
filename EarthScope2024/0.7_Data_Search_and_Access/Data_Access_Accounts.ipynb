{
 "cells": [
  {
   "cell_type": "markdown",
   "id": "1b61ba06-3bf1-4030-a8bd-c4df42fadac9",
   "metadata": {},
   "source": [
    "# Required accounts\n",
    "\n",
    "## NASA EarthData account\n",
    "Getting data from any NASA Distributed Active Archive Center (DAAC) requires a free NASA EarthData account. We will be using data from both the Alaska Satellite Facility (ASF) DAAC and the Land Processes (LP DAAC), so you need to register for an EarthData account to complete many parts of the course. In addition, you need to accept some license agreements to have access to Sentinel-1, ALOS, and GRFN data that is all stored at the ASF DAAC. The SRTM and NASADEM topography data do not require license agreements.\n",
    "\n",
    "The NASA EarthData login information page is here:\n",
    "https://www.earthdata.nasa.gov/eosdis/science-system-description/eosdis-components/earthdata-login\n",
    "\n",
    "### EarthData Registration\n",
    "The NASA site to register (or login after registering) for an EarthData account is the EarthData User Registration Service:\n",
    "https://urs.earthdata.nasa.gov/home\n",
    "\n",
    "You will be taken to the `urs.earthdata.nasa.gov` site to login any time you try to download data from a NASA DAAC with a browser.\n",
    "\n",
    "### ASF EarthData login\n",
    "\n",
    "The ASF DAAC has a helpful video on YouTube about registering for an EarthData login (using a popup window that is connected to the same [NASA EarthData URS site](https://urs.earthdata.nasa.gov/home)) and using the login in the the ASF Vertex data search system. [ASF Vertex Login Video](https://www.youtube.com/watch?v=j_Db_ipKLos)"
   ]
  },
  {
   "cell_type": "markdown",
   "id": "296fc510-b52b-4998-a7ea-040a5e19b767",
   "metadata": {},
   "source": [
    "### EarthData account storage `.netrc`\n",
    "A number of ISCE2 programs, some of the ARIA-tools programs, and other programs use a special hidden file called `.netrc` in the home directory of your account on the computer where you run them, including the OpenSARLab machines, to get a saved version of your EarthData username and password. This allows them to download data without you having to enter the EarthData login every time.\n",
    "\n",
    "You can create the `.netrc` file by running this command in a terminal window with your username and password substituted into the command:\n",
    "\n",
    "```\n",
    "echo \"machine urs.earthdata.nasa.gov login myUsername password myPassword\" > $HOME/.netrc\n",
    "```\n",
    "\n",
    "Or you can substitute your EarthData account login into `myUsername` and `myPassword` in the next cell below that runs the same command from the notebook."
   ]
  },
  {
   "cell_type": "code",
   "execution_count": null,
   "id": "d11e8fd2-4f89-4bd0-b86b-837b1d4b6a60",
   "metadata": {},
   "outputs": [],
   "source": [
    "!echo \"machine urs.earthdata.nasa.gov login myUsername password myPassword\" > $HOME/.netrc"
   ]
  },
  {
   "cell_type": "markdown",
   "id": "60018ace-48f8-43ab-8041-e0a066b3510c",
   "metadata": {},
   "source": [
    "Because the `.netrc` file has your personal password, you should change the file protections so that nobody can view it. Some programs will check the file permissions and refuse to run until you make the file not readable by anybody else.\n",
    "\n",
    "We use the standard Linux or Unix file permission command `chmod` to change the file permissions. The permissions `600` means readable by you and nobody else. Again, you can do this in a terminal window or use the notebook cell below."
   ]
  },
  {
   "cell_type": "code",
   "execution_count": null,
   "id": "a1a52606-4e4e-42e4-a457-a0afe86932bd",
   "metadata": {},
   "outputs": [],
   "source": [
    "!chmod 600 $HOME/.netrc"
   ]
  },
  {
   "cell_type": "markdown",
   "id": "3a544d7f-f3b1-498b-8401-61a568d76585",
   "metadata": {},
   "source": [
    "## OpenTopography account\n",
    "\n",
    "[OpenTopography](https://opentopography.org/) is a site that facilitates community access to high-resolution, Earth science-oriented, topography data, and related tools and resources, sponsored by the USA National Science Foundation (NSF). Several notebooks in this course and ARIA-tools use OpenTopography to get topographic data through the OpenTopography Applications Programming Interface (API) that provides network access to their dataset. \n",
    "### OpenTopography registration\n",
    "Since January 2022, OpenTopography requires (free) registration for an OpenTopography account to download their data. You can register on the OpenTopography web portal:\n",
    "https://portal.opentopography.org/login\n",
    "### OpenTopography API key\n",
    "After you register for the OpenTopography account, you need to get the API key for your account that is basically the equivalent of your username and password encoded into a long string of hexadecimal digits. When you are logged in to the OpenTopography Portal, you can get the API for your account [here](https://portal.opentopography.org/lidarAuthorizationInfo?s=api). \n",
    "\n",
    "It should show you your key like this:\n",
    "```\n",
    "API key:     7698c9963edee3\n",
    "```\n",
    "(I have removed half of my key to keep it private, so you will see a much longer string of hexadecimal digits.)\n",
    "\n",
    "### OpenTopography API key storage\n",
    "Similar to the EarthData login storage, some of the programs in ARIA-tools expect that you have stored your OpenTopography API key in a special hidden file called `.topoapi` in your home directory. You should get your API key from the OpenTopography portal and use that to replace the `myAPIkey` in the following command that can be run in the terminal or this notebook."
   ]
  },
  {
   "cell_type": "code",
   "execution_count": null,
   "id": "53202724-2360-4710-94d0-2b1802cfceeb",
   "metadata": {},
   "outputs": [],
   "source": [
    "!echo \"myAPIkey\" > $HOME/.topoapi"
   ]
  },
  {
   "cell_type": "markdown",
   "id": "eb4f8445-3804-4f3a-8bed-07daa7d4af9f",
   "metadata": {},
   "source": [
    "Again, similar to the `.netrc` file this file should be protected so others can't read your key with the `chmod` command."
   ]
  },
  {
   "cell_type": "code",
   "execution_count": null,
   "id": "d3302a46-e422-4c84-a73b-06bd8454d57e",
   "metadata": {},
   "outputs": [],
   "source": [
    "!chmod 600 $HOME/.topoapi"
   ]
  },
  {
   "cell_type": "markdown",
   "id": "316e6639-3fb0-4735-995a-6fefb0041601",
   "metadata": {},
   "source": [
    "<div class=\"alert alert-danger\">\n",
    "<b>NOTE:</b> \n",
    "Creating the `\\$HOME/.netrc` and `\\$HOME/.topoapi` should only be necessary once on the OpenSARLab servers as these will be saved in your virtual machine.\n",
    "</div>"
   ]
  },
  {
   "cell_type": "code",
   "execution_count": null,
   "id": "ff8190b9-9a29-4551-b4f8-ce0d7ef3fa75",
   "metadata": {},
   "outputs": [],
   "source": []
  }
 ],
 "metadata": {
  "kernelspec": {
   "display_name": "unavco [conda env:unavco]",
   "language": "python",
   "name": "conda-env-unavco-py"
  },
  "language_info": {
   "codemirror_mode": {
    "name": "ipython",
    "version": 3
   },
   "file_extension": ".py",
   "mimetype": "text/x-python",
   "name": "python",
   "nbconvert_exporter": "python",
   "pygments_lexer": "ipython3",
   "version": "3.8.13"
  }
 },
 "nbformat": 4,
 "nbformat_minor": 5
}
