{
 "cells": [
  {
   "cell_type": "code",
   "execution_count": null,
   "metadata": {
    "hideCode": false,
    "hideOutput": true,
    "hidePrompt": true,
    "scrolled": true,
    "slideshow": {
     "slide_type": "skip"
    }
   },
   "outputs": [],
   "source": [
    "# these things seem obsolete\n",
    "#from notebook.services.config import ConfigManager\n",
    "#cm = ConfigManager()\n",
    "\n",
    "#cm.update('livereveal', {\n",
    "#              'width': \"90%\",\n",
    "#              'height': \"90%\",\n",
    "#              'scroll': True,\n",
    "#})\n",
    "\n",
    "import warnings\n",
    "warnings.filterwarnings('ignore')\n",
    "\n",
    "bShowInline = True  # Set = False for document generation\n",
    "%matplotlib inline\n",
    "import matplotlib.pyplot as plt"
   ]
  },
  {
   "cell_type": "code",
   "execution_count": null,
   "metadata": {},
   "outputs": [],
   "source": [
    "from ipywidgets import widgets, Layout, Box, GridspecLayout\n",
    "\n",
    "\n",
    "##Basic mcq\n",
    "\n",
    "def create_multipleChoice_widget(description, options, correct_answer, hint):\n",
    "    if correct_answer not in options:\n",
    "        options.append(correct_answer)\n",
    "    \n",
    "    correct_answer_index = options.index(correct_answer)\n",
    "    \n",
    "    radio_options = [(words, i) for i, words in enumerate(options)]\n",
    "    alternativ = widgets.RadioButtons(\n",
    "        options = radio_options,\n",
    "        description = '',\n",
    "        disabled = False,\n",
    "        indent = False,\n",
    "        align = 'center',\n",
    "    )\n",
    "    \n",
    "    description_out = widgets.Output(layout=Layout(width='auto'))\n",
    "    \n",
    "    with description_out:\n",
    "        print(description)\n",
    "        \n",
    "    feedback_out = widgets.Output()\n",
    "\n",
    "    def check_selection(b):\n",
    "        a = int(alternativ.value)\n",
    "        if a==correct_answer_index:\n",
    "            s = '\\x1b[6;30;42m' + \"correct\" + '\\x1b[0m' +\"\\n\"\n",
    "        else:\n",
    "            s = '\\x1b[5;30;41m' + \"try again\" + '\\x1b[0m' +\"\\n\"\n",
    "        with feedback_out:\n",
    "            feedback_out.clear_output()\n",
    "            print(s)\n",
    "        return\n",
    "    \n",
    "    check = widgets.Button(description=\"check\")\n",
    "    check.on_click(check_selection)\n",
    "    \n",
    "    hint_out = widgets.Output()\n",
    "    \n",
    "    def hint_selection(b):\n",
    "        with hint_out:\n",
    "            print(hint)\n",
    "            \n",
    "        with feedback_out:\n",
    "            feedback_out.clear_output()\n",
    "            print(hint)\n",
    "    \n",
    "    hintbutton = widgets.Button(description=\"hint\")\n",
    "    hintbutton.on_click(hint_selection)\n",
    "    \n",
    "    return widgets.VBox([description_out, \n",
    "                         alternativ, \n",
    "                         widgets.HBox([hintbutton, check]), feedback_out], \n",
    "                        layout=Layout(display='flex',\n",
    "                                     flex_flow='column',\n",
    "                                     align_items='stretch',\n",
    "                                     width='auto')) \n",
    "\n",
    "test = create_multipleChoice_widget('1. Let a, b, c be real numbers. If a<b and b<c, then:',\n",
    "                                   ['a>c','a<c','b<c','c<a'],\n",
    "                                   'a<c',\n",
    "                                   \"[hint]:\")\n",
    "\n",
    "resolution = create_multipleChoice_widget('',\n",
    "    ['A','B','C','D'],\n",
    "    'D',\"[hint]: what matters in the flight direction is the antenna length\")\n",
    "\n"
   ]
  },
  {
   "cell_type": "markdown",
   "metadata": {
    "slideshow": {
     "slide_type": "slide"
    }
   },
   "source": [
    "<img src=\"Figs/Banner.png\" width=\"100%\" />\n",
    "<font face=\"Calibri\">\n",
    "<br>\n",
    "<font size=\"6\"> <b> Synthetic Aperture Radar Interferometry <b> </font>\n",
    "\n",
    "<font size=\"4\"> <b> SAR Principles and Phenomenology <font color='rgba(200,0,0,0.2)'> </font> </b> </font>\n",
    "\n",
    "<br> <img src=\"Figs/NASALogo.png\" width=\"250\" align=\"right\" /> <br> \n",
    "<font size=\"4\"> <b> Paul A Rosen</b> \n",
    "<font size=\"3\">  <br>\n",
    "<font> <b>Date: </b> August 1, 2021 </font>\n",
    "</font>"
   ]
  },
  {
   "cell_type": "markdown",
   "metadata": {
    "hideCode": true,
    "hidePrompt": true,
    "slideshow": {
     "slide_type": "slide"
    }
   },
   "source": [
    "\n",
    "Contributors to content include: Scott Hensley, Anthony Freeman, Jakob van Zyl, Piyush Agram, Howard Zebker\n",
    "\n",
    "This notebook presents the basics of synthetic aperture radar interferometry. The student will be exposed to:\n",
    "    \n",
    "1. What is Radar?\n",
    "2. Basic definitions\n",
    "3. What is Synthetic Aperture Radar?\n",
    "4. Properties of Radar Images\n",
    "5. What is Synthetic Aperture Radar Interferometry?\n",
    "6. What other modalities of SAR are important?\n",
    "7. What is range-Doppler geometry, why is it important, and how does it relate to geographic coordinates?\n",
    "\n"
   ]
  },
  {
   "cell_type": "markdown",
   "metadata": {
    "hideCode": true,
    "hidePrompt": true,
    "slideshow": {
     "slide_type": "slide"
    }
   },
   "source": [
    "## Lecture Outline\n",
    "\n",
    "\n",
    "### First Segment: Radar Imaging Fundamentals\n",
    "\n",
    "\n",
    "1. <font color='green'>Basic Principles of Radar and SAR</font>\n",
    "2. <font color='green'>Properties of Radar Images</font>\n"
   ]
  },
  {
   "cell_type": "markdown",
   "metadata": {
    "hideCode": true,
    "hidePrompt": true,
    "slideshow": {
     "slide_type": "skip"
    }
   },
   "source": [
    "## Introduction and Motivation\n",
    "\n",
    "You are reading this because you are interested in the geodetic aspects of synthetic aperture radar (SAR), particularly interferometric synthetic aperture radar (InSAR).  From a technical perspective, SAR and InSAR are quite complex, and even to experts in the field be a source of wonder as to how an instrument that illuminates a very large footprint on the ground can deliver almost arbitrarily fine resolution images, and relative motions of image points over time at mm to cm accuracy.  This can be illustrated by first looking at an \"image\" of the raw data before processing.\n",
    "\n",
    "\n",
    "\n"
   ]
  },
  {
   "cell_type": "markdown",
   "metadata": {
    "hideCode": true,
    "hidePrompt": true,
    "slideshow": {
     "slide_type": "slide"
    }
   },
   "source": [
    "![label](Figs/Slide003.png)"
   ]
  },
  {
   "cell_type": "markdown",
   "metadata": {
    "hideCode": true,
    "hidePrompt": true,
    "slideshow": {
     "slide_type": "slide"
    }
   },
   "source": [
    "![label](Figs/Slide004.png)"
   ]
  },
  {
   "cell_type": "markdown",
   "metadata": {
    "hideCode": true,
    "hidePrompt": true,
    "slideshow": {
     "slide_type": "slide"
    }
   },
   "source": [
    "![label](Figs/Slide005.png)"
   ]
  },
  {
   "cell_type": "markdown",
   "metadata": {
    "hideCode": true,
    "hidePrompt": true,
    "slideshow": {
     "slide_type": "slide"
    }
   },
   "source": [
    "![label](Figs/Slide006.png)"
   ]
  },
  {
   "cell_type": "markdown",
   "metadata": {
    "hideCode": true,
    "hidePrompt": true,
    "slideshow": {
     "slide_type": "slide"
    }
   },
   "source": [
    "![label](Figs/Slide007.png)"
   ]
  },
  {
   "cell_type": "markdown",
   "metadata": {
    "hideCode": true,
    "hidePrompt": true,
    "slideshow": {
     "slide_type": "slide"
    }
   },
   "source": [
    "![label](Figs/Slide008.png)"
   ]
  },
  {
   "cell_type": "markdown",
   "metadata": {
    "hideCode": true,
    "hidePrompt": true,
    "slideshow": {
     "slide_type": "slide"
    }
   },
   "source": [
    "![label](Figs/Slide009.png)"
   ]
  },
  {
   "cell_type": "markdown",
   "metadata": {
    "hideCode": true,
    "hidePrompt": true,
    "slideshow": {
     "slide_type": "slide"
    }
   },
   "source": [
    "![label](Figs/Slide010.png)"
   ]
  },
  {
   "cell_type": "markdown",
   "metadata": {
    "hideCode": true,
    "hidePrompt": true,
    "slideshow": {
     "slide_type": "slide"
    }
   },
   "source": [
    "![label](Figs/Slide012.png)"
   ]
  },
  {
   "cell_type": "markdown",
   "metadata": {
    "hideCode": true,
    "hidePrompt": true,
    "slideshow": {
     "slide_type": "slide"
    }
   },
   "source": [
    "![label](Figs/Slide013.png)"
   ]
  },
  {
   "cell_type": "markdown",
   "metadata": {
    "hideCode": false,
    "hidePrompt": true,
    "slideshow": {
     "slide_type": "slide"
    }
   },
   "source": [
    "**Table of Radar and Spacecraft Parameters and constants used for any computed examples in this notebook**\n",
    "\n",
    "| Parameter | Symbol | Value | Comment |\n",
    "| --- | --- | --- | --- | \n",
    "| Wavelength | $\\lambda $ | 0.24 m | (L-band)  \n",
    "| Antenna Length | $L_a$ | 10 m | |  \n",
    "| Antenna Width | $W_a$ | 2 m | |  \n",
    "| Off-nadir boresight angle | $\\theta_l$ | 30$^\\circ$ | |\n",
    "| Azimuth squint of  boresight angle | $\\theta_{sq}$ | 0$^\\circ$ | |\n",
    "| Spacecraft Velocity | $v_{sc}$ | 7,500 m/s | Assumed constant |\n",
    "| Spacecraft Altitude | $h_{sc}$ | 750,000 m | Assumed constant | \n",
    "| Radar Range Bandwidth | $B_r$ | 20 MHz | |\n",
    "| Radar Pulse Duration | $\\tau_r$ | 20 $\\mu$s | Determines average power |\n",
    "| Nominal Pulse Rate | $f_p$ | 1600 Hz | Determines average power and ambiguity levels |\n",
    "| Peak Power on Transmit | $P_T$ | 4,000 W | Determines SNR |\n",
    "| Radar Noise Temperature | $T_r$ | 300 K | Determines SNR |\n",
    "| Corner Reflector Dimension | $L_{cr}$ | 2.4 m | Determines SNR |\n",
    "| Speed of light         | $c $  | 299792456 m/s | |  \n",
    "| Boltzman constant      | $k$   | 1.38064852 $\\times$ 10$^{-23}$ m$^2$ kg s$^{-2}$ K$^{-1}$ | -228.6 dB |  \n",
    "| Gravitational Constant | $G$   | 6.672 $\\times$ 10$^{-11}$ m$^3$ kg$^{−1}$ s$^{−2}$ | |  \n",
    "| Earth's Mass           | $M_E$ | 5.9742 $\\times$ 10$^{24}$ kg | |"
   ]
  },
  {
   "cell_type": "code",
   "execution_count": null,
   "metadata": {
    "slideshow": {
     "slide_type": "skip"
    }
   },
   "outputs": [],
   "source": [
    "import numpy as np\n",
    "Lambda = 0.24\n",
    "L_a = 10.\n",
    "W_a = 2. \n",
    "theta_l = 30. * np.pi/180.\n",
    "theta_sq = 0. * np.pi/180.\n",
    "v_sc = 7500.\n",
    "h_sc = 750000. \n",
    "B_r = 20.e6\n",
    "tau_r = 10.e-6\n",
    "f_p = 1600.\n",
    "P_T = 4000.\n",
    "T_r = 300.\n",
    "L_cr =2.4\n",
    "c = 299792456 \n",
    "k = 1.38064852e-23\n",
    "G = 6.672e-11\n",
    "M_E = 5.9742e24"
   ]
  },
  {
   "cell_type": "markdown",
   "metadata": {
    "hideCode": true,
    "hidePrompt": true,
    "slideshow": {
     "slide_type": "slide"
    }
   },
   "source": [
    "![label](Figs/Slide018.png)"
   ]
  },
  {
   "cell_type": "markdown",
   "metadata": {
    "hideCode": false,
    "hidePrompt": true,
    "slideshow": {
     "slide_type": "slide"
    }
   },
   "source": [
    "![label](Figs/Slide014.png)"
   ]
  },
  {
   "cell_type": "markdown",
   "metadata": {
    "slideshow": {
     "slide_type": "slide"
    }
   },
   "source": [
    "## Range coding to achieve better resolution\n",
    "\n",
    "If it is not possible to transmit a narrow enough pulse with sufficient power to achieve the desired results, it is customary to transmit a coded waveform in the pulse to create a broader bandwidth to the pulsed signal.  The resolution is then the reciprocal of the bandwidth. Specifically, the resolution of a radar pulse with no coded waveform of pulse duraftion $\\tau_r$ is\n",
    "\n",
    "\\begin{equation}\n",
    "\\Delta\\rho (\\tau_r) = c *  \\tau_r / 2\n",
    "\\end{equation}\n",
    "\n",
    "while the resolution of a radar pulse with a waveform coded to have a bandwidth $B_r$  is\n",
    "\n",
    "\\begin{equation}\n",
    "\\Delta\\rho (B_r)   = c * (1 /B_r) / 2\n",
    "\\end{equation}"
   ]
  },
  {
   "cell_type": "code",
   "execution_count": null,
   "metadata": {
    "hidePrompt": true,
    "slideshow": {
     "slide_type": "fragment"
    }
   },
   "outputs": [],
   "source": [
    "rho = h_sc / np.cos(theta_l)\n",
    "Delta_rho_taur = c *  tau_r / 2.\n",
    "Delta_rho_Br   = c * (1./B_r) / 2."
   ]
  },
  {
   "cell_type": "code",
   "execution_count": null,
   "metadata": {
    "hideCode": true,
    "hidePrompt": true,
    "slideshow": {
     "slide_type": "fragment"
    }
   },
   "outputs": [],
   "source": [
    "print(\"Spacecraft altitude =\",\"{:.2f}\".format(h_sc),\"m\")\n",
    "print(\"Pulse length =\",\"{:.2f}\".format(1.e6*tau_r),\"microsec\")\n",
    "print(\"Pulse Bandwidth=\",\"{:.2f}\".format(1.e-6*B_r),\"MegaHertz\")\n",
    "print(\"Range from spacecraft to boresight intersection with ground =\",\"{:.2f}\".format(rho),\"m\")\n",
    "print(\"Range resolution based on pulse duration = \"\"{:.2f}\".format(Delta_rho_taur),\"m\")\n",
    "print(\"Range resolution based on bandwidth of coded range pulse = \"\"{:.2f}\".format(Delta_rho_Br),\"m\")"
   ]
  },
  {
   "cell_type": "markdown",
   "metadata": {
    "hideCode": false,
    "hidePrompt": true,
    "slideshow": {
     "slide_type": "slide"
    }
   },
   "source": [
    "![label](Figs/Slide019.png)"
   ]
  },
  {
   "cell_type": "markdown",
   "metadata": {
    "slideshow": {
     "slide_type": "slide"
    }
   },
   "source": [
    "## Ground Resolution Variability with Swath and Terrain"
   ]
  },
  {
   "cell_type": "code",
   "execution_count": null,
   "metadata": {
    "hidePrompt": true,
    "slideshow": {
     "slide_type": "fragment"
    }
   },
   "outputs": [],
   "source": [
    "tau_p = 0.\n",
    "theta=np.linspace(25.,45.,100)\n",
    "Delta_rhog_Br = Delta_rho_Br / np.sin((theta-tau_p) * np.pi / 180.)\n",
    "tau_p = 10.\n",
    "Delta_rhog_Br_10deg = Delta_rho_Br / np.sin((theta-tau_p) * np.pi / 180.)\n",
    "tau_p = 20.\n",
    "Delta_rhog_Br_20deg = Delta_rho_Br / np.sin((theta-tau_p) * np.pi / 180.)"
   ]
  },
  {
   "cell_type": "code",
   "execution_count": null,
   "metadata": {
    "hideCode": true,
    "hidePrompt": true,
    "slideshow": {
     "slide_type": "fragment"
    }
   },
   "outputs": [],
   "source": [
    "plt.style.use('seaborn-v0_8-whitegrid')\n",
    "fig = plt.figure()\n",
    "ax = plt.axes()\n",
    "plt.plot(theta,Delta_rhog_Br,label='0$^\\circ$ slope')\n",
    "plt.plot(theta,Delta_rhog_Br_10deg,label='10$^\\circ$ slope')\n",
    "plt.plot(theta,Delta_rhog_Br_20deg,label='20$^\\circ$ slope')\n",
    "plt.xlabel(\"Look angle $(^\\circ)$\")\n",
    "plt.ylabel(\"Ground Range Resolution \")\n",
    "plt.title(\"Ground Range Resolution versus look angle for different slopes\")\n",
    "plt.legend(loc='best');"
   ]
  },
  {
   "cell_type": "markdown",
   "metadata": {
    "hideCode": true,
    "hidePrompt": true,
    "slideshow": {
     "slide_type": "slide"
    }
   },
   "source": [
    "![label](Figs/Slide016.png)"
   ]
  },
  {
   "cell_type": "markdown",
   "metadata": {
    "slideshow": {
     "slide_type": "slide"
    }
   },
   "source": [
    "## Some Example Beam Dimensions"
   ]
  },
  {
   "cell_type": "code",
   "execution_count": null,
   "metadata": {
    "hidePrompt": true,
    "slideshow": {
     "slide_type": "fragment"
    }
   },
   "outputs": [],
   "source": [
    "theta_3db_az = 0.866 * Lambda / L_a  # 0.866 factor typically more representative of actual 3dB point\n",
    "theta_3db_el = 0.866 * Lambda / W_a\n",
    "Delta_X_az = rho * theta_3db_az\n",
    "Delta_X_el = rho * theta_3db_el / np.cos(theta_l)"
   ]
  },
  {
   "cell_type": "code",
   "execution_count": null,
   "metadata": {
    "hideCode": true,
    "hidePrompt": true,
    "slideshow": {
     "slide_type": "fragment"
    }
   },
   "outputs": [],
   "source": [
    "print(\"Antenna Length in azimuth (along track) =\",\"{:.2f}\".format(L_a),\"m\")\n",
    "print(\"Antenna Width in elevation (perp to boresight and azimuth)=\",\"{:.2f}\".format(W_a),\"m\")\n",
    "print(\"Azimuth beamwidth =\",\"{:.2f}\".format(180.*theta_3db_az/np.pi),\"degrees\")\n",
    "print(\"Elevation beamwidth =\",\"{:.2f}\".format(180.*theta_3db_el/np.pi),\"degrees\")\n",
    "print(\"Azimuth beam extent at reference range =\",\"{:.2f}\".format(Delta_X_az),\"m\")\n",
    "print(\"Elevation beam extent at reference range =\",\"{:.2f}\".format(Delta_X_el),\"m\")"
   ]
  },
  {
   "cell_type": "markdown",
   "metadata": {
    "hideCode": true,
    "hidePrompt": true,
    "slideshow": {
     "slide_type": "slide"
    }
   },
   "source": [
    "![label](Figs/Slide022.png)"
   ]
  },
  {
   "cell_type": "code",
   "execution_count": null,
   "metadata": {
    "hideCode": false,
    "hidePrompt": true,
    "slideshow": {
     "slide_type": "slide"
    }
   },
   "outputs": [],
   "source": [
    "%%html\n",
    "<video width=960 controls autoplay>\n",
    "    <source src=\"Figs/SAR.mp4\" type=\"video/mp4\"/>\n",
    "</video>"
   ]
  },
  {
   "cell_type": "markdown",
   "metadata": {
    "hideCode": true,
    "hidePrompt": true,
    "slideshow": {
     "slide_type": "slide"
    }
   },
   "source": [
    "![label](Figs/Slide029.png)"
   ]
  },
  {
   "cell_type": "markdown",
   "metadata": {
    "slideshow": {
     "slide_type": "slide"
    }
   },
   "source": [
    "## Azimuth Resolution Example\n",
    "\n",
    "The two-way propagation of the signal from spacecraft to ground and back again gives a factor of two greater Doppler bandwidth extent across the azimuth beam than one might expect.  Thus the synthetic aperture length can be thought of as twice the illuminated swath extent."
   ]
  },
  {
   "cell_type": "code",
   "execution_count": null,
   "metadata": {
    "hidePrompt": true
   },
   "outputs": [],
   "source": [
    "# allow for some playing with parameters locally. \n",
    "\n",
    "theta_3db_az = 0.866 * Lambda / L_a  # 0.866 factor typically more representative of actual 3dB point\n",
    "Delta_X_az = rho * theta_3db_az\n",
    "SynAp_az = 2. * Delta_X_az\n",
    "theta_SynAp = 0.866 * Lambda / SynAp_az\n",
    "delta_x_SynAp = rho * theta_SynAp\n",
    "\n"
   ]
  },
  {
   "cell_type": "code",
   "execution_count": null,
   "metadata": {
    "hideCode": true,
    "hidePrompt": true,
    "scrolled": true,
    "slideshow": {
     "slide_type": "fragment"
    }
   },
   "outputs": [],
   "source": [
    "print(\"Azimuth antenna length =\",\"{:.2f}\".format(L_a),\"m\")\n",
    "print(\"Azimuth beam extent at reference range illuminating a target =\",\"{:.2f}\".format(Delta_X_az),\"m\")\n",
    "print(\"Synthetic aperture length (effective) =\",\"{:.2f}\".format(SynAp_az),\"m\")\n",
    "print(\"Synthetic aperture effective beamwidth =\",\"{:.3f}\".format(1000.*180.*theta_SynAp/np.pi),\"millidegrees\")\n",
    "print(\"Synthetic aperture resolution =\",\"{:.3f}\".format(delta_x_SynAp),\"m\")"
   ]
  },
  {
   "cell_type": "markdown",
   "metadata": {},
   "source": [
    "<div class=\"alert alert-warning\">\n",
    "<font size=\"5\"> <b> Test your understanding - Radar Resolution <b> </font>\n",
    "</div>\n",
    "\n",
    "What is the intrinsic resolution of a strip map SAR image with 40 MHz range bandwidth and an antenna of dimension 2 m in elevation and 12 m in the flight direction?\n",
    "\n",
    "A. 12 m in range and 12 m in flight direction\n",
    "\n",
    "B. 1 m in range and 6 m in flight direction\n",
    "\n",
    "C. 3 m in range and 1 m in flight direction\n",
    "\n",
    "D. 3 m in range and 6 m in flight direction "
   ]
  },
  {
   "cell_type": "code",
   "execution_count": null,
   "metadata": {},
   "outputs": [],
   "source": [
    "resolution"
   ]
  },
  {
   "cell_type": "markdown",
   "metadata": {
    "hideCode": true,
    "hidePrompt": true,
    "slideshow": {
     "slide_type": "slide"
    }
   },
   "source": [
    "![label](Figs/Slide027.png)"
   ]
  },
  {
   "cell_type": "markdown",
   "metadata": {
    "hideCode": true,
    "hidePrompt": true,
    "slideshow": {
     "slide_type": "slide"
    }
   },
   "source": [
    "![label](Figs/Slide028.png)"
   ]
  },
  {
   "cell_type": "markdown",
   "metadata": {
    "slideshow": {
     "slide_type": "slide"
    }
   },
   "source": [
    "![label](Figs/Slide028a.png)"
   ]
  },
  {
   "cell_type": "markdown",
   "metadata": {
    "slideshow": {
     "slide_type": "slide"
    }
   },
   "source": [
    "![label](Figs/Slide028b.png)"
   ]
  },
  {
   "cell_type": "markdown",
   "metadata": {
    "slideshow": {
     "slide_type": "slide"
    }
   },
   "source": [
    "## Learning more about SAR \n",
    "\n",
    "We have developed a comprehensive notebook that covers Synthetic Aperture Radar Theory and Processing Methods in much greater detail.  \n",
    "\n",
    "It is included in the set of course notebooks under the \"notebooks/SAR Processor Tutorial\" folder. This notebook \n",
    "- simulates radar echoes from point targets\n",
    "- develops the radar equation and the signal-to-noise ratio of corner reflector targets\n",
    "- develops the range and azimuth signals and processing methods analytically and computationally. \n",
    "- describes linear FM signals and range compression\n",
    "- describes Doppler and synthetic aperture concepts, including range migration\n",
    "- contrasts standard range doppler processing methods to time domain approaches\n"
   ]
  },
  {
   "cell_type": "markdown",
   "metadata": {
    "hideCode": true,
    "hidePrompt": true,
    "slideshow": {
     "slide_type": "slide"
    }
   },
   "source": [
    "![label](Figs/Slide033.png)"
   ]
  },
  {
   "cell_type": "markdown",
   "metadata": {
    "hideCode": true,
    "hidePrompt": true,
    "slideshow": {
     "slide_type": "slide"
    }
   },
   "source": [
    "![label](Figs/Slide034.png)"
   ]
  },
  {
   "cell_type": "markdown",
   "metadata": {
    "slideshow": {
     "slide_type": "slide"
    }
   },
   "source": [
    "![label](Figs/Slide034a.png)"
   ]
  },
  {
   "cell_type": "markdown",
   "metadata": {
    "hideCode": true,
    "hidePrompt": true,
    "slideshow": {
     "slide_type": "slide"
    }
   },
   "source": [
    "![label](Figs/Slide035.png)"
   ]
  },
  {
   "cell_type": "markdown",
   "metadata": {
    "hideCode": true,
    "hidePrompt": true,
    "slideshow": {
     "slide_type": "slide"
    }
   },
   "source": [
    "![label](Figs/Slide036.png)"
   ]
  },
  {
   "cell_type": "markdown",
   "metadata": {
    "hideCode": true,
    "hidePrompt": true,
    "slideshow": {
     "slide_type": "slide"
    }
   },
   "source": [
    "![label](Figs/Slide037.png)"
   ]
  },
  {
   "cell_type": "markdown",
   "metadata": {
    "hideCode": true,
    "hidePrompt": true,
    "slideshow": {
     "slide_type": "slide"
    }
   },
   "source": [
    "![label](Figs/Slide038.png)"
   ]
  },
  {
   "cell_type": "markdown",
   "metadata": {
    "hideCode": true,
    "hidePrompt": true,
    "slideshow": {
     "slide_type": "slide"
    }
   },
   "source": [
    "![label](Figs/Slide039.png)"
   ]
  },
  {
   "cell_type": "markdown",
   "metadata": {
    "hideCode": true,
    "hidePrompt": true,
    "slideshow": {
     "slide_type": "slide"
    }
   },
   "source": [
    "![label](Figs/Slide040.png)"
   ]
  },
  {
   "cell_type": "markdown",
   "metadata": {
    "hideCode": true,
    "hidePrompt": true,
    "slideshow": {
     "slide_type": "slide"
    }
   },
   "source": [
    "![label](Figs/Slide041.png)"
   ]
  },
  {
   "cell_type": "markdown",
   "metadata": {
    "hideCode": true,
    "hidePrompt": true,
    "slideshow": {
     "slide_type": "slide"
    }
   },
   "source": [
    "![label](Figs/Slide042.png)"
   ]
  },
  {
   "cell_type": "markdown",
   "metadata": {
    "hideCode": true,
    "hidePrompt": true,
    "slideshow": {
     "slide_type": "slide"
    }
   },
   "source": [
    "![label](Figs/Slide043.png)"
   ]
  },
  {
   "cell_type": "markdown",
   "metadata": {
    "hideCode": true,
    "hidePrompt": true,
    "slideshow": {
     "slide_type": "slide"
    }
   },
   "source": [
    "![label](Figs/Slide044.png)"
   ]
  }
 ],
 "metadata": {
  "celltoolbar": "Hide code",
  "hide_code_all_hidden": true,
  "hide_input": false,
  "kernelspec": {
   "display_name": "earthscope_insar [conda env:.local-earthscope_insar]",
   "language": "python",
   "name": "conda-env-.local-earthscope_insar-earthscope_insar"
  },
  "language_info": {
   "codemirror_mode": {
    "name": "ipython",
    "version": 3
   },
   "file_extension": ".py",
   "mimetype": "text/x-python",
   "name": "python",
   "nbconvert_exporter": "python",
   "pygments_lexer": "ipython3",
   "version": "3.11.6"
  },
  "rise": {
   "history": false,
   "transition": "none"
  },
  "toc": {
   "base_numbering": 1,
   "nav_menu": {},
   "number_sections": true,
   "sideBar": true,
   "skip_h1_title": false,
   "title_cell": "Table of Contents",
   "title_sidebar": "Contents",
   "toc_cell": false,
   "toc_position": {},
   "toc_section_display": true,
   "toc_window_display": false
  }
 },
 "nbformat": 4,
 "nbformat_minor": 4
}
