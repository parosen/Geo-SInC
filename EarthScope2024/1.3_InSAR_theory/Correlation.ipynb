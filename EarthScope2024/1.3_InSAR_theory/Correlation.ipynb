{
 "cells": [
  {
   "cell_type": "code",
   "execution_count": 4,
   "metadata": {
    "hideCode": true,
    "hideOutput": true,
    "hidePrompt": true,
    "scrolled": true,
    "slideshow": {
     "slide_type": "skip"
    }
   },
   "outputs": [],
   "source": [
    "from notebook.services.config import ConfigManager\n",
    "cm = ConfigManager()\n",
    "\n",
    "cm.update('livereveal', {\n",
    "              'width': \"90%\",\n",
    "              'height': \"90%\",\n",
    "              'scroll': True,\n",
    "})\n",
    "\n",
    "import warnings\n",
    "warnings.filterwarnings('ignore')\n",
    "\n",
    "bShowInline = True  # Set = False for document generation\n",
    "%matplotlib inline\n",
    "import matplotlib.pyplot as plt"
   ]
  },
  {
   "cell_type": "code",
   "execution_count": 5,
   "metadata": {
    "hideCode": true,
    "hidePrompt": true
   },
   "outputs": [],
   "source": [
    "from ipywidgets import widgets, Layout, Box, GridspecLayout\n",
    "\n",
    "\n",
    "##Basic mcq\n",
    "\n",
    "def create_multipleChoice_widget(description, options, correct_answer, hint):\n",
    "    if correct_answer not in options:\n",
    "        options.append(correct_answer)\n",
    "    \n",
    "    correct_answer_index = options.index(correct_answer)\n",
    "    \n",
    "    radio_options = [(words, i) for i, words in enumerate(options)]\n",
    "    alternativ = widgets.RadioButtons(\n",
    "        options = radio_options,\n",
    "        description = '',\n",
    "        disabled = False,\n",
    "        indent = False,\n",
    "        align = 'center',\n",
    "    )\n",
    "    \n",
    "    description_out = widgets.Output(layout=Layout(width='auto'))\n",
    "    \n",
    "    with description_out:\n",
    "        print(description)\n",
    "        \n",
    "    feedback_out = widgets.Output()\n",
    "\n",
    "    def check_selection(b):\n",
    "        a = int(alternativ.value)\n",
    "        if a==correct_answer_index:\n",
    "            s = '\\x1b[6;30;42m' + \"correct\" + '\\x1b[0m' +\"\\n\"\n",
    "        else:\n",
    "            s = '\\x1b[5;30;41m' + \"try again\" + '\\x1b[0m' +\"\\n\"\n",
    "        with feedback_out:\n",
    "            feedback_out.clear_output()\n",
    "            print(s)\n",
    "        return\n",
    "    \n",
    "    check = widgets.Button(description=\"check\")\n",
    "    check.on_click(check_selection)\n",
    "    \n",
    "    hint_out = widgets.Output()\n",
    "    \n",
    "    def hint_selection(b):\n",
    "        with hint_out:\n",
    "            print(hint)\n",
    "            \n",
    "        with feedback_out:\n",
    "            feedback_out.clear_output()\n",
    "            print(hint)\n",
    "    \n",
    "    hintbutton = widgets.Button(description=\"hint\")\n",
    "    hintbutton.on_click(hint_selection)\n",
    "    \n",
    "    return widgets.VBox([description_out, \n",
    "                         alternativ, \n",
    "                         widgets.HBox([hintbutton, check]), feedback_out], \n",
    "                        layout=Layout(display='flex',\n",
    "                                     flex_flow='column',\n",
    "                                     align_items='stretch',\n",
    "                                     width='auto')) \n",
    "\n",
    "test = create_multipleChoice_widget('1. Let a, b, c be real numbers. If a<b and b<c, then:',\n",
    "                                   ['a>c','a<c','b<c','c<a'],\n",
    "                                   'a<c',\n",
    "                                   \"[hint]:\")\n",
    "\n",
    "correst = create_multipleChoice_widget('',\n",
    "    ['A','B','C','D'],\n",
    "    'C',\"[hint]: The interferogram is a single realization of a random process\")\n",
    "\n",
    "phslks = create_multipleChoice_widget('',\n",
    "    ['A','B','C','D'],\n",
    "    'D',\"[hint]: Recall the relationship of phase difference to displacement\")\n",
    "\n",
    "thermcorr = create_multipleChoice_widget('',\n",
    "    ['A','B','C','D'],\n",
    "    'B',\"[hint]: Which would be intrinsically dark?\")\n",
    "\n",
    "corrsens = create_multipleChoice_widget('',\n",
    "    ['A','B','C','D'],\n",
    "    'A',\"[hint]: Reference the sensitivities section of the InSAR notebook\")\n"
   ]
  },
  {
   "cell_type": "markdown",
   "metadata": {
    "slideshow": {
     "slide_type": "slide"
    }
   },
   "source": [
    "<img src=\"Figs/Banner.png\" width=\"100%\" />\n",
    "<font face=\"Calibri\">\n",
    "<br>\n",
    "<font size=\"6\"> <b> Synthetic Aperture Radar Interferometry <b> </font>\n",
    "\n",
    "<font size=\"4\"> <b> Correlation Theory <font color='rgba(200,0,0,0.2)'> </font> </b> </font>\n",
    "\n",
    "<br> <img src=\"Figs/NASALogo.png\" width=\"250\" align=\"right\" /> <br> \n",
    "<font size=\"4\"> <b> Paul A Rosen and Scott Hensley</b> \n",
    "<font size=\"3\">  <br>\n",
    "<font> <b>Date: </b> July 25, 2020 </font>\n",
    "</font>"
   ]
  },
  {
   "cell_type": "markdown",
   "metadata": {
    "hideCode": true,
    "hidePrompt": true,
    "slideshow": {
     "slide_type": "slide"
    }
   },
   "source": [
    "\n",
    "This notebook presents the basics of interferometric synthetic aperture radar correlation. The student will be exposed to:\n",
    "\n",
    "1. Decorrelation Theory\n",
    "2. Relationship between Correlation and Phase Noise\n",
    "3. Sources of Decorrelation\n",
    "4. Intuition for Correlation\n",
    "\n"
   ]
  },
  {
   "cell_type": "markdown",
   "metadata": {
    "hideCode": false,
    "hidePrompt": true,
    "slideshow": {
     "slide_type": "slide"
    }
   },
   "source": [
    "**Table of Radar and Spacecraft Parameters and constants used for any computed examples in this notebook**\n",
    "\n",
    "| Parameter | Symbol | Value | Comment |\n",
    "| --- | --- | --- | --- | \n",
    "| Wavelength | $\\lambda $ | 0.24 m | (L-band)  \n",
    "| Antenna Length | $L_a$ | 10 m | |  \n",
    "| Antenna Width | $W_a$ | 2 m | |  \n",
    "| Off-nadir boresight angle | $\\theta_l$ | 30$^\\circ$ | |\n",
    "| Azimuth squint of  boresight angle | $\\theta_{sq}$ | 0$^\\circ$ | |\n",
    "| Spacecraft Velocity | $v_{sc}$ | 7,500 m/s | Assumed constant |\n",
    "| Spacecraft Altitude | $h_{sc}$ | 750,000 m | Assumed constant | \n",
    "| Radar Range Bandwidth | $B_r$ | 10 MHz | |\n",
    "| Radar Pulse Duration | $\\tau_r$ | 20 $\\mu$s | Determines average power |\n",
    "| Nominal Pulse Rate | $f_p$ | 1600 Hz | Determines average power and ambiguity levels |\n",
    "| Peak Power on Transmit | $P_T$ | 4,000 W | Determines SNR |\n",
    "| Radar Noise Temperature | $T_r$ | 300 K | Determines SNR |\n",
    "| Corner Reflector Dimension | $L_{cr}$ | 2.4 m | Determines SNR |\n",
    "| Speed of light         | $c $  | 299792456 m/s | |  \n",
    "| Boltzman constant      | $k$   | 1.38064852 $\\times$ 10$^{-23}$ m$^2$ kg s$^{-2}$ K$^{-1}$ | -228.6 dB |  \n",
    "| Gravitational Constant | $G$   | 6.672 $\\times$ 10$^{-11}$ m$^3$ kg$^{−1}$ s$^{−2}$ | |  \n",
    "| Earth's Mass           | $M_E$ | 5.9742 $\\times$ 10$^{24}$ kg | |"
   ]
  },
  {
   "cell_type": "code",
   "execution_count": 6,
   "metadata": {
    "hideCode": true,
    "hideOutput": true,
    "hidePrompt": true,
    "slideshow": {
     "slide_type": "skip"
    }
   },
   "outputs": [],
   "source": [
    "import numpy as np\n",
    "Lambda = 0.24\n",
    "L_a = 10.\n",
    "W_a = 2. \n",
    "theta_l = 30. * np.pi/180.\n",
    "theta_sq = 0. * np.pi/180.\n",
    "v_sc = 7500.\n",
    "h_sc = 750000. \n",
    "B_r = 20.e6\n",
    "tau_r = 10.e-6\n",
    "f_p = 1600.\n",
    "P_T = 4000.\n",
    "T_r = 300.\n",
    "L_cr =2.4\n",
    "c = 299792456 \n",
    "k = 1.38064852e-23\n",
    "G = 6.672e-11\n",
    "M_E = 5.9742e24"
   ]
  },
  {
   "cell_type": "markdown",
   "metadata": {
    "slideshow": {
     "slide_type": "slide"
    }
   },
   "source": [
    "# Interferometric Correlation"
   ]
  },
  {
   "cell_type": "markdown",
   "metadata": {},
   "source": [
    "## Coherent nature of SAR images\n",
    "\n",
    "Pixels in a radar image are a complex phasor representation of the coherent backscatter from the resolution element on the ground.  Superimposed on this is the propagation phase delay to that pixel and back to the radar.<img src=\"Figs/sarspeckle.png\" width=\"450\" align=\"center\" />\n",
    "\n",
    "The propagation phase delay is given above.  The backscatter phase delay derives from the coherent sum of contributions from all elemental scatterers in the resolution element.  Each element has backscatter \n",
    "\n",
    "\\begin{equation}\n",
    "A_{\\epsilon,i} e^{j\\phi_{\\epsilon,i}}\n",
    "\\end{equation}\n",
    "\n",
    "Each of these likes a range distance $\\rho_{\\epsilon,i}$ from a plane perpendicular to the range direction.  These contribute an additional phases to the coherent sum:\n",
    "\n",
    "\\begin{equation}\n",
    "A_b e^{j\\phi_{b}}= \\sum_i A_{\\epsilon,i} e^{j\\phi_{\\epsilon,i}} e^{j 4\\pi \\rho_{\\epsilon,i}/\\lambda}\n",
    "\\end{equation}\n",
    "\n",
    "Since each pixel has a unique arrangement of scatterers, the amplitude and phase from pixel to pixel appears random.  This is the characteristic speckled nature of SAR images."
   ]
  },
  {
   "cell_type": "markdown",
   "metadata": {},
   "source": [
    "## The \"sameness\" of images in an interferometric pair\n",
    "\n",
    "While the amplitude and phase of neighboring pixels in an image appear randomly related, the same pixel in another image observed from nearly the same vantage point will have nearly the same complex phasor representation of the coherent backscatter from the corresponding pixel.  However, if the vantage point is distinct, the propagation phase delay will be different. <img src=\"Figs/intsarspeckle.png\" width=\"450\" align=\"center\" />\n",
    "\n",
    "In the figure above, we note that the backscatter amplitude and phase of a pixel in the two images is nearly the same if the angular difference in observation is small.  In this case the interferogram will have a phase that is proportional to the propagation phase difference - the range difference:\n",
    "\n",
    "\\begin{equation}\n",
    "i (\\rho,x) = s_1 \\cdot  s_2^* = A_b e^{j(\\phi_{b}- 4\\pi\\rho_1/\\lambda)} \\cdot A_b e^{-j(\\phi_{b}- 4\\pi\\rho_2/\\lambda)}= A_b^2 e^{-j 4\\pi(\\rho_1-\\rho_2)/\\lambda}\n",
    "\\end{equation}\n",
    "\n",
    "In correlation theory, we study the limits of this assumption of sameness."
   ]
  },
  {
   "cell_type": "markdown",
   "metadata": {},
   "source": [
    "## Correlation Definition\n",
    "\n",
    "For signals $s_1(\\rho,x)$ and $s_2(\\rho,x)$ observed at interferometer locations 1 and 2, the correlation $\\gamma$ is defined as \n",
    "\n",
    "\\begin{equation}\n",
    "\\gamma \\equiv \\frac{\\left|\\langle s_1 s_2^\\star\\rangle \\right|}{\\sqrt{\\langle s_1 s_1^\\star\\rangle\\langle s_2 s_2^\\star\\rangle}}\n",
    "\\end{equation}\n",
    "\n",
    "where $\\langle \\rangle$ here represents the expected value of the signal. \n",
    "\n",
    "\n",
    "Deterministic signals or combinations of deterministic signals have perfect correlation because the expected value of the amplitude and phase is the amplitude and phase itself. <img src=\"Figs/corrdef.png\" width=\"230\" align=\"right\" /> \n",
    "\n",
    "In this case:\n",
    "\n",
    "\\begin{equation}\n",
    "\\gamma = \\frac{\\left| | s_1 | | e^{j\\phi_1} | | s_2 | | e^{-j\\phi_2} | \\right|}{ \\sqrt{|s_1|^2  |s_2|^2}} = 1\n",
    "\\end{equation}\n",
    "\n",
    "\n",
    "\n",
    "Signals with random components have imperfect correlation because the expected value of the product will not be the product of the expected values.  In the lower left figure, the shaded circle represents the range possible random values that the complex numbers $s_1$ or $s_2$ might have. <img src=\"Figs/corrdef2.png\" width=\"230\" align=\"left\" /> For this case:\n",
    "\n",
    "\\begin{equation}\n",
    "\\gamma = \\frac{\\left|\\langle | s_1 || s_2 | e^{j(\\phi_1-\\phi_2)} \\rangle \\right|}{ \\sqrt{|s_1|^2  |s_2|^2}} \\leq 1\n",
    "\\end{equation}\n",
    "because the expected power of the signal and the power of the noise add in the denominator, while the noise tends to cancel in the expectation of the product in the numerator due to the phase term. "
   ]
  },
  {
   "cell_type": "markdown",
   "metadata": {},
   "source": [
    "## Correlation elements\n",
    "\n",
    "Interferometric signals lose correlation (decorrelate) due to \n",
    "\n",
    "- Thermal noise in the radar system and processor noise \n",
    "- Viewing geometry effects, including baseline (cross and along track) and volume\n",
    "- Changes of the surface over time \n",
    "\n",
    "The signal correlation in an interferogram can be related to the phase error, which in turn is related to the height or displacement accuracy and the ability to unwrap the phase.\n",
    "\n",
    "Low correlation leads to lower accuracy and more difficulty in unwrapping.\n",
    "\n",
    "The term \"correlation\" and \"coherence\" are often used synonymously, though correlation is typically used in reference to the sameness properties of data.  Coherence is typically associated with sameness properties of wave fields. \n"
   ]
  },
  {
   "cell_type": "markdown",
   "metadata": {},
   "source": [
    "## Expectation estimator and correlation estimates\n",
    "\n",
    "In any given interferogram comprised of images $s_1$ and $s_2$, the images represent a single realization of the random processes involved.  For example, the thermal noise in the radar changes the signal randomly over time, but we only sample each pixel at a fixed time.\n",
    "\n",
    "To properly compute expectation $\\langle s_1 s_2^\\star \\rangle$, we would need many realizations of each image.  Since these are not available, we need to devise another estimator for interferometric phase and correlation in the presence of noise.\n",
    "\n",
    "For an interferogram assumed to have homogeneous backscatter statistics and a constant phase difference in a region of interest, the maximum likelihood estimator approximates the expected value:\n",
    "\n",
    "\\begin{equation}\n",
    "\\langle s_1 s_2^\\star \\rangle \\rightarrow \\sum_{mn} s_1 (\\rho_{mn},x_{mn}) s_2^\\star (\\rho_{mn},x_{mn})\n",
    "\\end{equation}\n",
    "where the indices $mn$ are over the homogeneous area.  The maximum likelihood estimator of the phase is unbiased under these assumptions.  It is increasingly clear as researchers push to see smaller and smaller signals that this assumption is not always valid.\n",
    "\n",
    "The correlation estimator then follows the same approach:\n",
    "\\begin{eqnarray}\n",
    "\\hat{\\gamma} & = & \\frac{\\left|\\langle s_1 s_2^\\star\\rangle \\right|}{\\sqrt{\\langle s_1 s_1^\\star\\rangle\\langle s_2 s_2^\\star\\rangle}} \\\\\n",
    "& \\rightarrow & \\frac{\\left|\\sum_{mn} s_1 (\\rho_{mn},x_{mn}) s_2^\\star (\\rho_{mn},x_{mn}) \\right|}{\\sqrt{\\sum_{mn} s_1(\\rho_{mn},x_{mn})  s_1^\\star (\\rho_{mn},x_{mn}) \\sum_{mn} s_2 (\\rho_{mn},x_{mn}) s_2^\\star (\\rho_{mn},x_{mn})}}\n",
    "\\end{eqnarray}"
   ]
  },
  {
   "cell_type": "markdown",
   "metadata": {
    "hideCode": true,
    "hidePrompt": true
   },
   "source": [
    "<div class=\"alert alert-warning\">\n",
    "<font size=\"5\"> <b> Test your understanding - Correlation Estimator <b> </font>\n",
    "</div>\n",
    "\n",
    "The correlation estimator based on area summation is a biased estimator. What is the value of the correlation estimate $\\hat{\\gamma}$ if the area summation is a single pixel\n",
    "    \n",
    "A. $\\hat{\\gamma} = 0$\n",
    "    \n",
    "B. $\\hat{\\gamma} =\\gamma$\n",
    "    \n",
    "C. $\\hat{\\gamma} = 1$ \n",
    "    \n",
    "D. $\\hat{\\gamma} = \\gamma/A$, where $A$ is the area of the pixel in meters\n"
   ]
  },
  {
   "cell_type": "code",
   "execution_count": 7,
   "metadata": {
    "hideCode": true,
    "hidePrompt": true
   },
   "outputs": [
    {
     "data": {
      "application/vnd.jupyter.widget-view+json": {
       "model_id": "9ed97a2994274f50a169ca08fc7cfd80",
       "version_major": 2,
       "version_minor": 0
      },
      "text/plain": [
       "VBox(children=(Output(layout=Layout(width='auto')), RadioButtons(options=(('A', 0), ('B', 1), ('C', 2), ('D', …"
      ]
     },
     "metadata": {},
     "output_type": "display_data"
    }
   ],
   "source": [
    "correst"
   ]
  },
  {
   "cell_type": "markdown",
   "metadata": {},
   "source": [
    "## Correlation estimator statistics\n",
    "\n",
    "Since the correlation is biased, the estimated value of the correlation is not the actual correlation, and the estimate depends on the correlation itself and the area over which the estimate is calculated.  This is illustrated in the figure for correlation values $\\gamma = 0$ and $\\gamma = 1$ and for 10 or 40 pixels used in the summation (\"looks\"). <img src=\"Figs/corrhist.png\" width=\"400\" align=\"left\" /> \n",
    "\n",
    "The maximum likelihood values at low correlation are well biased away from the true value.  It is easy to assume better correlation than exists in low correlation regions.\n",
    "\n",
    "Note also that the larger the area, the less likely the homogeneity assumption is valid. "
   ]
  },
  {
   "cell_type": "markdown",
   "metadata": {},
   "source": [
    "## Correlation Example\n",
    "\n",
    "The figure below shows an example of what correlation can look like in repeat pass InSAR images.  The figures depict correlation in two scenarios, the left is short time, long baseline interferogram, the right is a long time, short baseline interferogram.  The color indicates correlation, with blue being 0 correlation and green being a correlation of 1. Note that in each cases the water is a dark blue, indicating a correlation value of around 0.2.  But liquid water always has a true correlation of 0, since the surface is constantly changing with time.  This illustrates the bias associated with estimating the correlation described above. <img src=\"Figs/correxample.png\" width=\"700\" align=\"center\" /> "
   ]
  },
  {
   "cell_type": "markdown",
   "metadata": {},
   "source": [
    "## Correlation and phase error\n",
    "\n",
    "Under the assumption that the phase estimate is unbiased, it is possible to calculate the minimum variance of the that estimator, the Cramer-Rao bound.  For the number of samples used in the summation $N>4$, the phase standard deviation approaches the Cramer-Rao bound:\n",
    "<img src=\"Figs/phsstd.png\" width=\"400\" align=\"left\" /> \n",
    "\n",
    "\\begin{equation}\n",
    "\\sigma_{\\Delta\\phi} = \\frac{1}{\\sqrt{2N}}\\sqrt{\\frac{1-\\gamma^2}{\\gamma^2}}\n",
    "\\end{equation}\n",
    "\n",
    "Where $\\sigma_{\\Delta\\phi}$ is the phase noise, $\\gamma$ is the actual interferometric correlation and $N$ is the number of samples (\"looks\").\n",
    "\n",
    "From the figure, calculated numerically, it can be seen that the formula does not hold for low number of samples.  Clearly, the greater the number of samples, the lower the phase error for a given $\\gamma$.  Also, the greater the correlation, the lower the phase error for a given number samples. \n"
   ]
  },
  {
   "cell_type": "markdown",
   "metadata": {},
   "source": [
    "<div class=\"alert alert-warning\">\n",
    "<font size=\"5\"> <b> Test your understanding - Phase noise <b> </font>\n",
    "</div>\n",
    "\n",
    "Using a repeat pass interferometer with a 24 cm wavelength, if the correlation of the interferogram was $\\gamma=0.5$, how many samples would be needed to determine surface displacement to 3 mm precision? Assume the spatial baseline is 0.\n",
    "    \n",
    "A. $N \\approx 10 $\n",
    "    \n",
    "B. $N \\approx 8 $\n",
    "    \n",
    "C. $N \\approx 1002 $ \n",
    "    \n",
    "D. $N \\approx 61 $"
   ]
  },
  {
   "cell_type": "code",
   "execution_count": 8,
   "metadata": {
    "hideCode": true,
    "hidePrompt": true
   },
   "outputs": [
    {
     "data": {
      "application/vnd.jupyter.widget-view+json": {
       "model_id": "da530d450bd04e428db423930f675d12",
       "version_major": 2,
       "version_minor": 0
      },
      "text/plain": [
       "VBox(children=(Output(layout=Layout(width='auto')), RadioButtons(options=(('A', 0), ('B', 1), ('C', 2), ('D', …"
      ]
     },
     "metadata": {},
     "output_type": "display_data"
    }
   ],
   "source": [
    "phslks"
   ]
  },
  {
   "cell_type": "markdown",
   "metadata": {},
   "source": [
    "## Thermal noise decorrelation\n",
    "\n",
    "Radar electronics will add thermally generated noise to the image observations.  We can model the noise signal as a component associated with the surface, $s_1$ and $s_2$, which for now we assume to be deterministic, and an additive uncorrelated noise term $n$.\n",
    "\n",
    "\\begin{equation}\n",
    "s_{1,{\\rm n}} = A_b e^{j\\phi_b} e^{-j 4 \\pi \\rho_1/\\lambda} + n_1 \\qquad s_{2,{\\rm n}} = A_b e^{j\\phi_b} e^{-j 4 \\pi \\rho_2/\\lambda} + n_2\n",
    "\\end{equation}\n",
    "\n",
    "These expressions can be substituted into the correlation expression:\n",
    "\n",
    "\\begin{eqnarray}\n",
    "\\gamma & = & \\frac{\\left|\\langle (s_1+n_1)(s_2+n_2)^\\star\\rangle \\right|}{\\sqrt{\\langle (s_1+n_1)(s_1+n_1)^\\star\\rangle\\langle (s_2+n_2) (s_2+n_2)^\\star\\rangle}} = \\frac{\\left|s_1 s_2 \\right|}{\\sqrt{ (s_1^2+n_1^2) (s_2^2+n_2^2) }} \\\\\n",
    "& = & \\frac{\\sqrt{P_1} \\sqrt{P_2}}{\\sqrt{P_1+N_1}\\sqrt{P_2+N_2}} = \\frac{1}{\\sqrt{1 + {\\rm SNR}_1^{-1}}\\sqrt{1 + {\\rm SNR}_2^{-1}}}\n",
    "\\end{eqnarray}\n",
    "\n",
    "where ${\\rm SNR}_i = P_i/N_i$ is the Signal-to-noise ratio of image $s_i$.  If the images are equal in SNR, then this reduces to\n",
    "\\begin{equation}\n",
    "\\gamma_{\\rm SNR} = \\frac{1}{1 + {\\rm SNR}^{-1}}\n",
    "\\end{equation}\n",
    "\n",
    "The SNR in an image is scene dependent.  Surface elements that reflect back to the radar poorly have low SNR and therefore poor correlation.  Bright targets tend to have high correlation.\n",
    "\n",
    "Decorrelation is simply $1-\\gamma$."
   ]
  },
  {
   "cell_type": "markdown",
   "metadata": {},
   "source": [
    "<div class=\"alert alert-warning\">\n",
    "<font size=\"5\"> <b> Test your understanding - Thermal noise correlation <b> </font>\n",
    "</div>\n",
    "\n",
    "Which image characteristic would lead to low correlation due to thermal noise?\n",
    "\n",
    "A. Layover\n",
    "    \n",
    "B. Shadow\n",
    "    \n",
    "C. Forests \n",
    "    \n",
    "D. Close-range imaging"
   ]
  },
  {
   "cell_type": "code",
   "execution_count": 9,
   "metadata": {
    "hideCode": true,
    "hidePrompt": true
   },
   "outputs": [
    {
     "data": {
      "application/vnd.jupyter.widget-view+json": {
       "model_id": "8d228ebf6e954d9c976ad6fd750a1c4e",
       "version_major": 2,
       "version_minor": 0
      },
      "text/plain": [
       "VBox(children=(Output(layout=Layout(width='auto')), RadioButtons(options=(('A', 0), ('B', 1), ('C', 2), ('D', …"
      ]
     },
     "metadata": {},
     "output_type": "display_data"
    }
   ],
   "source": [
    "thermcorr"
   ]
  },
  {
   "cell_type": "markdown",
   "metadata": {},
   "source": [
    "## Baseline decorrelation - the lack of \"sameness\" of images in an interferometric pair\n",
    "\n",
    "Revisiting the sameness of images in the interferometric pair, our previous assumption that the differing vantage point is negligible needs to be examined more fully.  While the amplitude and phase of neighboring pixels in an image appear randomly related, the same pixel in another image observed from nearly the same vantage point will have nearly the same complex phasor representation of the coherent backscatter from the corresponding pixel. <img src=\"Figs/intsarspeckle2.png\" width=\"450\" align=\"center\" />\n",
    "\n",
    "However, it is not exactly the same, being impacted by the small differences in the coherent sum that forms $A_b \\exp(j\\phi_b)$:\n",
    "\n",
    "\\begin{equation}\n",
    "i (\\rho,x) = s_1 \\cdot  s_2^* = A_{b1} e^{j(\\phi_{b1}- 4\\pi\\rho_1/\\lambda)} \\cdot A_{b2} e^{-j(\\phi_{b2}- 4\\pi\\rho_2/\\lambda)}\n",
    "\\end{equation}\n",
    "\n"
   ]
  },
  {
   "cell_type": "markdown",
   "metadata": {},
   "source": [
    "## Baseline correlation functional forms\n",
    "\n",
    "To calculate the form of the decorrelation as the vantage difference increases requires an integration of assumed random scatterers over a resolution cell. The expression for correlation due to baseline effects is \n",
    "\n",
    "\\begin{equation}\n",
    "\\gamma_{g_{f}} = 1 - \\frac{b_{\\perp}}{b_c} = 1 - \\frac{p b_{\\perp} \\Delta \\rho}{\\lambda \\rho \\tan \\theta} = 1 - \\frac{p b \\cos(\\theta -\\alpha) \\Delta \\rho}{\\lambda \\rho \\tan \\theta} \n",
    "\\end{equation}\n",
    "\n",
    "where $\\gamma_{g_{f}}$ is the geometric correlation for a flat surface, $b_c$ is the critical baseline length, $b$ is the baseline length, $\\theta$ is the look angle, $\\alpha$ is the baseline orientation angle, i.e. the angle the baseline vector makes with respect to the local horizontal, $\\Delta \\rho$ is the range resolution, $\\lambda$ is the wavelength, and $p=1$ for single antenna transmit systems and $p=2$ for ping-pong or repeat pass systems. The critical baseline is defined as the perpendicular baseline at which the correlation goes to zero. <img src=\"Figs/seasatcorr.png\" width=\"350\" align=\"right\" />\n",
    "\n",
    "\\begin{equation}\n",
    "b_c = \\frac{\\lambda \\rho \\tan(\\theta - \\psi_c)}{p \\Delta \\rho}\n",
    "\\label{bcrit}\n",
    "\\end{equation}\n",
    "\n",
    "For a sloped surface, the baseline correlation is:\n",
    "\n",
    "\n",
    "\\begin{eqnarray}\n",
    "\\gamma_{g} &=& 1 - \\frac{b_{\\perp}}{b_c} = 1 - \\frac{p b_{\\perp} \\Delta \\rho}{\\lambda \\rho \\tan( \\theta - \\psi_c)} \\\\\n",
    "&=& \\gamma_{g_f} \\left [1 - \\left(\\frac{1-\\gamma_{g_f}}{\\gamma_{g_f}} \\right)\\left(\\frac{\\tan \\theta}{\\tan (\\theta - \\psi_c)}-1\\right)\\right]\n",
    "\\end{eqnarray}\n"
   ]
  },
  {
   "cell_type": "markdown",
   "metadata": {},
   "source": [
    "## Rotational correlation\n",
    "\n",
    "If we observe from a slightly different azimuth vantage point (rather than elevation as in baseline decorrelation), the surface can be decorrelated in a similar manner.  The larger the vantage point difference, the greater the decorrelation.  The same phenomenon can occur if the surface rotates for some reason (e.g. shear in an earthquake).  <img src=\"Figs/rotcorr.png\" width=\"300\" align=\"left\" /> \n",
    "\n",
    "The simplest way to think about this is in terms of the azimuth antenna beam of the radar.  If the azimuth pointing of one radar difference by a full beamwidth, then the correlation of the images will be zero.  If they are aligned then the correlation will be 1.  This is related to the Doppler spectrum.  The spectra must overlap for there to be correlation. <img src=\"Figs/rotcorrsim.png\" width=\"300\" align=\"left\" />  For shorter wavelength radars, the beamwidth of an antenna of given length will be narrower, and will therefore experience greater decorrelation than a longer wavelength radar of the same dimension.  \n",
    "\n"
   ]
  },
  {
   "cell_type": "markdown",
   "metadata": {},
   "source": [
    "## The \"pixel antenna\" view of baseline decorrelation\n",
    "\n",
    "Remembering the ideas from antenna theory that an antenna radiates from an aperture of dimension $L$ in an angle given by $\\theta_{\\rm beamwidth} \\approx \\lambda/L$.  The image pixel which reflect radar signal back toward the radar can similary be considered a small antenna with dimensions of the image resolution.  The figure to the left illustrates the general geometry. <img src=\"Figs/pixant.png\" width=\"250\" align=\"left\" />  The image to the right examines the pixel as a radiating antenna.  The dimension of the antenna presented to the radar is related to the range resolution, $\\Delta\\rho$ as shown in the figure to the right.  We call this the range resolution projected onto the range, $\\Delta \\rho_\\perp$.  The beamwidth subtended by the radiation pattern is then <img src=\"Figs/pixant2.png\" width=\"250\" align=\"right\" />\n",
    "\n",
    "$\\Delta\\theta = \\frac{\\lambda}{p\\Delta\\rho_\\perp}$\n",
    "\n",
    "The critical baseline can then be thought of as the distance at the orbit over which the observations must be made to have correlation.  "
   ]
  },
  {
   "cell_type": "markdown",
   "metadata": {},
   "source": [
    "## Other aspects of baseline decorrelation\n",
    "\n",
    "This heuristic conceptualization of baseline decorrelation helps in understanding other aspects of geometry-related decorrelation.  We can consider two cases.  One with a volume of vegetation as depicted in the figure.<img src=\"Figs/volcorr.png\" width=\"500\" align=\"center\" />\n",
    "\n",
    "Within the resolution cell, the projected area in which scatterers in the canopy contribute to that cell is much greater than for a flat surface.  Therefore the pixel antenna is much larger and the surface appears more decorrelated for a fixed interferometric baseline.\n",
    "\n",
    "At the opposite extreme, we have a resolution cell with a single bright scatterer present. \n",
    "<img src=\"Figs/ptcorr.png\" width=\"500\" align=\"center\" />\n",
    "\n",
    "In this case, the pixel antenna has a broad radiation pattern, and the correlation is high for very larger baselines.  These are so-called \"permanent scatterers\" which remain correlated over space, and usually over time as well.\n",
    "\n",
    "An expression for the volumetric correlation is:\n",
    "\\begin{equation}\n",
    "\\gamma_v = \\textrm{sinc}  \\left( \\frac{k_z h_v}{2} \\right) = \\textrm{sinc} \\left( \\frac{2 \\pi p}{\\lambda} \\frac{h_v b \\cos(\\theta - \\alpha)}{2 \\rho \\sin \\theta}  \\right) \n",
    "\\end{equation}\n",
    "\n",
    "Where $\\gamma_v$ is the volumetric correlation, $h_v$ is the thickness of the volume, and $k_z$ is the wavenumber in the vertical direction given by\n",
    "\n",
    "\\begin{equation}\n",
    "k_z = \\frac{\\partial \\phi}{\\partial h}= \\frac{2 \\pi p}{\\lambda} \\frac{b \\cos(\\theta - \\alpha)}{\\rho \\sin \\theta}=\\frac{2 \\pi p b_{\\perp}}{\\lambda \\rho \\sin \\theta}\n",
    "\\end{equation}"
   ]
  },
  {
   "cell_type": "markdown",
   "metadata": {},
   "source": [
    "## Temporal correlation\n",
    "\n",
    "Motion of scatterers in a resolution cell from one time to the next, as depicted on the left,  will cause the coherent backscatter to differ, leading to a temporal decorrelation effect.<img src=\"Figs/tempcorrpic.png\" width=\"300\" align=\"left\" /> \n",
    "\n",
    "If we assume a Gaussian distributed of scatterer displacement - i.e. the position of a scatterer in the first image is displaced in the second image according to a Gaussian probability function, then the temporal correlation is given by:\n",
    "\n",
    "\\begin{equation}\n",
    "\\gamma_t=e^{-\\frac{1}{2}\\left(\\frac{4 \\pi}{\\lambda}\\right)^2 \\left(\\sigma_c^2 \\sin^2 \\theta + \\sigma_h^2 \\cos^2 \\theta\\right) }\n",
    "\\end{equation}\n",
    "\n",
    "where $\\gamma_t$ is the temporal correlation, $\\lambda$ is the wavelength, and $\\sigma_{c}$ is the standard deviation of scatterer displacement between observations in the cross-range direction, and $\\sigma_{h}$ is the standard deviation of scatterer displacement between observations in the vertical direction. <img src=\"Figs/tempcor.png\" width=\"300\" align=\"left\" />\n",
    "\n",
    "Given the wavelength dependence, it is clear that longer wavelengths are less sensitive to random displacements as shown in the simulation.  However, the sensitivity of the long wavelength interferometer is also lower, so better correlation does not necessarily imply better performance.  "
   ]
  },
  {
   "cell_type": "markdown",
   "metadata": {},
   "source": [
    "## Total Correlation\n",
    "\n",
    "Now that we've studied all these sources of correlation noise, we can write the expression for the total correlation\n",
    "\n",
    "\\begin{equation}\n",
    "\\gamma= \\gamma_{snr} \\gamma_g \\gamma_t \\gamma_v\n",
    "\\end{equation}\n",
    "\n",
    "Where $\\gamma$ is the total correlation, $\\gamma_{snr}$ is the SNR correlation, $\\gamma_g$ is the geometric correlation (which may include rotations), $\\gamma_t$ is the temporal correlation and $\\gamma_v$ is the volumetric correlation.  For single-pass systems, $\\gamma_t$ is not present. \n",
    "\n",
    "Which sources of decorrelation do you see in these AIRSAR repeat pass interferometric images?\n",
    "<img src=\"Figs/airsarcorr.png\" width=\"700\" align=\"center\" /> What can you say about the wavelength dependence?"
   ]
  },
  {
   "cell_type": "markdown",
   "metadata": {},
   "source": [
    "<div class=\"alert alert-warning\">\n",
    "<font size=\"5\"> <b> Test your understanding - Correlation Sensitivities<b> </font>\n",
    "</div>\n",
    "\n",
    "From the InSAR notebook, we learned that a repeat-pass interferometer with zero baseline has better displacement sensitivity (to mm) than a single-pass interferometer with non-zero baseline (to m).  Given that temporal decorrelation can be significant in repeat-pass measurements but is zero for single-pass systems, why would the sensitivity to deformation in repeat pass still be superior?\n",
    "\n",
    "A. Single-pass systems measure deformation through topography differencing, which due to triangulation typically is only accurate to meter scale.  Even with temporal decorrelation, the repeat-pass measurement is accurate at the wavelength scale.\n",
    "    \n",
    "B. Single-pass measurements usually have much more geometric decorrelation due to the long baseline so tend to be much less accurate.\n",
    "    \n",
    "C. Topographic errors in single-pass systems can throw off differential phase estimates. \n",
    "    \n",
    "D. Repeat-pass systems don't suffer from rotational decorrelation effects as much as single-pass systems."
   ]
  },
  {
   "cell_type": "code",
   "execution_count": 10,
   "metadata": {},
   "outputs": [
    {
     "data": {
      "application/vnd.jupyter.widget-view+json": {
       "model_id": "6f5ba98357d940688972137a38776610",
       "version_major": 2,
       "version_minor": 0
      },
      "text/plain": [
       "VBox(children=(Output(layout=Layout(width='auto')), RadioButtons(options=(('A', 0), ('B', 1), ('C', 2), ('D', …"
      ]
     },
     "metadata": {},
     "output_type": "display_data"
    }
   ],
   "source": [
    "corrsens"
   ]
  },
  {
   "cell_type": "markdown",
   "metadata": {
    "hideCode": true,
    "hidePrompt": true
   },
   "source": [
    "<div class=\"alert alert-danger\">\n",
    "<font size=\"5\"> <b> Homework on Correlation <b> </font>\n",
    "</div>\n",
    "    \n",
    "1. Compute the SNR correlation for SNR levels of -5 dB, 0 dB, 5 dB, 10 dB and 20 dB. What is the associated phase noise for these levels of correlation assuming the number of looks is 15?\n",
    "2. Compute the critical baseline length for a system having an observation range of 330000 m, a wavelength of 0.056 m, a look angle of $40^\\circ$, is operating in single antenna transmit mode, and has a range resolution of 13 m. Reduce the range resolution to 6 m and compute the critical baseline. What happens if you halve the wavelength?\n",
    "3. It is a mildly windy day and the branches of trees are swaying in the wind with an crosstrack RMS motion of 1.5 cm. Assuming a look angle of $35^\\circ$ compare the temporal decorrelation for a X-band (3 cm wavelength), C-band (5.6 cm wavelength), L-band (24 cm wavelength) and P-band (80 cm wavelength) radars."
   ]
  },
  {
   "cell_type": "code",
   "execution_count": null,
   "metadata": {},
   "outputs": [],
   "source": []
  }
 ],
 "metadata": {
  "celltoolbar": "Hide code",
  "hide_code_all_hidden": true,
  "hide_input": false,
  "kernelspec": {
   "display_name": "Python 3 (ipykernel)",
   "language": "python",
   "name": "python3"
  },
  "language_info": {
   "codemirror_mode": {
    "name": "ipython",
    "version": 3
   },
   "file_extension": ".py",
   "mimetype": "text/x-python",
   "name": "python",
   "nbconvert_exporter": "python",
   "pygments_lexer": "ipython3",
   "version": "3.9.7"
  },
  "rise": {
   "history": false,
   "transition": "none"
  },
  "toc": {
   "base_numbering": 1,
   "nav_menu": {},
   "number_sections": true,
   "sideBar": true,
   "skip_h1_title": false,
   "title_cell": "Table of Contents",
   "title_sidebar": "Contents",
   "toc_cell": false,
   "toc_position": {},
   "toc_section_display": true,
   "toc_window_display": false
  }
 },
 "nbformat": 4,
 "nbformat_minor": 2
}
