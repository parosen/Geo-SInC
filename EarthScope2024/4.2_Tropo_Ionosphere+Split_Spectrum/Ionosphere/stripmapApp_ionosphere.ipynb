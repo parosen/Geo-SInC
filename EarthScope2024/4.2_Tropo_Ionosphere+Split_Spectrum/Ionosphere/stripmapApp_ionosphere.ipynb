{
 "cells": [
  {
   "cell_type": "markdown",
   "metadata": {},
   "source": [
    "# Ionospheric phase in InSAR data\n",
    "\n",
    "Author: Heresh Fattahi, updated for 2022 and 2023 Eric Fielding"
   ]
  },
  {
   "cell_type": "markdown",
   "metadata": {},
   "source": [
    "The interferometric phase of repeat-pass InSAR interferograms ($\\Delta\\phi$) \n",
    "formed from two SAR acquisitions at $t_i$ and $t_j$ contains different components as follows:\n",
    "\n",
    "$\\Delta\\phi = \\Delta\\phi_{displacement} + \\Delta\\phi_{geometry} + \\Delta\\phi_{troposphere} + \\Delta\\phi_{ionosphere}  + \\Delta\\phi_{noise}$\n",
    "\n",
    "* $\\Delta\\phi_{displacement}$: ground displacement\n",
    "\n",
    "* $\\Delta\\phi_{geometry}$: geometrical phase (topography + earht curvature)\n",
    "\n",
    "* $\\Delta\\phi_{troposphere}$: tropospheric delay\n",
    "\n",
    "* $\\Delta\\phi_{ionosphere}$: ionospheric delay \n",
    "\n",
    "\n",
    "The interferometric phase derived with repeat-pass interferometry, may be significantly affected by spatial and temporal variation of the number of free electrons in the ionosphere. \n",
    "\n",
    "In the ionosphere, highly energetic solar radiations such as\n",
    "extreme ultraviolet and X-ray radiation partially ionize the atmosphere’s neutral atoms and molecules forming a mixture of free electrons, ions, and neutral gas molecules around earth. The ionosphere extends approximately from altitudes of 60 to 1000 km, with a maximum electron density at around 300 km. The standard measurement of the ionospheric free electron density is the Total Electron Content (TEC) that is a vertical average of the electron content in the ionosphere.\n",
    "\n",
    "Propagation of microwave signals through the ionosphere\n",
    "causes distortions in the InSAR data, including:\n",
    "\n",
    "* defocusing of SAR images \n",
    "* Faraday rotation \n",
    "* azimuth offsets (extra shift between SAR images in the satellite along-track (azimuth) direction)\n",
    "* range delay (or phase advance which can significantly bias the ground displacement signal)\n",
    "\n",
    "\n",
    "Ionospheric delay also introduces an extra phase component to the SAR interferograms, which if not compensated, decreases the accuracy of InSAR measurements of ground displacement. Along-track TEC gradients cause a phase gradient equivalent to an extra Doppler shift, which translates to a time shift in the azimuth direction. In other words, the ionospheric phase gradient introduces extra azimuth offsets between two SAR images that cannot be predicted with geometrical coregistration techniques.\n",
    "\n",
    "Ionosphere is a dispersive medium with respect to the\n",
    "microwave frequencies. In such a dispersive medium, the delay of the microwave signal is inversely proportional\n",
    "to the signal's frequency. \n"
   ]
  },
  {
   "cell_type": "markdown",
   "metadata": {},
   "source": [
    "![title](docs_iono/iono_1.png)"
   ]
  },
  {
   "cell_type": "markdown",
   "metadata": {},
   "source": [
    "The dispersive property of ionosphere with respect to the microwave signal, provides an opportunity to separate ionospheric phase (which is dispersive) from non-dispersive phase components (ground displacement, troposphere and geometry). For this we need to have the interferograms at least at two different frequencies. Current and most future missions operate at a single center frequency. However, one can split the range bandwidth and form interferograms with slightly different center frequencies. These interferograms can be combined to estimate the ionospheric phase: "
   ]
  },
  {
   "cell_type": "markdown",
   "metadata": {},
   "source": [
    "![title](docs_iono/iono_2.png)"
   ]
  },
  {
   "cell_type": "markdown",
   "metadata": {},
   "source": [
    "The impact of ionospheric phase on ground displacement derived from InSAR data is a function of TEC variations between two SAR acquisition dates and center frequencies at which the data has been acquired. \n",
    "\n",
    "TEC variation, is a function of:\n",
    "* geographic location (e.g., higher TEC at equatorial belt compared to mid-latitudes)\n",
    "* time of day (lower TEC at dusk-down time)\n",
    "* season (more TEC at summer hemisphere than winter hemisphere)\n",
    "* levels of geomagnetic and solar activities (higher TEC at solar maxima (with a cycle of 11 years))\n",
    "\n",
    "The ionospheric phase is larger at lower frequencies. Given the same variation of ionosphere TEC and a similar imaging geometry, ionospheric phase at L-band frequency (1.27 GHz) is \n",
    "* 3.9 times larger than S-band (2.5 GHz)\n",
    "* 18.1 times larger than C-band (5.405 GHz) \n",
    "* 57.7 times larger than X-band (9.65 GHz)\n",
    "\n",
    "Here is an example of the impact of ionosphere on InSAR data at equatorial belt: \n"
   ]
  },
  {
   "cell_type": "markdown",
   "metadata": {},
   "source": [
    "![title](docs_iono/iono_Maule.png)"
   ]
  },
  {
   "cell_type": "markdown",
   "metadata": {},
   "source": [
    "stripmapApp allows to estimate ionospheric phase using the split range-spectrum technique. In the following we go back to the ALOS-1 interferogram which we processed in the stripmapApp session and will discuss the processing steps to estimate ionospheric phase."
   ]
  },
  {
   "cell_type": "markdown",
   "metadata": {},
   "source": [
    "# Prepare directories"
   ]
  },
  {
   "cell_type": "markdown",
   "metadata": {},
   "source": [
    "Importing some python modules and setting up some variables: "
   ]
  },
  {
   "cell_type": "code",
   "execution_count": null,
   "metadata": {},
   "outputs": [],
   "source": [
    "import os\n",
    "import numpy as np\n",
    "import matplotlib.pyplot as plt\n",
    "from osgeo import gdal\n",
    "\n",
    "home_dir = os.path.join(os.getenv(\"HOME\"), \"work\")\n",
    "PROCESS_DIR = os.path.join(home_dir, \"Hawaii_ALOS1\")\n",
    "DATA_DIR =  os.path.join(PROCESS_DIR, \"data\")\n",
    "\n",
    "print(\"home directory: \", home_dir)"
   ]
  },
  {
   "cell_type": "markdown",
   "metadata": {},
   "source": [
    "Check if the PROCESS_DIR and DATA_DIR already exist. If they don't exist, we create them:"
   ]
  },
  {
   "cell_type": "markdown",
   "metadata": {},
   "source": [
    "cd to the PROCESS_DIR"
   ]
  },
  {
   "cell_type": "code",
   "execution_count": null,
   "metadata": {},
   "outputs": [],
   "source": [
    "os.chdir(PROCESS_DIR)"
   ]
  },
  {
   "cell_type": "code",
   "execution_count": null,
   "metadata": {},
   "outputs": [],
   "source": [
    "pwd"
   ]
  },
  {
   "cell_type": "markdown",
   "metadata": {},
   "source": [
    "<br>\n",
    "<div class=\"alert alert-info\">\n",
    "<b>Note :</b> \n",
    "In this notebook we will work on the same example shown on the stripmapApp notebook. Please make sure that you have gone through the stripmapApp notebook first and have sucessfuly run the processing steps up to split_range_spectrum. In the current notebook we will continue the steps from split_range_spectrum.  \n",
    "\n",
    "</div>"
   ]
  },
  {
   "cell_type": "markdown",
   "metadata": {},
   "source": [
    "# Setting up input xml files for processing with stripmapApp"
   ]
  },
  {
   "cell_type": "markdown",
   "metadata": {},
   "source": [
    "Modify the stripmapApp.xml file as follows to introduce the \"do split spectrum\" and \"do dispersive\" options."
   ]
  },
  {
   "cell_type": "markdown",
   "metadata": {},
   "source": [
    "### stripmapApp.xml\n",
    "\n"
   ]
  },
  {
   "cell_type": "markdown",
   "metadata": {},
   "source": [
    "```xml\n",
    "<?xml version=\"1.0\" encoding=\"UTF-8\"?>\n",
    "<stripmapApp>\n",
    "  <component name=\"insar\">\n",
    "    <property name=\"sensor name\">ALOS</property>\n",
    "    <component name=\"reference\">\n",
    "        <catalog>reference.xml</catalog>\n",
    "    </component>\n",
    "    <component name=\"secondary\">\n",
    "        <catalog>secondary.xml</catalog>\n",
    "    </component>\n",
    "\n",
    "    <!--\n",
    "    <property name=\"demFilename\">\n",
    "        <value>demLat_N18_N21_Lon_W156_W154.dem.wgs84</value>\n",
    "    </property>\n",
    "    -->\n",
    "    <property name=\"unwrapper name\">icu</property>\n",
    "    \n",
    "    <property name=\"do split spectrum\">True</property>\n",
    "      \n",
    "    <property name=\"do dispersive\">True</property>\n",
    "\n",
    "      \n",
    "</component>\n",
    "</stripmapApp>\n",
    "```"
   ]
  },
  {
   "cell_type": "markdown",
   "metadata": {},
   "source": [
    "<br>\n",
    "<div class=\"alert alert-info\">\n",
    "<b>Note (do rubbersheeting) :</b> \n",
    "There is an optional step for rubbersheeting, which may be required when there is azimuth offsets introduced by ionospheric scintillation. If rubbersheeting is turned on, then a dense azimuth offset map is estimated based on amplitude cross-correlation and is used for more precise resampling.  \n",
    "\n",
    "```xml\n",
    "    <property name=\"do rubbersheeting\">True</property>\n",
    "```    \n",
    "</div>"
   ]
  },
  {
   "cell_type": "markdown",
   "metadata": {},
   "source": [
    "# stripmapApp processing steps"
   ]
  },
  {
   "cell_type": "markdown",
   "metadata": {},
   "source": [
    "To see a full list of processing steps using stripmapApp try the help command:"
   ]
  },
  {
   "cell_type": "code",
   "execution_count": null,
   "metadata": {},
   "outputs": [],
   "source": [
    "!stripmapApp.py --help --steps"
   ]
  },
  {
   "cell_type": "markdown",
   "metadata": {},
   "source": [
    "The default setting of stripmapApp includes the following steps to generate a geocoded interferogram from raw data or SLC images:\n",
    "\n",
    "'startup', 'preprocess', \n",
    "'formslc',\n",
    "'verifyDEM', \n",
    "'topo', \n",
    "'geo2rdr', \n",
    "'coarse_resample', \n",
    "'misregistration', \n",
    "'refined_resample', \n",
    "'interferogram', \n",
    "'filter', \n",
    "'unwrap', \n",
    "'geocode'\n",
    "\n",
    "For ionospheric phase estimation, the following additional steps (in red) are required:\n",
    "\n",
    "'startup', 'preprocess', \n",
    "'formslc',\n",
    "'verifyDEM', \n",
    "'topo', \n",
    "'geo2rdr', \n",
    "'coarse_resample', \n",
    "'misregistration', \n",
    "'refined_resample', \n",
    "<span style=\"color:red\">split_range_spectrum</span>,\n",
    "<span style=\"color:red\">sub_band_resample</span>,\n",
    "'interferogram', \n",
    "<span style=\"color:red\">sub_band_interferogram</span>,\n",
    "'filter', \n",
    "<span style=\"color:red\">filter_low_band</span>,\n",
    "<span style=\"color:red\">filter_high_band</span>,\n",
    "'unwrap',\n",
    "<span style=\"color:red\">unwrap_low_band</span>,\n",
    "<span style=\"color:red\">unwrap_high_band</span>,\n",
    "<span style=\"color:red\">ionosphere</span>,\n",
    ",'geocode'\n",
    "\n",
    "Since the processing steps up to refined_resample, are common for the two workflows with or without ionospheric phase correction, then we need to only run the steps after refined_resample.\n"
   ]
  },
  {
   "cell_type": "markdown",
   "metadata": {},
   "source": [
    "### split_range_spectrum"
   ]
  },
  {
   "cell_type": "markdown",
   "metadata": {},
   "source": [
    "At this step the range spectrum of the reference and secondary SLC images are split to two sub-bands. The sub-bands are chosen to be 1/3 of the spectrum common between reference and secondary images. "
   ]
  },
  {
   "cell_type": "code",
   "execution_count": null,
   "metadata": {},
   "outputs": [],
   "source": [
    "!stripmapApp.py stripmapApp.xml --start=split_range_spectrum --end=split_range_spectrum"
   ]
  },
  {
   "cell_type": "markdown",
   "metadata": {},
   "source": [
    "A folder named \"SplitSpectrum\" with two subfolders, \"lowband\" and \"highband\" which contain the sub-band reference and secondary SLCs are added to the working directory."
   ]
  },
  {
   "cell_type": "code",
   "execution_count": null,
   "metadata": {
    "scrolled": true
   },
   "outputs": [],
   "source": [
    "ls SplitSpectrum"
   ]
  },
  {
   "cell_type": "code",
   "execution_count": null,
   "metadata": {
    "scrolled": true
   },
   "outputs": [],
   "source": [
    "ls SplitSpectrum/lowBand/"
   ]
  },
  {
   "cell_type": "code",
   "execution_count": null,
   "metadata": {
    "scrolled": true
   },
   "outputs": [],
   "source": [
    "ls SplitSpectrum/highBand/"
   ]
  },
  {
   "cell_type": "markdown",
   "metadata": {},
   "source": [
    "### sub_band_resample"
   ]
  },
  {
   "cell_type": "markdown",
   "metadata": {},
   "source": [
    "At this the sub-band secondary SLCs are coregistered to the sub-band reference SLCs. The range azimuth offsets required for coregistration are the same as the full band SLC. "
   ]
  },
  {
   "cell_type": "code",
   "execution_count": null,
   "metadata": {},
   "outputs": [],
   "source": [
    "!stripmapApp.py stripmapApp.xml --start=sub_band_resample --end=sub_band_resample"
   ]
  },
  {
   "cell_type": "markdown",
   "metadata": {},
   "source": [
    "After resampling the sub-band SLCs, the \"lowband\" and \"highband\" folders are added to the \"coregisteredSlc\" folder. "
   ]
  },
  {
   "cell_type": "markdown",
   "metadata": {},
   "source": [
    "### interferogram, sub-band interferogram"
   ]
  },
  {
   "cell_type": "markdown",
   "metadata": {},
   "source": [
    "using the full-band SLCs, the low-band and the high-band SLCs, we get three interferograms at full band, low-band and the high-band of the range spectrum. "
   ]
  },
  {
   "cell_type": "code",
   "execution_count": null,
   "metadata": {},
   "outputs": [],
   "source": [
    "!stripmapApp.py stripmapApp.xml --start=interferogram --end=sub_band_interferogram"
   ]
  },
  {
   "cell_type": "markdown",
   "metadata": {},
   "source": [
    "This will add the lowBand and highBand folders to the interferogram folder."
   ]
  },
  {
   "cell_type": "code",
   "execution_count": null,
   "metadata": {
    "scrolled": true
   },
   "outputs": [],
   "source": [
    "ls interferogram/lowBand/"
   ]
  },
  {
   "cell_type": "code",
   "execution_count": null,
   "metadata": {
    "scrolled": true
   },
   "outputs": [],
   "source": [
    "ls interferogram/highBand/"
   ]
  },
  {
   "cell_type": "markdown",
   "metadata": {},
   "source": [
    "### filter_low_band, filter_high_band"
   ]
  },
  {
   "cell_type": "markdown",
   "metadata": {},
   "source": [
    "To filter the full-band, low-band and high-band interferograms: "
   ]
  },
  {
   "cell_type": "code",
   "execution_count": null,
   "metadata": {
    "tags": []
   },
   "outputs": [],
   "source": [
    "!stripmapApp.py stripmapApp.xml --start=filter  --end=filter_high_band"
   ]
  },
  {
   "cell_type": "markdown",
   "metadata": {},
   "source": [
    "Note that the three interferograms (full- low- and high-bands) visually look similar. "
   ]
  },
  {
   "cell_type": "code",
   "execution_count": null,
   "metadata": {},
   "outputs": [],
   "source": [
    "from osgeo import gdal\n",
    "import matplotlib.pyplot as plt\n",
    "\n",
    "ds = gdal.Open(\"interferogram/filt_topophase.flat\", gdal.GA_ReadOnly)\n",
    "igram_full_band = ds.GetRasterBand(1).ReadAsArray()\n",
    "ds = None\n",
    "\n",
    "ds = gdal.Open(\"interferogram/lowBand/filt_topophase.flat\", gdal.GA_ReadOnly)\n",
    "igram_low_band = ds.GetRasterBand(1).ReadAsArray()\n",
    "ds = None\n",
    "\n",
    "ds = gdal.Open(\"interferogram/highBand/filt_topophase.flat\", gdal.GA_ReadOnly)\n",
    "igram_high_band = ds.GetRasterBand(1).ReadAsArray()\n",
    "ds = None\n",
    "\n",
    "fig = plt.figure(figsize=(18, 16))\n",
    "\n",
    "ax = fig.add_subplot(1,3,1)\n",
    "ax.imshow(np.angle(igram_full_band), cmap='hsv')\n",
    "ax.set_title(\"full-band\")\n",
    "ax.set_axis_off()\n",
    "\n",
    "ax = fig.add_subplot(1,3,2)\n",
    "ax.imshow(np.angle(igram_low_band), cmap='hsv')\n",
    "ax.set_title(\"low-band\")\n",
    "ax.set_axis_off()\n",
    "\n",
    "ax = fig.add_subplot(1,3,3)\n",
    "ax.imshow(np.angle(igram_high_band), cmap='hsv')\n",
    "ax.set_title(\"high-band\")\n",
    "#ax.set_axis_off()\n"
   ]
  },
  {
   "cell_type": "markdown",
   "metadata": {},
   "source": [
    "However, due to small difference between the center frequency of the sub-bands full-bands, there is small difference among the three interferograms. See the difference between the full-band and low-band interferograms:"
   ]
  },
  {
   "cell_type": "code",
   "execution_count": null,
   "metadata": {
    "scrolled": true
   },
   "outputs": [],
   "source": [
    "difference_full_low = igram_full_band*np.conjugate(igram_low_band)\n",
    "fig = plt.figure(figsize=(18, 16))\n",
    "\n",
    "ax = fig.add_subplot(1,3,1)\n",
    "cax = ax.imshow(np.angle(difference_full_low), cmap='jet', vmin = -2.5, vmax =-2)\n",
    "ax.set_title(\"difference of full-band and low band interferograms\")\n",
    "ax.set_axis_off()\n",
    "cbar = fig.colorbar(cax, ticks=[-2.5,-2], orientation='horizontal')\n",
    "\n",
    "igram_low_band = None\n",
    "igram_full_band = None\n",
    "igram_high_band = None\n",
    "difference_full_low = None\n"
   ]
  },
  {
   "cell_type": "markdown",
   "metadata": {},
   "source": [
    "### unwrap_low_band, unwrap_high_band"
   ]
  },
  {
   "cell_type": "markdown",
   "metadata": {},
   "source": [
    "unwrap the full-band, low-band and high-band interferograms"
   ]
  },
  {
   "cell_type": "code",
   "execution_count": null,
   "metadata": {},
   "outputs": [],
   "source": [
    "!stripmapApp.py stripmapApp.xml --start=unwrap  --end=unwrap_high_band"
   ]
  },
  {
   "cell_type": "markdown",
   "metadata": {},
   "source": [
    "### ionosphere"
   ]
  },
  {
   "cell_type": "markdown",
   "metadata": {},
   "source": [
    "This step, uses the low-band and high-bamd unwrapped interferograms to estimate the dispersive and non-dispersive phase components. The disperive phase is related to the ionosphere's TEC variation."
   ]
  },
  {
   "cell_type": "code",
   "execution_count": null,
   "metadata": {},
   "outputs": [],
   "source": [
    "!stripmapApp.py stripmapApp.xml --start=ionosphere --end=ionosphere"
   ]
  },
  {
   "cell_type": "markdown",
   "metadata": {},
   "source": [
    "The following plot shows the estimated dispersive and non-dispersive phase components. "
   ]
  },
  {
   "cell_type": "code",
   "execution_count": null,
   "metadata": {
    "scrolled": true
   },
   "outputs": [],
   "source": [
    "import matplotlib.pyplot as plt\n",
    "def rewrap(data):\n",
    "    return data-np.round(data/2./np.pi)*2*np.pi\n",
    "    \n",
    "    \n",
    "ds = gdal.Open(\"ionosphere/dispersive.bil.filt\", gdal.GA_ReadOnly)\n",
    "iono = ds.GetRasterBand(1).ReadAsArray()\n",
    "ds = None\n",
    "\n",
    "ds = gdal.Open(\"ionosphere/nondispersive.bil.filt\", gdal.GA_ReadOnly)\n",
    "non_dispersive = ds.GetRasterBand(1).ReadAsArray()\n",
    "ds = None\n",
    "\n",
    "ds = gdal.Open(\"ionosphere/mask.bil\", gdal.GA_ReadOnly)\n",
    "mask = ds.GetRasterBand(1).ReadAsArray()\n",
    "ds = None\n",
    "\n",
    "fig = plt.figure(figsize=(18, 16))\n",
    "\n",
    "ax = fig.add_subplot(1,3,1)\n",
    "ax.imshow(rewrap(iono)*mask, cmap='hsv')\n",
    "ax.set_title(\"dispersive (ionospheric phase)\")\n",
    "ax.set_axis_off()\n",
    "\n",
    "ax = fig.add_subplot(1,3,2)\n",
    "ax.imshow(rewrap(non_dispersive)*mask, cmap='hsv')\n",
    "ax.set_title(\"non-dispersive\")\n",
    "ax.set_axis_off()\n",
    "\n",
    "iono = None\n",
    "non_dispersive = None\n"
   ]
  },
  {
   "cell_type": "markdown",
   "metadata": {},
   "source": [
    "<br>\n",
    "<div class=\"alert alert-info\">\n",
    "<b>Note :</b> \n",
    "stripmapApp does not correct the interferogram for ionospheric phase. However, the corrected interferogram can be easily obtained by removing the estimated dispersive phase from the full-band interferogram. Below we do the subtraction in Python, but it can also be done from the command line with the ISCE2 `imageMath.py` application\n",
    "\n",
    "</div>\n"
   ]
  },
  {
   "cell_type": "code",
   "execution_count": null,
   "metadata": {
    "scrolled": true
   },
   "outputs": [],
   "source": [
    "ds = gdal.Open(\"interferogram/filt_topophase.unw\", gdal.GA_ReadOnly)\n",
    "igram = ds.GetRasterBand(2).ReadAsArray()\n",
    "ds = None\n",
    "\n",
    "ds = gdal.Open(\"ionosphere/dispersive.bil.filt\", gdal.GA_ReadOnly)\n",
    "iono = ds.GetRasterBand(1).ReadAsArray()\n",
    "ds = None\n",
    "\n",
    "igram_iono_corrected = igram - iono\n",
    "\n",
    "fig = plt.figure(figsize=(18, 16))\n",
    "\n",
    "ax = fig.add_subplot(1,3,1)\n",
    "ax.imshow(rewrap(igram), cmap='hsv')\n",
    "ax.set_title(\"before ionospheric phase correction\")\n",
    "ax.set_axis_off()\n",
    "\n",
    "ax = fig.add_subplot(1,3,2)\n",
    "ax.imshow(rewrap(igram_iono_corrected)*mask, cmap='hsv')\n",
    "ax.set_title(\"after ionospheric phase correction\")\n",
    "ax.set_axis_off()\n",
    "\n",
    "iono = None\n",
    "igram = None\n",
    "igram_iono_corrected = None"
   ]
  },
  {
   "cell_type": "markdown",
   "metadata": {},
   "source": [
    "### geocoding"
   ]
  },
  {
   "cell_type": "markdown",
   "metadata": {},
   "source": [
    "By runing the geocode step, the interferogram, the dispersive phase and the mask in the ionosphere folder is geocoded. "
   ]
  },
  {
   "cell_type": "code",
   "execution_count": null,
   "metadata": {},
   "outputs": [],
   "source": [
    "!stripmapApp.py stripmapApp.xml --start=geocode  --end=geocode"
   ]
  },
  {
   "cell_type": "markdown",
   "metadata": {},
   "source": [
    "The follwoing plot comapres the geocoded interferogram before and after ionospheric phase estimation. "
   ]
  },
  {
   "cell_type": "code",
   "execution_count": null,
   "metadata": {
    "scrolled": true
   },
   "outputs": [],
   "source": [
    "# reading the multi-looked wrapped interferogram\n",
    "ds = gdal.Open(\"interferogram/filt_topophase.unw.geo\", gdal.GA_ReadOnly)\n",
    "igram = ds.GetRasterBand(2).ReadAsArray()\n",
    "ds = None\n",
    "\n",
    "ds = gdal.Open(\"ionosphere/dispersive.bil.unwCor.filt.geo\", gdal.GA_ReadOnly)\n",
    "iono = ds.GetRasterBand(1).ReadAsArray()\n",
    "ds = None\n",
    "\n",
    "ds = gdal.Open(\"ionosphere/mask.bil.geo\", gdal.GA_ReadOnly)\n",
    "mask = ds.GetRasterBand(1).ReadAsArray()\n",
    "ds = None\n",
    "\n",
    "igram_iono_corrected = (igram - iono)*mask\n",
    "\n",
    "fig = plt.figure(figsize=(14,12))\n",
    "\n",
    "ax = fig.add_subplot(1,2,1)\n",
    "\n",
    "cax = ax.imshow(rewrap(igram), cmap = 'hsv')\n",
    "ax.set_title(\"geocoded unwrapped (before ionospheric phase correction)\")\n",
    "ax.set_axis_off()\n",
    "\n",
    "ax = fig.add_subplot(1,2,2)\n",
    "cax = ax.imshow(rewrap(igram_iono_corrected), cmap = 'hsv')\n",
    "ax.set_title(\"geocoded unwrapped (after ionospheric phase correction)\")\n",
    "ax.set_axis_off()\n",
    "\n",
    "igram = None\n",
    "iono = None\n",
    "igram_iono_corrected = None\n",
    "mask = None"
   ]
  },
  {
   "cell_type": "markdown",
   "metadata": {},
   "source": [
    "# Supplementary information"
   ]
  },
  {
   "cell_type": "markdown",
   "metadata": {},
   "source": [
    "### Low-pass filtering the estimated ionospheric phase"
   ]
  },
  {
   "cell_type": "markdown",
   "metadata": {},
   "source": [
    "The estimated ionospheric phase from split range-spectrum method is usually noisy. Small decorrelation noise in sub-band interferograms amplifies significantly in the estimated ionospheric phase. Therefore low-pass filtering is usually necessary to reduce noise from the ionospheric noise. The default filter included in stripmapApp is an iterative low-pass filter with a gaussian kernel whose parameters can be controlled from the input xml file. "
   ]
  },
  {
   "cell_type": "markdown",
   "metadata": {},
   "source": [
    "```xml\n",
    "<?xml version=\"1.0\" encoding=\"UTF-8\"?>\n",
    "<stripmapApp>\n",
    "  <component name=\"insar\">\n",
    "    <property name=\"sensor name\">ALOS</property>\n",
    "    <component name=\"reference\">\n",
    "        <catalog>reference.xml</catalog>\n",
    "    </component>\n",
    "    <component name=\"secondary\">\n",
    "        <catalog>secondary.xml</catalog>\n",
    "    </component>\n",
    "\n",
    "    <property name=\"demFilename\">\n",
    "        <value>demLat_N18_N21_Lon_W156_W154.dem.wgs84</value>\n",
    "    </property>\n",
    "\n",
    "    <property name=\"unwrapper name\">icu</property>\n",
    "    \n",
    "    <property name=\"do split spectrum\">True</property>\n",
    "    \n",
    "    <property name=\"do dispersive\">True</property>\n",
    "\n",
    "    <property name=\"dispersive filter kernel x-size\">800</property>\n",
    "    <property name=\"dispersive filter kernel y-size\">800</property>\n",
    "    <property name=\"dispersive filter kernel sigma_x\">100</property>\n",
    "    <property name=\"dispersive filter kernel sigma_y\">100</property>\n",
    "    <property name=\"dispersive filter kernel rotation\">0</property>\n",
    "    <property name=\"dispersive filter number of iterations\">5</property>\n",
    "    <property name=\"dispersive filter mask type\">coherence</property>\n",
    "    <property name=\"dispersive filter coherence threshold\">0.6</property>\n",
    "      \n",
    "</component>\n",
    "</stripmapApp>\n",
    "```"
   ]
  },
  {
   "cell_type": "markdown",
   "metadata": {},
   "source": [
    "![title](docs_iono/Kernel.png)"
   ]
  },
  {
   "cell_type": "markdown",
   "metadata": {},
   "source": [
    "### azimuth offsets induced by high ionospheric phase gradient"
   ]
  },
  {
   "cell_type": "markdown",
   "metadata": {},
   "source": [
    "The Doppler frequency induced by high ionospheric phase gradient introduces an extra time shift (azimuth offset) which if not accounted for causes decorrelation. This effect only is observed when ionospheric phase has a spatially high frequency component usually caused by scintillation in the equatorial belt. stripmapApp allows to account for this extra azimuth shift using the optional step \"rubber_sheet\", which if turned on, extra azimuth shifts are computed using amplitude cross-correlation. This requires starting from an earlier step in the processing than we used in this notebook and setting `<property name=\"do rubbersheetingAzimuth\">True</property>`. Here is an example showing the impact of such ionosphere's induced azimuth offsets on an L-band ALOS-1 interferogram in equatorial belt.\n",
    "\n",
    "![title](docs_iono/AzOffsets.png)"
   ]
  },
  {
   "cell_type": "code",
   "execution_count": null,
   "metadata": {
    "scrolled": true
   },
   "outputs": [],
   "source": []
  }
 ],
 "metadata": {
  "kernelspec": {
   "display_name": "earthscope_insar [conda env:.local-earthscope_insar]",
   "language": "python",
   "name": "conda-env-.local-earthscope_insar-py"
  },
  "language_info": {
   "codemirror_mode": {
    "name": "ipython",
    "version": 3
   },
   "file_extension": ".py",
   "mimetype": "text/x-python",
   "name": "python",
   "nbconvert_exporter": "python",
   "pygments_lexer": "ipython3",
   "version": "3.11.4"
  }
 },
 "nbformat": 4,
 "nbformat_minor": 4
}
