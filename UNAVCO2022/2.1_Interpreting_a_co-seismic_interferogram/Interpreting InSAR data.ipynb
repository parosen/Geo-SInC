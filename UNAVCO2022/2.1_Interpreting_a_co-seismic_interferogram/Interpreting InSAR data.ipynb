{
 "cells": [
  {
   "cell_type": "markdown",
   "metadata": {},
   "source": [
    "# Interpreting InSAR data\n",
    "\n",
    "An exercise to try to interpret and unwrap an interferogram by hand"
   ]
  },
  {
   "cell_type": "markdown",
   "metadata": {},
   "source": [
    "## Background\n",
    "\n",
    "On 1 October 1995, a M<sub>w</sub> 6.4 earthquake caused extensive damage to the town of Dinar in western Turkey, a region of active tectonic extension, killing 92 people. The earthquake created a 10 km continuous surface rupture running along the mapped Dinar-Civril fault with a maximum vertical offset of 25–30 cm, tailing off to around 15 cm to the SE. A Synthetic Aperture Radar interferogram has been generated from ERS-1/2 images that spanned the event, separated in time by 5 months. \n",
    "\n",
    "You are provided with files containing the following:\n",
    "<ul>\n",
    "    <li>The Dinar earthquake interferogram (<a href=\"interferogram_color.pdf\" target=new>interferogram_color.pdf</a> or <a href=\"interferogram_color.png\" target=new>interferogram_color.png</a>, see also Figure 1 below)</li>\n",
    "    <li>A grid, for plotting a line-of-sight displacement profile across the center of the deformation pattern, and a topographic profile drawn along the same profile line (<a href=\"profile_b+w.pdf\" target=new>profile_b+w.pdf</a> or <a href=\"profile_b+w.png\" target=new>profile_b+w.png</a>)</li>\n",
    "</ul>\n",
    "\n",
    "The original intent was that you could print out the two pdfs and work with the diagrams on paper, but this is obviously not as easy to do when the exercise is not taught in person (but go for it if you have access to a color printer; try to print them out at the same scale). We have a few workarounds that we can try, however, using the png image versions of the files and online tools.\n",
    "\n",
    "You can also optionally download two kmz files &ndash; an image overlay, and a file containing some of the annotations shown in Figure 1 &ndash; for use in Google Earth. "
   ]
  },
  {
   "cell_type": "markdown",
   "metadata": {},
   "source": [
    "## The interferogram, and what it tells us about the earthquake\n",
    "\n",
    "The interferogram (Figure 1) represents a map of the displacement of the ground surface during the earthquake. The pattern of interference fringes can be interpreted as a series of contours of equal surface displacement. When interpreting such a pattern it is important to know the sign convention used in plotting the interferogram. In this case, <b>each successive cycle of colors from blue to yellow to red indicates an increase in the distance between the ground and the satellite</b> (positive 'range change') <b>of 2.8 cm</b>. If we assume that the 'far field' of the interferogram (i.e. the areas far away from the fault) was not displaced in the earthquake, then we can estimate the amount of displacement in the earthquake by starting in the far field and counting the fringes inwards.\n",
    "\n",
    "Such data can be used to give additional information about the earthquake that could not be determined by seismology or field investigation alone, such as the amounts and relative proportions of uplift and subsidence caused by the event over an area tens of kilometers wide! \n",
    "<br><br>\n",
    "<img src=\"interferogram_color.png\" align=center>\n",
    "<br>\n",
    "<b>Figure 1:</b> ERS-1/2 interferogram of the 1995 Dinar, Turkey earthquake. Each cycle of colors from blue to yellow to red indicates an increase in distance between the satellite and ground (positive range change) of 2.8 cm. Black line indicates the location of the earthquake surface rupture. Thick white dashed line represents zero displacement from the earthquake, thin white dotted lines indicate the locations of the first half-fringe of deformation (labels indicate the sense of range change, either positive or negative).\n"
   ]
  },
  {
   "cell_type": "markdown",
   "metadata": {},
   "source": [
    "## The Dinar-Civril fault, uplift and subsidence\n",
    "\n",
    "The Dinar-Civril fault is a normal fault, a type of dip-slip fault in which the main mode of motion is extensional. Normal faults are typically planar structures that are inclined ('dip') at angles between 30° and 70°. The block of crustal rock above the fault (known as the hangingwall block, or simply the hangingwall) slides downwards and away from the fault, whereas the block beneath the fault (known as the footwall black or just the footwall), slides upwards and away from the fault.\n",
    "\n",
    "[The terms footwall and hangingwall originate from mining – when mining along a fault, the footwall was the block you were standing on, and the hangingwall the block that you hung your lantern from.]\n",
    "\n",
    "Examine the interferogram, either on screen, on paper or in Google Earth. Count the fringes on either side of the fault, and estimate the maximum vertical displacements. Then use the sign convention of the color scheme to interpret these displacements as uplift and/or subsidence. [Note that because the earthquake was a dip-slip event, most of the surface deformation was vertical and hence you can think of the fringes as contours of vertical displacement.] \n",
    "\n",
    "<b>Edit the cell below and type in your answers to the following questions:</b>\n",
    "\n",
    "<ul><li><b>The hangingwall is on the SW site of the fault in this case. How many hangingwall fringes are there? How much was the hangingwall displaced, and in which direction (up or down), during the earthquake?</b>\n",
    "\n",
    "Hangingwall fringes:  ______\n",
    "\n",
    "\n",
    "Hangingwall displacement:  ______\n",
    "\n",
    "\n",
    "Direction of displacement: ______\n",
    "\n",
    "</li></ul><br>\n",
    "    \n",
    "<ul><li><b>The footwall is on the NE side in this case. How many fringes are there on the footwall and how much was it displaced (and in which direction)</b>\n",
    "\n",
    "Footwall fringes:  ______\n",
    "\n",
    "\n",
    "Footwall displacement:  ______\n",
    "\n",
    "\n",
    "Direction of displacement: ______\n",
    "</li></ul><br>"
   ]
  },
  {
   "cell_type": "markdown",
   "metadata": {},
   "source": [
    "## Unwrapping the interferogram along a profile\n",
    "\n",
    "To assist with interpreting the deformation in an interferogram, it is common to 'unwrap' it &ndash; i.e. convert the interferometric fringes from periodic signals into continuous displacements. If a 'wrapped' interferogram is similar to a contour map with unlabelled contours (albeit contours where you have some sense of the slope direction, up or down), unwrapping is like assigning heights to the contours.\n",
    "\n",
    "Using the grid provided, and starting in the far field, draw a vertical deformation profile for the Dinar earthquake along the section line X–X’, converting the repeated fringe intervals into cumulative displacements. Do not continue the profile through areas that are incoherent (i.e. noisy), such as the area SW of the Dinar-Civril fault. \n",
    "\n",
    "In order to draw this profile, you have a few options:\n",
    "\n",
    "<ol>\n",
    "    <li>Print out the pdfs, at the same scale, and draw the profile on the paper grid.</li>\n",
    "    <li>If you have desktop drawing software, like Adobe Illustrator, Affinity Designer, Corel Draw, or <a href=\"https://inkscape.org/release/inkscape-1.0/\" target=new>Inkscape</a> (which is free), you can import the pdfs into those packages and annotate the grid that way.</li>\n",
    "    <li>If you don't have access to desktop packages, there are a couple of possibilities of online tools that you could use. I made a <a href=\"https://docs.google.com/drawings/d/1v9cSyp1WW4XZdSAQDxt4j0Ctmmq2RFG4ixuIG3VezDA/edit?usp=sharing\" target=new>Google Draw document</a> that you could make a copy of and edit. Alternatively, I made a similar document (<a href=\"interpreting_insar_data.drawio\">interpreting_insar_data.drawio</a>) for editing within <a href=\"https://draw.io\" target=new>draw.io</a>. Both are slightly clunky, but also free online drawing tools.</li> \n",
    "</ol>\n",
    "\n",
    "\n",
    "Hints:\t\n",
    "  \n",
    "(i) At 2.8 cm per fringe, 2½ fringes = 0.07 m, and 5 fringes = 0.14 m. \n",
    "\n",
    "(ii) Where the fringe gradient is at its largest, counting every fifth fringe is reasonable.\n",
    "\n",
    "(iii) Rather than try to track displacement across the fault, consider displacements on the hangingwall and footwall separately, starting each time with zero displacement at either end of the profile. Yes, you can assume that the ends of the profile didn’t move!\n",
    "\n",
    "<b>Once you are done with your profile, some questions to consider: (edit the cell to include your answers below)</b>\n",
    "\n",
    "What was the total throw in the earthquake (i.e. uplift + subsidence)? \n",
    "\n",
    "__ \n",
    "__ \n",
    "__\n",
    "\n",
    "<br><br><br><br>\n",
    "What was the ratio of uplift to subsidence in the earthquake? \n",
    "\n",
    "__ \n",
    "__ \n",
    "__\n",
    "\n",
    "<br><br><br><br>\n",
    "Elastic modeling of the interferogram and information from seismology suggests that the fault dips at 40 degrees. Considering the throw observed in the earthquake, how much slip on the fault would be required to produce it?\n",
    "\n",
    "__ \n",
    "__ \n",
    "__ \n",
    "\n",
    "<br><br><br><br>"
   ]
  },
  {
   "cell_type": "markdown",
   "metadata": {},
   "source": [
    "## And turn it in!\n",
    "\n",
    "Once you are done with the exercise, please make a pdf of this completed notebook and either a pdf or screengrab showing your completed profile and upload them to your folder in the shared 'homeworks' Google Drive (https://drive.google.com/drive/folders/16llFWK3eaHwd564dagoHQbQZjWHnehou)"
   ]
  },
  {
   "cell_type": "markdown",
   "metadata": {},
   "source": [
    "## Readings and acknowledgements\n",
    "\n",
    "This exercise was adapted by Gareth Funning (gareth@ucr.edu) from an exercise originally developed by Tim Wright of the University of Leeds. A longer, and more geological, form of the exercise is found in Unit 3 of the GETSI module, 'Imaging Active Tectonics', available at https://serc.carleton.edu/getsi/\n",
    "\n",
    "For further information on the Dinar earthquake, the interferogram and its interpretation, you can read:\n",
    "\n",
    "Wright, T. J., Parsons, B. E., Jackson, J. A., Haynes, M., Fielding, E. J., England, P. C. and Clarke, P. J. (1999), Source parameters of the 1 October 1995 Dinar (Turkey) earthquake from SAR interferometry and seismic bodywave modelling, Earth Planet. Sci. Lett., 172, 23-37. \n"
   ]
  }
 ],
 "metadata": {
  "kernelspec": {
   "display_name": "unavco [conda env:unavco]",
   "language": "python",
   "name": "conda-env-unavco-py"
  },
  "language_info": {
   "codemirror_mode": {
    "name": "ipython",
    "version": 3
   },
   "file_extension": ".py",
   "mimetype": "text/x-python",
   "name": "python",
   "nbconvert_exporter": "python",
   "pygments_lexer": "ipython3",
   "version": "3.8.13"
  }
 },
 "nbformat": 4,
 "nbformat_minor": 4
}
