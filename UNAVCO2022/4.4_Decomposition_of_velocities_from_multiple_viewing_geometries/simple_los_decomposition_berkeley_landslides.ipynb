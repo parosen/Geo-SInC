{
 "cells": [
  {
   "cell_type": "markdown",
   "id": "clinical-transcript",
   "metadata": {},
   "source": [
    "# Decomposing InSAR velocities from multiple lines-of-sight\n",
    "\n",
    "Gareth Funning, University of California, Riverside\n",
    "\n",
    "InSAR displacements and velocities are one-dimensional measurements $-$ the three-dimensional movement of the ground surface is projected into the radar line-of-sight (LOS). While many of us develop some intuition for how surface deformation is represented in LOS, it is still often more intuitive to consider deformation in directions that come more naturally to us, such as the vertical direction, or horizontal directions. Luckily, if we have enough information $-$ for example, from multiple different lines-of-sight $-$ we can decompose the LOS information into the directions of our choice... \n"
   ]
  },
  {
   "cell_type": "markdown",
   "id": "b4c8559f",
   "metadata": {},
   "source": [
    "## 0. Dependencies\n",
    "\n",
    "We don't need many libraries to do this, but we do need numpy..."
   ]
  },
  {
   "cell_type": "code",
   "execution_count": 1,
   "id": "secret-killing",
   "metadata": {},
   "outputs": [],
   "source": [
    "import numpy as np       # what is life without numpy?"
   ]
  },
  {
   "cell_type": "markdown",
   "id": "bc732065",
   "metadata": {},
   "source": [
    "## 1. The Berkeley landslides\n",
    "\n",
    "The example we will use here is of the Berkeley Hills landslides in northern California. For several decades, it has been apparent, from damage to roads, pipes and houses, that there are multiple creeping landslides in the hills to the northwest of the University of California campus in Berkeley, where many of the faculty, staff and students live. (I lived in that area as a postdoc, and discovered, when I saw the InSAR data for the area, that I was living on one of them! Oops.) These landslides are fast-moving compared with the other hazardous geologic structures in the area, such as the Hayward fault, and are prominent in InSAR data from the area. \n",
    "\n",
    "We will look at persistent scatterer InSAR data (the image below) from two different viewing geometries that capture the landslide signals well $-$ an ERS descending track data set (top), and a Radarsat ascending track dataset (bottom). \n",
    "\n",
    "Some useful details:\n",
    "\n",
    "- Both data sets show **range change** velocity, estimated **with respect to 'stable Berkeley’** (the SW corner), **whose velocity is set to zero**. \n",
    "- **Range change** is the sign convention in which **positive velocities indicate the ground is moving away from the satellite (and *vice-versa*)**.\n",
    "- Although the data sets cover different (but overlapping) time periods, we are going to assume that the **average velocities are constant over the whole time period**, and thus can be directly compared (and combined). \n",
    "- Track (T) and 'Look' (L) directions are plotted as white arrows on each plot. Note that **both satellites were right-looking**.\n",
    "- The flight azimuth ($\\phi$) and incidence angles ($\\theta$) for each data set are provided\n",
    "- **The five largest landslides appear as small, self-contained areas**, outlined in pink, **whose LOS velocities differ from their surrounding areas**. The average velocity within each area is provided on the plot.\n",
    "\n",
    "![plots of two InSAR datasets](images/berkeley_landslides.png)\n",
    "\n",
    "At first glance, there are some obvious differences between the plots of the descending and ascending data: \n",
    "\n",
    "- **The sense of relative motion between the landslides and their surrounding areas is different.** (What does that imply about the motion of the landslides $-$ are they moving primarily vertically or horizontally? What is your reasoning there?)\n",
    "\n",
    "- You may also notice that the **descending track data show an abrupt change in LOS velocity in the easternmost area of the data set**. This is the signature of creep (slow, aseismic movement) on the Hayward fault, a strike-slip fault responsible for a M~7 earthquake in 1868. The surface fault trace is located along the change in velocity. (Assuming that all of the fault-related deformation is horizontal, what is the sense of motion of the fault $-$ left-lateral or right-lateral?)"
   ]
  },
  {
   "cell_type": "markdown",
   "id": "vietnamese-shirt",
   "metadata": {},
   "source": [
    "## 2. Line-of-sight vectors: a review\n",
    "\n",
    "We have met LOS vectors before, when considering the **forward problem** of estimating what the LOS displacement would be for a given three-dimensional displacement. Now, of course, we want to solve the **inverse problem**, of what the displacement in a particular direction should be, given the LOS deformation in two or more different viewing geometries.\n",
    "\n",
    "The estimation of the LOS vector is purely geometric, and relates to the direction the radar is pointing, and the incidence angle of the radar with the ground. All of the major SAR satellite missions to date have been right-looking $-$ their radars point 90$^\\circ$ to the right of their flight azimuth. (**NB** NISAR will be the first major satellite mission to have a permanently *left-looking* radar antenna, which will be very exciting, and will help to constrain diplacements in 3D when combined with right-looking data from Sentinel-1.) \n",
    "\n",
    "We are going to make a couple of simplifying assumptions when calculating the LOS vectors for our data:\n",
    "- The pointing direction of the radar is fixed (which is appropriate for stripmap data)\n",
    "- The incidence angle of the radar is fixed (which is reasonable for a small area)\n",
    "\n",
    "And the rest is just geometry and trigonometry!\n",
    "\n",
    "First, we can look at the incidence of the radar (represented by the unit vector $\\hat{p}$) in cross-section, and decompose it into horizontal and vertical components:\n",
    "\n",
    "![diagram in cross-section view of horizontal and vertical components of incidence](images/vertical.png)\n",
    "\n",
    "(The negative sign here is due to the downward pointing of the radar.)\n",
    "\n",
    "Next, we consider the horizontal component of incidence, which is itself a function of the east and north components. \n",
    "\n",
    "![diagram in map view decomposing the horizontal component into north and east directions](images/horizontal.png)\n",
    "\n",
    "With this, we have all three components of the LOS vector, $\\hat{p}$, defined:\n",
    "\n",
    "$$\\hat{p} = [p_x, p_y, p_z] = [\\cos\\phi\\sin\\theta, -\\sin\\phi\\sin\\theta, -\\cos\\theta]$$\n",
    "\n",
    "Let's calculate them for our two data sets, using the values of (flight) azimuth and incidence for each one!"
   ]
  },
  {
   "cell_type": "code",
   "execution_count": 6,
   "id": "behavioral-bruce",
   "metadata": {},
   "outputs": [],
   "source": [
    "# calculate the LOS vector components for the ascending data (you need to enter the values)\n",
    "\n",
    "asc_azi=np.radians()            # remember that Python does its trig in radians\n",
    "\n",
    "asc_inc=np.radians()\n",
    "\n",
    "p_asc=np.array([np.cos(asc_azi)*np.sin(asc_inc),-np.sin(asc_azi)*np.sin(asc_inc),-np.cos(asc_inc) ])"
   ]
  },
  {
   "cell_type": "code",
   "execution_count": 11,
   "id": "governmental-squad",
   "metadata": {},
   "outputs": [
    {
     "data": {
      "text/plain": [
       "array([ 0.5469732 ,  0.11626274, -0.82903757])"
      ]
     },
     "execution_count": 11,
     "metadata": {},
     "output_type": "execute_result"
    }
   ],
   "source": [
    "# and our (ascending, Radarsat) LOS vector is...\n",
    "\n",
    "p_asc"
   ]
  },
  {
   "cell_type": "code",
   "execution_count": 13,
   "id": "greater-hierarchy",
   "metadata": {},
   "outputs": [],
   "source": [
    "# calculate the LOS vector components for the descending data\n",
    "\n",
    "dsc_azi=np.radians()\n",
    "\n",
    "dsc_inc=np.radians()\n",
    "\n",
    "p_dsc=np.array([np.cos(dsc_azi)*np.sin(dsc_inc),-np.sin(dsc_azi)*np.sin(dsc_inc),-np.cos(dsc_inc) ])"
   ]
  },
  {
   "cell_type": "code",
   "execution_count": 14,
   "id": "secure-hindu",
   "metadata": {},
   "outputs": [
    {
     "data": {
      "text/plain": [
       "array([-0.3835523 ,  0.07455501, -0.92050485])"
      ]
     },
     "execution_count": 14,
     "metadata": {},
     "output_type": "execute_result"
    }
   ],
   "source": [
    "# and our (descending, ERS) LOS vector is...\n",
    "\n",
    "p_dsc"
   ]
  },
  {
   "cell_type": "markdown",
   "id": "8444ca26",
   "metadata": {},
   "source": [
    "Do these values make sense? Things to look for:\n",
    "- Are the relative sizes of the horizontal and vertical components consistent with the different incidence angles?\n",
    "- Are the signs of the east components consistent with the look directions in the figures?\n",
    "- Are the north components consistent with a polar-orbiting satellite (i.e. small)?"
   ]
  },
  {
   "cell_type": "markdown",
   "id": "indian-sacrifice",
   "metadata": {},
   "source": [
    "## 3. How to invert for decomposed LOS velocities"
   ]
  },
  {
   "cell_type": "code",
   "execution_count": 9,
   "id": "circular-fever",
   "metadata": {},
   "outputs": [],
   "source": [
    "# assemble all that into a matrix...\n",
    "P=np.vstack(([p_asc[0],p_asc[2]],[p_dsc[0],p_dsc[2]]))"
   ]
  },
  {
   "cell_type": "code",
   "execution_count": 10,
   "id": "tropical-bangkok",
   "metadata": {},
   "outputs": [
    {
     "data": {
      "text/plain": [
       "array([[ 0.5469732 , -0.82903757],\n",
       "       [-0.3835523 , -0.92050485]])"
      ]
     },
     "execution_count": 10,
     "metadata": {},
     "output_type": "execute_result"
    }
   ],
   "source": [
    "# let's see what that looks like\n",
    "P"
   ]
  },
  {
   "cell_type": "markdown",
   "id": "alternate-crossing",
   "metadata": {},
   "source": [
    "## 4. Let's solve for some deformation rates!"
   ]
  },
  {
   "cell_type": "code",
   "execution_count": 11,
   "id": "solar-triumph",
   "metadata": {},
   "outputs": [],
   "source": [
    "# here are all the velocities for all the landslides\n",
    "r_asc_all=np.array([-7.2,-4.3,-4.6,-2.8,-12.1])\n",
    "r_dsc_all=np.array([12.2, 2.7, 5.3, 5.0, 12.0])"
   ]
  },
  {
   "cell_type": "code",
   "execution_count": 23,
   "id": "fitted-billy",
   "metadata": {},
   "outputs": [
    {
     "name": "stdout",
     "output_type": "stream",
     "text": [
      "landslide 1\n",
      "  east velocity=-20.4 mm/yr, vertical velocity=-4.8 mm/yr\n",
      "landslide 2\n",
      "  east velocity= -7.5 mm/yr, vertical velocity= 0.2 mm/yr\n",
      "landslide 3\n",
      "  east velocity=-10.5 mm/yr, vertical velocity=-1.4 mm/yr\n",
      "landslide 4\n",
      "  east velocity= -8.2 mm/yr, vertical velocity=-2.0 mm/yr\n",
      "landslide 5\n",
      "  east velocity=-25.7 mm/yr, vertical velocity=-2.3 mm/yr\n"
     ]
    }
   ],
   "source": [
    "# let's loop through them!\n",
    "for i in range(len(r_asc_all)):\n",
    "    \n",
    "    # grab the values of range change rate for this landslide, make a vector\n",
    "    r=np.vstack(([r_asc_all[i]],[r_dsc_all[i]]))\n",
    "    \n",
    "    # inverse of PTP\n",
    "    PTPinv=np.linalg.inv(np.matmul(P.T,P))\n",
    "    # and solve for the decomposed velocities!\n",
    "    u=np.matmul(PTPinv,np.matmul(P.T,r))\n",
    "\n",
    "    # and let 'em know what you got\n",
    "    print(\"landslide {0}\".format(i+1))\n",
    "    print(\"  east velocity={0:5.1f} mm/yr, vertical velocity={1:4.1f} mm/yr\".format(u[0,0],u[1,0]))"
   ]
  },
  {
   "cell_type": "markdown",
   "id": "3f5f8dea",
   "metadata": {},
   "source": [
    "## 5. Want to know more?\n",
    "\n",
    "The descending track ERS data were published in a study by George Hilley and co-authors in 2004, which comes up with similar estimates of the average velocities by projecting velocities from each landslide into the downslope direction. They also noted that there was a surge in landslide movement during the El Nino winter of 1997-1998, a period of heavy rains.\n",
    "\n",
    "Hilley, G. E., R. Burgmann, A. Ferretti, F. Novali and F. Rocca, 2004, Dynamics of Slow-Moving Landslides from Permanent Scatterer Analysis, Science, 304, 1952$-$1955, https://doi.org/10.1126/science.1098821\n",
    "\n",
    "For investigations into the efficacy of inverting for three-dimensional velocities (and why different incidences from  "
   ]
  },
  {
   "cell_type": "code",
   "execution_count": null,
   "id": "bee82c1d",
   "metadata": {},
   "outputs": [],
   "source": []
  }
 ],
 "metadata": {
  "kernelspec": {
   "display_name": "Python 3 (ipykernel)",
   "language": "python",
   "name": "python3"
  },
  "language_info": {
   "codemirror_mode": {
    "name": "ipython",
    "version": 3
   },
   "file_extension": ".py",
   "mimetype": "text/x-python",
   "name": "python",
   "nbconvert_exporter": "python",
   "pygments_lexer": "ipython3",
   "version": "3.8.13"
  }
 },
 "nbformat": 4,
 "nbformat_minor": 5
}
