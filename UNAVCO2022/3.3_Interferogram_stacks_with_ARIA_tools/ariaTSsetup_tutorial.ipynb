{
 "cells": [
  {
   "cell_type": "markdown",
   "source": [
    "# Preparing ARIA standard GUNW products layers for time-series analysis using ariaTSsetup.py\n",
    "\n",
    "**Author**: Simran Sangha, David Bekaert - Jet Propulsion Laboratory\n",
    "\n",
    "This notebook provides an overview of the functionality included in the **ariaTSsetup.py** program. Specifically, we give examples on how to extract data and meta-data layers from ARIA Geocoded UNWrapped interferogram (GUNW) products over a user defined area of interest and prepare the data into a stack for time-series ingestion.\n",
    "\n",
    "In this notebook, we will demonstrate how to:\n",
    "- Extract data layers (unwrapped phase, coherence) and imaging geometry layers (azimuth angle, incidence angle, look angle) necessary for building time-series\n",
    "- Prepare the extracted data into a stack for time-series ingestion\n",
    "\n",
    "    \n",
    "<div class=\"alert alert-warning\">\n",
    "Both the initial setup (<b>Prep A</b> section) and download of the data (<b>Prep B</b> section) should be run at the start of the notebook. The overview sections do not need to be run in order. In the application section the ariaTSsetup commandline call at the top must be run first, but the rest of the section does not need to be run in order.\n",
    "</div>\n",
    "\n",
    "<div class=\"alert alert-danger\">\n",
    "<b>Potential Errors:</b> \n",
    "    \n",
    "- GDAL uses \"HDF5\" driver instead of \"netCDF/Network Common Data Format\" on GUNW products. Verify GDAL version >= 3.\n",
    "- ARIA-tools needs to be installed to run this notebook\n",
    "</div>\n",
    "\n",
    "\n",
    "<div class=\"alert alert-info\">\n",
    "    <b>Terminology:</b>\n",
    "    \n",
    "- *Acquisition*: An image acquired by the satellite for a given date and time.\n",
    "- *Interferogram*: An unwrapped image containing the surface displacement accumulated between two acquisitions.\n",
    "- *Frame*: Outline of a product ground footprint.\n",
    "- *Along-track*: The direction along satellite flight path. \n",
    "    </div>\n",
    "    "
   ],
   "metadata": {}
  },
  {
   "cell_type": "markdown",
   "source": [
    "## Prep A. Initial setup of the notebook"
   ],
   "metadata": {}
  },
  {
   "cell_type": "markdown",
   "source": [
    "Below we set up the directory structure for this notebook exercise. In addition, we load the required modules into our python environment using the **`import`** command. We also explicitly enable exceptions for GDAL as this allows us to capture GDAL errors."
   ],
   "metadata": {}
  },
  {
   "cell_type": "code",
   "execution_count": null,
   "source": [
    "# option to control the use of pre-staged data; [False/True]\n",
    "Use_Staged_Data = False\n",
    "\n",
    "# ------------------------------------------------------------------------------------------- #\n",
    "# no changed below needed:\n",
    "\n",
    "import os, copy\n",
    "import shutil\n",
    "import subprocess\n",
    "from osgeo import gdal, ogr\n",
    "import numpy as np\n",
    "import matplotlib.pyplot as plt\n",
    "from matplotlib.ticker import FuncFormatter, FormatStrFormatter, StrMethodFormatter\n",
    "from mpl_toolkits.axes_grid1 import make_axes_locatable\n",
    "import copy\n",
    "\n",
    "%matplotlib inline\n",
    "\n",
    "## Defining the home and data directories at the processing location\n",
    "work_dir = os.path.abspath(os.getcwd())\n",
    "work_dir = os.path.join(os.path.abspath(os.getcwd()), 'ariaTSsetup_output')\n",
    "tutorial_home_dir = os.path.abspath(os.getcwd())\n",
    "print(\"Work directory: \", work_dir)\n",
    "print(\"Tutorial directory: \", tutorial_home_dir)\n",
    "\n",
    "# Enable GDAL/OGR exceptions\n",
    "gdal.UseExceptions()\n",
    "\n",
    "# Verifying if ARIA-tools is installed correctly\n",
    "try:\n",
    "    import ARIAtools.shapefile_util as shputil\n",
    "except:\n",
    "    raise Exception('ARIA-tools is missing from your PYTHONPATH')\n",
    "        \n",
    "if not os.path.exists(work_dir):\n",
    "    os.mkdir(work_dir)\n",
    "os.chdir(work_dir)\n",
    "\n",
    "if Use_Staged_Data:\n",
    "    # Check if a stage file from S3 already exist, if not try and download it\n",
    "    f = 'ariaTSsetup.zip'\n",
    "    if not os.path.isfile(f):\n",
    "        print('\\nAttempting to download staged data ... ')\n",
    "        try:\n",
    "            cmd = f'aws s3 cp --region us-east-1 --no-sign-request s3://asf-jupyter-data/aria-data/{f} {f}'\n",
    "            subprocess.run(cmd, shell=True, check=True)\n",
    "                \n",
    "        except:\n",
    "            cmd = f'wget --no-check-certificate --no-proxy http://asf-jupyter-data-west.s3.amazonaws.com/aria-data/{f} {f} -q --show-progress'\n",
    "            subprocess.run(cmd, stdout=None, stderr=subprocess.PIPE, shell=True)\n",
    "\n",
    "\n",
    "    # verify if download was succesful\n",
    "    if os.path.isfile(f):\n",
    "        if os.path.exists('products'):\n",
    "\n",
    "            shutil.rmtree('products')\n",
    "        !unzip {f}\n",
    "        print('S3 pre-staged data retrieval was successful')\n",
    "    else:\n",
    "        print(\"Download outside openSarLabs is not supported.\\nAs alternative please start from ARIA-tools with the commandline calls provided at the top of this notebook\")          \n",
    "else:\n",
    "    print(\"Will not be using S3 pre-staged data\")\n"
   ],
   "outputs": [],
   "metadata": {}
  },
  {
   "cell_type": "markdown",
   "source": [
    "DEMs are accessed/downloaded through OpenTopography. Downloading them requires an OpenTopography api key.\n",
    "\n",
    "Follow instructions listed here to generate and access API key through OpenTopography:\n",
    "https://opentopography.org/blog/introducing-api-keys-access-opentopography-global-datasets\n",
    "\n",
    "Once the api key is acquired, your local **`.topoapi`** may be populated by executing the next cell"
   ],
   "metadata": {}
  },
  {
   "cell_type": "code",
   "execution_count": null,
   "source": [
    "# create .topoapi if it does not exist    \n",
    "if not os.path.exists(os.path.expanduser('~/.topoapi')):\n",
    "    print('API key location: My Account > myOpenTopo Authorizations and API Key > Request API key')\n",
    "    opentopography_api_key = input('Please type your OpenTopo API key:')\n",
    "    opentopography_api_key = str(opentopography_api_key)\n",
    "    os.system('echo \"{api_key}\" > ~/.topoapi; chmod 600 ~/.topoapi'.format(api_key = str(opentopography_api_key)))"
   ],
   "outputs": [],
   "metadata": {}
  },
  {
   "cell_type": "markdown",
   "source": [
    "Below we define a plotting function that will be used throughout the notebook for plotting GDAL compatible datasets on a map."
   ],
   "metadata": {}
  },
  {
   "cell_type": "code",
   "execution_count": null,
   "source": [
    "def plot_layer(path_layer, lay_type=None, cmap=None, n_bands=None, **kwargs):\n",
    "    \"\"\"  'path_layer' is a string to the GDAL compatible dataset to be plotted \"\"\"   \n",
    "    if not lay_type: \n",
    "        lay_type = os.path.dirname(path_layer)\n",
    "    title = [os.path.basename(lay_type)]\n",
    "    \n",
    "    ## get the lon lat bounds\n",
    "    ds       = gdal.Open(path_layer, gdal.GA_ReadOnly)\n",
    "    trans    = ds.GetGeoTransform()\n",
    "    extent   = [trans[0], trans[0] + ds.RasterXSize * trans[1], trans[3] + ds.RasterYSize*trans[5], trans[3]]\n",
    "    \n",
    "    ## loading the data\n",
    "    if not n_bands:\n",
    "        n_bands  = ds.RasterCount\n",
    "    lst_arrs = []\n",
    "    \n",
    "    for band in range(n_bands):\n",
    "        raster = ds.GetRasterBand(band+1)\n",
    "        arr    = raster.ReadAsArray()\n",
    "        try:\n",
    "            NoData = raster.GetNoDataValue()\n",
    "            arr = np.ma.masked_where((arr>1e20) |(arr==NoData),arr )\n",
    "        except:\n",
    "            print('Could not find a no-data value...')\n",
    "            arr = np.ma.masked_where(arr>1e20,arr)\n",
    "        \n",
    "        lst_arrs.append(arr)\n",
    "\n",
    "    ds = None\n",
    "    if n_bands < 4:\n",
    "        nrows = 1; ncols = n_bands\n",
    "    else:\n",
    "        raise Exception('Number of bands currently unsupported')\n",
    "        \n",
    "    \n",
    "    ## initializing a figure\n",
    "    fig, axes = plt.subplots(figsize=(12,9), ncols=ncols, nrows=nrows, sharex='col', sharey='row')\n",
    "    axes = axes if isinstance(axes, np.ndarray) else np.array(axes)\n",
    "    axe  = axes.ravel() \n",
    "    cmap = copy.copy(plt.cm.Greys_r)\n",
    "    cmap.set_under('black')\n",
    "    vmin = None\n",
    "    vmax = None\n",
    "    \n",
    "    ## definging the plotting options for different layer types\n",
    "    # Amplitude:\n",
    "    if lay_type.endswith('amplitude'): \n",
    "        # will fix the maximum amplitude bound\n",
    "        vmax = 2000 \n",
    "   \n",
    "    # Coherence:\n",
    "    elif lay_type.endswith('coherence'): \n",
    "        # has fixed range between 0-1\n",
    "        vmin, vmax = 0, 1\n",
    "\n",
    "    # water\n",
    "    elif lay_type.startswith('water'):\n",
    "        # no bounds needed will be a 0/1 mask\n",
    "        vmin=0\n",
    "        vmax=1\n",
    "        cmap='Greys'\n",
    "\n",
    "    # deformation or unwrapped phase\n",
    "    elif lay_type.startswith('defo'): \n",
    "        cmap = plt.cm.coolwarm\n",
    "   \n",
    "    elif lay_type.startswith('terr') or lay_type.startswith('topo'): \n",
    "        cmap = plt.cm.terrain\n",
    "    \n",
    "    elif lay_type == 'ENU':\n",
    "        title = ['East', 'North', 'Up']\n",
    "        fig.subplots_adjust(wspace=0.5)\n",
    "\n",
    "    else:\n",
    "        # change colormap to a warm type\n",
    "        cmap = plt.cm.coolwarm\n",
    "        \n",
    "    # plotting the data    \n",
    "    for i, ax in enumerate(axe):\n",
    "        im   = ax.imshow(lst_arrs[i], cmap=cmap, vmin=vmin, vmax=vmax, extent=extent,interpolation='nearest')\n",
    "        divider = make_axes_locatable(ax)\n",
    "        cax     = divider.append_axes('right', size='5%', pad=0.25)\n",
    "        if lay_type == 'ENU':\n",
    "            fig.colorbar(im, cax=cax, format=FuncFormatter(lambda x, y: '{:.3f}'.format(x)))\n",
    "        elif lay_type.startswith('water'):\n",
    "            fig.colorbar(im, cax=cax, ticks=[vmin, vmax])\n",
    "        else:\n",
    "            fig.colorbar(im, cax=cax)\n",
    "\n",
    "        ax.set_title(title[i], fontsize=15)\n",
    "        ax.grid(False)\n",
    "\n",
    "    axe[0].set_ylabel('latitude', labelpad=15, fontsize=15)\n",
    "    axe[int(np.floor(n_bands/2))].set_xlabel('longitude', labelpad=15, fontsize=15)"
   ],
   "outputs": [],
   "metadata": {
    "code_folding": [
     0
    ]
   }
  },
  {
   "cell_type": "markdown",
   "source": [
    "## Prep B: Download the data"
   ],
   "metadata": {}
  },
  {
   "cell_type": "markdown",
   "source": [
    "We will use San Francisco as the study area for this tutorial (see **Fig. 1**). Specifically, we will use Sentinel-1 interferograms generated on track 42, spanning the start of the Sentinel-1 mission phase in late 2014 up until the present day.\n",
    "\n",
    "ARIA provides unwrapped interferograms as GUNW products. As the spatial extent of a product is roughly the size of a single Sentinel-1 SLC frame (250km x 250km), it is likely that a given interferogram over this study area is composed of multiple adjacent GUNW frames or products.\n",
    "\n",
    "<img src=\"./support_docs/track_042.png\" alt=\"track\" width=\"600\">\n",
    "\n",
    "<blockquote><b>Fig. 1</b> Image of San Francisco study area centered along Track 42. Blue and white boxes denote footprint of a product and the bounding box of our study area. Faults from USGS Quaternary fault catalog are plotted in background. For interpretation of fault trace colors, refer to see <a href=\"https://earthquake.usgs.gov/hazards/qfaults/\">USGS fault catalogue website </a>. </blockquote>"
   ],
   "metadata": {}
  },
  {
   "cell_type": "markdown",
   "source": [
    "### ARIA GUNW products"
   ],
   "metadata": {}
  },
  {
   "cell_type": "markdown",
   "source": [
    "The GUNW product is an InSAR surface displacement product derived from Sentinel-1 SAR data and packaged as netCDF4 files. GUNW products contain both data and meta-data layers such as the interferometric amplitude, filtered unwrapped phase, filtered coherence, connected components, perpendicular and parallel baselines, incidence, azimuth and look angles. A detailed overview of the ARIA GUNW product with respect to processing, formatting, sampling, and data layers can be found on the [ARIA website](https://aria.jpl.nasa.gov/node/97)."
   ],
   "metadata": {}
  },
  {
   "cell_type": "markdown",
   "source": [
    "### Download options"
   ],
   "metadata": {}
  },
  {
   "cell_type": "markdown",
   "source": [
    "GUNW products are hosted at the ASF DAAC and can be downloaded from the [ARIA-products page](https://aria-products.jpl.nasa.gov) and as beta products from the [ASF DAAC data search page](https://search.asf.alaska.edu/#/). If you know the GUNW filename of the product, you can also build a download link by appending the GUNW filename to **https://<i></i>grfn.asf.alaska.edu<i></i>/door/download/** . \n",
    "\n",
    "Alternatively, you can use the **`ariaDownload.py`** program provided within the ARIA-tools package to download data using a command-line interface. This program wraps around the ASF DAAC API and allows for search sub-setting of GUNW products based on track number, geometry (ascending or descending), as well as spatial and temporal bounding boxes criteria. For a full description of the **`ariaDownload.py`** program, see the [ariaDownload Tutorial](https://github.com/aria-tools/ARIA-tools-docs/blob/master/JupyterDocs/ariaDownload/ariaDownload_tutorial.ipynb).\n",
    "\n",
    "<div class=\"alert alert-warning\">\n",
    "<b>Potential download failure:</b> \n",
    "GUNW products are hosted at the NASA ASF DAAC. Downloading them requires a NASA Earthdata URS user login and requires users to add “ARIA Product Search” to their URS approved applications\n",
    "\n",
    "<b>Login Credentials:</b>\n",
    "Save your user-name and password to a `.netrc` file in your `$HOME` directory, or pass the combination explicitly using `ariaDownload.py --user <user> --pass <pass>`.\n",
    "\n",
    "\n",
    "To create a .netrc file, pass your earthdata credentials by running the cell below\n",
    "\n",
    "<div class=\"alert alert-danger\">\n",
    "<b>Download</b>:     \n",
    "    \n",
    "- Can take up to 40 mins, so this is a good moment to take a coffee-break! - The ***jupyter notebook* does not allow for interactive entering of your user-name and password, use the *jupyter terminal* instead** with the same command for interactive use.\n",
    "</div>"
   ],
   "metadata": {}
  },
  {
   "cell_type": "code",
   "execution_count": null,
   "source": [
    "# create .netrc if it does not exist    \n",
    "if not os.path.exists(os.path.expanduser('~/.netrc')):\n",
    "    print('NEEDED To Download ARIA GUNWs: \\n Link to create account : https://urs.earthdata.nasa.gov/')\n",
    "    earthdata_user = input('Please type your Earthdata username:')\n",
    "    earthdata_user = str(earthdata_user)\n",
    "    earthdata_password = input('Please type your Earthdata password:')\n",
    "    earthdata_password = str(earthdata_password)\n",
    "    os.system('echo machine urs.earthdata.nasa.gov login \"{usern}\" password \"{passwd}\" > ~/.netrc; chmod 600 ~/.netrc'.format( \\\n",
    "              usern = earthdata_user, passwd = earthdata_password))"
   ],
   "outputs": [],
   "metadata": {}
  },
  {
   "cell_type": "code",
   "execution_count": null,
   "source": [
    "if not Use_Staged_Data:\n",
    "    # limit to 88 products\n",
    "    !ariaDownload.py --track 42 --bbox '37.25 38.1 -122.6 -121.75' --start 20190101 --end 20200101 --version '2_0_2'"
   ],
   "outputs": [],
   "metadata": {}
  },
  {
   "cell_type": "markdown",
   "source": [
    "We can now have a look at the downloaded products:"
   ],
   "metadata": {}
  },
  {
   "cell_type": "code",
   "execution_count": null,
   "source": [
    "!ls products"
   ],
   "outputs": [],
   "metadata": {}
  },
  {
   "cell_type": "markdown",
   "source": [
    "The product filename has two fields, **XXYYYN/S-XXYYYN/S**, that are respectively associated with the western edge of south and north most corner of the geocoded interferogram (see [aria-website](https://aria.jpl.nasa.gov/node/97) for a complete overview of the filename convention). The latitude bounds are specified as 5-digit number with 3 significant digits. The `duplicated_products` directory contains products that are the same except for the version. The default is to keep the newest versions and store any others in `duplicated_products`."
   ],
   "metadata": {}
  },
  {
   "cell_type": "markdown",
   "source": [
    "## Overview of the ariaTSsetup.py program\n",
    "<a id='overview'></a>"
   ],
   "metadata": {}
  },
  {
   "cell_type": "markdown",
   "source": [
    "The **`ariaTSsetup.py`** program allows for easy time-series preparation of relevant data and meta-data layers from ARIA standard GUNW products. The **`ariaTSsetup.py`** program is functionally very similar to the **`ariaExtract.py`** program, aside from the aforementioned note that the former prepares extracted data into a stack for time-series ingestion. The program will automatically determine which GUNW products need to be stitched or cropped in order to generate a seamless interferogram. By default, interferograms will be cropped to bounds determined by the common intersection and bounding box (if specified). Running **`ariaTSsetup.py`** with the **`-h`** option will show the parameter options. \n",
    "\n",
    "Let us explore these options:"
   ],
   "metadata": {}
  },
  {
   "cell_type": "code",
   "execution_count": null,
   "source": [
    "!ariaTSsetup.py -h"
   ],
   "outputs": [],
   "metadata": {}
  },
  {
   "cell_type": "markdown",
   "source": [
    "### 1. Product files to be used (-f option)"
   ],
   "metadata": {}
  },
  {
   "cell_type": "markdown",
   "source": [
    "At minimum, users need to specify the GUNW files they want to extract information from. This is controlled using the **`-f`** option. Multiple products can be specified by providing them as a comma separated string (e.g., **`-f`**` 'products/S1-GUNW-D-R-042-tops-20150605_20150512-140722-39616N_37642N-PP-e396-v2_0_0.nc,products/S1-GUNW-D-R-042-tops-20150629_20150512-140723-39615N_37641N-PP-0e95-v2_0_0.nc'`), or using a wildcard (e.g., **`-f`**` 'products/S1*.nc'`)."
   ],
   "metadata": {}
  },
  {
   "cell_type": "markdown",
   "source": [
    "### 2. Layers to be extracted (-l option)"
   ],
   "metadata": {}
  },
  {
   "cell_type": "markdown",
   "source": [
    "By default the following are extracted: bounding boxes of the products, the \"unwrappedPhase\", \"coherence\", \"incidenceAngle\", \"lookAngle\", and \"azimuthAngle\" layers necessary for building time-series. Layer extraction is controlled using the **`-l`** option. Additional valid options are \"amplitude\", \"bPerpendicular\", and \"bParallel\". Multiple layers can be extracted at once by specifying them as a comma separated string (e.g., **`-l`**` 'azimuth,bParallel'`). You can use the `'all'` keyword to extract all possible layers at once (e.g., **`-l`**` all`)."
   ],
   "metadata": {}
  },
  {
   "cell_type": "markdown",
   "source": [
    "### 3. DEM (-d and -p options)"
   ],
   "metadata": {}
  },
  {
   "cell_type": "markdown",
   "source": [
    "By specifying the **`-d`**` Download` option, users can download the SRTM 3-arcsec DEM on the fly. Note that you will need to have an API key for [openTopo](https://opentopography.org/blog/introducing-api-keys-access-opentopography-global-datasets) to access/download DEMs (further instructions below). The DEM will be cropped over the interferogram extent (ground swath). A DEM is required for extracting the meta-data layer fields (e.g., \"bPerpendicular\", \"bParallel\", \"incidenceAngle\",\"lookAngle\", and \"azimuthAngle\"). Alternatively, users can also specify the location to a custom GDAL-compatible DEM and control its projection by specifying it with the **`-p`** option. All the meta-data layers are stored within the GUNW product as 3D data cubes (longitude, latitude, height). The full-resolution meta-data layers are generated by intersecting these 3D data-cube with the DEM."
   ],
   "metadata": {}
  },
  {
   "cell_type": "markdown",
   "source": [
    "### 4. Mask (-m option)"
   ],
   "metadata": {}
  },
  {
   "cell_type": "markdown",
   "source": [
    "By specifying the **`-m`**` Download` option, users can download a waterbody mask compiled from the Global Self-consistent, Hierarchical, High-resolution Geography Database (GSHHG) on the fly. The mask will be cropped over the interferogram extent (ground swath). A mask is useful for masking out broader waterbodies (e.g. oceans and major lakes) from your output layers. Alternatively, users can also specify the location to a custom GDAL-compatible mask and control its projection by specifying it with the **`-p`** option."
   ],
   "metadata": {}
  },
  {
   "cell_type": "markdown",
   "source": [
    "### 5. Cropping and spatial sub setting (--bbox and -croptounion options)"
   ],
   "metadata": {}
  },
  {
   "cell_type": "markdown",
   "source": [
    "The **`ariaTSsetup.py`** program will automatically handle cropping and stitching of GUNW products when needed. By default, the program will crop all interferograms to bounds determined by the common intersection (of all interferograms) and the user-defined bounding box (**`-bbox`** SNWE option). All layers are cropped and/or stitched using GDAL (see the methods section for details on the implemented approach for each layer)."
   ],
   "metadata": {}
  },
  {
   "cell_type": "markdown",
   "source": [
    "### 6. Workdirectory (-w option)"
   ],
   "metadata": {}
  },
  {
   "cell_type": "markdown",
   "source": [
    "The output of the **`ariaTSsetup.py`** program is saved within the working directory (**`-w`**), which by default is the current directory. Within the work directory the outputs are organized in separate subdirectories, where the sub-directory name corresponds to the layer being extracted. Within each subdirectory, the data and meta-data are saved with the interferogram pair dates \"date1_date2\" serving as the basename."
   ],
   "metadata": {}
  },
  {
   "cell_type": "markdown",
   "source": [
    "### 7.  Output format (-o option)"
   ],
   "metadata": {}
  },
  {
   "cell_type": "markdown",
   "source": [
    "The **`ariaTSsetup.py`** program leverages GDAL for file reading and writing of outputs. The user can therefore specify any GDAL compatible format (e.g., ENVI, ISCE, GTiff; see GDAL for more information on supported formats) for saving the outputs from **`ariaTSsetup.py`**.  By default, \"unwrappedPhase\", \"bPerpendicular\", \"bParallel\", \"incidenceAngle\", \"lookAngle\", and \"azimuthAngle\" are stored as ENVI files, as these layers required  mathematical manipulation. Other layers including \"coherence\" and \"amplitude\" do not require this, and by default are stored as virtual files (.vrt) to conserve disk space."
   ],
   "metadata": {}
  },
  {
   "cell_type": "markdown",
   "source": [
    "Use **`ariaTSsetup.py`** to build a stack of products for time-series ingestion. We will use the GUNW products you have already downloaded into a *products* subfolder within in your specified *work directory* (**`-w`** option), which were collected on track *42* over the San Francisco area *'37.25 38.1 -122.6 -121.75'* (**`-bbox`** SNWE option) and spanning from late 2014 through to the present day."
   ],
   "metadata": {}
  },
  {
   "cell_type": "markdown",
   "source": [
    "## Application of ariaTSprep.py program "
   ],
   "metadata": {}
  },
  {
   "cell_type": "markdown",
   "source": [
    "### Set up time-series stack, download DEM and mask using ariaTSsetup.py"
   ],
   "metadata": {}
  },
  {
   "cell_type": "code",
   "execution_count": null,
   "source": [
    "!ariaTSsetup.py -f 'products/*.nc' -b '37.25 38.1 -122.6 -121.75' -d Download --mask Download -nt 10"
   ],
   "outputs": [],
   "metadata": {}
  },
  {
   "cell_type": "markdown",
   "source": [
    "Extract and crop layers to the box defined for the San Francisco area *'37.25 38.1 -122.6 -121.75'* (**`-bbox`** SNWE option), download a DEM (**`-d Download`** option) which is needed to extract meta-data layers prerequisite for time-series analysis, and download a mask (**`-m Download`** option) to remove waterbodies.\n",
    "\n",
    "The default data layers (unwrapped phase, coherence) and imaging geometry layers (azimuth angle, incidence angle, look angle) necessary for building time-series have been extracted. Layers are extracted to separate subdirectories named after the 'layer name' under the specified working directory (`-w`), e.g. 'unwrappedPhase'. Within the layer subdirectories, the data and meta-data are saved with a given interferometric date combination serving as the filename, e.g. 'unwrappedPhase/20150605_20150512'. Any existing layers will be overwritten."
   ],
   "metadata": {}
  },
  {
   "cell_type": "markdown",
   "source": [
    "### View downloaded mask"
   ],
   "metadata": {}
  },
  {
   "cell_type": "markdown",
   "source": [
    "To download a waterbody mask compiled from GSHHG, we specified the **`-m Download`** option. By default, outputs are written to the local directory, which can be changed to another location by specifying the path with the **`-w`** option. The mask will be applied to all extracted layers."
   ],
   "metadata": {}
  },
  {
   "cell_type": "markdown",
   "source": [
    "The mask is cropped to the common interferometric grid, stored under local subdirectory *mask*, and given the filename *watermask.msk* (i.e. nested as *mask/watermask.msk*). Note that for consistency, if a user specifies a path to a custom mask, the cropped version is still stored under the local subdirectory *mask* and shares the same filename as the input."
   ],
   "metadata": {}
  },
  {
   "cell_type": "markdown",
   "source": [
    "Execute the next cell to visualize the mask. Broader waterbodies (e.g. oceans and major lakes) are delineated in the mask."
   ],
   "metadata": {}
  },
  {
   "cell_type": "code",
   "execution_count": null,
   "source": [
    "plot_layer('mask/watermask.msk',lay_type='water')"
   ],
   "outputs": [],
   "metadata": {}
  },
  {
   "cell_type": "markdown",
   "source": [
    "Below we will apply this mask to the unwrapped phase layer."
   ],
   "metadata": {}
  },
  {
   "cell_type": "code",
   "execution_count": null,
   "source": [
    "## view the plot\n",
    "plot_layer('unwrappedPhase/20190115_20190103', 'deformation')"
   ],
   "outputs": [],
   "metadata": {}
  },
  {
   "cell_type": "markdown",
   "source": [
    "### View downloaded DEM"
   ],
   "metadata": {}
  },
  {
   "cell_type": "markdown",
   "source": [
    "To download a 3-arc second SRTM DEM, we specified the **`-d Download`** option. By default, outputs are written to the local directory, which can be changed to another location by specifying the path with the **`-w`** option. A DEM is needed for the extraction of full resolution meta-data layers."
   ],
   "metadata": {}
  },
  {
   "cell_type": "markdown",
   "source": [
    "The DEM is cropped to the common interferometric grid, stored under local subdirectory *DEM*, and given the filename *SRTM_3arcsec.dem* (i.e. nested as *DEM/SRTM_3arcsec.dem*). Note that for consistency, if a user specifies a path to a custom DEM, the cropped version is still stored under the local subdirectory *DEM* and shares the same filename as the input. You can use gdalinfo to retrieve information on the geospatial extent of the DEM."
   ],
   "metadata": {}
  },
  {
   "cell_type": "code",
   "execution_count": null,
   "source": [
    "!ls DEM/SRTM*\n",
    "!gdalinfo DEM/SRTM_3arcsec.dem.vrt"
   ],
   "outputs": [],
   "metadata": {}
  },
  {
   "cell_type": "markdown",
   "source": [
    "Execute the next cell to visualize the DEM."
   ],
   "metadata": {}
  },
  {
   "cell_type": "code",
   "execution_count": null,
   "source": [
    "plot_layer('DEM/SRTM_3arcsec.dem',lay_type='topo')"
   ],
   "outputs": [],
   "metadata": {}
  },
  {
   "cell_type": "markdown",
   "source": [
    "### Examine *stack* files"
   ],
   "metadata": {}
  },
  {
   "cell_type": "markdown",
   "source": [
    "Three VRT files *cohStack.vrt*, *connCompStack.vrt*, *unwrapStack.vrt* have been generated under the *stack* subdirectory of your specified work directory. They point to your extracted coherence, connected component, and unwrapped phase files, respectively. Let's take a look:"
   ],
   "metadata": {}
  },
  {
   "cell_type": "code",
   "execution_count": null,
   "source": [
    "!ls stack"
   ],
   "outputs": [],
   "metadata": {}
  },
  {
   "cell_type": "markdown",
   "source": [
    "Use the  **gdalinfo** to retrieve an overview of *unwrapStack.vrt*. You will see that it contains paths pointing each of the extracted interferograms in your stack, and basic projection information:"
   ],
   "metadata": {}
  },
  {
   "cell_type": "code",
   "execution_count": null,
   "source": [
    "!gdalinfo stack/unwrapStack.vrt"
   ],
   "outputs": [],
   "metadata": {}
  },
  {
   "cell_type": "raw",
   "source": [
    "Use the **`-mdd unwrappedPhase`** option in **gdalinfo** to access the radar metadata (e.g. orbitDirection, UTCTime, Wavelength) corresponding to each of the interferogram data-layers, which are stored under the key-name *unwrappedPhase*:"
   ],
   "metadata": {}
  },
  {
   "cell_type": "code",
   "execution_count": null,
   "source": [
    "!gdalinfo stack/unwrapStack.vrt -mdd unwrappedPhase"
   ],
   "outputs": [],
   "metadata": {}
  },
  {
   "cell_type": "markdown",
   "source": [
    "We can now use our earlier defined plotting function to visualize one of the interferograms in your stack."
   ],
   "metadata": {}
  },
  {
   "cell_type": "code",
   "execution_count": null,
   "source": [
    "plot_layer('stack/unwrapStack.vrt', 'deformation', n_bands=1)"
   ],
   "outputs": [],
   "metadata": {}
  }
 ],
 "metadata": {
  "kernelspec": {
   "display_name": "unavco [conda env:unavco]",
   "language": "python",
   "name": "conda-env-unavco-py"
  },
  "language_info": {
   "codemirror_mode": {
    "name": "ipython",
    "version": 3
   },
   "file_extension": ".py",
   "mimetype": "text/x-python",
   "name": "python",
   "nbconvert_exporter": "python",
   "pygments_lexer": "ipython3",
   "version": "3.8.13"
  },
  "latex_envs": {
   "LaTeX_envs_menu_present": true,
   "autoclose": false,
   "autocomplete": false,
   "bibliofile": "biblio.bib",
   "cite_by": "apalike",
   "current_citInitial": 1,
   "eqLabelWithNumbers": true,
   "eqNumInitial": 1,
   "hotkeys": {
    "equation": "Ctrl-E",
    "itemize": "Ctrl-I"
   },
   "labels_anchors": false,
   "latex_user_defs": false,
   "report_style_numbering": false,
   "user_envs_cfg": false
  }
 },
 "nbformat": 4,
 "nbformat_minor": 4
}
