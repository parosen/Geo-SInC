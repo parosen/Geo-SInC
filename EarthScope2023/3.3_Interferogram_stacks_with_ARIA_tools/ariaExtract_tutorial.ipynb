{
 "cells": [
  {
   "cell_type": "markdown",
   "source": [
    "# Manipulating Layers of ARIA standard GUNW products\n",
    "\n",
    "**Author**: Brett A. Buzzanga, David Bekaert - Jet Propulsion Laboratory\n",
    "\n",
    "This notebook provides an overview of the functionality included in the **ariaExtract.py** program. Specifically, we give examples on how to extract data and meta-data layers from ARIA Geocoded UNWrapped interferogram (GUNW) products over a user defined area of interest. In addition, we provide an overview of the methodology applied to manipulate specific data and meta-data layers. In this notebook, we use GUNW products spanning the start of the 2018 Hawaii rifting event. \n",
    "\n",
    "In this notebook, we will demonstrate how to extract:\n",
    "- Product bounding boxes\n",
    "- Imaging geometry layers (i.e., azimuth angle, incidence angle, look angle, perpendicular baseline)\n",
    "- Data layers (i.e., amplitude, coherence, unwrapped phase, and connected components)\n",
    "\n",
    "We also provide examples on the various methods of defining a spatial area of interest:\n",
    "- Union (in space and time) of all products \n",
    "- A bounding box defined as South North West East coordinates\n",
    "- A bounding box in the form of a vector shapefile.\n",
    "\n",
    "    \n",
    "<div class=\"alert alert-warning\">\n",
    "Both the initial setup (<b>Prep A</b> section) and download of the data (<b>Prep B</b> section) should be run at the start of the notebook. All other sections (examples and applications) do not need to be run in order.\n",
    "</div>\n",
    "\n",
    "<div class=\"alert alert-danger\">\n",
    "<b>Potential Errors:</b> \n",
    "    \n",
    "- GDAL uses \"HDF5\" driver instead of \"netCDF/Network Common Data Format\" on GUNW products. Verify GDAL version >= 3.\n",
    "- ARIA-tools needs to be installed to run this notebook\n",
    "</div>\n",
    "\n",
    "\n",
    "<div class=\"alert alert-info\">\n",
    "    <b>Terminology:</b>\n",
    "    \n",
    "- *Acquisition*: An image acquired by the satellite for a given date and time.\n",
    "- *Interferogram*: An unwrapped image containing the surface displacement accumulated between two acquisitions.\n",
    "- *Frame*: Outline of a product ground footprint.\n",
    "- *Along-track*: The direction along satellite flight path. \n",
    "    </div>\n",
    "    "
   ],
   "metadata": {}
  },
  {
   "cell_type": "markdown",
   "source": [
    "## Table of Contents:\n",
    "<a id='example_TOC'></a>"
   ],
   "metadata": {}
  },
  {
   "cell_type": "markdown",
   "source": [
    "[**Overview of the ariaExtract.py program**](#overview)\n",
    "\n",
    "[**Methods used in the ariaExtract.py program**](#methods)\n",
    "- [Extraction of layers without need for manipulation](#method_1)\n",
    "- [Extraction of full resolution meta-data layers](#method_2)\n",
    "- [Extraction of unwrapped phase (and connected components) layer](#method_3)\n",
    "\n",
    "[**Examples of the ariaExtract.py program**](#examples)\n",
    "- [Example 1. Extracting and viewing of the interferogram outline](#example_1)\n",
    "- [Example 2. Extracting a layer by spatial subsetting](#example_2)\n",
    "    - [Extract amplitude with default parameters (intersection)](#example_2_1)\n",
    "    - [Extract coherence with Bounding Box (SNWE)](#example_2_2)\n",
    "    - [Extract incidence angle with shape file](#example_2_3)\n",
    "- [Example 3. Downloading a mask](#example_3)\n",
    "- [Example 4. Downloading a DEM](#example_4)\n",
    "\n",
    "\n",
    "[**Applications**](#applications)\n",
    "- [Application 1. ENU conversion factors](#application_1)\n",
    "- [Application 2. Computing displacement map](#application_2)"
   ],
   "metadata": {}
  },
  {
   "cell_type": "markdown",
   "source": [
    "## Prep A. Initial setup of the notebook"
   ],
   "metadata": {}
  },
  {
   "cell_type": "markdown",
   "source": [
    "Below we set-up the directory structure for this notebook exercise. In addition, we load the required modules into our python environment using the **`import`** command. We also explicitly enable exceptions for GDAL as this allows us to capture GDAL errors."
   ],
   "metadata": {}
  },
  {
   "cell_type": "code",
   "execution_count": null,
   "source": [
    "# option to control the use of pre-staged data; [False/True]\n",
    "Use_Staged_Data = True\n",
    "\n",
    "# ------------------------------------------------------------------------------------------- #\n",
    "# no changed below needed:\n",
    "import os, copy\n",
    "import shutil\n",
    "import subprocess\n",
    "from osgeo import gdal, ogr\n",
    "import numpy as np\n",
    "import matplotlib.pyplot as plt\n",
    "from matplotlib.ticker import FuncFormatter, FormatStrFormatter, StrMethodFormatter\n",
    "from mpl_toolkits.axes_grid1 import make_axes_locatable  \n",
    "%matplotlib inline\n",
    "\n",
    "## Defining the home and data directories at the processing location\n",
    "work_dir = os.path.join(os.path.abspath(os.getcwd()), 'ariaExtract_output')\n",
    "tutorial_home_dir = os.path.abspath(os.getcwd())\n",
    "print(\"Work directory: \", work_dir)\n",
    "print(\"Tutorial directory: \", tutorial_home_dir)\n",
    "    \n",
    "# Enable GDAL/OGR exceptions\n",
    "gdal.UseExceptions()\n",
    "\n",
    "# Verifying if ARIA-tools is installed correctly\n",
    "try:\n",
    "    import ARIAtools.shapefile_util as shputil\n",
    "except:\n",
    "#     raise Exception('ARIA-tools is missing from your PYTHONPATH')\n",
    "    pass\n",
    "\n",
    "if not os.path.exists(work_dir):\n",
    "    os.mkdir(work_dir)\n",
    "os.chdir(work_dir)\n",
    "\n",
    "if Use_Staged_Data:\n",
    "    # Check if a stage file from S3 already exist, if not try and download it\n",
    "    f = 'ariaExtract.zip'\n",
    "    if not os.path.isfile(f):\n",
    "        print('\\nAttempting to download staged data ... ')\n",
    "        try:\n",
    "            cmd = f'aws s3 cp --region us-east-1 --no-sign-request s3://asf-jupyter-data/aria-data/{f} {f}'\n",
    "            subprocess.run(cmd, shell=True, check=True)\n",
    "                \n",
    "        except:\n",
    "            cmd = f'wget --no-check-certificate --no-proxy http://asf-jupyter-data-west.s3.amazonaws.com/aria-data/{f} {f} -q --show-progress'\n",
    "            subprocess.run(cmd, stdout=None, stderr=subprocess.PIPE, shell=True)\n",
    "\n",
    "\n",
    "    # verify if download was succesful\n",
    "    if os.path.isfile(f):\n",
    "        if os.path.exists('products'):\n",
    "\n",
    "            shutil.rmtree('products')\n",
    "        !unzip {f}\n",
    "        print('S3 pre-staged data retrieval was successful')\n",
    "    else:\n",
    "        print(\"Download outside openSarLabs is not supported.\\nAs alternative please start from ARIA-tools with the commandline calls provided at the top of this notebook\")          \n",
    "else:\n",
    "    print(\"Will not be using S3 pre-staged data\")"
   ],
   "outputs": [],
   "metadata": {}
  },
  {
   "cell_type": "markdown",
   "source": [
    "GUNW products are hosted at the NASA ASF DAAC. Downloading them requires a NASA Earthdata URS user login and requires users to add “ARIA Product Search” to their URS approved applications.\n",
    "\n",
    "These earthdata credentials are to be populated in your local **`.netrc`**, which may be generated by executing the next cell"
   ],
   "metadata": {}
  },
  {
   "cell_type": "code",
   "execution_count": null,
   "source": [
    "# create .netrc if it does not exist    \n",
    "if not os.path.exists(os.path.expanduser('~/.netrc')):\n",
    "    print('NEEDED To Download ARIA GUNWs: \\n Link to create account : https://urs.earthdata.nasa.gov/')\n",
    "    earthdata_user = input('Please type your Earthdata username:')\n",
    "    earthdata_user = str(earthdata_user)\n",
    "    earthdata_password = input('Please type your Earthdata password:')\n",
    "    earthdata_password = str(earthdata_password)\n",
    "    os.system('echo machine urs.earthdata.nasa.gov login \"{usern}\" password \"{passwd}\" > ~/.netrc; chmod 600 ~/.netrc'.format( \\\n",
    "              usern = earthdata_user, passwd = earthdata_password))"
   ],
   "outputs": [],
   "metadata": {}
  },
  {
   "cell_type": "markdown",
   "source": [
    "Below we define a plotting function that will be used throughout the notebook for plotting GDAL compatible datasets on a map."
   ],
   "metadata": {}
  },
  {
   "cell_type": "code",
   "execution_count": null,
   "source": [
    "def plot_layer(path_layer, lay_type=None, cmap=None, **kwargs):\n",
    "    \"\"\" \n",
    "        path_layers is a string to the GDAL compatible dataset to be plotted\n",
    "    \"\"\"\n",
    "    \n",
    "    if not lay_type: \n",
    "        lay_type = os.path.dirname(path_layer)\n",
    "    title = [os.path.basename(lay_type)]\n",
    "    \n",
    "    ## get the lon lat bounds\n",
    "    ds       = gdal.Open(path_layer, gdal.GA_ReadOnly)\n",
    "    trans    = ds.GetGeoTransform()\n",
    "    extent   = [trans[0], trans[0] + ds.RasterXSize * trans[1], trans[3] + ds.RasterYSize*trans[5], trans[3]]\n",
    "    \n",
    "    ## loading the data\n",
    "    n_bands  = ds.RasterCount\n",
    "    lst_arrs = []\n",
    "    \n",
    "    for band in range(n_bands):\n",
    "        raster = ds.GetRasterBand(band+1)\n",
    "        arr    = raster.ReadAsArray()\n",
    "        try:\n",
    "            NoData = raster.GetNoDataValue()\n",
    "            arr = np.ma.masked_where((arr>1e20) |(arr==NoData),arr )\n",
    "        except:\n",
    "            print('Could not find a no-data value...')\n",
    "            arr = np.ma.masked_where(arr>1e20,arr)\n",
    "        \n",
    "        lst_arrs.append(arr)\n",
    "\n",
    "    ds = None\n",
    "    if n_bands < 4:\n",
    "        nrows = 1; ncols = n_bands\n",
    "    else:\n",
    "        raise Exception('Number of bands currently unsupported')\n",
    "        \n",
    "    \n",
    "    ## initializing a figure\n",
    "    fig, axes = plt.subplots(figsize=(12,9), ncols=ncols, nrows=nrows, sharex='col', sharey='row')\n",
    "    axes = axes if isinstance(axes, np.ndarray) else np.array(axes)\n",
    "    axe  = axes.ravel() \n",
    "    cmap = copy.copy(plt.cm.Greys_r)\n",
    "    cmap.set_under('black')\n",
    "    \n",
    "    ## definging the plotting options for differnt layer types\n",
    "    # Amplitude:\n",
    "    if lay_type.endswith('amplitude'): \n",
    "        # will fix the maximum amplitude bound\n",
    "        vmin=None\n",
    "        vmax = 2000 \n",
    "    # Coherence:\n",
    "    elif lay_type.endswith('coherence'): \n",
    "        # has fixed range between 0-1\n",
    "        vmin=0\n",
    "        vmax = 1\n",
    "    # Incidence angle:\n",
    "    elif lay_type.endswith('incidenceAngle'): \n",
    "        vmin=None\n",
    "        vmax=None\n",
    "    # water\n",
    "    elif lay_type.startswith('water'):\n",
    "        # no bounds needed will be a 0/1 mask\n",
    "        vmin=0\n",
    "        vmax=1\n",
    "        cmap='Greys'\n",
    "    # deformation or unwrapped phase\n",
    "    elif lay_type.startswith('defo'): \n",
    "        # let the data drive the bounds\n",
    "        vmin=None\n",
    "        vmax=None\n",
    "        # change colormap to a warm type\n",
    "        cmap=plt.cm.coolwarm\n",
    "    elif lay_type.startswith('terr') or lay_type.startswith('topo'): \n",
    "        # let the data drive the bounds\n",
    "        vmin=None\n",
    "        vmax=None\n",
    "        # change colormap to a warm type\n",
    "        cmap=plt.cm.terrain\n",
    "    elif lay_type == 'ENU':\n",
    "        vmin=None\n",
    "        vmax=None\n",
    "        title = ['East', 'North', 'Up']\n",
    "        fig.subplots_adjust(wspace=0.5)\n",
    "\n",
    "    else:\n",
    "        # let the data drive the bounds\n",
    "        vmin=None\n",
    "        vmax=None\n",
    "        # change colormap to a warm type\n",
    "        cmap=plt.cm.coolwarm\n",
    "        \n",
    "    # plotting the data    \n",
    "    for i, ax in enumerate(axe):\n",
    "        im   = ax.imshow(lst_arrs[i], cmap=cmap, vmin=vmin, vmax=vmax, extent=extent,interpolation='nearest')\n",
    "        divider = make_axes_locatable(ax)\n",
    "        cax     = divider.append_axes('right', size='5%', pad=0.25)\n",
    "        if lay_type == 'ENU':\n",
    "            fig.colorbar(im, cax=cax, format=FuncFormatter(lambda x, y: '{:.3f}'.format(x)))\n",
    "        elif lay_type.startswith('water'):\n",
    "            fig.colorbar(im, cax=cax, ticks=[vmin, vmax])\n",
    "        else:\n",
    "            fig.colorbar(im, cax=cax)\n",
    "\n",
    "        ax.set_title(title[i], fontsize=15)\n",
    "        ax.grid(False)\n",
    "\n",
    "    axe[0].set_ylabel('latitude', labelpad=15, fontsize=15)\n",
    "    axe[int(np.floor(n_bands/2))].set_xlabel('longitude', labelpad=15, fontsize=15)"
   ],
   "outputs": [],
   "metadata": {
    "code_folding": []
   }
  },
  {
   "cell_type": "markdown",
   "source": [
    "## Prep B: Download the data"
   ],
   "metadata": {}
  },
  {
   "cell_type": "markdown",
   "source": [
    "We will use the Big Island of Hawaii as the study area for this tutorial. Specifically, we will look at an interferogram (spanning from 20180408 through 20180502) which encompasses the start of the 2018 rifting event. \n",
    "\n",
    "ARIA provides unwrapped interferograms as GUNW products. As the spatial extent of a product is roughly the size of a Sentinel-1 SLC frame (250km x 250km), it is likely that an interferogram over a given study area is composed of multiple adjacent GUNW frames or products. For example, for our study area we will use a Sentinel-1 interferogram generated on track 124, spanning from 20180408 through 20180502, which consists out of two GUNW products or frames.\n",
    "\n",
    "<img src=\"support_docs/Hawaii_Shakemap.png\" alt=\"region\" width=\"500\">\n",
    "<blockquote><b>Fig. 1</b> Shakemap of earthquake that occurred on May 4, 2018 in the southeastern corner of the Hawaiian Big Island. </blockquote>"
   ],
   "metadata": {}
  },
  {
   "cell_type": "markdown",
   "source": [
    "### ARIA GUNW products"
   ],
   "metadata": {}
  },
  {
   "cell_type": "markdown",
   "source": [
    "The GUNW product is an InSAR surface displacement product derived from Sentinel-1 SAR data and packaged as netCDF4 files. GUNW products contain both data and meta-data layers such as the interferometric amplitude, filtered unwrapped phase, filtered coherence, connected components, perpendicular and parallel baselines, incidence, azimuth and look angles. A detailed overview of the ARIA GUNW product with respect to processing, formatting, sampling, and data layers can be found on the [ARIA website](https://aria.jpl.nasa.gov/node/97)."
   ],
   "metadata": {}
  },
  {
   "cell_type": "markdown",
   "source": [
    "### Download options"
   ],
   "metadata": {}
  },
  {
   "cell_type": "markdown",
   "source": [
    "GUNW products are hosted at the ASF DAAC and can be downloaded from the [ARIA-products page](https://aria-products.jpl.nasa.gov) and as beta products from the [ASF DAAC data search page](https://search.asf.alaska.edu/#/). If you know the GUNW filename of the product, you can also build a download link by appending the GUNW filename to **https://<i></i>grfn.asf.alaska.edu<i></i>/door/download/** . \n",
    "\n",
    "Alternatively, you can use the **`ariaDownload.py`** program provided within the ARIA-tools package to download data using a command-line interface. This program wraps around the ASF DAAC API and allows for search sub-setting of GUNW products based on track number, geometry (ascending or descending), as well as spatial and temporal bounding boxes criteria. For a full description of the **`ariaDownload.py`** program, see the [ariaDownload Tutorial](https://github.com/aria-tools/ARIA-tools-docs/blob/master/JupyterDocs/ariaDownload/ariaDownload_tutorial.ipynb).\n",
    "\n",
    "<div class=\"alert alert-warning\">\n",
    "<b>Potential download failure:</b> \n",
    "GUNW products are hosted at the NASA ASF DAAC. Downloading them requires a NASA Earthdata URS user login and requires users to add “ARIA Product Search” to their URS approved applications\n",
    "\n",
    "<b>Login Credentials:</b>\n",
    "Save your user-name and password to a `.netrc` file in your `$HOME` directory, or pass the combination explicitly using `ariaDownload.py --user <user> --pass <pass>`.\n",
    "\n",
    "\n",
    "To create a .netrc file, pass your earthdata credentials by running through (<b>Prep A</b> section) above.\n",
    "\n",
    "Below we will use the **`ariaDownload.py`** to download the all the GUNW products on track 124 (**`-t`** option) for the interferogram pair *20180408_20180502* (**`--ifg`** option) into a *products* folder (**`-w`** option)."
   ],
   "metadata": {}
  },
  {
   "cell_type": "code",
   "execution_count": null,
   "source": [
    "if not Use_Staged_Data:\n",
    "    !ariaDownload.py -t 124 -w products --ifg 20180408_20180502 -v "
   ],
   "outputs": [],
   "metadata": {}
  },
  {
   "cell_type": "markdown",
   "source": [
    "We can now have a look at the downloaded products:"
   ],
   "metadata": {}
  },
  {
   "cell_type": "code",
   "execution_count": null,
   "source": [
    "!ls products"
   ],
   "outputs": [],
   "metadata": {}
  },
  {
   "cell_type": "markdown",
   "source": [
    "The product filename has two fields, **XXYYYN/S-XXYYYN/S**, that are respectively associated with the western edge of south and north most corner of the geocoded interferogram (see [aria-website](https://aria.jpl.nasa.gov/node/97) for a complete overview of the filename convention). The latitude bounds are specified as 5-digit number with 3 significant digits. The `duplicated_products` directory contains products that are the same except for the version. The default is to keep the newest versions and store any others in `duplicated_products`. \n",
    "\n",
    "Based on the filename of the two products, can you confirm the products are overlapping?"
   ],
   "metadata": {}
  },
  {
   "cell_type": "markdown",
   "source": [
    "## Overview of the ariaExtract.py program\n",
    "<a id='overview'></a>"
   ],
   "metadata": {}
  },
  {
   "cell_type": "markdown",
   "source": [
    "The **`ariaExtract.py`** program allows for easy extraction of data and meta-data layers from ARIA standard GUNW products. The program will automatically determine which GUNW products need to be stitched or cropped in order to generate a seamless interferogram. By default, interferograms will be cropped to bounds determined by the common intersection and bounding box (if specified). Running **`ariaExtract.py`** with the **`-h`** option will show the parameter options. \n",
    "\n",
    "Let us explore these options:"
   ],
   "metadata": {}
  },
  {
   "cell_type": "code",
   "execution_count": null,
   "source": [
    "!ariaExtract.py -h"
   ],
   "outputs": [],
   "metadata": {}
  },
  {
   "cell_type": "markdown",
   "source": [
    "### 1. Product files to be used (-f option)"
   ],
   "metadata": {}
  },
  {
   "cell_type": "markdown",
   "source": [
    "At minimum, users need to specify the GUNW files they want to extract information from. This is controlled using the **`-f`** option. Multiple products can be specified by providing them as a comma separated string (e.g., **`-f`**` 'products/S1-GUNW-A-R-124-tops-20180502_20180408-043106-21658N_19755N-PP-0dd0-v2_0_1.nc,products/S1-GUNW-A-R-124-tops-20180502_20180408-043040-20161N_18088N-PP-6704-v2_0_1.nc'`), or using a wildcard (e.g., **`-f`**` 'products/S1*.nc'`)."
   ],
   "metadata": {}
  },
  {
   "cell_type": "markdown",
   "source": [
    "### 2. Layers to be extracted (-l option)"
   ],
   "metadata": {}
  },
  {
   "cell_type": "markdown",
   "source": [
    "By default, no layers are extracted aside from the bounding boxes of the products. Layer extraction is controlled using the **`-l`** option. Valid options are \"unwrappedPhase\", \"coherence\", \"amplitude\", \"bPerpendicular\", \"bParallel\", \"incidenceAngle\", \"lookAngle\", and \"azimuthAngle\". Multiple layers can be extracted at once by specifying them as a comma separated string (e.g., **`-l`**` 'azimuth,coherence'`). You can use the `'all'` keyword to extract all possible layers at once (e.g., **`-l`**` all`)."
   ],
   "metadata": {}
  },
  {
   "cell_type": "markdown",
   "source": [
    "### 3. DEM (-d and -p options)"
   ],
   "metadata": {}
  },
  {
   "cell_type": "markdown",
   "source": [
    "By specifying the **`-d`**` Download` option, users can download the Copernicus GLO-90 DEM on the fly. The DEM will be cropped over the interferogram extent (ground swath). A DEM is required for extracting the meta-data layer fields (e.g., \"bPerpendicular\", \"bParallel\", \"incidenceAngle\",\"lookAngle\", and \"azimuthAngle\"). Alternatively, users can also specify the location to a custom GDAL-compatible DEM and control its projection by specifying it with the **`-p`** option. All the meta-data layers are stored within the GUNW product as 3D data cubes (longitude, latitude, height). The full-resolution meta-data layers are generated by intersecting these 3D data-cube with the DEM."
   ],
   "metadata": {}
  },
  {
   "cell_type": "markdown",
   "source": [
    "### 4. Mask (-m option)"
   ],
   "metadata": {}
  },
  {
   "cell_type": "markdown",
   "source": [
    "By specifying the **`-m`**` Download` option, users can download a waterbody mask compiled from the Global Self-consistent, Hierarchical, High-resolution Geography Database (GSHHG) on the fly. The mask will be cropped over the interferogram extent (ground swath). A mask is useful for masking out broader waterbodies (e.g. oceans and major lakes) from your output layers. Alternatively, users can also specify the location to a custom GDAL-compatible mask and control its projection by specifying it with the **`-p`** option."
   ],
   "metadata": {}
  },
  {
   "cell_type": "markdown",
   "source": [
    "### 5. Cropping and spatial sub setting (-b and -croptounion options)"
   ],
   "metadata": {}
  },
  {
   "cell_type": "markdown",
   "source": [
    "The **`ariaExtract.py`** program will automatically handle cropping and stitching of GUNW products when needed. By default, the program will crop all interferograms to bounds determined by the common intersection (of all interferograms) and the user-defined bounding box option. All layers are cropped and/or stitched using GDAL (see the methods section for details on the implemented approach for each layer). Below we discuss which options are available for specifying an area-of-interest."
   ],
   "metadata": {}
  },
  {
   "cell_type": "markdown",
   "source": [
    "#### Interferogram intersection versus union (-croptounion option)"
   ],
   "metadata": {}
  },
  {
   "cell_type": "markdown",
   "source": [
    "GUNW products are grouped in clusters that belong to the same interferometric pair. By default, the spatial **intersection** of the interferometic pairs is used to define the region of interest. This can be overriden to be the union of all interferograms (regardless of alignment) by passing the **`--croptounion`** argument. A schematic example is shown in **Fig 2** for both scenarios.\n",
    "\n",
    "<div class=\"alert alert-warning\">\n",
    "<b>Warning:</b> Users in general should avoid mixing products of adjacent satellite tracks (i.e., products made on the same contiguous pass are ok). Note that along the equator, the track number (ascending data on the ascending note) gets incremented while the data itself is still continuous.\n",
    "</div>\n",
    "\n",
    "<img src=\"support_docs/spatial_config_new.png\" alt=\"spatial_configuration\" width=\"700\">\n",
    "<blockquote> <center><b> Fig. 2 </b> Schematic of the spatiotemporal configuration for three interferograms. The left panel shows the intersection of the interferograms, which is the default behavior. The right panel shows the union of the interferograms, achieved by passing <b><code>--croptounion</code></b> . The blue dashed line demonstrates the behavior if the user had specified a bounding box (<b><code>-b</code></b>). Note that interferograms which do not cover the bounding box completely with the <b><code>--croptounion</code></b> or the <b><code>-b</code></b> option, will be padded with no-data values.</center></blockquote>"
   ],
   "metadata": {}
  },
  {
   "cell_type": "markdown",
   "source": [
    "#### Bounding Box (-b option)"
   ],
   "metadata": {}
  },
  {
   "cell_type": "markdown",
   "source": [
    "The user can specify a rectangular bounding box (South-North-West-East coordinates) as **`-b`**` 'S N W E'` or can provide a more complex area of interest using a shapefile or geoJSON as **`-b`**` path_to_file.shp`. A schematic example is shown in **Fig 3** for both scenarios.\n",
    "\n",
    "<img src=\"./support_docs/crop.png\" alt=\"cropping\" width=\"700\">\n",
    "<blockquote><center><b> Fig. 3 </b> Schematic examples of the <b><code>-b</code></b> option available for cropping. The blue dashed line shows the user-specified area of interest. The left panel demonstrates the result when specifying SNWE coordinates, while the right panel shows the result when specifying a more complex polygon for the area of interest using a shapefile. </center></blockquote>"
   ],
   "metadata": {}
  },
  {
   "cell_type": "markdown",
   "source": [
    "#### Minimum overlap option (-mo option)"
   ],
   "metadata": {}
  },
  {
   "cell_type": "markdown",
   "source": [
    "For some cases (especially larger-scale studies spanning multiple frames), the region of interest defined by the common intersection of interferograms may lead to unanticipated results as relatively short interferograms (e.g. 1 frame long) may bias this reference region of interest such that most of the span of relatively longer interferograms (e.g. 3 frames) are masked out in the extracted layers.\n",
    "\n",
    "Thus, we recommend leveraging the minimum overlap option (```-mo```) in order to control this behavior. The ```-mo``` option specifically can be used to reject those interferograms for which the intersection with the reference cutline does not meet a minimum area overlap (in $km^{2}$) as set by the user. By default ```-mo``` = 0.0081 = 0.0081 $km^{2}$, which represents the area of single pixel at standard 90m resolution. While trial-and-error may be involved, generally an easy way to reject shorter interograms would be to pass the area of a predefined user-bounding box as an argument.\n",
    "\n",
    "For example, let’s suppose the area of the bounding box presented here is 1000 $km^{2}$. The 2nd interferogram would be kicked out if ```-mo 1000``` were specified as it would fail to overlap completely with the bounding box:\n",
    "\n",
    "<img src=\"./support_docs/minimumoverlap_example.png\" alt=\"cropping\" width=\"700\">\n",
    "<blockquote><center><b> Fig. 4 </b> Schematic examples of the <b><code>-mo</code></b> option available for enforcing minimum spatial overlap with respect to an area of interest. The blue dashed line shows the user-specified area of interest. The left panel demonstrates the default result where all interferograms with a minimum overlap with the area of interest of 0.0081 $km^{2}$ (or one pixel) are passed, while the right panel shows the result when specifying a more conservative minimum overlap area. </center></blockquote>"
   ],
   "metadata": {}
  },
  {
   "cell_type": "markdown",
   "source": [
    "### 6. Workdirectory (-w option)"
   ],
   "metadata": {}
  },
  {
   "cell_type": "markdown",
   "source": [
    "The output of the **`ariaExtract.py`** program is saved within the working directory (**`-w`**), which by default is the current directory. Within the work directory the outputs are organized in separate subdirectories, where the sub-directory name corresponds to the layer being extracted. Within each subdirectory, the data and meta-data are saved with the interferogram pair dates \"date1_date2\" serving as the basename."
   ],
   "metadata": {}
  },
  {
   "cell_type": "markdown",
   "source": [
    "### 7.  Output format (-o option)"
   ],
   "metadata": {}
  },
  {
   "cell_type": "markdown",
   "source": [
    "The **`ariaExtract.py`** program leverages GDAL for file reading and writing of outputs. The user can therefore specify any GDAL compatible format (e.g., ENVI, ISCE, GTiff; see GDAL for more information on supported formats) for saving the outputs from **`ariaExtract.py`**.  By default, \"unwrappedPhase\", \"bPerpendicular\", \"bParallel\", \"incidenceAngle\", \"lookAngle\", and \"azimuthAngle\" are stored as ENVI files, as these layers required  mathematical manipulation. Other layers including \"coherence\" and \"amplitude\" do not require this, and by default are stored as virtual files (.vrt) to conserve disk space."
   ],
   "metadata": {}
  },
  {
   "cell_type": "markdown",
   "source": [
    "## Methods used in the ariaExtract.py program\n",
    "<a id='methods'></a>"
   ],
   "metadata": {}
  },
  {
   "cell_type": "markdown",
   "source": [
    "The **`ariaExtract.py`** program will automatically handle the stitching and cropping of layers based on a user area of interest, and the union or intersection of all interferograms. The start and stop product sensing times contained within each GUNW product is used to figure out which GUNW products form a single, contiguous interferogram. As all GUNW products are provided on an uniform grid (in sampling and origin), there is no need for resampling. \n",
    "\n",
    "The method used for stitching the data and meta-data layers for a given interferogram varies depending on the layer. Three main variants exist:\n",
    "1. Extraction of layers without need for manipulation (amplitude and coherence).\n",
    "2. Extraction of full resolution meta-data layers (bPerpendicular, bParallel, incidenceAngle, lookAngle, and azimuthAngle).\n",
    "3. Extraction of unwrapped phase (and connected component) layer.\n",
    "\n",
    "Below we elaborate on each of these variants."
   ],
   "metadata": {}
  },
  {
   "cell_type": "markdown",
   "source": [
    "### 1.  Extraction of layers without need for manipulation\n",
    "<a id='method_1'></a>"
   ],
   "metadata": {}
  },
  {
   "cell_type": "markdown",
   "source": [
    "The *amplitude* and *coherence* layers are stitched together using a mosaicking approach leveraging GDAL **`gdalwarp`** functionality. The stitched layer data in the product overlap region is constrained by one of the two overlapping products without loss of information."
   ],
   "metadata": {}
  },
  {
   "cell_type": "markdown",
   "source": [
    "### 2. Extraction of full resolution meta-data layers\n",
    "<a id='method_2'></a>"
   ],
   "metadata": {}
  },
  {
   "cell_type": "markdown",
   "source": [
    "The imaging geometry meta-data layers such as *bPerpendicular, bParallel, incidenceAngle, lookAngle,* and *azimuthAngle* are provided within each GUNW product as 3D-data cubes. Since the imaging geometry meta-data layers vary smoothly in space, they are specified with sparse lateral (0.1 arcsec) sampling on fixed height levels (-1.5, 0, 3 and 9 km) for data reduction purposes. \n",
    "\n",
    "The full resolution meta-data layer is retrieved by intersecting the 3D data-cube with a DEM (see **Fig. 4**). Users can either provide a custom DEM or specify the DEM download option to retrieve and use the Copernicus GLO-90 DEM. The DEM is interpolated (nearest neighbor) to the native grid of the interferogram. Prior to the intersection of the DEM with the 3D dataset, we mosaic the 3D-data cubes of the different GUNW products together for each interferogram. The intersection itself is done by performing a bivariate spline interpolation laterally and a cubic interpolation vertically to calculate the values at the DEM grid nodes.\n",
    "\n",
    "<img src=\"support_docs/interp_2d.png\" alt=\"interp_sketch\" width=\"600\" >\n",
    "    <blockquote> <b>Fig. 4</b> Schematic example of the 3D meta-data cube and intersection routine with a DEM to retrieve the full resolution meta-data layer. Not drawn to scale.</blockquote>"
   ],
   "metadata": {}
  },
  {
   "cell_type": "markdown",
   "source": [
    "### 3. Extraction of unwrapped phase (and connected components) layer\n",
    "<a id='method_3'></a>"
   ],
   "metadata": {}
  },
  {
   "cell_type": "markdown",
   "source": [
    "An interferogram is  generated through the complex multiplication of the reference SLC with the complex conjugate of the secondary SLC, and thus is a wrapped image between $-\\pi$ and $\\pi$. As part of the unwrapping procedure, a continuous surface is created from the wrapped data by adding integer multiples of 2$\\pi$ to its pixels. Unwrapping is not a trivial process, and complicated by (decorrelation) noise in data. As part of the processing routine, a slant range pixel offset correction is estimated from the data, leading to a planar phase correction of small slope in the range direction (perpendicular to the satellite flight direction).\n",
    "\n",
    "Since each GUNW product is processed and unwrapped separately, we need to account for an integer multiple of 2$\\pi$ between GUNW products, and also correct for an additional bias introduced by range offset differences applied to each GUNW product. Both corrections are estimated from individual overlapping connected components within the product overlap regions, after which we stitch products leveraging GDAL. We maintain the qualitative function of the connected component layer by adjusting each GUNW product connected component layer, while merging components used in the correction.\n",
    "\n",
    "<img src=\"support_docs/2frame_overlap.png\" alt=\"overlap\" width=\"30%\" >\n",
    "   <center> <b>Fig. 5</b> Schematic showing overlap region (shaded in red) used to estimate both a phase bias and integer multiple of 2$\\pi$ correction between connected components spanning two GUNW products forming a single interferogram (blue and green outline, respectively).</center>"
   ],
   "metadata": {}
  },
  {
   "cell_type": "markdown",
   "source": [
    "## Examples of the ariaExtract.py program<a id='examples'></a>"
   ],
   "metadata": {}
  },
  {
   "cell_type": "markdown",
   "source": [
    "### Example 1. Extracting and viewing of the interferogram outline <a id='example_1'></a>"
   ],
   "metadata": {}
  },
  {
   "cell_type": "markdown",
   "source": [
    "[Back to Example Table of Contents](#example_TOC)\n",
    "\n",
    "The **`ariaExtract.py`** program groups GUNW products into spatially-temporally continuous interferograms. Even without extracting any layers, **`ariaExtract.py`** will create geoJSON files outlining the spatial extent for each interferogram. Below we demonstrate this on the two coseismic GUNW products using default parameters for the spatial sub-setting. "
   ],
   "metadata": {}
  },
  {
   "cell_type": "code",
   "execution_count": null,
   "source": [
    "!ariaExtract.py -f \"products/*.nc\""
   ],
   "outputs": [],
   "metadata": {}
  },
  {
   "cell_type": "markdown",
   "source": [
    "Within the *productBoundingBox* subdirectory, the outline for each stitched interferogram is saved as a geoJSON file using the acquisition dates to form the filename (e.g. '20180502_20180408.json'). \n",
    "\n",
    "In addition, a final bounding box 'productBoundingBox.json' is stored which details the spatial extent to which all interferograms will be cropped. By default, the *intersection* of the interferograms is used to determine the spatial extent. In our example, only one interferogram is considered without specifying additional options to subset in space (such as the **`--bbox`** option) so both files are identical."
   ],
   "metadata": {}
  },
  {
   "cell_type": "code",
   "execution_count": null,
   "source": [
    "!ls productBoundingBox"
   ],
   "outputs": [],
   "metadata": {}
  },
  {
   "cell_type": "markdown",
   "source": [
    "We will view the outline saved in the geoJSON file, with the **`plot_shapefile`** function within **`shapefile_utils.py`** distributed with the ARIA-tools package. Note this is not a true ESRI shapefile, but can easily be converted to one using the `ogr2ogr` program (see [Application 3](#application3))."
   ],
   "metadata": {}
  },
  {
   "cell_type": "code",
   "execution_count": null,
   "source": [
    "shputil.plot_shapefile(os.path.join('productBoundingBox', 'productBoundingBox.json'))"
   ],
   "outputs": [],
   "metadata": {}
  },
  {
   "cell_type": "markdown",
   "source": [
    "### Example 2. Extracting a layer by spatial subsetting\n",
    "<a id='example_2'></a>"
   ],
   "metadata": {}
  },
  {
   "cell_type": "markdown",
   "source": [
    "[Back to Example Table of Contents](#example_TOC)\n",
    "\n",
    "Layers are extracted to separate subdirectories named after the 'layer name' under the specified working directory (`-w`), e.g. 'amplitude'. Within the layer subdirectories, the data and meta-data are saved with a given interferometric date combination serving as the filename, e.g. 'amplitude/20180502_20180408'. Any existing layers will be overwritten. Below, examples are provided by spatial subsetting using default parameters (intersection), bounding box, and shapefile."
   ],
   "metadata": {}
  },
  {
   "cell_type": "markdown",
   "source": [
    "#### 1. Extract amplitude with default parameters (intersection)\n",
    "<a id='example_2_1'></a>"
   ],
   "metadata": {}
  },
  {
   "cell_type": "markdown",
   "source": [
    "Below we will extract the *amplitude* layer using default parameters (intersection of common area to all interferograms)."
   ],
   "metadata": {}
  },
  {
   "cell_type": "code",
   "execution_count": null,
   "source": [
    "!ariaExtract.py -f \"products/*.nc\" -l amplitude "
   ],
   "outputs": [],
   "metadata": {}
  },
  {
   "cell_type": "markdown",
   "source": [
    "The extracted amplitude layer is stored within the *amplitude* folder and with the interferometric date combination as its filename. Note that amplitude is one of the layers which is stitched *virtually* by default. The *20180502_20180408_uncropped.vrt* is the complete stitched variant, while the other *20180502_20180408.vrt* file contains the amplitude layer as cropped over the `productBoundingBox.json` (see [example 1](#example_1) for details)."
   ],
   "metadata": {}
  },
  {
   "cell_type": "code",
   "execution_count": null,
   "source": [
    "shputil.plot_shapefile(os.path.join('productBoundingBox', 'productBoundingBox.json'))"
   ],
   "outputs": [],
   "metadata": {}
  },
  {
   "cell_type": "code",
   "execution_count": null,
   "source": [
    "!ls amplitude"
   ],
   "outputs": [],
   "metadata": {}
  },
  {
   "cell_type": "markdown",
   "source": [
    "We can now use our earlier defined plotting function to visualize the amplitude of the stitched interferogram."
   ],
   "metadata": {}
  },
  {
   "cell_type": "code",
   "execution_count": null,
   "source": [
    "plot_layer(os.path.join('amplitude', '20180502_20180408.vrt'))"
   ],
   "outputs": [],
   "metadata": {}
  },
  {
   "cell_type": "markdown",
   "source": [
    "The amplitude corresponds to the complex magnitude of the interferogram. Darker colors indicate weaker backscatter of the radar signal, which depend on the characteristics of the surface. In rough water the amplitude will be brighter than in calm sea, as waves will be scattering part of the energy back. Over land, vegetated areas will appear darker compared to urban and mountain outcrops."
   ],
   "metadata": {}
  },
  {
   "cell_type": "markdown",
   "source": [
    "#### 2. Extract coherence with Bounding Box (SNWE)\n",
    "<a id='example_2_2'></a>"
   ],
   "metadata": {}
  },
  {
   "cell_type": "markdown",
   "source": [
    "Users can specify an area of interest as `SNWE` coordinates using the **`--bbox`** option. Coordinates should be specified as a space delimited string surround by quotes. The example below extracts the coherence over the main island of Hawaii."
   ],
   "metadata": {}
  },
  {
   "cell_type": "code",
   "execution_count": null,
   "source": [
    "!ariaExtract.py -f \"products/*.nc\" -l coherence   --bbox \"18.8 20.3 -156.1 -154.8\""
   ],
   "outputs": [],
   "metadata": {}
  },
  {
   "cell_type": "markdown",
   "source": [
    "The extracted coherence layer is stored within the *coherence* folder and with the interferometric date combination as its filename. As with the amplitude layer, coherence is one of the layers which is stitched *virtually* by default. The *20180502_20180408_uncropped.vrt* is the complete stitched variant, while the other *20180502_20180408.vrt* file contains the coherence layer as cropped over the *productBoundingBox.json*, which is now cropped to the specified SNWE coordinates (see [example 1](#example_1) for details on the *productBoundingBox*)."
   ],
   "metadata": {}
  },
  {
   "cell_type": "code",
   "execution_count": null,
   "source": [
    "shputil.plot_shapefile(os.path.join('productBoundingBox', 'productBoundingBox.json'))"
   ],
   "outputs": [],
   "metadata": {}
  },
  {
   "cell_type": "code",
   "execution_count": null,
   "source": [
    "!ls coherence"
   ],
   "outputs": [],
   "metadata": {}
  },
  {
   "cell_type": "markdown",
   "source": [
    "The spatial extent of the coherence file can be confirmed by running **`gdalinfo`** on the vrt of the coherence layer."
   ],
   "metadata": {}
  },
  {
   "cell_type": "code",
   "execution_count": null,
   "source": [
    "!gdalinfo coherence/20180502_20180408.vrt -stats"
   ],
   "outputs": [],
   "metadata": {}
  },
  {
   "cell_type": "markdown",
   "source": [
    "Alternatively, the coherence layer can be visualized to show the spatial extent as well."
   ],
   "metadata": {}
  },
  {
   "cell_type": "code",
   "execution_count": null,
   "source": [
    "plot_layer(os.path.join('coherence', '20180502_20180408.vrt'))"
   ],
   "outputs": [],
   "metadata": {}
  },
  {
   "cell_type": "markdown",
   "source": [
    "The coherence is a qualitative marker for the interferogram, ranging between 0 and 1. \n",
    "Changes in the acquisition geometry and scattering (e.g. vegetation) lead to decorrelation. The higher the decorrelation, the lower the coherence, as can be observed over the vegetated regions of Hawaii. Coherence is computed using a 5 x 5 window on multi-looked data (~90 m resolution), and therefore its spatial resolution is rather on the order of 450 m. The coarseness of the estimation window can clearly be observed along the water-land boundary.  "
   ],
   "metadata": {}
  },
  {
   "cell_type": "markdown",
   "source": [
    "#### 3. Extract incidenceAngle with shapefile\n",
    "<a id='example_2_3'></a>"
   ],
   "metadata": {}
  },
  {
   "cell_type": "markdown",
   "source": [
    "[Back to Example Table of Contents](#example_TOC)\n",
    "\n",
    "Users can specify an area of interest using a shapefile through the **`--bbox`** option. The shapefile should be saved as a polygon geometry, compatible with GDAL, and with **WGS84** as reference. Here, we use a shapefile containing the Big Island of Hawaii, created from the [OpenStreetMap dataset](https://www.openstreetmap.org/) using the [OSMnx](https://geoffboeing.com/publications/osmnx-complex-street-networks/) python library. We will use GDAL's **`orginfo `** to verify its contents:"
   ],
   "metadata": {}
  },
  {
   "cell_type": "code",
   "execution_count": null,
   "source": [
    "shp    = os.path.join(tutorial_home_dir, 'support_docs', 'Big_Island', 'Big_Island.shp')\n",
    "!ogrinfo -so {shp} Big_Island"
   ],
   "outputs": [],
   "metadata": {
    "scrolled": true
   }
  },
  {
   "cell_type": "markdown",
   "source": [
    "Below we extract the *incidenceAngle* layer using this shapefile, which outlines the entire island. Since this is a geometry meta-data layer, a DEM needs to be provided using the **`-d `** option. Note, in case you already have downloaded a DEM, you could now update and specify the path to the DEM file directly, e.g., **`-d `**`DEM/glo_90.dem`."
   ],
   "metadata": {}
  },
  {
   "cell_type": "code",
   "execution_count": null,
   "source": [
    "print('ariaExtract.py -f \"products/*.nc\" -l incidenceAngle  -d Download -b {}'.format(shp))\n",
    "!ariaExtract.py -f \"products/*.nc\" -l incidenceAngle  -d Download -b {shp} "
   ],
   "outputs": [],
   "metadata": {}
  },
  {
   "cell_type": "markdown",
   "source": [
    "The extracted incidence angle is stored within the *incidenceAngle* folder and with the interferometric date combination as its filename. Unlike coherence and amplitude, the meta-data layers are physically written out as *ENVI* files, and cropped to the *productBoundingBox.json*, which is now cropped to the specified shapefile (see [example 1](#example_1) for details on the *productBoundingBox*). The output format can be controlled using the **`-of`** option."
   ],
   "metadata": {}
  },
  {
   "cell_type": "code",
   "execution_count": null,
   "source": [
    "shputil.plot_shapefile(os.path.join('productBoundingBox', 'productBoundingBox.json'))"
   ],
   "outputs": [],
   "metadata": {}
  },
  {
   "cell_type": "code",
   "execution_count": null,
   "source": [
    "!ls incidenceAngle/*"
   ],
   "outputs": [],
   "metadata": {}
  },
  {
   "cell_type": "markdown",
   "source": [
    "The spatial extent of the incidence angle file, as well as the no-data value, can be retrieved using **`gdalinfo`** on the vrt of the incidence angle file."
   ],
   "metadata": {}
  },
  {
   "cell_type": "code",
   "execution_count": null,
   "source": [
    "!gdalinfo incidenceAngle/20180502_20180408.vrt -stats"
   ],
   "outputs": [],
   "metadata": {}
  },
  {
   "cell_type": "markdown",
   "source": [
    "Below we will visualize the incidence angle as extracted over the main island."
   ],
   "metadata": {}
  },
  {
   "cell_type": "code",
   "execution_count": null,
   "source": [
    "plot_layer(os.path.join('incidenceAngle', '20180502_20180408.vrt'))"
   ],
   "outputs": [],
   "metadata": {}
  },
  {
   "cell_type": "markdown",
   "source": [
    "The incidence angle is reported in degrees and corresponds to the angle between the vertical from the ground and the incomming radar raypath. As can be observed from the figure, anything outside the outline of the island (as delineated by the input shapefile 'data/Big_Island/Big_Island.shp') has been cropped out."
   ],
   "metadata": {}
  },
  {
   "cell_type": "markdown",
   "source": [
    "### Example 3. Downloading a mask\n",
    "<a id='example_3'></a>"
   ],
   "metadata": {}
  },
  {
   "cell_type": "markdown",
   "source": [
    "[Back to Example Table of Contents](#example_TOC)\n",
    "\n",
    "To download a waterbody mask compiled from GSHHG, specify the **`-m Download`** option. By default, outputs are written to the local directory, which can be changed to another location by specifying the path with the **`-w`** option. The mask will be used to mask all extracted layers. Running the following command to completion will take ~3 mins, so it will be a great time to take a coffee/twitter break:"
   ],
   "metadata": {}
  },
  {
   "cell_type": "code",
   "execution_count": null,
   "source": [
    "!ariaExtract.py -f \"products/*.nc\" -l unwrappedPhase -m download"
   ],
   "outputs": [],
   "metadata": {
    "scrolled": true
   }
  },
  {
   "cell_type": "markdown",
   "source": [
    "The mask is cropped to the common interferometric grid, stored under local subdirectory *mask*, and given the filename *watermask.msk* (i.e. nested as *mask/watermask.msk*). Note that for consistency, if a user specifies a path to a custom mask, the cropped version is still stored under the local subdirectory *mask* and shares the same filename as the input."
   ],
   "metadata": {}
  },
  {
   "cell_type": "markdown",
   "source": [
    "Execute the next cell to visualize the mask. Broader waterbodies (e.g. oceans and major lakes) are delineated in the mask."
   ],
   "metadata": {}
  },
  {
   "cell_type": "code",
   "execution_count": null,
   "source": [
    "plot_layer('mask/watermask.msk',lay_type='water')"
   ],
   "outputs": [],
   "metadata": {
    "tags": []
   }
  },
  {
   "cell_type": "markdown",
   "source": [
    "Below we see how this mask has been applied to the unwrapped phase layer."
   ],
   "metadata": {
    "tags": []
   }
  },
  {
   "cell_type": "code",
   "execution_count": null,
   "source": [
    "plot_layer('unwrappedPhase/20180502_20180408', 'deformation')"
   ],
   "outputs": [],
   "metadata": {
    "tags": []
   }
  },
  {
   "cell_type": "markdown",
   "source": [
    "### Example 4. Downloading a DEM\n",
    "<a id='example_4'></a>"
   ],
   "metadata": {}
  },
  {
   "cell_type": "code",
   "execution_count": null,
   "source": [
    "!gdalinfo -stats mask/watermask.msk"
   ],
   "outputs": [],
   "metadata": {}
  },
  {
   "cell_type": "markdown",
   "source": [
    "[Back to Example Table of Contents](#example_TOC)\n",
    "\n",
    "To download a Copernicus GLO-90 DEM specify the **`-d Download`** option. By default outputs are written to the local directory, which can be changed to another location by specifying the path with the **`-w`** option. The DEM will be needed for the extraction of the full resolution meta-data layers.\n",
    "\n",
    "Users can specify an area of interest using a shapefile through the **`--bbox`** option. The shapefile should be saved as a polygon geometry, compatible with GDAL, and with **WGS84** as reference. Here, we use a shapefile containing the Big Island of Hawaii, created from the [OpenStreetMap dataset](https://www.openstreetmap.org/) using the [OSMnx](https://geoffboeing.com/publications/osmnx-complex-street-networks/) python library. This shapefile will clip out the sea surrounding the island."
   ],
   "metadata": {}
  },
  {
   "cell_type": "code",
   "execution_count": null,
   "source": [
    "shp    = os.path.join(tutorial_home_dir, 'support_docs', 'Big_Island', 'Big_Island.shp')\n",
    "!ariaExtract.py -f \"products/*.nc\" -d download -b {shp}"
   ],
   "outputs": [],
   "metadata": {
    "scrolled": true
   }
  },
  {
   "cell_type": "markdown",
   "source": [
    "The DEM is cropped to the common interferometric grid, stored under local subdirectory *DEM*, and given the filename *glo_90.dem* (i.e. nested as *DEM/glo_90.dem*). Note that for consistency, if a user specifies a path to a custom DEM, the cropped version is still stored under the local subdirectory *DEM* and shares the same filename as the input. You can use gdalinfo to retrieve information on the geospatial extent of the DEM."
   ],
   "metadata": {}
  },
  {
   "cell_type": "code",
   "execution_count": null,
   "source": [
    "!ls DEM/glo_90*\n",
    "!gdalinfo DEM/glo_90.dem.vrt"
   ],
   "outputs": [],
   "metadata": {}
  },
  {
   "cell_type": "markdown",
   "source": [
    "Execute the next cell to visualize the DEM."
   ],
   "metadata": {}
  },
  {
   "cell_type": "code",
   "execution_count": null,
   "source": [
    "plot_layer('DEM/glo_90.dem',lay_type='topo')"
   ],
   "outputs": [],
   "metadata": {
    "tags": []
   }
  },
  {
   "cell_type": "markdown",
   "source": [
    "## Applications <a id='applications'></a>"
   ],
   "metadata": {}
  },
  {
   "cell_type": "markdown",
   "source": [
    "### Application 1.  ENU conversion factors <a id='application_1'></a>"
   ],
   "metadata": {}
  },
  {
   "cell_type": "markdown",
   "source": [
    "For geophysical modeling and analysis, it is often useful to know how much displacements in the east, north and up directions contribute to the radar line-of-sight (LOS) displacement. The mathematical equations to convert ARIA GUNW product to ENU are as follows:\n",
    "\n",
    "\\begin{equation}\n",
    "E = \\sin(\\theta)\\cos(\\alpha), \\quad N = \\sin(\\theta)\\sin(\\alpha), \\quad U = \\cos(\\theta)\n",
    "\\end{equation}\n",
    "\n",
    "where $\\theta$ is the *incidence angle* (wrt vertical) and $\\alpha$ is the *azimuth angle* (counterclockwise angle between the East and the look direction from the ground target to the sensor). We will extract these meta-data layers over the main island using a shapefile of the island as the bounding box and provide the instruction for downloading a DEM."
   ],
   "metadata": {}
  },
  {
   "cell_type": "code",
   "execution_count": null,
   "source": [
    "shp    = os.path.join(tutorial_home_dir, 'support_docs', 'Big_Island', 'Big_Island.shp')\n",
    "!ariaExtract.py -f \"products/*.nc\" -l \"incidenceAngle,azimuthAngle\"  -d download -b {shp}"
   ],
   "outputs": [],
   "metadata": {}
  },
  {
   "cell_type": "markdown",
   "source": [
    "Next, we will use GDAL to load both the *incidence* and *azimuth angles* into python, use **`numpy`** functionality to calculate the east, north and up conversions factors using the equations provided above, and lastly leverage GDAL for writing out the 3-band *enu* file to the *results* folder."
   ],
   "metadata": {}
  },
  {
   "cell_type": "code",
   "execution_count": null,
   "source": [
    "import glob\n",
    "\n",
    "## setup the paths for the calculation\n",
    "if not os.path.exists('results'):\n",
    "    os.mkdir('results')\n",
    "ifg      = '20180502_20180408'\n",
    "path_src = [os.path.join(layer, ifg) for layer in ['incidenceAngle', 'azimuthAngle']]\n",
    "path_dst = os.path.join('results', '{}_enu'.format(ifg))\n",
    "    \n",
    "# removing files\n",
    "for file in glob.glob(path_dst + '*'):\n",
    "    os.remove(file)\n",
    "\n",
    "## loading the data\n",
    "ds       = gdal.Open(path_src[0], gdal.GA_ReadOnly)\n",
    "raster = ds.GetRasterBand(1)\n",
    "try:\n",
    "    NoData = raster.GetNoDataValue()\n",
    "except:\n",
    "    NoData = None\n",
    "arr_inc  = raster.ReadAsArray()\n",
    "arr_azi  = gdal.Open(path_src[1], gdal.GA_ReadOnly).ReadAsArray()\n",
    "NoData_mask = (arr_inc==NoData)\n",
    "NoData_out = 0\n",
    "\n",
    "\n",
    "## convert to radians and calculate\n",
    "arr_incd = np.deg2rad(arr_inc)\n",
    "arr_azid = np.deg2rad(arr_azi)\n",
    "#E = np.sin(arr_incd) * np.cos(arr_azid + np.pi/2)\n",
    "#N = np.sin(arr_incd) * np.sin(arr_azid + np.pi/2)\n",
    "E = np.sin(arr_incd) * np.cos(arr_azid)\n",
    "N = np.sin(arr_incd) * np.sin(arr_azid )\n",
    "U = np.cos(arr_incd)\n",
    "E[NoData_mask]=NoData_out\n",
    "N[NoData_mask]=NoData_out\n",
    "U[NoData_mask]=NoData_out\n",
    "\n",
    "\n",
    "## copy the projection information into a memory; most formats dont support adding bands\n",
    "ds_out = gdal.GetDriverByName('MEM').CreateCopy('', ds)\n",
    "\n",
    "## write ENU to separate bands\n",
    "description = ['East to LOS','North to LOS','Up to LOS']\n",
    "for i, j in enumerate([E, N, U]):\n",
    "    try:\n",
    "        band = ds_out.GetRasterBand(i+1)\n",
    "    except:\n",
    "        # add a float 32 band when it doesn't exist\n",
    "        ds_out.AddBand(gdal.GDT_Float32)\n",
    "        band = ds_out.GetRasterBand(i+1)\n",
    "\n",
    "    j = np.where(np.isnan(j), NoData_out, j)\n",
    "    band.SetNoDataValue(NoData_out)\n",
    "    band.WriteArray(j)\n",
    "    band.SetDescription(description[i])\n",
    "\n",
    "\n",
    "## write dataset to disk and build a VRT for it\n",
    "ds = gdal.Translate(path_dst, ds_out, noData=NoData_out, format='ENVI')\n",
    "gdal.BuildVRT('{}.vrt'.format(path_dst), ds)\n",
    "del ds, ds_out"
   ],
   "outputs": [],
   "metadata": {}
  },
  {
   "cell_type": "code",
   "execution_count": null,
   "source": [
    "ls results/20180502_20180408_enu*"
   ],
   "outputs": [],
   "metadata": {}
  },
  {
   "cell_type": "markdown",
   "source": [
    "Can you rank the *ENU* conversion magnitude to the Line-of-Sight from large to small?\n",
    "We will use **`gdalinfo`**` -stats` to verify the mean conversion factors."
   ],
   "metadata": {}
  },
  {
   "cell_type": "code",
   "execution_count": null,
   "source": [
    "!gdalinfo results/20180502_20180408_enu.vrt -stats"
   ],
   "outputs": [],
   "metadata": {}
  },
  {
   "cell_type": "markdown",
   "source": [
    "Let's now take a look at the resulting E, N, U rasters"
   ],
   "metadata": {}
  },
  {
   "cell_type": "code",
   "execution_count": null,
   "source": [
    "## setup the paths for the calculation\n",
    "ifg      = '20180502_20180408'\n",
    "path_src = os.path.join('results', '{}_enu'.format(ifg))\n",
    "plot_layer(path_src, 'ENU')"
   ],
   "outputs": [],
   "metadata": {}
  },
  {
   "cell_type": "markdown",
   "source": [
    "### Application 2. Computing displacement map <a id='application_2'></a>"
   ],
   "metadata": {}
  },
  {
   "cell_type": "markdown",
   "source": [
    "The unwrapped interferogram is provided in radian units, with positive radians corresponding to uplift. The conversion from interferometric phase, $\\varphi$, to line‐of‐sight displacement, $d$, with uplift being positive is controlled by $\\lambda/4\\pi$  conversion factor as:\n",
    "\n",
    "$$ d = \\frac{\\lambda}{4\\pi}   \\varphi, $$\n",
    "   \n",
    "with $\\lambda$ the radar wavelength. Note that no minus sign is included to do the phase sign convention of the GUNW product being positive for uplift. The wavelength is stored within each GUNW product and can be retrieved using the netcdf reader (see  code snippet below for an example), however for simplicity we directly fix it to 5.54 cm.\n",
    "\n",
    "```\n",
    "fname='products/S1-GUNW-A-R-124-tops-20180502_20180408-043040-20161N_18088N-PP-6704-v2_0_1.nc'\n",
    "rdrmetadata = netCDF4.Dataset(fname, keepweakref=True, diskless=True).groups['science'].groups['radarMetaData']\n",
    "rdrmetadata['wavelength'].getValue()\n",
    "```\n",
    "\n",
    "We extract the unwrapped phase using a shapefile over the main island of Hawaii."
   ],
   "metadata": {}
  },
  {
   "cell_type": "code",
   "execution_count": null,
   "source": [
    "shp    = os.path.join(tutorial_home_dir, 'support_docs', 'Big_Island', 'Big_Island.shp')\n",
    "if not os.path.exists('results'):\n",
    "    os.mkdir('results')\n",
    "!ariaExtract.py -f \"products/*.nc\" -l unwrappedPhase --bbox {shp}"
   ],
   "outputs": [],
   "metadata": {}
  },
  {
   "cell_type": "markdown",
   "source": [
    "Next, we leverage the command line **`gdal_calc.py`** program to calculate the corresponding displacement map in cm by scaling the unwrapped interferogram. The connected component 0s are utilized as a mask. Outputs are written to the *results* folder with *defo* filenames, and visualized with our plotting function."
   ],
   "metadata": {
    "tags": []
   }
  },
  {
   "cell_type": "code",
   "execution_count": null,
   "source": [
    "## use gdal_calc.py to perform the calculation\n",
    "!gdal_calc.py -A unwrappedPhase/20180502_20180408.vrt -B connectedComponents/20180502_20180408.vrt --outfile results/20180502_20180408_defo --calc='((A*(B>0))/(4*pi)*5.546576)' --format=ENVI --NoDataValue=0 --overwrite"
   ],
   "outputs": [],
   "metadata": {
    "scrolled": true,
    "tags": []
   }
  },
  {
   "cell_type": "code",
   "execution_count": null,
   "source": [
    "plot_layer('results/20180502_20180408_defo', 'deformation')"
   ],
   "outputs": [],
   "metadata": {
    "tags": []
   }
  },
  {
   "cell_type": "markdown",
   "source": [
    "The blue area represents ground subsidence due to magma withdrawal from Kilauea’s Middle East Rift Zone due to magma moving to the east (down-rift). The actual dike signature would be partially visible if the image were shown as wrapped phase."
   ],
   "metadata": {
    "tags": []
   }
  },
  {
   "cell_type": "markdown",
   "source": [
    "<a id='application3'></a>"
   ],
   "metadata": {}
  },
  {
   "cell_type": "markdown",
   "source": [
    "### Application 3. Converting geoJSON to ESRI shapefile \n"
   ],
   "metadata": {}
  },
  {
   "cell_type": "markdown",
   "source": [
    "You can easily convert geospatial files produced by ariaTools to other formats using the [ogr2ogr program](https://gdal.org/programs/ogr2ogr.html) (part of the GDAL source tree). For example, to convert the `productBoundingBox.json` to an ESRI shapefile:"
   ],
   "metadata": {}
  },
  {
   "cell_type": "code",
   "execution_count": null,
   "source": [
    "!ogr2ogr -f \"ESRI Shapefile\" ./productBoundingBox/productBoundingBox.shp ./productBoundingBox/productBoundingBox.json"
   ],
   "outputs": [],
   "metadata": {}
  },
  {
   "cell_type": "code",
   "execution_count": null,
   "source": [
    "!ls ./productBoundingBox"
   ],
   "outputs": [],
   "metadata": {}
  }
 ],
 "metadata": {
  "kernelspec": {
   "display_name": "unavco [conda env:unavco]",
   "language": "python",
   "name": "conda-env-unavco-py"
  },
  "language_info": {
   "codemirror_mode": {
    "name": "ipython",
    "version": 3
   },
   "file_extension": ".py",
   "mimetype": "text/x-python",
   "name": "python",
   "nbconvert_exporter": "python",
   "pygments_lexer": "ipython3",
   "version": "3.8.13"
  },
  "latex_envs": {
   "LaTeX_envs_menu_present": true,
   "autoclose": false,
   "autocomplete": false,
   "bibliofile": "biblio.bib",
   "cite_by": "apalike",
   "current_citInitial": 1,
   "eqLabelWithNumbers": true,
   "eqNumInitial": 1,
   "hotkeys": {
    "equation": "Ctrl-E",
    "itemize": "Ctrl-I"
   },
   "labels_anchors": false,
   "latex_user_defs": false,
   "report_style_numbering": false,
   "user_envs_cfg": false
  }
 },
 "nbformat": 4,
 "nbformat_minor": 4
}
