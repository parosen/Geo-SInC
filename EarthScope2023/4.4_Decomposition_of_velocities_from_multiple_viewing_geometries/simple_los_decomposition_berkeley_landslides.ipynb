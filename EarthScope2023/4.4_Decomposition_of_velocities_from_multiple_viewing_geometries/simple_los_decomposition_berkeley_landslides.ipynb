{
 "cells": [
  {
   "cell_type": "markdown",
   "id": "clinical-transcript",
   "metadata": {},
   "source": [
    "# Decomposing InSAR velocities from multiple lines-of-sight\n",
    "\n",
    "Gareth Funning, University of California, Riverside\n",
    "\n",
    "InSAR displacements and velocities are one-dimensional measurements $-$ the three-dimensional movement of the ground surface is projected into the radar line-of-sight (LOS). While many of us develop some intuition for how surface deformation is represented in LOS, it is still often more intuitive to consider deformation in directions that come more naturally to us, such as the vertical direction, or horizontal directions. Luckily, if we have enough information $-$ for example, from multiple different lines-of-sight $-$ we can decompose the LOS information into the directions of our choice... \n"
   ]
  },
  {
   "cell_type": "markdown",
   "id": "b4c8559f",
   "metadata": {},
   "source": [
    "## 0. Dependencies\n",
    "\n",
    "We don't need many libraries to do this, but we do need numpy..."
   ]
  },
  {
   "cell_type": "code",
   "execution_count": null,
   "id": "secret-killing",
   "metadata": {},
   "outputs": [],
   "source": [
    "import numpy as np       # what is life without numpy?"
   ]
  },
  {
   "cell_type": "markdown",
   "id": "bc732065",
   "metadata": {},
   "source": [
    "## 1. The Berkeley landslides\n",
    "\n",
    "The example we will use here is of the Berkeley Hills landslides in northern California. For several decades, it has been apparent, from damage to roads, pipes and houses, that there are multiple creeping landslides in the hills to the northwest of the University of California campus in Berkeley, where many of the faculty, staff and students live. (I lived in that area as a postdoc, and discovered, when I saw the InSAR data for the area, that I was living on one of them! Oops.) These landslides are fast-moving compared with the other hazardous geologic structures in the area, such as the Hayward fault, and are prominent in InSAR data from the area. \n",
    "\n",
    "We will look at persistent scatterer InSAR data (the image below) from two different viewing geometries that capture the landslide signals well $-$ an ERS descending track data set (top), and a Radarsat ascending track dataset (bottom). \n",
    "\n",
    "Some useful details:\n",
    "\n",
    "- Both data sets show **range change** velocity, estimated **with respect to 'stable Berkeley’** (the SW corner), **whose velocity is set to zero**. \n",
    "- **Range change** is the sign convention in which **positive velocities indicate the ground is moving away from the satellite (and *vice-versa*)**.\n",
    "- Although the data sets cover different (but overlapping) time periods, we are going to assume that the **average velocities are constant over the whole time period**, and thus can be directly compared (and combined). \n",
    "- Track (T) and 'Look' (L) directions are plotted as white arrows on each plot. Note that **both satellites were right-looking**.\n",
    "- The flight azimuth ($\\phi$) and incidence angles ($\\theta$) for each data set are provided\n",
    "- **The five largest landslides appear as small, self-contained areas**, outlined in pink, **whose LOS velocities differ from their surrounding areas**. The average velocity within each area is provided on the plot.\n",
    "\n",
    "![plots of two InSAR datasets](images/berkeley_landslides.png)\n",
    "\n",
    "At first glance, there are some obvious differences between the plots of the descending and ascending data: \n",
    "\n",
    "- **The sense of relative motion between the landslides and their surrounding areas is different.** (What does that imply about the motion of the landslides $-$ are they moving primarily vertically or horizontally? What is your reasoning there?)\n",
    "\n",
    "- You may also notice that the **descending track data show an abrupt change in LOS velocity in the easternmost area of the data set**. This is the signature of creep (slow, aseismic movement) on the Hayward fault, a strike-slip fault responsible for a M~7 earthquake in 1868. The surface fault trace is located along the change in velocity. (Assuming that all of the fault-related deformation is horizontal, what is the sense of motion of the fault $-$ left-lateral or right-lateral?)"
   ]
  },
  {
   "cell_type": "markdown",
   "id": "vietnamese-shirt",
   "metadata": {},
   "source": [
    "## 2. Line-of-sight vectors: a review\n",
    "\n",
    "We have met LOS vectors before, when considering the **forward problem** of estimating what the LOS displacement would be for a given three-dimensional displacement. Now, of course, we want to solve the **inverse problem**, of what the displacement in a particular direction should be, given the LOS deformation in two or more different viewing geometries.\n",
    "\n",
    "The estimation of the LOS vector is purely geometric, and relates to the direction the radar is pointing, and the incidence angle of the radar with the ground. All of the major SAR satellite missions to date have been right-looking $-$ their radars point 90$^\\circ$ to the right of their flight azimuth. (**NB** NISAR will be the first major satellite mission to have a permanently *left-looking* radar antenna, which will be very exciting, and will help to constrain diplacements in 3D when combined with right-looking data from Sentinel-1.) \n",
    "\n",
    "We are going to make a couple of simplifying assumptions when calculating the LOS vectors for our data:\n",
    "- The pointing direction of the radar is fixed (which is appropriate for stripmap data)\n",
    "- The incidence angle of the radar is fixed (which is reasonable for a small area)\n",
    "\n",
    "And the rest is just geometry and trigonometry!\n",
    "\n",
    "First, we can look at the incidence of the radar (represented by the unit vector $\\hat{p}$) in cross-section, and decompose it into horizontal and vertical components:\n",
    "\n",
    "![diagram in cross-section view of horizontal and vertical components of incidence](images/vertical.png)\n",
    "\n",
    "(The negative sign here is due to the downward pointing of the radar.)\n",
    "\n",
    "Next, we consider the horizontal component of incidence, which is itself a function of the east and north components. \n",
    "\n",
    "![diagram in map view decomposing the horizontal component into north and east directions](images/horizontal.png)\n",
    "\n",
    "With this, we have all three components of the LOS vector, $\\hat{p}$, defined:\n",
    "\n",
    "$$\\hat{p} = [p_x, p_y, p_z] = [\\cos\\phi\\sin\\theta, -\\sin\\phi\\sin\\theta, -\\cos\\theta]$$\n",
    "\n",
    "Let's calculate them for our two data sets, using the values of (flight) azimuth and incidence for each one!"
   ]
  },
  {
   "cell_type": "code",
   "execution_count": null,
   "id": "behavioral-bruce",
   "metadata": {},
   "outputs": [],
   "source": [
    "# calculate the LOS vector components for the ascending data (you need to enter the values)\n",
    "\n",
    "asc_azi=np.radians()            # remember that Python does its trig in radians\n",
    "\n",
    "asc_inc=np.radians()\n",
    "\n",
    "p_asc=np.array([np.cos(asc_azi)*np.sin(asc_inc),-np.sin(asc_azi)*np.sin(asc_inc),-np.cos(asc_inc) ])"
   ]
  },
  {
   "cell_type": "code",
   "execution_count": null,
   "id": "governmental-squad",
   "metadata": {},
   "outputs": [],
   "source": [
    "# and our (ascending, Radarsat) LOS vector is...\n",
    "\n",
    "p_asc"
   ]
  },
  {
   "cell_type": "code",
   "execution_count": null,
   "id": "greater-hierarchy",
   "metadata": {},
   "outputs": [],
   "source": [
    "# calculate the LOS vector components for the descending data (you need to enter the values)\n",
    "\n",
    "dsc_azi=np.radians()\n",
    "\n",
    "dsc_inc=np.radians()\n",
    "\n",
    "p_dsc=np.array([np.cos(dsc_azi)*np.sin(dsc_inc),-np.sin(dsc_azi)*np.sin(dsc_inc),-np.cos(dsc_inc) ])"
   ]
  },
  {
   "cell_type": "code",
   "execution_count": null,
   "id": "secure-hindu",
   "metadata": {},
   "outputs": [],
   "source": [
    "# and our (descending, ERS) LOS vector is...\n",
    "\n",
    "p_dsc"
   ]
  },
  {
   "cell_type": "markdown",
   "id": "8444ca26",
   "metadata": {},
   "source": [
    "Do these values make sense? Things to look for:\n",
    "- Are the relative sizes of the horizontal and vertical components consistent with the different incidence angles?\n",
    "- Are the signs of the east components consistent with the look directions in the figures?\n",
    "- Are the north components consistent with a polar-orbiting satellite (i.e. small)?"
   ]
  },
  {
   "cell_type": "markdown",
   "id": "indian-sacrifice",
   "metadata": {},
   "source": [
    "## 3. How to invert for decomposed LOS velocities\n",
    "\n",
    "The next thing we need to do is to take these LOS vectors and set up an inversion so that we can decompose our LOS velocities into something a little more intuitive.\n",
    "\n",
    "We have **two observations** (velocities from two different viewing geometries) and so we can solve for velocities in **two directions**. Given that InSAR is primarily sensitive to deformation in the **vertical** and **east-west** directions, it is common to decompose velocities into those components. \n",
    "\n",
    "Let's start with what we want to obtain. Let's define a vector, **m**, of decomposed velocities,\n",
    "\n",
    "$${\\bf m} = [m_H, m_V]^T$$\n",
    "\n",
    "Here, $m_H$ is the horizontal (i.e. east) velocity, and $m_V$ is the vertical velocity.\n",
    "\n",
    "We will use our two range change velocity observations, $r_{asc}$ and $r_{dsc}$ (for the ascending and descending data sets, respectively), to form a vector, **r** of observations:\n",
    "\n",
    "$${\\bf r} = [r_{asc}, r_{dsc}]^{T}$$\n",
    "\n",
    "Next, we need to assemble the relevant parts of our LOS vectors into a *design matrix*, **P**. This is a matrix that relates the 'model velocities', **m**, to range-change velocities:\n",
    "\n",
    "$${\\bf r'} = {\\bf P~m}$$\n",
    "\n",
    "where **r'** here is a vector of forward-modeled range-change velocities that simulate the 'real' range-change velocities, **r**.\n",
    "\n",
    "What goes into **P**? Well, we want to take the parts of the LOS vectors we want to decompose our LOS velocities into, like so:\n",
    "\n",
    "$${\\bf P} = \\begin{pmatrix}p_{asc_H} & p_{asc_V} \\\\ p_{dsc_H} & p_{dsc_V} \\end{pmatrix}$$  \n",
    "\n",
    "where \n",
    "\n",
    "- $p_{asc_H} = p_{asc_x}$ is the east component of the ascending LOS vector\n",
    "- $p_{asc_V} = p_{asc_z}$ is the vertical component of the ascending LOS vector\n",
    "- $p_{dsc_H} = p_{dsc_x}$ is the east component of the descending LOS vector\n",
    "- $p_{dsc_V} = p_{dsc_z}$ is the vertical component of the descending LOS vector\n",
    "\n",
    "And once we have these things defined, we can do a bit of matrix math to solve for **m**:\n",
    "\n",
    "$${\\bf P~m} = {\\bf r} $$ \n",
    "$${\\bf P^TP~m} = {\\bf P^Tr}$$\n",
    "$${\\bf(P^TP)}^{-1}{\\bf P^TPm} = {\\bf(P^TP)}^{-1}{\\bf P^Tr}$$\n",
    "$${\\bf m} = {\\bf(P^TP)}^{-1}{\\bf P^Tr}$$\n",
    "\n",
    "(This is the *least-squares* solution for **m** in fact.)\n",
    "\n",
    "So now, we just need to extract the necessary parts of our LOS vectors to make **P** and the rest is easy!"
   ]
  },
  {
   "cell_type": "code",
   "execution_count": null,
   "id": "circular-fever",
   "metadata": {},
   "outputs": [],
   "source": [
    "# take the east and north components from the ascending data...\n",
    "p_hat_asc = np.array([p_asc[0], p_asc[2]])\n",
    "\n",
    "# ...and the descending data\n",
    "p_hat_dsc = np.array([p_dsc[0], p_dsc[2]])\n",
    "\n",
    "# and finally, assemble all that into a matrix...\n",
    "P=np.vstack(([p_hat_asc, p_hat_dsc]))"
   ]
  },
  {
   "cell_type": "code",
   "execution_count": null,
   "id": "tropical-bangkok",
   "metadata": {},
   "outputs": [],
   "source": [
    "# let's see what that looks like\n",
    "P"
   ]
  },
  {
   "cell_type": "markdown",
   "id": "alternate-crossing",
   "metadata": {},
   "source": [
    "## 4. Let's solve for some deformation rates!\n",
    "\n",
    "So all that remains is to program up the solution, which is just some light numpy!"
   ]
  },
  {
   "cell_type": "code",
   "execution_count": null,
   "id": "solar-triumph",
   "metadata": {},
   "outputs": [],
   "source": [
    "# here are all the velocities for all the landslides\n",
    "r_asc_all=np.array([-7.2,-4.3,-4.6,-2.8,-12.1])\n",
    "r_dsc_all=np.array([12.2, 2.7, 5.3, 5.0, 12.0])\n",
    "\n",
    "# and here is the inverse of P^TP which we will use several times\n",
    "PTPinv=np.linalg.inv(np.matmul(P.T,P))"
   ]
  },
  {
   "cell_type": "code",
   "execution_count": null,
   "id": "fitted-billy",
   "metadata": {},
   "outputs": [],
   "source": [
    "# let's loop through them!\n",
    "for i in range(len(r_asc_all)):\n",
    "    \n",
    "    # grab the values of range change rate for this landslide, make a vector\n",
    "    r=np.vstack(([r_asc_all[i]],[r_dsc_all[i]]))\n",
    "    \n",
    "    # and solve for the decomposed velocities!\n",
    "    u=np.matmul(PTPinv,np.matmul(P.T,r))\n",
    "\n",
    "    # and let 'em know what you got\n",
    "    print(\"landslide {0}\".format(i+1))\n",
    "    print(\"  east velocity={0:5.1f} mm/yr, vertical velocity={1:4.1f} mm/yr\".format(u[0,0],u[1,0]))"
   ]
  },
  {
   "cell_type": "markdown",
   "id": "90279e3d",
   "metadata": {},
   "source": [
    "Do these look plausible? The slides all seem to be moving in the downhill direction, which is to the west (negative east direction), and all but one have negative vertical directions (i.e. downward) $-$ and the one that has apparent uplift (landslide 2) could well be moving downward within error. "
   ]
  },
  {
   "cell_type": "markdown",
   "id": "3f5f8dea",
   "metadata": {},
   "source": [
    "## 5. Want to know more?\n",
    "\n",
    "The descending track ERS data were published in a study by George Hilley and co-authors in 2004, which comes up with similar estimates of the average velocities by projecting velocities from each landslide into the downslope direction. They also noted that there was a surge in landslide movement during the El Nino winter of 1997-1998, a period of heavy rains.\n",
    "\n",
    "Hilley, G. E., R. Burgmann, A. Ferretti, F. Novali and F. Rocca (2004), Dynamics of Slow-Moving Landslides from Permanent Scatterer Analysis, Science, 304, 1952$-$1955, https://doi.org/10.1126/science.1098821\n",
    "\n",
    "For investigations into the efficacy of inverting for three-dimensional velocities (and why different incidences from the same flight/look direction do not provide enough information to solve for three components), this is a classic paper:\n",
    "\n",
    "Wright, T. J., B. E. Parsons and Z. Lu (2004), Toward mapping surface deformation in three dimensions using InSAR, Geophys. Res. Lett., 31, L01607, https://doi.org/10.1029/2003GL018827.\n",
    "\n",
    "See also a study of mine that builds off of the Wright et al. paper and actually succeeds in inverting for the three-dimensional deformation, by including dense azimuth offset information to constrain the north component:\n",
    "\n",
    "Funning, G. J., B. Parsons, T. J. Wright, J. A. Jackson and E. J. Fielding. (2005), Surface displacements and source parameters of the 2003 Bam (Iran) earthquake from Envisat advanced synthetic aperture radar imagery, J. Geophys. Res., 110, B09406, https://doi.org/10.1029/2004JB003338."
   ]
  },
  {
   "cell_type": "code",
   "execution_count": null,
   "id": "bee82c1d",
   "metadata": {},
   "outputs": [],
   "source": []
  }
 ],
 "metadata": {
  "kernelspec": {
   "display_name": "earthscope_insar [conda env:.local-earthscope_insar]",
   "language": "python",
   "name": "conda-env-.local-earthscope_insar-py"
  },
  "language_info": {
   "codemirror_mode": {
    "name": "ipython",
    "version": 3
   },
   "file_extension": ".py",
   "mimetype": "text/x-python",
   "name": "python",
   "nbconvert_exporter": "python",
   "pygments_lexer": "ipython3",
   "version": "3.11.4"
  }
 },
 "nbformat": 4,
 "nbformat_minor": 5
}
