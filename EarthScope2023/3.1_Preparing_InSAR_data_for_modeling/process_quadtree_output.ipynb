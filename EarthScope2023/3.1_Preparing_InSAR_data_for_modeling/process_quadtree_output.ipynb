{
 "cells": [
  {
   "cell_type": "markdown",
   "metadata": {},
   "source": [
    "# Processing quadtree output\n",
    "There are several modeling codes out there, and they all use a different input format. Here is an example of reformatting the output of the <i>kite</i> quadtree decomposition we just used for use in one such code, <i>okinv</i>."
   ]
  },
  {
   "cell_type": "markdown",
   "metadata": {},
   "source": [
    "Import some things:"
   ]
  },
  {
   "cell_type": "code",
   "execution_count": null,
   "metadata": {},
   "outputs": [],
   "source": [
    "import numpy as np\n",
    "from kite import Scene\n",
    "import matplotlib.pyplot as plt\n",
    "from matplotlib import cm, colors\n",
    "import math\n",
    "import utm\n",
    "from osgeo import gdal"
   ]
  },
  {
   "cell_type": "markdown",
   "metadata": {},
   "source": [
    "Set some file names:"
   ]
  },
  {
   "cell_type": "code",
   "execution_count": null,
   "metadata": {},
   "outputs": [],
   "source": [
    "inyml=\"elazig_asc_kite_scene\"\n",
    "outbase=\"elazig_asc\""
   ]
  },
  {
   "cell_type": "markdown",
   "metadata": {},
   "source": [
    "And load in the quadtree'd data:"
   ]
  },
  {
   "cell_type": "code",
   "execution_count": null,
   "metadata": {},
   "outputs": [],
   "source": [
    "sc=Scene.load(inyml)\n",
    "qt=sc.quadtree"
   ]
  },
  {
   "cell_type": "markdown",
   "metadata": {},
   "source": [
    "The reference point in <i>kite</i> is the lower left (SW) corner of the interferogram. (Note that <i>ISCE</i>, and indeed most geospatial imaging formats, use the upper left corner.)"
   ]
  },
  {
   "cell_type": "code",
   "execution_count": null,
   "metadata": {},
   "outputs": [],
   "source": [
    "reflat=sc.frame.llLat\n",
    "reflon=sc.frame.llLon\n",
    "\n",
    "# we would also like the reference point in utm coordinates\n",
    "refutm=utm.from_latlon(reflat,reflon)\n",
    "\n",
    "print(\"reference point (lat-long):\",reflat,\"N\",reflon,\"E\")\n",
    "\n",
    "print(\"reference point (utm):\",refutm[0],\"E\",refutm[1],\"N\")"
   ]
  },
  {
   "cell_type": "markdown",
   "metadata": {},
   "source": [
    "Extracting the various information from the kite output is fairly straightforward. 'leaf_focal_points' is the name given to the centers of each quadtree cell, and is provided both in meters in a local coordinate system, as well as in long-lat. \n",
    "\n",
    "The definitions of incidence ('qt.leaf_thetas') and azimuth ('qt.leaf_phis') in <i>kite</i> are a little unusual (as seems to be common in InSAR, everyone has their own convention!) Here, the convention is up-looking, towards the satellite, with the azimuth being counter-clockwise from the East. Both values are in radians. \n",
    "\n",
    "We can convert this fairly easily to other definitions such as 'range change', i.e. with the unit line-of-sight (LOS) vector pointing from the satellite to the ground target, by doing some simple trigonometry. (It is probably a good idea to draw the problem, to see how this works...)"
   ]
  },
  {
   "cell_type": "code",
   "execution_count": null,
   "metadata": {},
   "outputs": [],
   "source": [
    "# xy positions of data points in utm kilometers\n",
    "#xkm=(refutm[0]+qt.leaf_focal_points_meter[:,0])/1000\n",
    "#ykm=(refutm[1]+qt.leaf_focal_points_meter[:,1])/1000\n",
    "\n",
    "# xy positions of data points in long-lat\n",
    "xyll=np.column_stack((qt.leaf_focal_points[:,0]+reflon,qt.leaf_focal_points[:,1]+reflat))\n",
    "\n",
    "# los vector components using kite definiton of coordinates\n",
    "losx=np.cos(qt.leaf_thetas)*-np.cos(qt.leaf_phis)\n",
    "losy=np.cos(qt.leaf_thetas)*-np.sin(qt.leaf_phis)\n",
    "losz=-np.sin(qt.leaf_thetas)\n",
    "\n",
    "# id for each datapoint\n",
    "dataptid=np.arange(1,losx.size+1)"
   ]
  },
  {
   "cell_type": "code",
   "execution_count": null,
   "metadata": {},
   "outputs": [],
   "source": [
    "# let's convert our lat-long coordinates to UTM km\n",
    "xym = utm.from_latlon(xyll[:,1],xyll[:,0]) \n",
    "xkm = xym[0]/1000\n",
    "ykm = xym[1]/1000"
   ]
  },
  {
   "cell_type": "markdown",
   "metadata": {},
   "source": [
    "We can plot the points, just to make sure that our conversion makes sense."
   ]
  },
  {
   "cell_type": "code",
   "execution_count": null,
   "metadata": {},
   "outputs": [],
   "source": [
    "fig = plt.figure(figsize=(6,12))\n",
    "\n",
    "ax = fig.add_subplot(111)\n",
    "ax.set_xlabel(\"UTM_x (km)\",fontsize=12)\n",
    "ax.set_ylabel(\"UTM_y (km)\",fontsize=12)\n",
    "ax.grid(True,linestyle='-',color='0.75')\n",
    "\n",
    "# scatter with colormap mapping to z value\n",
    "ax.scatter(xkm,ykm,s=20,c=qt.leaf_means, marker = 'o', cmap = cm.jet );\n",
    "ax.set_aspect('equal')\n",
    "\n",
    "plt.show()"
   ]
  },
  {
   "cell_type": "markdown",
   "metadata": {},
   "source": [
    "Finish by outputting the data to file, in one example format. The following format, based on the okinv code, has seven columns:\n",
    "\n",
    "x_coordinate(km) y_coordinate(km) los_displacement(m) unit_los_x unit_los_y unit_los_z id"
   ]
  },
  {
   "cell_type": "code",
   "execution_count": null,
   "metadata": {},
   "outputs": [],
   "source": [
    "# okinv format in km\n",
    "okinv_data=np.column_stack((xkm,ykm,qt.leaf_means,losx,losy,losz,dataptid))\n",
    "outfile=outbase+\".okinv\"\n",
    "np.savetxt(outfile,okinv_data,fmt='%f %f %f %f %f %f %d')\n",
    "\n",
    "# okinv format in lat-long \n",
    "okinv_data_ll=np.column_stack((xyll,qt.leaf_means,losx,losy,losz,dataptid))\n",
    "outfile=outbase+\"_ll\"+\".okinv\"\n",
    "np.savetxt(outfile,okinv_data_ll,fmt='%f %f %f %f %f %f %d')"
   ]
  },
  {
   "cell_type": "code",
   "execution_count": null,
   "metadata": {},
   "outputs": [],
   "source": [
    "!ls"
   ]
  },
  {
   "cell_type": "code",
   "execution_count": null,
   "metadata": {},
   "outputs": [],
   "source": [
    "!cat elazig_asc.okinv"
   ]
  },
  {
   "cell_type": "code",
   "execution_count": null,
   "metadata": {},
   "outputs": [],
   "source": []
  }
 ],
 "metadata": {
  "kernelspec": {
   "display_name": "unavco [conda env:.local-unavco]",
   "language": "python",
   "name": "conda-env-.local-unavco-py"
  },
  "language_info": {
   "codemirror_mode": {
    "name": "ipython",
    "version": 3
   },
   "file_extension": ".py",
   "mimetype": "text/x-python",
   "name": "python",
   "nbconvert_exporter": "python",
   "pygments_lexer": "ipython3",
   "version": "3.8.10"
  }
 },
 "nbformat": 4,
 "nbformat_minor": 2
}
