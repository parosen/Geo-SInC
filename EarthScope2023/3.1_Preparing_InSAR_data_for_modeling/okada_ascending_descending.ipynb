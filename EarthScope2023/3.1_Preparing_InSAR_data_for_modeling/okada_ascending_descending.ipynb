{
 "cells": [
  {
   "cell_type": "markdown",
   "metadata": {},
   "source": [
    "# How displacements resolve into ascending and descending line-of-sight\n",
    "    \n",
    "A notebook to explore the expected differences between interferograms ascending and descending viewing geometries for forward modeled displacements of earthquake slip using the Okada elastic dislocation model"
   ]
  },
  {
   "cell_type": "markdown",
   "metadata": {},
   "source": [
    "This notebook draws heavily on the 'Line-of-sight components and the Okada model' notebook. We won't go over all that again, but will use the code snippets to project the same model into ascending and descending viewing geometries."
   ]
  },
  {
   "cell_type": "markdown",
   "metadata": {},
   "source": [
    "Let's start by importing some dependencies:"
   ]
  },
  {
   "cell_type": "code",
   "execution_count": null,
   "metadata": {},
   "outputs": [],
   "source": [
    "from okada_wrapper import dc3d0wrapper, dc3dwrapper\n",
    "from numpy import linspace, zeros, log\n",
    "from math import sin, cos, tan, radians\n",
    "from matplotlib.pyplot import contourf, contour,\\\n",
    "    xlabel, ylabel, title, colorbar, show, savefig\n",
    "from mpl_toolkits.axes_grid1 import ImageGrid\n",
    "import numpy as np\n",
    "import matplotlib.pyplot as plt\n",
    "import time"
   ]
  },
  {
   "cell_type": "markdown",
   "metadata": {},
   "source": [
    "And let's set some parameters! We need to set fault parameters, geometric parameters and elastic parameters."
   ]
  },
  {
   "cell_type": "code",
   "execution_count": null,
   "metadata": {},
   "outputs": [],
   "source": [
    "# fault parameters\n",
    "strike=359\n",
    "dip=89\n",
    "rake=179\n",
    "slip=2\n",
    "as_length=15000  # along-strike length\n",
    "dd_width=10000   # down-dip width\n",
    "cd_depth=6000   # centroid depth\n",
    "xs=0  # x cooordinate of center of up-dip projection of the fault\n",
    "ys=0  # y coordinate of same\n",
    "\n",
    "# geometric parameters\n",
    "asc_inc = 39   # incidence of ascending track (degrees from horizontal)\n",
    "asc_pnt = -260  # pointing direction of ascending track (degrees counter-clockwise from north)\n",
    "dsc_inc = 39   # incidence of descending track (degrees from horizontal)\n",
    "dsc_pnt = -100  # pointing direction of descending track (degrees counter-clockwise from north)\n",
    "\n",
    "# elastic parameters\n",
    "lmda = 30e9  # 30 GPa is a standard value for continental crust\n",
    "mu = 30e9    # 30 GPa is also a standard value for continental crist\n",
    "alpha = (lmda + mu) / (lmda + 2 * mu) # elastic constant used by Okada"
   ]
  },
  {
   "cell_type": "markdown",
   "metadata": {},
   "source": [
    "The necessary prep work for running the Okada model is in this snippet. We have to account for centroid position, rotate coordinates to account for strike, and decompose slip and rake into slip components."
   ]
  },
  {
   "cell_type": "code",
   "execution_count": null,
   "metadata": {},
   "outputs": [],
   "source": [
    "# calculate the centroid coordinates\n",
    "rc=cd_depth/tan(radians(dip))  # radial surface distance from (xs,ys) to centroid\n",
    "rcx=rc*sin(radians(strike+90)) # coordinate shift in x from xs to centroid \n",
    "rcy=rc*cos(radians(strike+90)) # coordinate shift in y from ys to centroid\n",
    "xc=xs+rcx  # x coordinate of centroid\n",
    "yc=ys+rcy  # y coordinate of centroid\n",
    "\n",
    "# make a rotation matrix to account for strike\n",
    "R=np.array([[cos(radians(strike-90)), -sin(radians(strike-90))], \n",
    "            [sin(radians(strike-90)), cos(radians(strike-90))]])\n",
    "\n",
    "# convert slip and rake to strike-slip and dip-slip\n",
    "ss=slip*cos(radians(rake))\n",
    "ds=slip*sin(radians(rake))"
   ]
  },
  {
   "cell_type": "markdown",
   "metadata": {},
   "source": [
    "This snippet runs the forward Okada model, using the parameters we specified before."
   ]
  },
  {
   "cell_type": "code",
   "execution_count": null,
   "metadata": {
    "scrolled": true
   },
   "outputs": [],
   "source": [
    "# set up a grid for computation\n",
    "n = (101, 101)\n",
    "x = linspace(-25000, 25000, n[0])  # these are the plot bounds\n",
    "y = linspace(-25000, 25000, n[1])\n",
    "\n",
    "UX = zeros((n[0], n[1]))  # and these three arrays contain the output\n",
    "UY = zeros((n[0], n[1]))\n",
    "UZ = zeros((n[0], n[1]))\n",
    "\n",
    "    \n",
    "# loop through the points on your grid\n",
    "for i in range(n[0]):\n",
    "    for j in range(n[1]):\n",
    "            \n",
    "        # shift and rotate the coordinates into Okada geometry\n",
    "        P=np.array([[x[i]-xc],[y[j]-yc]]); # observation point wrt centroid in map coordinates\n",
    "        Q=R.dot(P)                         # observation point rotated into Okada geometry\n",
    "            \n",
    "        # run the Okada dc3d function on the rotated coordinates   \n",
    "        success, u, grad_u = dc3dwrapper(alpha,\n",
    "                                            [Q[0], Q[1], 0],\n",
    "                                            cd_depth, dip,\n",
    "                                            [-as_length/2, as_length/2], \n",
    "                                            [-dd_width/2, dd_width/2],\n",
    "                                            [ss, ds, 0.0])\n",
    "        assert(success == 0)\n",
    "        \n",
    "        # here u[0] is strike-parallel displacement and u[1] is strike-normal displacement\n",
    "        UX[i, j] = u[0]*sin(radians(strike))-u[1]*cos(radians(strike))   # x displacement\n",
    "        UY[i, j] = u[0]*cos(radians(strike))-u[1]*sin(radians(strike))   # y displacement\n",
    "        UZ[i, j] = u[2]   # z displacement\n",
    "        "
   ]
  },
  {
   "cell_type": "markdown",
   "metadata": {},
   "source": [
    "Project these displacements into line-of-sight for the two viewing geometries we defined before. And then plot everything!"
   ]
  },
  {
   "cell_type": "code",
   "execution_count": null,
   "metadata": {},
   "outputs": [],
   "source": [
    "# calculate the line-of-sight vectors for each viewing geometry\n",
    "p_vec_asc = [sin(radians(asc_pnt))*sin(radians(asc_inc)), -cos(radians(asc_pnt))*sin(radians(asc_inc)), -cos(radians(asc_inc))];\n",
    "p_vec_dsc = [sin(radians(dsc_pnt))*sin(radians(dsc_inc)), -cos(radians(dsc_pnt))*sin(radians(dsc_inc)), -cos(radians(dsc_inc))];\n",
    "\n",
    "# let's scale the three displacement components we calculated by these pointing vector components\n",
    "ULOS_ASC_X = np.multiply(UX,p_vec_asc[0]) \n",
    "ULOS_ASC_Y = np.multiply(UY,p_vec_asc[1]) \n",
    "ULOS_ASC_Z = np.multiply(UZ,p_vec_asc[2]) \n",
    "\n",
    "ULOS_DSC_X = np.multiply(UX,p_vec_dsc[0]) \n",
    "ULOS_DSC_Y = np.multiply(UY,p_vec_dsc[1]) \n",
    "ULOS_DSC_Z = np.multiply(UZ,p_vec_dsc[2]) \n",
    "\n",
    "# sum them to get the predicted line-of-sight displacement for each viewing geometry\n",
    "ULOS_ASC = ULOS_ASC_X + ULOS_ASC_Y + ULOS_ASC_Z\n",
    "ULOS_DSC = ULOS_DSC_X + ULOS_DSC_Y + ULOS_DSC_Z\n",
    "\n",
    "\n",
    "# and now, plot all the things!\n",
    "\n",
    "# first, the unscaled displacements\n",
    "fig, (ax1,ax2,ax3) = plt.subplots(ncols=3,figsize=(18,5))  # set up three subplots (size in x and y)\n",
    "fig.subplots_adjust(wspace=0.3)                            # space them out a little\n",
    "\n",
    "axlist = [ax1,ax2,ax3]   # handles for your subplots\n",
    "\n",
    "levels = linspace(-1, 1, 21)   # the bounds of your color scale - adjust if necessary\n",
    "\n",
    "cntrf = ax1.contourf(x, y, UX.T, levels = levels)\n",
    "first = ax1.contour(x, y, UX.T, colors = 'k', levels = levels, linestyles = 'solid')\n",
    "ax1.axis('image')\n",
    "ax1.title.set_text('x displacements')\n",
    "\n",
    "cntrf = ax2.contourf(x, y, UY.T, levels = levels)\n",
    "second = ax2.contour(x, y, UY.T, colors = 'k', levels = levels, linestyles = 'solid')\n",
    "ax2.axis('image')\n",
    "ax2.title.set_text('y displacements')\n",
    "\n",
    "cntrf = ax3.contourf(x, y, UZ.T, levels = levels)\n",
    "third = ax3.contour(x, y, UZ.T, colors = 'k', levels = levels, linestyles = 'solid')\n",
    "ax3.axis('image')\n",
    "ax3.title.set_text('z displacements')\n",
    "\n",
    "fig.colorbar(cntrf, ax=axlist)\n",
    "\n",
    "plt.show()\n",
    "\n",
    "# next the ascending interferogram and components\n",
    "fig, (ax1,ax2,ax3,ax4) = plt.subplots(ncols=4,figsize=(18,4.5))  # set up four subplots (size in x and y)\n",
    "fig.subplots_adjust(wspace=0.3)                            # space them out a little\n",
    "\n",
    "axlist = [ax1,ax2,ax3,ax4]   # handles for your subplots\n",
    "\n",
    "levels = linspace(-1.0, 1.0, 21)   # the bounds of your color scale - adjust if necessary\n",
    "\n",
    "cntrf = ax1.contourf(x, y, ULOS_ASC_X.T, levels = levels)\n",
    "first = ax1.contour(x, y, ULOS_ASC_X.T, colors = 'k', levels = levels, linestyles = 'solid')\n",
    "ax1.axis('image')\n",
    "ax1.title.set_text('x component of LOS')\n",
    "\n",
    "cntrf = ax2.contourf(x, y, ULOS_ASC_Y.T, levels = levels)\n",
    "second = ax2.contour(x, y, ULOS_ASC_Y.T, colors = 'k', levels = levels, linestyles = 'solid')\n",
    "ax2.axis('image')\n",
    "ax2.title.set_text('y component of LOS')\n",
    "\n",
    "cntrf = ax3.contourf(x, y, ULOS_ASC_Z.T, levels = levels)\n",
    "third = ax3.contour(x, y, ULOS_ASC_Z.T, colors = 'k', levels = levels, linestyles = 'solid')\n",
    "ax3.axis('image')\n",
    "ax3.title.set_text('z component of LOS')\n",
    "\n",
    "cntrf = ax4.contourf(x, y, ULOS_ASC.T, levels = levels)\n",
    "third = ax4.contour(x, y, ULOS_ASC.T, colors = 'k', levels = levels, linestyles = 'solid')\n",
    "ax4.axis('image')\n",
    "ax4.title.set_text('LOS displacement')\n",
    "\n",
    "fig.colorbar(cntrf, ax=axlist)\n",
    "\n",
    "plt.show()\n",
    "\n",
    "# finally, the descending interferogram and components\n",
    "fig, (ax1,ax2,ax3,ax4) = plt.subplots(ncols=4,figsize=(18,4.5))  # set up four subplots (size in x and y)\n",
    "fig.subplots_adjust(wspace=0.3)                            # space them out a little\n",
    "\n",
    "axlist = [ax1,ax2,ax3,ax4]   # handles for your subplots\n",
    "\n",
    "levels = linspace(-1, 1, 21)   # the bounds of your color scale - adjust if necessary\n",
    "\n",
    "cntrf = ax1.contourf(x, y, ULOS_DSC_X.T, levels = levels)\n",
    "first = ax1.contour(x, y, ULOS_DSC_X.T, colors = 'k', levels = levels, linestyles = 'solid')\n",
    "ax1.axis('image')\n",
    "ax1.title.set_text('x component of LOS')\n",
    "\n",
    "cntrf = ax2.contourf(x, y, ULOS_DSC_Y.T, levels = levels)\n",
    "second = ax2.contour(x, y, ULOS_DSC_Y.T, colors = 'k', levels = levels, linestyles = 'solid')\n",
    "ax2.axis('image')\n",
    "ax2.title.set_text('y component of LOS')\n",
    "\n",
    "cntrf = ax3.contourf(x, y, ULOS_DSC_Z.T, levels = levels)\n",
    "third = ax3.contour(x, y, ULOS_DSC_Z.T, colors = 'k', levels = levels, linestyles = 'solid')\n",
    "ax3.axis('image')\n",
    "ax3.title.set_text('z component of LOS')\n",
    "\n",
    "cntrf = ax4.contourf(x, y, ULOS_DSC.T, levels = levels)\n",
    "third = ax4.contour(x, y, ULOS_DSC.T, colors = 'k', levels = levels, linestyles = 'solid')\n",
    "ax4.axis('image')\n",
    "ax4.title.set_text('LOS displacement')\n",
    "\n",
    "fig.colorbar(cntrf, ax=axlist)\n",
    "\n",
    "plt.show()\n"
   ]
  },
  {
   "cell_type": "code",
   "execution_count": null,
   "metadata": {},
   "outputs": [],
   "source": []
  }
 ],
 "metadata": {
  "kernelspec": {
   "display_name": "earthscope_insar [conda env:.local-earthscope_insar]",
   "language": "python",
   "name": "conda-env-.local-earthscope_insar-py"
  },
  "language_info": {
   "codemirror_mode": {
    "name": "ipython",
    "version": 3
   },
   "file_extension": ".py",
   "mimetype": "text/x-python",
   "name": "python",
   "nbconvert_exporter": "python",
   "pygments_lexer": "ipython3",
   "version": "3.11.4"
  }
 },
 "nbformat": 4,
 "nbformat_minor": 4
}
