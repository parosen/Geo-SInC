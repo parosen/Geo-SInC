{
 "cells": [
  {
   "cell_type": "markdown",
   "metadata": {},
   "source": [
    "# A forward model of earthquake surface displacements using okapy\n",
    "\n",
    "Comparing downsampled InSAR data with model predictions, calculating penalties and residuals..."
   ]
  },
  {
   "cell_type": "markdown",
   "metadata": {},
   "source": [
    "## Initialize some things\n",
    "\n",
    "We'll start with an optional install..."
   ]
  },
  {
   "cell_type": "code",
   "execution_count": null,
   "metadata": {},
   "outputs": [],
   "source": [
    "#!pip install okada_wrapper  # if you haven't already installed it"
   ]
  },
  {
   "cell_type": "markdown",
   "metadata": {},
   "source": [
    "...by importing some dependencies..."
   ]
  },
  {
   "cell_type": "code",
   "execution_count": null,
   "metadata": {},
   "outputs": [],
   "source": [
    "from okapy import rect_shear_fault\n",
    "from math import sin, cos, tan, radians\n",
    "from matplotlib import cm, colors\n",
    "import numpy as np\n",
    "import matplotlib.pyplot as plt"
   ]
  },
  {
   "cell_type": "markdown",
   "metadata": {},
   "source": [
    "...and also importing some downsampled InSAR data. (While we're at it, we should convert the coordinates to meters.)"
   ]
  },
  {
   "cell_type": "code",
   "execution_count": null,
   "metadata": {},
   "outputs": [],
   "source": [
    "data = np.loadtxt('./elazig_asc.okinv', delimiter=' ')  # make sure you have the correct path to the file for your system\n",
    "data[:,0]*=1000  # convert x coord from km to m\n",
    "data[:,1]*=1000  # convert y coord from km to m"
   ]
  },
  {
   "cell_type": "code",
   "execution_count": null,
   "metadata": {},
   "outputs": [],
   "source": [
    "# what did we just load in?\n",
    "data"
   ]
  },
  {
   "cell_type": "markdown",
   "metadata": {},
   "source": [
    "Now let's set up some numbers"
   ]
  },
  {
   "cell_type": "code",
   "execution_count": null,
   "metadata": {},
   "outputs": [],
   "source": [
    "# a vector of fault parameters: strike, dip, rake, slip, x, y, length, top, bottom\n",
    "fparams = np.array([60, 90, 5, 2, 495000, 4238000, 35000, 4000, 12000]) # all values in degrees or m\n",
    "\n",
    "# a vector of elastic parameters\n",
    "eparams = np.array([30e9, 30e9])  # 1st and 2nd Lame elastic parameters; try 30 GPa for both"
   ]
  },
  {
   "cell_type": "markdown",
   "metadata": {},
   "source": [
    "## Run the model!\n",
    "\n",
    "Now we can run the Okada model. This version, part of 'okapy.py', takes in the fault parameters, elastic parameters and data as inputs and returns the line-of-sight displacements at the locations of the data points as an output. It uses the unit line-of-sight vector components provided in the 4th, 5th and 6th columns of the data array to project the 3D displacements of the Okada model into 1D radar line-of-sight. "
   ]
  },
  {
   "cell_type": "code",
   "execution_count": null,
   "metadata": {},
   "outputs": [],
   "source": [
    "model_los_disps = rect_shear_fault(fparams, eparams, data)"
   ]
  },
  {
   "cell_type": "markdown",
   "metadata": {},
   "source": [
    "Let's plot the data and forward models, so that we can compare them: "
   ]
  },
  {
   "cell_type": "code",
   "execution_count": null,
   "metadata": {},
   "outputs": [],
   "source": [
    "# estimate color limits\n",
    "cmin, cmax = data[:,2].min(), data[:,2].max()\n",
    "\n",
    "fig, (ax1,ax2) = plt.subplots(ncols=2,figsize=(12,8))\n",
    "axlist = [ax1,ax2]   # handles for your subplots\n",
    "\n",
    "\n",
    "# scatter with colormap mapping to z value\n",
    "scat=ax1.scatter(data[:,0],data[:,1],s=20,c=data[:,2], marker = 'o', cmap = cm.jet, vmin = cmin, vmax = cmax);\n",
    "ax1.set_xlabel(\"UTM x (m)\",fontsize=12)\n",
    "ax1.set_ylabel(\"UTM y (m)\",fontsize=12)\n",
    "ax1.title.set_text('data')\n",
    "ax1.grid(True,linestyle='-',color='0.75')\n",
    "ax1.set_aspect('equal')\n",
    "\n",
    "# scatter with colormap mapping to z value\n",
    "scat=ax2.scatter(data[:,0],data[:,1],s=20,c=model_los_disps, marker = 'o', cmap = cm.jet, vmin = cmin, vmax = cmax);\n",
    "ax2.set_xlabel(\"UTM x (m)\",fontsize=12)\n",
    "ax2.title.set_text('forward model')\n",
    "ax2.grid(True,linestyle='-',color='0.75')\n",
    "ax2.set_aspect('equal')\n",
    "\n",
    "fig.colorbar(scat,ax=axlist)\n",
    "\n",
    "plt.show();"
   ]
  },
  {
   "cell_type": "markdown",
   "metadata": {},
   "source": [
    "## Of penalties and residuals\n",
    "\n",
    "We can assess the goodness of fit by calculating a penalty function. Typically we use the total squared misfit, which is i) always a positive number, and ii) related to the lognormal probability that the model fits the data (which is useful for Bayesian statistics...)"
   ]
  },
  {
   "cell_type": "code",
   "execution_count": null,
   "metadata": {},
   "outputs": [],
   "source": [
    "penalty = np.sum(np.square(data[:,2]-model_los_disps))\n",
    "print('total squared penalty:',penalty,'m^2')"
   ]
  },
  {
   "cell_type": "markdown",
   "metadata": {},
   "source": [
    "We might also want to account for a 'nuisance parameter', the unknown zero level of the data, when estimating misfit. This arises because the zero level in an unwrapped interferogram is usually chosen arbitraily, and may not be a location which experienced zero displacement; it could also be affected by noise. This can affect every single datapoint, and so can have a very large effect on the misfit. We can account for this by computing the mean of the residuals (the differences between the data and the modeled displacements) and subtracting it from the data when calculating the penalty."
   ]
  },
  {
   "cell_type": "code",
   "execution_count": null,
   "metadata": {},
   "outputs": [],
   "source": [
    "# calculate the mean residual\n",
    "zero_shift = np.mean(data[:,2]-model_los_disps)\n",
    "print('zero level shift:',zero_shift,'m')\n",
    "\n",
    "# now subtract this from the data when computing the misfit\n",
    "penalty = np.sum(np.square((data[:,2]-zero_shift)-model_los_disps))\n",
    "print('total squared penalty:',penalty,'m^2')"
   ]
  },
  {
   "cell_type": "markdown",
   "metadata": {},
   "source": [
    "The residuals are also useful for identifying where your model fits well and where it doesn't. Really, you ought to plot them along with your data and model (and account for the zero shift in the data when you do it)."
   ]
  },
  {
   "cell_type": "code",
   "execution_count": null,
   "metadata": {},
   "outputs": [],
   "source": [
    "# calculate the residual without nuisances...\n",
    "shifted_data = data[:,2]-zero_shift\n",
    "residual_los_disps = model_los_disps-shifted_data\n",
    "\n",
    "# color limits based on the shifted data\n",
    "cmin, cmax = shifted_data.min(), shifted_data.max()\n",
    "\n",
    "fig, (ax1,ax2,ax3) = plt.subplots(ncols=3,figsize=(18,8))\n",
    "axlist = [ax1,ax2,ax3]   # handles for your subplots\n",
    "\n",
    "\n",
    "# scatter with colormap mapping to z value\n",
    "scat=ax1.scatter(data[:,0],data[:,1],s=20,c=shifted_data, marker = 'o', cmap = cm.jet, vmin = cmin, vmax = cmax);\n",
    "ax1.set_xlabel(\"UTM x (m)\",fontsize=12)\n",
    "ax1.set_ylabel(\"UTM y (m)\",fontsize=12)\n",
    "ax1.title.set_text('data')\n",
    "ax1.grid(True,linestyle='-',color='0.75')\n",
    "ax1.set_aspect('equal')\n",
    "\n",
    "# scatter with colormap mapping to z value\n",
    "scat=ax2.scatter(data[:,0],data[:,1],s=20,c=model_los_disps, marker = 'o', cmap = cm.jet, vmin = cmin, vmax = cmax);\n",
    "ax2.set_xlabel(\"UTM x (m)\",fontsize=12)\n",
    "ax2.title.set_text('forward model')\n",
    "ax2.grid(True,linestyle='-',color='0.75')\n",
    "ax2.set_aspect('equal')\n",
    "\n",
    "# scatter with colormap mapping to z value\n",
    "scat=ax3.scatter(data[:,0],data[:,1],s=20,c=residual_los_disps, marker = 'o', cmap = cm.jet, vmin = cmin, vmax = cmax);\n",
    "ax3.set_xlabel(\"UTM x (m)\",fontsize=12)\n",
    "ax3.title.set_text('residual')\n",
    "ax3.grid(True,linestyle='-',color='0.75')\n",
    "ax3.set_aspect('equal')\n",
    "\n",
    "clb=fig.colorbar(scat,ax=axlist)\n",
    "clb.ax.set_title('LOS disp (m)')\n",
    "\n",
    "plt.show();"
   ]
  },
  {
   "cell_type": "code",
   "execution_count": null,
   "metadata": {},
   "outputs": [],
   "source": []
  }
 ],
 "metadata": {
  "kernelspec": {
   "display_name": "earthscope_insar [conda env:.local-earthscope_insar]",
   "language": "python",
   "name": "conda-env-.local-earthscope_insar-py"
  },
  "language_info": {
   "codemirror_mode": {
    "name": "ipython",
    "version": 3
   },
   "file_extension": ".py",
   "mimetype": "text/x-python",
   "name": "python",
   "nbconvert_exporter": "python",
   "pygments_lexer": "ipython3",
   "version": "3.11.4"
  }
 },
 "nbformat": 4,
 "nbformat_minor": 4
}
