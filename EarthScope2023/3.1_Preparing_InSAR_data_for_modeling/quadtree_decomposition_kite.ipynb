{
 "cells": [
  {
   "cell_type": "markdown",
   "metadata": {},
   "source": [
    "# Quadtree decomposition with <i>kite</i>\n",
    "\n",
    "The <i><a href=\"https://pyocko.org\">pyrocko</a></i> suite of tools comprise a series of open source applications designed to simplify the modeling of earthquakes, using both seismic and InSAR data. Here we will use one of those applications, <i>kite</i>, to read in and downsample an ISCE interferogram using quadtree decomposition.\n",
    "\n",
    "## Setup\n",
    "\n",
    "First, install some dependencies (if you haven't already)..."
   ]
  },
  {
   "cell_type": "code",
   "execution_count": null,
   "metadata": {},
   "outputs": [],
   "source": [
    "# ignore if you already have these installed!\n",
    "!pip install pyrocko\n",
    "!pip install utm\n",
    "!pip install git+https://github.com/pyrocko/kite"
   ]
  },
  {
   "cell_type": "markdown",
   "metadata": {},
   "source": [
    "...and import the necessary dependencies: "
   ]
  },
  {
   "cell_type": "code",
   "execution_count": null,
   "metadata": {},
   "outputs": [],
   "source": [
    "import numpy as np\n",
    "from kite import Scene\n",
    "import matplotlib.pyplot as plt\n",
    "from matplotlib import cm, colors\n",
    "import math\n",
    "from osgeo import gdal"
   ]
  },
  {
   "cell_type": "markdown",
   "metadata": {},
   "source": [
    "We will use, for this exercise, a pre-processed interferogram of the Elazig earthquake in Turkey. Let's grab it (and some other key files) off of the cloud! (This workflow should work for any ISCE-processed interferogram though.)"
   ]
  },
  {
   "cell_type": "code",
   "execution_count": null,
   "metadata": {},
   "outputs": [],
   "source": [
    "!aws --region us-east-1 --no-sign-request s3 cp s3://asf-jupyter-data/Elazig/filt_topophase.unw.geo .\n",
    "!aws --region us-east-1 --no-sign-request s3 cp s3://asf-jupyter-data/Elazig/filt_topophase.unw.geo.vrt .\n",
    "!aws --region us-east-1 --no-sign-request s3 cp s3://asf-jupyter-data/Elazig/filt_topophase.unw.geo.xml .\n",
    "!aws --region us-east-1 --no-sign-request s3 cp s3://asf-jupyter-data/Elazig/los.rdr.geo .\n",
    "!aws --region us-east-1 --no-sign-request s3 cp s3://asf-jupyter-data/Elazig/los.rdr.geo.vrt .\n",
    "!aws --region us-east-1 --no-sign-request s3 cp s3://asf-jupyter-data/Elazig/los.rdr.geo.xml .\n",
    "!aws --region us-east-1 --no-sign-request s3 cp s3://asf-jupyter-data/Elazig/water.msk .\n",
    "!aws --region us-east-1 --no-sign-request s3 cp s3://asf-jupyter-data/Elazig/water.msk.vrt .\n",
    "!aws --region us-east-1 --no-sign-request s3 cp s3://asf-jupyter-data/Elazig/water.msk.xml .\n",
    "!aws --region us-east-1 --no-sign-request s3 cp s3://asf-jupyter-data/Elazig/topophase.cor.geo .\n",
    "!aws --region us-east-1 --no-sign-request s3 cp s3://asf-jupyter-data/Elazig/topophase.cor.geo.vrt .\n",
    "!aws --region us-east-1 --no-sign-request s3 cp s3://asf-jupyter-data/Elazig/topophase.cor.geo.xml ."
   ]
  },
  {
   "cell_type": "code",
   "execution_count": null,
   "metadata": {},
   "outputs": [],
   "source": [
    "# we can check to see if that worked\n",
    "! ls -l"
   ]
  },
  {
   "cell_type": "markdown",
   "metadata": {},
   "source": [
    "Next, we specify a path and some filenames:"
   ]
  },
  {
   "cell_type": "code",
   "execution_count": null,
   "metadata": {},
   "outputs": [],
   "source": [
    "ifgpath=\"./\"                                                          # directory with your interferogram\n",
    "ifgname=\"filt_topophase.unw.geo\"                                      # interferogram file\n",
    "corname=\"topophase.cor.geo\"                                           # correlation file\n",
    "mskname=\"water.msk\"                                                   # water mask file"
   ]
  },
  {
   "cell_type": "markdown",
   "metadata": {},
   "source": [
    "Here are a couple of important parameters. <i>kite</i> currently cannot read in the radar wavelength from the interferogram metadata, as it is not included in the xml file(!) and so we specify it here. We also supply a correlation threshold for masking out low correlation data points."
   ]
  },
  {
   "cell_type": "code",
   "execution_count": null,
   "metadata": {},
   "outputs": [],
   "source": [
    "wavel = 0.0555     # radar wavelength in m\n",
    "cor_thresh = 0.2  # correlation threshold between 0 (bad) and 1 (perfect)"
   ]
  },
  {
   "cell_type": "markdown",
   "metadata": {},
   "source": [
    "## Load in the interferogram\n",
    "\n",
    "It is  a single command to read in an interferogram with <i>kite:</i>"
   ]
  },
  {
   "cell_type": "code",
   "execution_count": null,
   "metadata": {},
   "outputs": [],
   "source": [
    "sc = Scene.import_data(ifgpath+ifgname)"
   ]
  },
  {
   "cell_type": "markdown",
   "metadata": {},
   "source": [
    "We can look and see what we imported using a few matplotlib commands"
   ]
  },
  {
   "cell_type": "code",
   "execution_count": null,
   "metadata": {},
   "outputs": [],
   "source": [
    "#matplotlib inline\n",
    "fig, ax1 = plt.subplots()                       # new figure called \"ax1\"\n",
    "im = ax1.imshow(sc.displacement,origin='lower') # plot displacements with origin at lower left (kite default)\n",
    "fig.colorbar(im)                                # plot a color bar!\n",
    "plt.show();"
   ]
  },
  {
   "cell_type": "markdown",
   "metadata": {},
   "source": [
    "## Masking and unit conversion\n",
    "\n",
    "A freshly unwrapped and loaded interferogram will not have been masked for 'bad' (low correlation) data points, or for water. If we include these in our downsampled data, we will be corrupting our data with errors. We can use a combination of gdal and numpy to load in the correlation and water mask files, and replace them with NaNs (which is how <i>kite</i> treats null data). First, load them in:"
   ]
  },
  {
   "cell_type": "code",
   "execution_count": null,
   "metadata": {},
   "outputs": [],
   "source": [
    "# correlation file\n",
    "corfile=gdal.Open(ifgpath+corname,gdal.GA_ReadOnly)   # open with gdal\n",
    "rb = corfile.GetRasterBand(2)                         # correlation info is in band 2\n",
    "cor = rb.ReadAsArray()                                # read it in as a number array\n",
    "cor=np.flip(cor,0)                                    # flip image to account for origin position\n",
    "                                                      # (kite prefers lower left; ISCE, top left)\n",
    "\n",
    "# water mask file\n",
    "mskfile=gdal.Open(ifgpath+mskname,gdal.GA_ReadOnly)  \n",
    "rb = mskfile.GetRasterBand(1)                         # only one band here\n",
    "msk = rb.ReadAsArray()\n",
    "msk=np.flip(msk,0)"
   ]
  },
  {
   "cell_type": "markdown",
   "metadata": {},
   "source": [
    "We can convert the interferogram from radians to meters (ISCE does not include wavelength information in the interferogram metadata files, so it is not applied automatically by <i>kite</i>):"
   ]
  },
  {
   "cell_type": "code",
   "execution_count": null,
   "metadata": {},
   "outputs": [],
   "source": [
    "sc.displacement*=wavel/4/math.pi   # change values of sc.displacement in place"
   ]
  },
  {
   "cell_type": "markdown",
   "metadata": {},
   "source": [
    "Next, replace the zeros in the water mask, and values with low correlation, by NaNs:"
   ]
  },
  {
   "cell_type": "code",
   "execution_count": null,
   "metadata": {},
   "outputs": [],
   "source": [
    "sc.displacement[msk<1]=np.nan\n",
    "sc.displacement[cor<cor_thresh]=np.nan"
   ]
  },
  {
   "cell_type": "markdown",
   "metadata": {},
   "source": [
    "And plot to see if it worked!"
   ]
  },
  {
   "cell_type": "code",
   "execution_count": null,
   "metadata": {},
   "outputs": [],
   "source": [
    "#matplotlib inline\n",
    "fig, ax2 = plt.subplots()\n",
    "im = ax2.imshow(sc.displacement,origin='lower')\n",
    "cb=fig.colorbar(im)"
   ]
  },
  {
   "cell_type": "markdown",
   "metadata": {},
   "source": [
    "## Quadtree decomposition\n",
    "\n",
    "We can initialize the quadtree decomposition in <i>kite</i> by defining an abbreviation:"
   ]
  },
  {
   "cell_type": "code",
   "execution_count": null,
   "metadata": {},
   "outputs": [],
   "source": [
    "qt = sc.quadtree"
   ]
  },
  {
   "cell_type": "markdown",
   "metadata": {},
   "source": [
    "And we can specify some parameters that control the quadtree process:"
   ]
  },
  {
   "cell_type": "code",
   "execution_count": null,
   "metadata": {},
   "outputs": [],
   "source": [
    "qt.epsilon = 0.02         # Variance threshold\n",
    "qt.nan_allowed = 0.5      # Percentage of NaN values allowed per tile/leaf\n",
    "qt.tile_size_max = 0.2    # Maximum leaf size in degrees\n",
    "qt.tile_size_min = 0.01  # Minimum leaf size in degrees"
   ]
  },
  {
   "cell_type": "markdown",
   "metadata": {},
   "source": [
    "Let's look at the distribution of leaves/tiles. Typically we are looking for a few hundred... If you don't like what you have, try editing the values above and re-running. If you would like more leaves, lower the epsilon value and/or make the tile sizes smaller. If you want fewer, do the opposite!"
   ]
  },
  {
   "cell_type": "code",
   "execution_count": null,
   "metadata": {},
   "outputs": [],
   "source": [
    "print(\"There are\",qt.nleaves,\"leaves\")"
   ]
  },
  {
   "cell_type": "markdown",
   "metadata": {},
   "source": [
    "And if you want to see the quadtree results, you can. This example prints out the leaf number, the lower left ('ll') east and north coordinates of the leaf (with respect to the lower left of the whole image), and the mean displacement of the pixels in that leaf:"
   ]
  },
  {
   "cell_type": "code",
   "execution_count": null,
   "metadata": {},
   "outputs": [],
   "source": [
    "j=0\n",
    "for k in qt.leaves:\n",
    "    print(\"leaf\",j,\"llE:\",qt.leaves[j].llE,\"llN:\",qt.leaves[j].llN,\"mean:\",qt.leaves[j].mean) \n",
    "    j=j+1"
   ]
  },
  {
   "cell_type": "markdown",
   "metadata": {},
   "source": [
    "And you can plot them too!"
   ]
  },
  {
   "cell_type": "code",
   "execution_count": null,
   "metadata": {},
   "outputs": [],
   "source": [
    "#matplotlib inline\n",
    "fig, ax3 = plt.subplots(figsize=[5,7.5])\n",
    "\n",
    "ulimit = qt.leaf_medians.max()\n",
    "llimit = qt.leaf_medians.min()\n",
    "\n",
    "color_map = cm.ScalarMappable(\n",
    "    norm=colors.Normalize(vmin=llimit, vmax=ulimit))\n",
    "\n",
    "for rect, leaf in zip(qt.getMPLRectangles(), qt.leaves):\n",
    "    color = color_map.to_rgba(leaf.median)\n",
    "    rect.set_facecolor(color)\n",
    "    ax3.add_artist(rect)\n",
    "\n",
    "\n",
    "ax3.set_xlim(0, qt.leaf_eastings.max())\n",
    "ax3.set_ylim(0, qt.leaf_northings.max())\n",
    "ax3.set_aspect('equal')\n",
    "\n",
    "\n",
    "plt.show();"
   ]
  },
  {
   "cell_type": "markdown",
   "metadata": {},
   "source": [
    "## Saving the output\n",
    "\n",
    "This last section saves your files, both in <i>kite</i>'s internal format, and in a comma-separated variable file:"
   ]
  },
  {
   "cell_type": "code",
   "execution_count": null,
   "metadata": {},
   "outputs": [],
   "source": [
    "sc.save('elazig_asc_kite_scene')\n",
    "#qt.export('elazig_asc_quadtree.csv')"
   ]
  },
  {
   "cell_type": "code",
   "execution_count": null,
   "metadata": {},
   "outputs": [],
   "source": []
  }
 ],
 "metadata": {
  "kernelspec": {
   "display_name": "unavco [conda env:.local-unavco]",
   "language": "python",
   "name": "conda-env-.local-unavco-py"
  },
  "language_info": {
   "codemirror_mode": {
    "name": "ipython",
    "version": 3
   },
   "file_extension": ".py",
   "mimetype": "text/x-python",
   "name": "python",
   "nbconvert_exporter": "python",
   "pygments_lexer": "ipython3",
   "version": "3.8.10"
  }
 },
 "nbformat": 4,
 "nbformat_minor": 2
}
