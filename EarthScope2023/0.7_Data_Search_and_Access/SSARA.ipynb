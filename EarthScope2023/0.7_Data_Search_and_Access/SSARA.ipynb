{
 "cells": [
  {
   "cell_type": "markdown",
   "metadata": {},
   "source": [
    "# Seamless SAR Archive (SSARA) Federated data search and access  \n",
    "In this tutorial we will download the command line client, demonstrate searching, and perform data download for later processing.\n",
    "The SSARA federated query tool (ssara_federated_query.py) is located on the SSARA GitHub page: https://www.unavco.org/gitlab/unavco_public/ssara_client .  You can clone the entire project and use git for tracking and pulling changes that have been made to the software.  \n",
    "Documentation and API details are on the GitHub wiki page:  \n",
    "https://www.unavco.org/gitlab/unavco_public/ssara_client/-/wikis/SSARA-API  \n",
    "https://www.unavco.org/gitlab/unavco_public/ssara_client/-/wikis/Usage-Examples  \n",
    "\n",
    "## 1. Download and setup the SSARA Federated Query tool"
   ]
  },
  {
   "cell_type": "code",
   "execution_count": 2,
   "metadata": {},
   "outputs": [],
   "source": [
    "import os\n",
    "os.chdir(os.getenv(\"HOME\")+'/work')"
   ]
  },
  {
   "cell_type": "code",
   "execution_count": 3,
   "metadata": {},
   "outputs": [
    {
     "name": "stdout",
     "output_type": "stream",
     "text": [
      "Cloning into '/home/jovyan/work/SSARA'...\n",
      "remote: Enumerating objects: 239, done.\u001b[K\n",
      "remote: Counting objects: 100% (31/31), done.\u001b[K\n",
      "remote: Compressing objects: 100% (29/29), done.\u001b[K\n",
      "remote: Total 239 (delta 17), reused 6 (delta 2), pack-reused 208\u001b[K\n",
      "Receiving objects: 100% (239/239), 75.22 KiB | 18.81 MiB/s, done.\n",
      "Resolving deltas: 100% (117/117), done.\n"
     ]
    }
   ],
   "source": [
    "!git clone https://www.unavco.org/gitlab/unavco_public/ssara_client.git $HOME/work/SSARA"
   ]
  },
  {
   "cell_type": "markdown",
   "metadata": {},
   "source": [
    "In order to download data outside the course, you will need to obtain credentials from WInSAR, ASF, and ESA, then store your username and password in the password_config.py file.  We will be using a special temporary account only for this short course demonstratioin to download some ESA data from WInSAR: \n",
    "\n",
    "Edit the file $HOME/work/SSARA/password_config.py in either in a terminal with vi or selecting it on the left under Files:  \n",
    "```\n",
    "unavuser=\"insarcourse\"\n",
    "unavpass=\"insarcourse\"\n",
    "```\n",
    "Note that you have to use the `\"` character around the entries in the file."
   ]
  },
  {
   "cell_type": "markdown",
   "metadata": {},
   "source": [
    "## 2. Using the SSARA Federated Query tool\n",
    "Running the client without any options will print the help message and describe the options.  Some usage examples are given in the help as well.  Take some time to perform some example searches in a terminal window to get a feel from how the client works."
   ]
  },
  {
   "cell_type": "code",
   "execution_count": 4,
   "metadata": {},
   "outputs": [
    {
     "name": "stdout",
     "output_type": "stream",
     "text": [
      "Usage: ssara_federated_query.py [options]\n",
      "\n",
      "\n",
      "Command line client for searching with the SSARA Federated API, \n",
      "creating KMLs, and downloading data.  See the options and \n",
      "descriptions below for details and usage examples.\n",
      "\n",
      "For questions or comments, contact Scott Baker: baker@unavco.org\n",
      "\n",
      "Options:\n",
      "  --version             show program's version number and exit\n",
      "  -h, --help            show this help message and exit\n",
      "\n",
      "  Query Parameters:\n",
      "    These options are used for the API query.  Use options to limit what\n",
      "    is returned by the search. These options act as a way to filter the\n",
      "    results and narrow down the search results.\n",
      "\n",
      "    -p <ARG>, --platform=<ARG>\n",
      "                        List of platforms (ie ALOS, ENVISAT, ERS-2...\n",
      "    -a <ARG>, --absoluteOrbit=<ARG>\n",
      "                        Absolute orbit (single orbit or list)\n",
      "    -r <ARG>, --relativeOrbit=<ARG>\n",
      "                        Relative Orbit (ie track or path)\n",
      "    -i <ARG>, --intersectsWith=<ARG>\n",
      "                        WKT format POINT,LINE, or POLYGON\n",
      "    -b <ARG>, --bbox=<ARG>\n",
      "                        Bounding box in SNWE\n",
      "    -f <ARG>, --frame=<ARG>\n",
      "                        frame(s) (single frame or as a list or range)\n",
      "    -s <ARG>, --start=<ARG>\n",
      "                        start date for acquisitions\n",
      "    -e <ARG>, --end=<ARG>\n",
      "                        end date for acquisitions\n",
      "    --beamMode=<ARG>    list of beam modes\n",
      "    --beamSwath=<ARG>   list of swaths: S1, S2, F1, F4...\n",
      "    --flightDirection=<ARG>\n",
      "                        Flight Direction (A or D, default is both)\n",
      "    --lookDirection=<ARG>\n",
      "                        Look Direction (L or R, default is both)\n",
      "    --polarization=<ARG>\n",
      "                        single or as a list\n",
      "    --collectionName=<ARG>\n",
      "                        single collection or list of collections\n",
      "    --processingLevel=PROCESSINGLEVEL\n",
      "                        Processing Level of data: L0, L1, L1.0, SLC...\n",
      "    --maxResults=<ARG>  maximum number of results to return (from each\n",
      "                        archive)\n",
      "    --minBaselinePerp=<ARG>\n",
      "                        min perpendicular baseline of granule\n",
      "    --maxBaselinePerp=<ARG>\n",
      "                        max perpendicular baseline of granule\n",
      "    --minFaradayRotation=<ARG>\n",
      "                        min faraday rotation of granule\n",
      "    --maxFaradayRotation=<ARG>\n",
      "                        max faraday rotation of granule\n",
      "    --minDoppler=<ARG>  min doppler of granule\n",
      "    --maxDoppler=<ARG>  max doppler of granule\n",
      "    --minInsarStackSize=<ARG>\n",
      "                        min stack size\n",
      "    --maxInsarStackSize=<ARG>\n",
      "                        max stack size\n",
      "\n",
      "  Result Options:\n",
      "    These options handle the results returned by the API query\n",
      "\n",
      "    --kml               create a KML of query\n",
      "    --kmlName=<ARG>     Filename for KML output\n",
      "    --csv               create a CSV of query\n",
      "    --print             print results to screen\n",
      "    --download          download the data\n",
      "    --parallel=<ARG>    number of scenes to download in parallel (default=1)\n",
      "    --monthMin=<ARG>    minimum integer month\n",
      "    --monthMax=<ARG>    maximum integer month\n",
      "    --noswath           Enforce first_frame==final_frame (i.e. not a swath)\n",
      "    --dem               OT call for DEM\n",
      "    --asfResponseTimeout=<ARG>\n",
      "                        Set the timeout length for ASF API response (SSARA\n",
      "                        server defaults to 15 sec.)\n",
      "    --s1orbits          Download S1 orbits from ESA for the result set\n",
      "Usage Examples:\n",
      "  These will do the search and create a KML:\n",
      "    ssara_federated_query.py -p SENTINEL-1A,SENTINEL-1B -r 14 -b '23.8,24.7,39.3,40.3' --kml\n",
      "    ssara_federated_query.py -p SENTINEL-1A,SENTINEL-1B -r 14 -b '23.8,24.7,39.3,40.3' --download --parallel=4\n",
      "    ssara_federated_query.py --platform=ENVISAT -r 170 -f 2925 --kml\n",
      "    ssara_federated_query.py --platform=ENVISAT -r 170,392 -f 2925,657-693 -s 2003-01-01 -e 2008-01-01 --kml\n",
      "    ssara_federated_query.py --platform=ENVISAT,ERS-1,ERS-2 -r 170 -f 2925 --collectionName=\"WInSAR ESA,EarthScope ESA\" --kml\n",
      "    ssara_federated_query.py --platform=ENVISAT --intersectsWith='POLYGON((-118.3 33.7, -118.3 33.8, -118.0 33.8, -118.0 33.7, -118.3 33.7))' --kml\n",
      "\n",
      "  To download data, add the --download option and add your user credentials to the password_config.py file\n",
      "    ssara_federated_query.py --platform=ENVISAT -r 170 -f 2925 --download \n",
      "    ssara_federated_query.py --platform=ENVISAT -r 170,392 -f 2925,657-693 -s 2003-01-01 -e 2008-01-01 --download \n",
      "    ssara_federated_query.py --platform=ENVISAT,ERS-1,ERS-2 -r 170 -f 2925 --collection=\"WInSAR ESA,EarthScope ESA\" --download \n",
      "\n",
      "  UAVSAR flight line is mapped to relative orbit in the API. Also the default for the command line client is L0/L1.0 so you will\n",
      "  need to use the \"processingLevel\" option, either set it to blank for everything or to something specific.  \n",
      "    ssara_federated_query.py --platform=UAVSAR --relativeOrbit=05901 --processingLevel='' --intersectsWith='POINT(-155.3 19.4)'\n",
      "    ssara_federated_query.py --platform=UAVSAR --relativeOrbit=05901 --processingLevel='INTERFEROMETRY' --intersectsWith='POINT(-155.3 19.4)'\n"
     ]
    }
   ],
   "source": [
    "!$HOME/work/SSARA/ssara_federated_query.py"
   ]
  },
  {
   "cell_type": "markdown",
   "metadata": {},
   "source": [
    "## 3. Searching and Downloading Envisat data for Baja earthquake\n",
    "Now that the client is working properly on our system, we will do a search for Envisat data covering the April 4, 2010 Baja earthquake.  We want Envisat, track (or relativeOrbit) 84, frames 2943 and 2961 from the WInSAR ESA collection.  The following command provides the necessary filters for the search and returns the 4 scenes we need for processing:"
   ]
  },
  {
   "cell_type": "code",
   "execution_count": null,
   "metadata": {},
   "outputs": [],
   "source": [
    "!$HOME/work/SSARA/ssara_federated_query.py --platform=ENVISAT --relativeOrbit=84 --frame=2943,2961 --start=2010-03-27 --end=2010-05-03 --collection=\"WInSAR ESA\" --print"
   ]
  },
  {
   "cell_type": "markdown",
   "metadata": {},
   "source": [
    "The --print option prints the results in comma separated value (CSV) format to the screen with the following fields:  \n",
    "collection,platform,start,end,relativeOrbit,first_frame,final_frame,beamMode,beamSwath,\n",
    "flightDirection,lookDirection,polarization,downloadURL  \n",
    "\n",
    "We confirm that those are the scenes we want, so now we can provide the --download option.  \n"
   ]
  },
  {
   "cell_type": "code",
   "execution_count": null,
   "metadata": {},
   "outputs": [],
   "source": [
    "!mkdir -p $HOME/work/data/Baja/\n",
    "!cd $HOME/work/data/Baja/\n",
    "!$HOME/work/SSARA/ssara_federated_query.py -p ENVISAT -r 84 -f 2943,2961 -s 2010-03-27 -e 2010-05-03 --collection=\"WInSAR ESA\" --download --parallel=4 "
   ]
  },
  {
   "cell_type": "markdown",
   "metadata": {},
   "source": [
    "Now we can organize the data to prepare for processing later.  We want to create directories for each date and move the two frames into them"
   ]
  },
  {
   "cell_type": "code",
   "execution_count": null,
   "metadata": {},
   "outputs": [],
   "source": [
    "!mkdir -p $HOME/work/data/Baja/20100328 ; mv A*20100328*.N1 $HOME/work/data/Baja/20100328\n",
    "!mkdir -p $HOME/work/data/Baja/20100502 ; mv A*20100502*.N1 $HOME/work/data/Baja/20100502"
   ]
  },
  {
   "cell_type": "markdown",
   "metadata": {},
   "source": [
    "## 4. Searching and Downloading ALOS or Sentinel-1 data\n",
    "For the course, we ask that you download ALOS and S-1 data with filters using `ssara_federated_query.py` to see that you how to get just the frames you want, and no extras. Student self-assessment of comfort level."
   ]
  },
  {
   "cell_type": "markdown",
   "metadata": {},
   "source": [
    "The ALOS and Sentinel-1 data are stored at the Alaska Satellite Facility (ASF), so you need to edit the file `$HOME/work/SSARA/password_config.py` again in either in a terminal with vi or selecting it on the left under the Jupyter file browser and add your EarthData username and password in the asfuser and asfpass fields, similar to the unavco password.  \n",
    "```\n",
    "asfuser=\"\"\n",
    "asfpass=\"\"\n",
    "```\n"
   ]
  },
  {
   "cell_type": "code",
   "execution_count": null,
   "metadata": {},
   "outputs": [],
   "source": []
  }
 ],
 "metadata": {
  "kernelspec": {
   "display_name": "unavco [conda env:unavco]",
   "language": "python",
   "name": "conda-env-unavco-py"
  },
  "language_info": {
   "codemirror_mode": {
    "name": "ipython",
    "version": 3
   },
   "file_extension": ".py",
   "mimetype": "text/x-python",
   "name": "python",
   "nbconvert_exporter": "python",
   "pygments_lexer": "ipython3",
   "version": "3.8.13"
  }
 },
 "nbformat": 4,
 "nbformat_minor": 4
}
