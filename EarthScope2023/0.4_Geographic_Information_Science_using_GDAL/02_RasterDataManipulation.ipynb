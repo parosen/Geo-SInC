{
 "cells": [
  {
   "cell_type": "markdown",
   "metadata": {},
   "source": [
    "# Raster data manipulation with GDAL"
   ]
  },
  {
   "cell_type": "markdown",
   "metadata": {},
   "source": [
    "In this tutorial, we will walk through examples of manipulating raster datasets with GDAL. We will focus on these common operations \n",
    "\n",
    "1. Format conversion\n",
    "2. Cropping \n",
    "3. Oversampling/regridding\n",
    "4. Multilooking\n",
    "\n",
    "Note that we will not discuss coordinate transformation or projection conversion in this tutorial. We will discuss those topics in a separate tutorial."
   ]
  },
  {
   "cell_type": "markdown",
   "metadata": {},
   "source": [
    "## Before we start"
   ]
  },
  {
   "cell_type": "markdown",
   "metadata": {},
   "source": [
    "This notebook assumes you have run the data download steps from the previous notebook '01_IntroToRasterData'. <b>If you have not yet done so, most of this notebook will not work!</b> So make sure that you have completed the data downloads from that notebook before proceeding."
   ]
  },
  {
   "cell_type": "code",
   "execution_count": null,
   "metadata": {},
   "outputs": [],
   "source": [
    "###The usual python imports for the notebook\n",
    "%matplotlib inline\n",
    "from osgeo import gdal\n",
    "import matplotlib.pyplot as plt\n",
    "import numpy as np\n",
    "\n",
    "gdal.UseExceptions()\n",
    "\n",
    "#Utility function to load data\n",
    "def loadData(infile, band=1):\n",
    "    ds = gdal.Open(infile, gdal.GA_ReadOnly)\n",
    "    #Data array\n",
    "    data = ds.GetRasterBand(band).ReadAsArray()\n",
    "    #Map extent\n",
    "    trans = ds.GetGeoTransform()\n",
    "    xsize = ds.RasterXSize\n",
    "    ysize = ds.RasterYSize\n",
    "    extent = [trans[0], trans[0] + xsize * trans[1],\n",
    "            trans[3] + ysize*trans[5], trans[3]]\n",
    "    \n",
    "    ds = None\n",
    "    return data, extent"
   ]
  },
  {
   "cell_type": "markdown",
   "metadata": {},
   "source": [
    "## gdal_translate"
   ]
  },
  {
   "cell_type": "markdown",
   "metadata": {},
   "source": [
    "We will be using the **gdal_translate** utility either as an executable or programatically for accomplishing all the above listed data manipulation operations in this tutorial. For list of options supported by **gdal_translate**, see  \n",
    "\n",
    "http://www.gdal.org/gdal_translate.html\n",
    "\n",
    "```bash\n",
    "gdal_translate [--help-general]\n",
    "       [-ot {Byte/Int16/UInt16/UInt32/Int32/Float32/Float64/\n",
    "             CInt16/CInt32/CFloat32/CFloat64}] [-strict]\n",
    "       [-of format] [-b band]* [-mask band] [-expand {gray|rgb|rgba}]\n",
    "       [-outsize xsize[%]|0 ysize[%]|0] [-tr xres yres]\n",
    "       [-r {nearest,bilinear,cubic,cubicspline,lanczos,average,mode}]\n",
    "       [-unscale] [-scale[_bn] [src_min src_max [dst_min dst_max]]]* [-exponent[_bn] exp_val]*\n",
    "       [-srcwin xoff yoff xsize ysize] [-epo] [-eco]\n",
    "       [-projwin ulx uly lrx lry] [-projwin_srs srs_def]\n",
    "       [-a_srs srs_def] [-a_ullr ulx uly lrx lry] [-a_nodata value]\n",
    "       [-a_scale value] [-a_offset value]\n",
    "       [-gcp pixel line easting northing [elevation]]*\n",
    "       |-colorinterp{_bn} {red|green|blue|alpha|gray|undefined}]\n",
    "       |-colorinterp {red|green|blue|alpha|gray|undefined},...]\n",
    "       [-mo \"META-TAG=VALUE\"]* [-q] [-sds]\n",
    "       [-co \"NAME=VALUE\"]* [-stats] [-norat]\n",
    "       [-oo NAME=VALUE]*\n",
    "       src_dataset dst_dataset\n",
    "```"
   ]
  },
  {
   "cell_type": "markdown",
   "metadata": {},
   "source": [
    "## 1. Format conversion"
   ]
  },
  {
   "cell_type": "markdown",
   "metadata": {},
   "source": [
    "Converting raster data from one format to another is a common requirement to work with legacy code. If the software was built with GDAL support, this step would be optional. But we all have software written to work with flat binary files, single band geotiffs or GMT grd files. Here are some examples of using **gdal_translate** to convert formats."
   ]
  },
  {
   "cell_type": "markdown",
   "metadata": {},
   "source": [
    "### a. Converting single band images"
   ]
  },
  {
   "cell_type": "code",
   "execution_count": null,
   "metadata": {},
   "outputs": [],
   "source": [
    "#Convert DEM from GMT format to geotiff\n",
    "!gdal_translate -of GTiff 18.grd 18.tif"
   ]
  },
  {
   "cell_type": "code",
   "execution_count": null,
   "metadata": {},
   "outputs": [],
   "source": [
    "#Load and compare data from both formats\n",
    "gmt, gmtext = loadData('18.grd')\n",
    "tif, tifext = loadData('18.tif')\n",
    "plt.figure('GMT vs TIFF')\n",
    "plt.subplot(1,2,1)\n",
    "plt.imshow(gmt, clim=[-7,2690], extent=gmtext, cmap='gray')\n",
    "plt.subplot(1,2,2)\n",
    "plt.imshow(tif, clim=[-7,2690], extent=tifext, cmap='gray')\n",
    "plt.show()\n",
    "gmt = None\n",
    "tif = None"
   ]
  },
  {
   "cell_type": "markdown",
   "metadata": {},
   "source": [
    "<br>\n",
    "<div class=\"alert alert-info\">\n",
    "<b>Note :</b>\n",
    "\n",
    "gdalinfo on the converted file reported a **tif.aux.xml** file as well. This is because GDAL provides support for translating the basic raster information from one to another. Each format has its own custom method of storing metadata - which may not be compatible with other formats. In such cases, GDAL will create an aux.xml to dump the metadata into it. \n",
    "\n",
    "</div>"
   ]
  },
  {
   "cell_type": "markdown",
   "metadata": {},
   "source": [
    "### b. Converting a single band and assigning NoDataValue"
   ]
  },
  {
   "cell_type": "code",
   "execution_count": null,
   "metadata": {},
   "outputs": [],
   "source": [
    "#Extract coherence layer\n",
    "!gdal_translate -of GTiff -b 2 -a_nodata 0 stripmap/interferogram/topophase.cor.geo.vrt stripmap/interferogram/coherence.geo.tif"
   ]
  },
  {
   "cell_type": "code",
   "execution_count": null,
   "metadata": {},
   "outputs": [],
   "source": [
    "#Look at the output\n",
    "!gdalinfo stripmap/interferogram/coherence.geo.tif"
   ]
  },
  {
   "cell_type": "markdown",
   "metadata": {},
   "source": [
    "### c. Creation options - format specific features"
   ]
  },
  {
   "cell_type": "markdown",
   "metadata": {},
   "source": [
    "Each data format has its own special features. For example, many formats include support for data compression to save disk space. When translating data to these formats, some of these options can be enabled by adding **-co** options. These options are specific to formats and can be discovered via their documentation pages. For example:\n",
    "\n",
    "* GeoTiff: http://www.gdal.org/frmt_gtiff.html\n",
    "* netCDF: http://www.gdal.org/frmt_netcdf.html"
   ]
  },
  {
   "cell_type": "code",
   "execution_count": null,
   "metadata": {},
   "outputs": [],
   "source": [
    "#We will create a compressed 16-bit floating type file for coherence with compression\n",
    "!gdal_translate -of GTiff -b 2 -a_nodata 0 stripmap/interferogram/topophase.cor.geo.vrt stripmap/interferogram/coherence_compressed.geo.tif -co \"NBITS=16\" -co \"COMPRESS=DEFLATE\" "
   ]
  },
  {
   "cell_type": "code",
   "execution_count": null,
   "metadata": {},
   "outputs": [],
   "source": [
    "#Look at the file sizes\n",
    "!ls -ltr stripmap/interferogram/*.tif"
   ]
  },
  {
   "cell_type": "code",
   "execution_count": null,
   "metadata": {},
   "outputs": [],
   "source": [
    "#Look at the output\n",
    "!gdalinfo stripmap/interferogram/coherence_compressed.geo.tif"
   ]
  },
  {
   "cell_type": "markdown",
   "metadata": {},
   "source": [
    "### d. Flat binary files"
   ]
  },
  {
   "cell_type": "markdown",
   "metadata": {},
   "source": [
    "GDAL supports a fairly large number of raw binary data formats - ENVI, SRTM, ROI_PAC, ISCE etc. A lot of these drivers are user contributed and are built on top of basic raw data handling mechanisms in GDAL. ENVI is widely used in industry and is possibly the most tested of the raw data formats. If you absolutely need to use raw binary formats for your intermediate products - we recommend that you use the ENVI format.\n",
    "\n",
    "Support for other raw formats especially ROI_PAC and ISCE are limited and can get out of sync with the software generating them."
   ]
  },
  {
   "cell_type": "markdown",
   "metadata": {},
   "source": [
    "## 2. Cropping"
   ]
  },
  {
   "cell_type": "markdown",
   "metadata": {},
   "source": [
    "Data cropping is a very common operation. GDAL allows us to crop data using map coordinates as well line/pixel locations. It even allows map locations in a coordinate system other than the one used by the source raster."
   ]
  },
  {
   "cell_type": "markdown",
   "metadata": {},
   "source": [
    "<br>\n",
    "<div class=\"alert alert-info\">\n",
    "<b>Note :</b>\n",
    "\n",
    "You can use VRT files to save disk space. You dont have to create cropped raster images unless absolutely needed.\n",
    "\n",
    "</div>"
   ]
  },
  {
   "cell_type": "markdown",
   "metadata": {},
   "source": [
    "### a. Cropping using map coordinates"
   ]
  },
  {
   "cell_type": "code",
   "execution_count": null,
   "metadata": {},
   "outputs": [],
   "source": [
    "#Cropping in same coordinate system as source raster\n",
    "# ulx uly lrx lry\n",
    "!gdal_translate -of VRT -b 2 -projwin -154.95 19.6 -154.75 19.4 stripmap/interferogram/topophase.cor.geo.vrt stripmap/coherence_crop.vrt"
   ]
  },
  {
   "cell_type": "code",
   "execution_count": null,
   "metadata": {},
   "outputs": [],
   "source": [
    "#Compare original and cropped data\n",
    "orig, origext = loadData('stripmap/interferogram/topophase.cor.geo.vrt', band=2)\n",
    "crop, cropext = loadData('stripmap/coherence_crop.vrt')\n",
    "\n",
    "plt.figure('Source vs Crop')\n",
    "plt.subplot(1,2,1)\n",
    "plt.imshow(orig, clim=[0., 1.], extent=origext, cmap='gray')\n",
    "plt.subplot(1,2,2)\n",
    "plt.imshow(crop, clim=[0., 1.], extent=cropext, cmap='gray')\n",
    "plt.show()\n",
    "\n",
    "orig = None\n",
    "crop= None"
   ]
  },
  {
   "cell_type": "markdown",
   "metadata": {},
   "source": [
    "### b. Cropping using map coordinates but different coordinate system"
   ]
  },
  {
   "cell_type": "markdown",
   "metadata": {},
   "source": [
    "We will use a DEM of Greenland in Polar Stereographic projection (EPSG:3413) for this example. This is accomplished using the **-projwin_srs** argument to **gdal_translate**"
   ]
  },
  {
   "cell_type": "code",
   "execution_count": null,
   "metadata": {},
   "outputs": [],
   "source": [
    "#Look at the input data\n",
    "!gdalinfo Greenland1km.nc"
   ]
  },
  {
   "cell_type": "code",
   "execution_count": null,
   "metadata": {},
   "outputs": [],
   "source": [
    "#Crop DEM using lat/lon coordinates\n",
    "# ulx uly rlx rly\n",
    "!gdal_translate -of VRT -projwin -55 71 -50 69 -projwin_srs EPSG:4326 NETCDF:\"Greenland1km.nc\":topg Greenland_crop.vrt"
   ]
  },
  {
   "cell_type": "code",
   "execution_count": null,
   "metadata": {},
   "outputs": [],
   "source": [
    "#Compare original and cropped data\n",
    "orig, origext = loadData('NETCDF:\"Greenland1km.nc\":topg')\n",
    "crop, cropext = loadData('Greenland_crop.vrt')\n",
    "\n",
    "plt.figure('Source vs Crop 2')\n",
    "plt.subplot(1,2,1)\n",
    "plt.imshow(orig, clim=[0., 3000.], extent=origext)\n",
    "plt.subplot(1,2,2)\n",
    "plt.imshow(crop, clim=[0., 3000.], extent=cropext)\n",
    "plt.show()\n",
    "\n",
    "orig = None\n",
    "crop= None"
   ]
  },
  {
   "cell_type": "markdown",
   "metadata": {},
   "source": [
    "### c. Cropping using line/pixel locations"
   ]
  },
  {
   "cell_type": "markdown",
   "metadata": {},
   "source": [
    "One can also crop images using the line and pixel locations. This is particularly useful when working with rasters that are not geocoded. In our case, cropping radar geometry products can be accomplished using this approach. One should use the **-srcwin** argument to specify the region of interest."
   ]
  },
  {
   "cell_type": "code",
   "execution_count": null,
   "metadata": {},
   "outputs": [],
   "source": [
    "#-srcwin xoff yoff xsize ysize\n",
    "!gdal_translate -of VRT -srcwin 1400 1700 1200 1200 N33W119_wgs84.tif SRTM_crop.vrt"
   ]
  },
  {
   "cell_type": "code",
   "execution_count": null,
   "metadata": {},
   "outputs": [],
   "source": [
    "#Compare original and cropped data\n",
    "orig, origext = loadData('N33W119_wgs84.tif')\n",
    "crop, cropext = loadData('SRTM_crop.vrt')\n",
    "\n",
    "plt.figure('Source vs Crop 3')\n",
    "plt.subplot(1,2,1)\n",
    "plt.imshow(orig, clim=[0., 1000.], extent=origext)\n",
    "plt.subplot(1,2,2)\n",
    "plt.imshow(crop, clim=[0., 1000.], extent=cropext)\n",
    "plt.show()\n",
    "\n",
    "orig = None\n",
    "crop= None"
   ]
  },
  {
   "cell_type": "markdown",
   "metadata": {},
   "source": [
    "Remember the raster layout from the tutorial on **Introduction to Raster Data**. **xoff, yoff** refers to the top-left corner of the first pixel of the region of interest. **xsize, ysize** refers to the number of pixels and lines in the region of interest."
   ]
  },
  {
   "cell_type": "markdown",
   "metadata": {},
   "source": [
    "## 3. Oversampling / regridding"
   ]
  },
  {
   "cell_type": "markdown",
   "metadata": {},
   "source": [
    "Oversampling or regridding is another common data manipulation operations. We often need to regrid data from different sources to use them within the same tools. A typical example is the oversampling of the DEM. GDAL provides efficient support for certain types of interpolators to oversample of regrid the data. By default, the following interpolators are available\n",
    "\n",
    "1. Nearest neighbor\n",
    "2. Bilinear\n",
    "3. Cubic\n",
    "4. Cubic spline\n",
    "5. Lanczos (Truncated sinc)\n",
    "6. Average\n",
    "7. Mode\n",
    "\n",
    "The output format can again be VRT if needed. This is recommended if the oversampled / regridded data is an intermediate product and not going to used again and again. When VRT output format is used, resampling/regridding occurs on the fly when the dataset is read in."
   ]
  },
  {
   "cell_type": "markdown",
   "metadata": {},
   "source": [
    "### a. Regridding with sample spacing"
   ]
  },
  {
   "cell_type": "markdown",
   "metadata": {},
   "source": [
    "One can directly provide sample spacing for regridding the data using the **-tr** argument."
   ]
  },
  {
   "cell_type": "code",
   "execution_count": null,
   "metadata": {
    "scrolled": true
   },
   "outputs": [],
   "source": [
    "#Oversample greenland dem to 500m\n",
    "!gdal_translate -of GTiff -tr 500 500 -r cubicspline NETCDF:\"Greenland1km.nc\":topg Greenland_500m.tif"
   ]
  },
  {
   "cell_type": "code",
   "execution_count": null,
   "metadata": {},
   "outputs": [],
   "source": [
    "#Check the pixel spacing if you want!\n",
    "!gdalinfo Greenland_500m.tif"
   ]
  },
  {
   "cell_type": "code",
   "execution_count": null,
   "metadata": {},
   "outputs": [],
   "source": [
    "#Compare original and resampled data\n",
    "orig, origext = loadData('NETCDF:\"Greenland1km.nc\":topg')\n",
    "grid, gridext = loadData('Greenland_500m.tif')\n",
    "\n",
    "plt.figure('Greenland')\n",
    "plt.subplot(1,2,1)\n",
    "plt.imshow(orig, clim=[0., 3000.], extent=origext)\n",
    "plt.subplot(1,2,2)\n",
    "plt.imshow(grid, clim=[0., 3000.], extent=gridext)\n",
    "plt.show()\n",
    "\n",
    "orig = None\n",
    "grid = None"
   ]
  },
  {
   "cell_type": "markdown",
   "metadata": {},
   "source": [
    "### b. Regridding with output size"
   ]
  },
  {
   "cell_type": "markdown",
   "metadata": {},
   "source": [
    "One can also directly specify the expected output size and **gdal_translate** will automatically compute the corresponding pixel spacing."
   ]
  },
  {
   "cell_type": "code",
   "execution_count": null,
   "metadata": {},
   "outputs": [],
   "source": [
    "#Greenland DEM downsampled to 60, 110\n",
    "!gdal_translate -of GTiff -outsize 60 110 -r nearest NETCDF:\"Greenland1km.nc\":topg Greenland_subsample.tif"
   ]
  },
  {
   "cell_type": "code",
   "execution_count": null,
   "metadata": {},
   "outputs": [],
   "source": [
    "#Check the pixel spacing if you want!\n",
    "!gdalinfo Greenland_subsample.tif"
   ]
  },
  {
   "cell_type": "code",
   "execution_count": null,
   "metadata": {},
   "outputs": [],
   "source": [
    "#Compare original and resampled data\n",
    "orig, origext = loadData('NETCDF:\"Greenland1km.nc\":topg')\n",
    "grid, gridext = loadData('Greenland_subsample.tif')\n",
    "\n",
    "plt.figure('Greenland 2')\n",
    "plt.subplot(1,2,1)\n",
    "plt.imshow(orig, clim=[0., 3000.], extent=origext)\n",
    "plt.subplot(1,2,2)\n",
    "plt.imshow(grid, clim=[0., 3000.], extent=gridext)\n",
    "plt.show()\n",
    "\n",
    "orig = None\n",
    "grid = None"
   ]
  },
  {
   "cell_type": "markdown",
   "metadata": {},
   "source": [
    "### c. Regridding with relative size"
   ]
  },
  {
   "cell_type": "markdown",
   "metadata": {},
   "source": [
    "Alternately, **-outsize** can also accept relative size in percentages. "
   ]
  },
  {
   "cell_type": "code",
   "execution_count": null,
   "metadata": {},
   "outputs": [],
   "source": [
    "!gdal_translate -of GTiff -outsize 10% 10% NETCDF:\"Greenland1km.nc\":topg Greenland_10perc.tif"
   ]
  },
  {
   "cell_type": "code",
   "execution_count": null,
   "metadata": {},
   "outputs": [],
   "source": [
    "#Check the pixel spacing if you want!\n",
    "!gdalinfo Greenland_10perc.tif"
   ]
  },
  {
   "cell_type": "code",
   "execution_count": null,
   "metadata": {},
   "outputs": [],
   "source": [
    "#Compare original and resampled data\n",
    "orig, origext = loadData('NETCDF:\"Greenland1km.nc\":topg')\n",
    "grid, gridext = loadData('Greenland_10perc.tif')\n",
    "\n",
    "plt.figure('Greenland 3')\n",
    "plt.subplot(1,2,1)\n",
    "plt.imshow(orig, clim=[0., 3000.], extent=origext)\n",
    "plt.subplot(1,2,2)\n",
    "plt.imshow(grid, clim=[0., 3000.], extent=gridext)\n",
    "plt.show()\n",
    "\n",
    "orig = None\n",
    "grid = None"
   ]
  },
  {
   "cell_type": "markdown",
   "metadata": {},
   "source": [
    "## 4. Multilooking"
   ]
  },
  {
   "cell_type": "markdown",
   "metadata": {},
   "source": [
    "Multilooking is a very common operation in SAR / InSAR processing. In most common cases, data is reduced using a simple box car filter. This can be easily accomplished by manipulating the **-outsize** and **-srcwin** parameters. Here, we will set up a simple python function to multilook the data using GDAL."
   ]
  },
  {
   "cell_type": "code",
   "execution_count": null,
   "metadata": {},
   "outputs": [],
   "source": [
    "def multiLook(infile, outfile, fmt='GTiff', xlooks=None, ylooks=None, noData=None, method='average'):\n",
    "    '''\n",
    "    infile - Input file to multilook\n",
    "    outfile - Output file to multilook\n",
    "    fmt - Output format\n",
    "    xlooks - Number of looks in x/range direction\n",
    "    ylooks - Number of looks in y/azimuth direction\n",
    "    '''\n",
    "    ds = gdal.Open(infile, gdal.GA_ReadOnly)\n",
    "\n",
    "    #Input file dimensions\n",
    "    xSize = ds.RasterXSize\n",
    "    ySize = ds.RasterYSize\n",
    "\n",
    "    #Output file dimensions\n",
    "    outXSize = xSize//xlooks\n",
    "    outYSize = ySize//ylooks\n",
    "\n",
    "    ##Set up options for translation\n",
    "    gdalTranslateOpts = gdal.TranslateOptions(format=fmt, \n",
    "                                              width=outXSize, height=outYSize,\n",
    "                                             srcWin=[0,0,outXSize*xlooks, outYSize*ylooks],\n",
    "                                             noData=noData, resampleAlg=method)\n",
    "\n",
    "    #Call gdal_translate\n",
    "    gdal.Translate(outfile, ds, options=gdalTranslateOpts)       \n",
    "    ds = None"
   ]
  },
  {
   "cell_type": "markdown",
   "metadata": {},
   "source": [
    "We will try using this function on some real valued datasets."
   ]
  },
  {
   "cell_type": "markdown",
   "metadata": {},
   "source": [
    "### a. Real valued data"
   ]
  },
  {
   "cell_type": "code",
   "execution_count": null,
   "metadata": {},
   "outputs": [],
   "source": [
    "#Multilook the coherence file and then visualize the output\n",
    "multiLook('stripmap/interferogram/topophase.cor.vrt', 'stripmap/coherence_looks.tif', \n",
    "          xlooks=5, ylooks=5, noData=0)\n",
    "\n",
    "orig, origext = loadData('stripmap/interferogram/topophase.cor.vrt', band=2)\n",
    "grid, gridext = loadData('stripmap/coherence_looks.tif', band=2)\n",
    "\n",
    "plt.figure('Multilook')\n",
    "plt.subplot(1,2,1)\n",
    "plt.imshow(orig, clim=[0., 1.], extent=origext, cmap='gray')\n",
    "plt.subplot(1,2,2)\n",
    "plt.imshow(grid, clim=[0., 1.], extent=gridext, cmap='gray')\n",
    "plt.show()\n",
    "\n",
    "orig = None\n",
    "grid = None"
   ]
  },
  {
   "cell_type": "markdown",
   "metadata": {},
   "source": [
    "### b. Complex valued data"
   ]
  },
  {
   "cell_type": "markdown",
   "metadata": {},
   "source": [
    "<br>\n",
    "<div class=\"alert alert-info\">\n",
    "<b>Note :</b>\n",
    "<ul>\n",
    "<li> GDAL has been highly optimized for use with real valued datasets. Some features like the average filter is still being implemented for Complex Data. We will use a work around by treating the real/imag parts as separate real valued channels. </li>\n",
    "\n",
    "<li> GDAL support for NoDataValue for complex datasets is still evolving. Currently, this is only implemented in the C++ api. Hopefully, this will be exposed to the users in the near future. </li>\n",
    "\n",
    "<li> Complex data support will hopefully be implemented in the next 6 months.</li>\n",
    "</ul>\n",
    "</div>"
   ]
  },
  {
   "cell_type": "code",
   "execution_count": null,
   "metadata": {},
   "outputs": [],
   "source": [
    "###This is a temporary fix. \n",
    "###Expect GDAL to support averaging and recognize nodata for complex data in near future\n",
    "###We include this example to demonstrate the use of inmemory / temporary files\n",
    "\n",
    "def multiLookCpx(infile, outfile, fmt='GTiff', xlooks=None, ylooks=None, noData=None, method='average'):\n",
    "    '''\n",
    "    infile - Input file to multilook\n",
    "    outfile - Output file to multilook\n",
    "    fmt - Output format\n",
    "    xlooks - Number of looks in x/range direction\n",
    "    ylooks - Number of looks in y/azimuth direction\n",
    "    \n",
    "    \n",
    "    input cpx file\n",
    "        |\n",
    "    2 band real virtual\n",
    "        |\n",
    "    2 band real multilooked virtual\n",
    "        |\n",
    "    1 band complex virtual\n",
    "        |\n",
    "    output cpx file\n",
    "        \n",
    "    '''\n",
    "    sourcexml = '''    <SimpleSource>\n",
    "      <SourceFilename>{0}</SourceFilename>\n",
    "      <SourceBand>1</SourceBand>\n",
    "    </SimpleSource>'''.format(infile)\n",
    "    \n",
    "    ds = gdal.Open(infile, gdal.GA_ReadOnly)\n",
    "\n",
    "    #Input file dimensions\n",
    "    xSize = ds.RasterXSize\n",
    "    ySize = ds.RasterYSize\n",
    "\n",
    "    #Output file dimensions\n",
    "    outXSize = xSize//xlooks\n",
    "    outYSize = ySize//ylooks\n",
    "\n",
    "    #Temporary filenames\n",
    "    inmemfile = '/vsimem/cpxlooks.2band.vrt'\n",
    "    inmemfile2 = '/vsimem/cpxlooks.multilooks.2band.vrt'\n",
    "    inmemfile3 = '/vsimem/cpxlooks.combine.vrt'\n",
    "    \n",
    "    ##This is where we convert it to real bands and multilook\n",
    "    #Create driver\n",
    "    driver = gdal.GetDriverByName('VRT')\n",
    "    rivrtds = driver.Create(inmemfile,xSize, ySize, 0)\n",
    "    \n",
    "    #Create realband\n",
    "    options = ['subClass=VRTDerivedRasterBand',\n",
    "               'PixelFunctionType=real',\n",
    "               'SourceTransferType=CFloat32']\n",
    "    rivrtds.AddBand(gdal.GDT_Float32, options)\n",
    "    rivrtds.GetRasterBand(1).SetMetadata({'source_0' : sourcexml}, 'vrt_sources')\n",
    "    \n",
    "    #Create imagband\n",
    "    options = ['subClass=VRTDerivedRasterBand',\n",
    "               'PixelFunctionType=imag',\n",
    "               'SourceTransferType=CFloat32']\n",
    "    rivrtds.AddBand(gdal.GDT_Float32, options)\n",
    "    rivrtds.GetRasterBand(2).SetMetadata({'source_0' : sourcexml}, 'vrt_sources')\n",
    "    \n",
    "    ##Add projection information\n",
    "    rivrtds.SetProjection(ds.GetProjection())\n",
    "    ds = None\n",
    "    \n",
    "\n",
    "    ##Set up options for translation\n",
    "    gdalTranslateOpts = gdal.TranslateOptions(format='VRT', \n",
    "                                              width=outXSize, height=outYSize,\n",
    "                                             srcWin=[0,0,outXSize*xlooks, outYSize*ylooks],\n",
    "                                             noData=noData, resampleAlg=method)\n",
    "\n",
    "    #Apply multilooking on real and imag channels\n",
    "    mlvrtds = gdal.Translate(inmemfile2, rivrtds, options=gdalTranslateOpts)\n",
    "    rivrtds = None\n",
    "    mlvrtds = None\n",
    "        \n",
    "    #Write from memory to VRT using pixel functions\n",
    "    mlvrtds = gdal.OpenShared(inmemfile2)\n",
    "    cpxvrtds = driver.Create(inmemfile3, outXSize, outYSize, 0)\n",
    "    cpxvrtds.SetProjection(mlvrtds.GetProjection())\n",
    "    cpxvrtds.SetGeoTransform(mlvrtds.GetGeoTransform())\n",
    "\n",
    "\n",
    "    options = ['subClass=VRTDerivedRasterBand',\n",
    "               'pixelFunctionType=complex',\n",
    "               'sourceTransferType=CFloat32']\n",
    "    xmltmpl = '''    <SimpleSource>\n",
    "      <SourceFilename>{0}</SourceFilename>\n",
    "      <SourceBand>{1}</SourceBand>\n",
    "    </SimpleSource>'''\n",
    "    \n",
    "    md = {'source_0': xmltmpl.format(inmemfile2, 1),\n",
    "          'source_1': xmltmpl.format(inmemfile2, 2)}\n",
    "\n",
    "    cpxvrtds.AddBand(gdal.GDT_CFloat32, options)\n",
    "    cpxvrtds.GetRasterBand(1).SetMetadata(md, 'vrt_sources')\n",
    "    mlvrtds = None\n",
    "        \n",
    "        \n",
    "    ###Now create copy to format needed\n",
    "    driver = gdal.GetDriverByName(fmt)\n",
    "    outds = driver.CreateCopy(outfile, cpxvrtds)\n",
    "    cpxvrtds = None\n",
    "    \n",
    "    outds = None\n",
    "    gdal.Unlink(inmemfile)\n",
    "    gdal.Unlink(inmemfile2)\n",
    "    gdal.Unlink(inmemfile3)\n",
    "            "
   ]
  },
  {
   "cell_type": "code",
   "execution_count": null,
   "metadata": {},
   "outputs": [],
   "source": [
    "import numpy as np\n",
    "import os\n",
    "\n",
    "#Multilook the coherence file and then visualize the output\n",
    "multiLookCpx('stripmap/interferogram/topophase.flat.vrt', 'stripmap/flattened_3x.tif', \n",
    "          xlooks=3, ylooks=3, noData='0')\n",
    "\n",
    "orig, origext = loadData('stripmap/interferogram/topophase.flat.vrt')\n",
    "grid, gridext = loadData('stripmap/flattened_3x.tif')\n",
    "\n",
    "plt.figure('Multilook 2')\n",
    "plt.subplot(1,2,1)\n",
    "plt.imshow(np.angle(orig), clim=[-np.pi, np.pi], extent=origext, cmap='hsv')\n",
    "plt.subplot(1,2,2)\n",
    "plt.imshow(np.angle(grid), clim=[-np.pi, np.pi], extent=gridext, cmap='hsv')\n",
    "plt.show()\n",
    "\n",
    "orig = None\n",
    "grid = None"
   ]
  },
  {
   "cell_type": "markdown",
   "metadata": {},
   "source": [
    "## Other features to keep an eye on\n",
    "\n",
    "1. **gdaldem** is an utility that allows one to apply color palettes to raster images. Very fast and can use custom color palettes. Compatible with GMT's cpt files. (http://www.gdal.org/gdaldem.html)\n",
    "\n",
    "2. **gdal_rasterize** allows users to rasterize shapefiles / vector formats. (http://www.gdal.org/gdal_rasterize.html)\n",
    "\n",
    "3. **gdal_edit.py** allows users to edit raster metadata on the command line. (http://www.gdal.org/gdal_edit.html)"
   ]
  }
 ],
 "metadata": {
  "kernelspec": {
   "display_name": "unavco",
   "language": "python",
   "name": "conda-env-.local-unavco-py"
  },
  "language_info": {
   "codemirror_mode": {
    "name": "ipython",
    "version": 3
   },
   "file_extension": ".py",
   "mimetype": "text/x-python",
   "name": "python",
   "nbconvert_exporter": "python",
   "pygments_lexer": "ipython3",
   "version": "3.8.10"
  }
 },
 "nbformat": 4,
 "nbformat_minor": 2
}
