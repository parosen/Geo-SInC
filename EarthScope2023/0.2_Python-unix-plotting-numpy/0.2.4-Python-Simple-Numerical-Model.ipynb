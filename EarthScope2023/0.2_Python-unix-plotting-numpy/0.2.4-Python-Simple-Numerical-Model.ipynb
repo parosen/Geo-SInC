{
 "cells": [
  {
   "cell_type": "markdown",
   "metadata": {},
   "source": [
    "<!--NOTEBOOK_HEADER-->\n",
    "*This notebook contains course material from [CBE30338](https://jckantor.github.io/CBE30338)\n",
    "by Jeffrey Kantor (jeff at nd.edu); the content is available [on Github](https://github.com/jckantor/CBE30338.git).\n",
    "The text is released under the [CC-BY-NC-ND-4.0 license](https://creativecommons.org/licenses/by-nc-nd/4.0/legalcode),\n",
    "and code is released under the [MIT license](https://opensource.org/licenses/MIT).*"
   ]
  },
  {
   "cell_type": "markdown",
   "metadata": {},
   "source": [
    "# A Simple numerical model in Python\n",
    "\n",
    "In this notebook, we cover a few details on how the markdown syntax in these notebooks works, and then run a simple numerical model coded in Python that makes use of numerical integration through the SciPy library. Finally, you will change the parameters of the model, and make a statement about your comfort level with all of this Jupyter business. "
   ]
  },
  {
   "cell_type": "markdown",
   "metadata": {},
   "source": [
    "## Sidenotes"
   ]
  },
  {
   "cell_type": "markdown",
   "metadata": {},
   "source": [
    "### Code Academy Sidenote\n",
    "\n",
    "* https://www.codecademy.com/learn/learn-python"
   ]
  },
  {
   "cell_type": "markdown",
   "metadata": {},
   "source": [
    "### Markdown/Latex Sidenote"
   ]
  },
  {
   "cell_type": "markdown",
   "metadata": {},
   "source": [
    "Jupyter-notebooks are very convenient because they include these markdown blocks to include discussion of the material.\n",
    "\n",
    "Programs like Microsoft Word are examples of a \"What you see is what you get\" editor. In Markdown, you use characters and symbols to format your text, and then actually compile them.\n",
    "\n",
    "For instance, I've been making liberal use of the header feature using the '#' pound/hashtag symbol. **Double click on this cell to see how I'm creating the text below.**"
   ]
  },
  {
   "cell_type": "markdown",
   "metadata": {},
   "source": [
    "# First Header"
   ]
  },
  {
   "cell_type": "markdown",
   "metadata": {},
   "source": [
    "## Second Header"
   ]
  },
  {
   "cell_type": "markdown",
   "metadata": {},
   "source": [
    "### Tertiary Header"
   ]
  },
  {
   "cell_type": "markdown",
   "metadata": {},
   "source": [
    "#### Etc\n",
    "\n",
    "* Bullet Point\n",
    "* Bullet Point 2\n",
    "* Etc.\n",
    "\n",
    "**Bolded Text**\n",
    "\n",
    "_Italicized Text_\n",
    "\n",
    "Those are a couple examples of some basic formatting. You can see more examples throughout this tutorial. The sidenote above has an example of a link, while there are examples of a chart, and a photo below. Take a look and see if you can reproduce it on your own!\n",
    "\n",
    "For further reference: [Github's Markdown Guide](https://guides.github.com/features/mastering-markdown/)"
   ]
  },
  {
   "cell_type": "markdown",
   "metadata": {},
   "source": [
    "### Latex Side Note"
   ]
  },
  {
   "cell_type": "markdown",
   "metadata": {},
   "source": [
    "A big included feature in Jupyter-notebook markdown blocks is that you have the ability to include LaTeX formatted text as well. \n",
    "\n",
    "LaTeX (pronounced \"La-tech\") is similar to a markdown language in and of itself (it is not What-You-See-Is-What-You-Get). It is considerably more feature-full than markdown, but also has a bigger learning curve. I recommend that you use it just for math, as Markdown can't provide Math formatting.\n",
    "\n",
    "* Start latex formatting with '\\$\\$' and end it with another '\\$\\$'\n",
    "$$ math goes here $$\n",
    "\n",
    "* All alphabetic characters are included in a LateX math statement is intended to be a variable, and is italicized. Basic math is very intuitive due to this.\n",
    "\n",
    "$$ y = mx + b $$\n",
    "\n",
    "* As soon as you get to fractions, you have to learn some LaTeX commands. Here we'll use the '\\frac{}{}' command\n",
    "\n",
    "$$ \\frac{3}{5} $$\n",
    "\n",
    "* I prefer creating equations in LaTeX to word in large part due to symbols. Most greek letters can be added with the '\\letter' command. For instance '\\lambda'\n",
    "\n",
    "$$ \\lambda \\leq \\pi + \\Pi $$\n",
    "\n",
    "* Most common functions are included as operators in LaTeX:\n",
    "\n",
    "$$ \\log_b(a) = \\frac{\\log(a)}{\\log(a)} $$\n",
    "\n",
    "Just that should be enough to cover most of the math you'll need in this course. Don't feel like you _have_ to use LaTeX. It is also acceptable to do your work out (neatly) on paper and include a photo."
   ]
  },
  {
   "cell_type": "markdown",
   "metadata": {},
   "source": [
    "## Hare and Lynx Example"
   ]
  },
  {
   "cell_type": "markdown",
   "metadata": {},
   "source": [
    "### Adapted from [Dr. Kantor's Notes](https://github.com/jckantor/CBE30338/blob/master/notebooks/HareLynx/Hare%20and%20Lynx%20Population%20Dynamics.ipynb) "
   ]
  },
  {
   "cell_type": "markdown",
   "metadata": {},
   "source": [
    "### Introduction\n",
    "We'd like to model the number of Lynx (top) and Hares (bottom) in a certain population of animals. \n",
    "![Lynx](https://images.takeshape.io/86ce9525-f5f2-4e97-81ba-54e8ce933da7/dev/55481649-74d8-4f29-9d5a-fca10d3c59ca/CanadianLynx-WikiCommons2.webp)\n",
    "![Hare](http://www.cbc.ca/kidscbc2/content/contests/cute_snowshoe1.jpg)\n",
    "\n",
    "As cute as that Lynx is, it will prey on the Hare to the exclusion of all other animals if possible. This means the population levels of the Lynx and Hare are intrinsically related."
   ]
  },
  {
   "cell_type": "markdown",
   "metadata": {},
   "source": [
    "### Modeling\n",
    "\n",
    "We can start with the basic equation of: change = in - out\n",
    "\n",
    "$$\n",
    "\\frac{dH}{dt} = (Hare Birth Rate) - (Hare Death Rate) \\\\\n",
    "\\frac{dL}{dt} = (Lynx Birth Rate) - (Lynx Death Rate)\n",
    "$$"
   ]
  },
  {
   "cell_type": "markdown",
   "metadata": {},
   "source": [
    "#### Relevant Parameters\n",
    "\n",
    "| Parameter | Symbol | Value |\n",
    "| - | :----: | :---: |\n",
    "| Lynx/Hare Predation Rate | $a$ | 3.2 |\n",
    "| Lynx/Hare Conversion | $b$ | 0.6 |\n",
    "| Lynx/Hare Michaelis Constant| $c$ | 50 |\n",
    "| Lynx Death Rate | $d$ | 0.56 |\n",
    "| Hare Carrying Capacity| $k$ | 125 |\n",
    "| Hare Reproduction Rate | $r$ | 1.6 |"
   ]
  },
  {
   "cell_type": "markdown",
   "metadata": {},
   "source": [
    "#### Model Equations\n",
    "These parameters can be used to form a model:\n",
    "\n",
    "$$\n",
    "\\frac{dH}{dt} = rH(1 - \\frac{H}{k}) - \\frac{aHL}{c + H}  \\\\\n",
    "\\frac{dL}{dt} = a \\frac{bHL}{c + H} - d*L\n",
    "$$\n",
    "\n",
    "The focus of this tutorial is not on the development of these model equations, but do review the equations and try to make sense of them. It can help you in debugging steps later should you have an error."
   ]
  },
  {
   "cell_type": "markdown",
   "metadata": {},
   "source": [
    "### Programming and Plotting"
   ]
  },
  {
   "cell_type": "markdown",
   "metadata": {},
   "source": [
    "#### Step 1: Initialization"
   ]
  },
  {
   "cell_type": "code",
   "execution_count": null,
   "metadata": {},
   "outputs": [],
   "source": [
    "%matplotlib inline\n",
    "import numpy as np\n",
    "import matplotlib.pyplot as plt\n",
    "from scipy.integrate import solve_ivp"
   ]
  },
  {
   "cell_type": "markdown",
   "metadata": {},
   "source": [
    "#### Step 2: Default Parameter Values"
   ]
  },
  {
   "cell_type": "code",
   "execution_count": null,
   "metadata": {},
   "outputs": [],
   "source": [
    "a = 3.2\n",
    "b = 0.6\n",
    "c = 50\n",
    "d = 0.56\n",
    "k = 125\n",
    "r = 1.6"
   ]
  },
  {
   "cell_type": "markdown",
   "metadata": {},
   "source": [
    "#### Step 3: Define the differential equations"
   ]
  },
  {
   "cell_type": "code",
   "execution_count": null,
   "metadata": {},
   "outputs": [],
   "source": [
    "def deriv(t, y):\n",
    "    H, L = y\n",
    "    dHdt =  r*H*(1-H/k) - a*H*L/(c+H)\n",
    "    dLdt = b*a*H*L/(c+H) - d*L\n",
    "    return [dHdt, dLdt]"
   ]
  },
  {
   "cell_type": "markdown",
   "metadata": {},
   "source": [
    "#### Step 4: Integrate Differential Equations"
   ]
  },
  {
   "cell_type": "code",
   "execution_count": null,
   "metadata": {},
   "outputs": [],
   "source": [
    "t = np.linspace(0, 70, 500)                             # time grid\n",
    "IC = [20, 20]                                           # initial conditions for H and L\n",
    "soln = solve_ivp(deriv, (t[0], t[-1]), IC, t_eval=t)    # compute solution\n",
    "H, L = soln.y                                           # unpack solution "
   ]
  },
  {
   "cell_type": "markdown",
   "metadata": {},
   "source": [
    "#### Step 5: Plot "
   ]
  },
  {
   "cell_type": "code",
   "execution_count": null,
   "metadata": {},
   "outputs": [],
   "source": [
    "plt.plot(t, H, t,  L)\n",
    "plt.title('Hare/Lynx Population Dynamics')\n",
    "plt.xlabel('Year')\n",
    "plt.legend(['Hare', 'Lynx'])"
   ]
  },
  {
   "cell_type": "markdown",
   "metadata": {},
   "source": [
    "If you have more than one thing to plot, we can make use of the subplot feature"
   ]
  },
  {
   "cell_type": "code",
   "execution_count": null,
   "metadata": {},
   "outputs": [],
   "source": [
    "plt.figure(figsize=(13, 4))\n",
    "plt.subplot(1, 2, 1)\n",
    "plt.plot(t, H, t, L)\n",
    "plt.title('Hare/Lynx Population Dynamics')\n",
    "plt.xlabel('Year')\n",
    "plt.legend(['Hare', 'Lynx'])\n",
    "\n",
    "plt.subplot(1, 2, 2)\n",
    "plt.plot(H, L)\n",
    "plt.title('Hare/Lynx Phase Plot')\n",
    "plt.ylabel('Lynx')\n",
    "plt.xlabel('Hare')"
   ]
  },
  {
   "cell_type": "markdown",
   "metadata": {},
   "source": [
    "### Now try changing some things\n",
    "\n",
    "What happens if you change the predation rate? The hare reproduction rate? Try modifying the parameter values above and re-running that code cell and the cells that follow to see what happens to the model."
   ]
  },
  {
   "cell_type": "markdown",
   "metadata": {},
   "source": [
    "# Final statement of comfort with Jupyter and Python\n",
    "\n",
    "Please edit this markdown cell with your own information, rerun it, and then download this notebook as a pdf as proof of completion of this module.\n",
    "\n",
    "For comfort levels, you can use this scale:\n",
    "\n",
    "1. I do not follow what is going on with the code, but know how to click the 'run' button\n",
    "2. I more-or-less understand what the code is trying to do, but Python syntax does not come naturally to me\n",
    "3. I follow what is going on here, but it would take me a long time and lots of googling to write it myself\n",
    "4. I understood everything and already know how to write this sort of stuff. Bring it on!\n",
    "\n",
    "**I, ReplaceThisWithYourName, certify that I have completed these Jupyter notebooks, have changed the parameters and re-run the Lynx-and-Hares model, and declare that I have a comfort level of ReplaceThisWithAComfortLevel.**"
   ]
  },
  {
   "cell_type": "code",
   "execution_count": null,
   "metadata": {},
   "outputs": [],
   "source": []
  }
 ],
 "metadata": {
  "kernelspec": {
   "display_name": "Python 3 (ipykernel)",
   "language": "python",
   "name": "python3"
  },
  "language_info": {
   "codemirror_mode": {
    "name": "ipython",
    "version": 3
   },
   "file_extension": ".py",
   "mimetype": "text/x-python",
   "name": "python",
   "nbconvert_exporter": "python",
   "pygments_lexer": "ipython3",
   "version": "3.9.7"
  }
 },
 "nbformat": 4,
 "nbformat_minor": 2
}
